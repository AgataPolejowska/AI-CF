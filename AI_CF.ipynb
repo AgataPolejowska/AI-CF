{
  "cells": [
    {
      "cell_type": "code",
      "execution_count": 1,
      "metadata": {
        "id": "29ceZsiiP2SC"
      },
      "outputs": [],
      "source": [
        "from numpy.linalg import matrix_rank\n",
        "import numpy as np\n",
        "import scipy.linalg as linalg"
      ]
    },
    {
      "cell_type": "markdown",
      "metadata": {
        "id": "WEv8xU0HjSsG"
      },
      "source": [
        "***\n",
        "## Rank\n",
        "\n",
        "> The **rank** of a matrix - the dimension of the vector space generated (or spanned) by its columns, maximal number of **linearly independent** columns of the matrix.\n",
        "\n",
        "> The number of dimensions in the output of a transformation.\n",
        "\n",
        "> The number of dimensions in the column space.\n",
        "\n",
        "> Full rank - when the rank is high as it can get (equal to the number of columns).\n",
        "\n",
        "\n",
        "Numpy Linear algebra\n",
        "\n",
        "\n",
        "> The **rank** of an array - the number of signular values of the array.\n",
        "\n",
        "\n",
        "\n",
        "\n",
        "\n",
        "\n"
      ]
    },
    {
      "cell_type": "markdown",
      "metadata": {
        "id": "UBJ-wjYRls1w"
      },
      "source": [
        "The rank is commonly denoted by:\n",
        "\n",
        "$rank(A)$\n",
        "\n",
        "$rk(A)$"
      ]
    },
    {
      "cell_type": "code",
      "execution_count": 2,
      "metadata": {
        "id": "oqK3IZUBPHtx"
      },
      "outputs": [],
      "source": [
        "matrix_A = np.array([[1, 2], [3, 4]])\n",
        "matrix_B = np.array([[1, 0], [0, 0]])"
      ]
    },
    {
      "cell_type": "code",
      "execution_count": 3,
      "metadata": {
        "id": "SvWqA12mQuHp"
      },
      "outputs": [],
      "source": [
        "matrix_A_transpose = np.transpose(matrix_A)\n",
        "matrix_B_transpose = np.transpose(matrix_B)"
      ]
    },
    {
      "cell_type": "code",
      "execution_count": 4,
      "metadata": {
        "id": "spV0fBlKQAA5"
      },
      "outputs": [],
      "source": [
        "matrix_A_rank = matrix_rank(matrix_A)\n",
        "matrix_B_rank = matrix_rank(matrix_B)"
      ]
    },
    {
      "cell_type": "code",
      "execution_count": 5,
      "metadata": {
        "id": "o03KSZekQLoY"
      },
      "outputs": [],
      "source": [
        "rank_description = 'Matrix \\n {0} \\n rank (rząd macierzy): {1}'"
      ]
    },
    {
      "cell_type": "code",
      "execution_count": 6,
      "metadata": {
        "colab": {
          "base_uri": "https://localhost:8080/"
        },
        "id": "L5nhopBoncoy",
        "outputId": "a539fbbb-cc5d-4570-fdcd-aaf7e3cd0f00"
      },
      "outputs": [
        {
          "name": "stdout",
          "output_type": "stream",
          "text": [
            "Matrix \n",
            " [[1 2]\n",
            " [3 4]] \n",
            " rank (rząd macierzy): 2\n",
            "Matrix \n",
            " [[1 0]\n",
            " [0 0]] \n",
            " rank (rząd macierzy): 1\n"
          ]
        }
      ],
      "source": [
        "print(rank_description.format(matrix_A, matrix_A_rank))\n",
        "print(rank_description.format(matrix_B, matrix_B_rank))"
      ]
    },
    {
      "cell_type": "markdown",
      "metadata": {
        "id": "xgi-2GGTmWRR"
      },
      "source": [
        "$rank(A) = rank(A^{T})$"
      ]
    },
    {
      "cell_type": "code",
      "execution_count": 7,
      "metadata": {
        "id": "zE-0_UuvQlQV"
      },
      "outputs": [],
      "source": [
        "rank_check = matrix_A_rank == matrix_rank(matrix_A_transpose) and matrix_B_rank == matrix_rank(matrix_B_transpose)"
      ]
    },
    {
      "cell_type": "code",
      "execution_count": 8,
      "metadata": {
        "colab": {
          "base_uri": "https://localhost:8080/"
        },
        "id": "gKYI41dYReJR",
        "outputId": "46350efa-766b-49bb-cea3-cc3fd5ef68c6"
      },
      "outputs": [
        {
          "name": "stdout",
          "output_type": "stream",
          "text": [
            "Matrix rank is equal to the same matrix rank but transposed: True\n"
          ]
        }
      ],
      "source": [
        "print('Matrix rank is equal to the same matrix rank but transposed:', rank_check)"
      ]
    },
    {
      "cell_type": "code",
      "execution_count": 9,
      "metadata": {
        "colab": {
          "base_uri": "https://localhost:8080/"
        },
        "id": "ZaMPT90ERxOt",
        "outputId": "31846b5f-441c-41bc-e939-a93369a248c0"
      },
      "outputs": [
        {
          "name": "stdout",
          "output_type": "stream",
          "text": [
            "Matrix \n",
            " [0. 0. 0. 0.] \n",
            " rank (rząd macierzy): 0\n"
          ]
        }
      ],
      "source": [
        "print(rank_description.format(np.zeros((4,)), matrix_rank(np.zeros((4,)))))"
      ]
    },
    {
      "cell_type": "code",
      "execution_count": 10,
      "metadata": {
        "colab": {
          "base_uri": "https://localhost:8080/"
        },
        "id": "mJT6nRpNi3nC",
        "outputId": "171a9d97-0d0b-4c53-ce9c-c94b96234eb6"
      },
      "outputs": [
        {
          "name": "stdout",
          "output_type": "stream",
          "text": [
            "Matrix \n",
            " [1. 1. 1. 1.] \n",
            " rank (rząd macierzy): 1\n"
          ]
        }
      ],
      "source": [
        "print(rank_description.format(np.ones((4,)), matrix_rank(np.ones((4,)))))"
      ]
    },
    {
      "cell_type": "code",
      "execution_count": 11,
      "metadata": {
        "colab": {
          "base_uri": "https://localhost:8080/"
        },
        "id": "gZhL3ePHoZJ9",
        "outputId": "a7407741-3df8-439f-8b13-5b66cc79a4c8"
      },
      "outputs": [
        {
          "name": "stdout",
          "output_type": "stream",
          "text": [
            "Matrix \n",
            " [[0. 0. 0. 0.]] \n",
            " rank (rząd macierzy): 0\n"
          ]
        }
      ],
      "source": [
        "print(rank_description.format(np.zeros((1,4)), matrix_rank(np.zeros((1,4)))))"
      ]
    },
    {
      "cell_type": "code",
      "execution_count": 12,
      "metadata": {
        "colab": {
          "base_uri": "https://localhost:8080/"
        },
        "id": "geyCYLr_oeTm",
        "outputId": "52c2f3fd-7ac4-4eb1-ea2a-433071ffdc4a"
      },
      "outputs": [
        {
          "name": "stdout",
          "output_type": "stream",
          "text": [
            "Matrix \n",
            " [[1. 1. 1. 1.]] \n",
            " rank (rząd macierzy): 1\n"
          ]
        }
      ],
      "source": [
        "print(rank_description.format(np.ones((1,4)), matrix_rank(np.ones((1,4)))))"
      ]
    },
    {
      "cell_type": "code",
      "execution_count": 13,
      "metadata": {
        "colab": {
          "base_uri": "https://localhost:8080/"
        },
        "id": "i9GK4KXHojke",
        "outputId": "fd792566-04fa-4574-9d84-f9184681c1d8"
      },
      "outputs": [
        {
          "name": "stdout",
          "output_type": "stream",
          "text": [
            "Matrix \n",
            " [[0. 0. 0. 0.]\n",
            " [0. 0. 0. 0.]\n",
            " [0. 0. 0. 0.]\n",
            " [0. 0. 0. 0.]] \n",
            " rank (rząd macierzy): 0\n"
          ]
        }
      ],
      "source": [
        "print(rank_description.format(np.zeros((4,4)), matrix_rank(np.zeros((4,4)))))"
      ]
    },
    {
      "cell_type": "code",
      "execution_count": 14,
      "metadata": {
        "colab": {
          "base_uri": "https://localhost:8080/"
        },
        "id": "EaPUdhKiom_B",
        "outputId": "c097654c-0e14-480f-b7ef-c38cf380819b"
      },
      "outputs": [
        {
          "name": "stdout",
          "output_type": "stream",
          "text": [
            "Matrix \n",
            " [[1. 1. 1. 1.]\n",
            " [1. 1. 1. 1.]\n",
            " [1. 1. 1. 1.]\n",
            " [1. 1. 1. 1.]] \n",
            " rank (rząd macierzy): 1\n"
          ]
        }
      ],
      "source": [
        "print(rank_description.format(np.ones((4,4)), matrix_rank(np.ones((4,4)))))"
      ]
    },
    {
      "cell_type": "markdown",
      "metadata": {},
      "source": [
        "***\n",
        "## Inverse matrix\n",
        "\n",
        "Inverse matrices are used for solving equations with matrices (inverse matrices act as matrix division).\n",
        "\n",
        "$ AA^{-1} = I $\n",
        "\n",
        "$ A^{-1}A = I $"
      ]
    },
    {
      "cell_type": "markdown",
      "metadata": {},
      "source": [
        "***\n",
        "## Singular matrix\n",
        "\n",
        "A matrix that does not have an inverse (the determinant is equal to zero).\n",
        "\n"
      ]
    },
    {
      "cell_type": "code",
      "execution_count": 15,
      "metadata": {},
      "outputs": [],
      "source": [
        "S = np.array([\n",
        "    [1, 8, 50],\n",
        "    [8, 64, 400],\n",
        "    [50, 400, 2500]]\n",
        "    )"
      ]
    },
    {
      "cell_type": "code",
      "execution_count": 16,
      "metadata": {},
      "outputs": [
        {
          "ename": "LinAlgError",
          "evalue": "Singular matrix",
          "output_type": "error",
          "traceback": [
            "\u001b[1;31m---------------------------------------------------------------------------\u001b[0m",
            "\u001b[1;31mLinAlgError\u001b[0m                               Traceback (most recent call last)",
            "\u001b[1;32mc:\\Users\\polej\\OneDrive\\Desktop\\OPSI\\AI-CF\\AI_CF.ipynb Cell 21'\u001b[0m in \u001b[0;36m<cell line: 1>\u001b[1;34m()\u001b[0m\n\u001b[1;32m----> <a href='vscode-notebook-cell:/c%3A/Users/polej/OneDrive/Desktop/OPSI/AI-CF/AI_CF.ipynb#ch0000020?line=0'>1</a>\u001b[0m np\u001b[39m.\u001b[39;49mlinalg\u001b[39m.\u001b[39;49minv(S)\n",
            "File \u001b[1;32m<__array_function__ internals>:5\u001b[0m, in \u001b[0;36minv\u001b[1;34m(*args, **kwargs)\u001b[0m\n",
            "File \u001b[1;32m~\\AppData\\Local\\Programs\\Python\\Python38\\lib\\site-packages\\numpy\\linalg\\linalg.py:545\u001b[0m, in \u001b[0;36minv\u001b[1;34m(a)\u001b[0m\n\u001b[0;32m    <a href='file:///c%3A/Users/polej/AppData/Local/Programs/Python/Python38/lib/site-packages/numpy/linalg/linalg.py?line=542'>543</a>\u001b[0m signature \u001b[39m=\u001b[39m \u001b[39m'\u001b[39m\u001b[39mD->D\u001b[39m\u001b[39m'\u001b[39m \u001b[39mif\u001b[39;00m isComplexType(t) \u001b[39melse\u001b[39;00m \u001b[39m'\u001b[39m\u001b[39md->d\u001b[39m\u001b[39m'\u001b[39m\n\u001b[0;32m    <a href='file:///c%3A/Users/polej/AppData/Local/Programs/Python/Python38/lib/site-packages/numpy/linalg/linalg.py?line=543'>544</a>\u001b[0m extobj \u001b[39m=\u001b[39m get_linalg_error_extobj(_raise_linalgerror_singular)\n\u001b[1;32m--> <a href='file:///c%3A/Users/polej/AppData/Local/Programs/Python/Python38/lib/site-packages/numpy/linalg/linalg.py?line=544'>545</a>\u001b[0m ainv \u001b[39m=\u001b[39m _umath_linalg\u001b[39m.\u001b[39;49minv(a, signature\u001b[39m=\u001b[39;49msignature, extobj\u001b[39m=\u001b[39;49mextobj)\n\u001b[0;32m    <a href='file:///c%3A/Users/polej/AppData/Local/Programs/Python/Python38/lib/site-packages/numpy/linalg/linalg.py?line=545'>546</a>\u001b[0m \u001b[39mreturn\u001b[39;00m wrap(ainv\u001b[39m.\u001b[39mastype(result_t, copy\u001b[39m=\u001b[39m\u001b[39mFalse\u001b[39;00m))\n",
            "File \u001b[1;32m~\\AppData\\Local\\Programs\\Python\\Python38\\lib\\site-packages\\numpy\\linalg\\linalg.py:88\u001b[0m, in \u001b[0;36m_raise_linalgerror_singular\u001b[1;34m(err, flag)\u001b[0m\n\u001b[0;32m     <a href='file:///c%3A/Users/polej/AppData/Local/Programs/Python/Python38/lib/site-packages/numpy/linalg/linalg.py?line=86'>87</a>\u001b[0m \u001b[39mdef\u001b[39;00m \u001b[39m_raise_linalgerror_singular\u001b[39m(err, flag):\n\u001b[1;32m---> <a href='file:///c%3A/Users/polej/AppData/Local/Programs/Python/Python38/lib/site-packages/numpy/linalg/linalg.py?line=87'>88</a>\u001b[0m     \u001b[39mraise\u001b[39;00m LinAlgError(\u001b[39m\"\u001b[39m\u001b[39mSingular matrix\u001b[39m\u001b[39m\"\u001b[39m)\n",
            "\u001b[1;31mLinAlgError\u001b[0m: Singular matrix"
          ]
        }
      ],
      "source": [
        "np.linalg.inv(S)"
      ]
    },
    {
      "cell_type": "code",
      "execution_count": null,
      "metadata": {},
      "outputs": [
        {
          "data": {
            "text/plain": [
              "0.0"
            ]
          },
          "execution_count": 19,
          "metadata": {},
          "output_type": "execute_result"
        }
      ],
      "source": [
        "np.linalg.det(S)"
      ]
    },
    {
      "cell_type": "markdown",
      "metadata": {},
      "source": [
        "***\n",
        "## Vector space (linear space)\n",
        "\n",
        "V is a collection of elements that can be:\n",
        "* added together in any combination\n",
        "* multiplied by scalars in any combination\n",
        "\n",
        "The set of all real numbers is an examples of a vector space.\n",
        "Vector spaces can be made of functions.\n",
        "\n",
        "A space must satisfy closure to be a vector space."
      ]
    },
    {
      "cell_type": "markdown",
      "metadata": {},
      "source": [
        "***\n",
        "## Subspaces and span\n",
        "\n",
        "A subset $ U $ of a vector space $ V $ is a vector subspace if it is itself a vector space.\n",
        "Checking if $ U $ is a vector subspace requires checking if it is closed under addition and scalar muliplication.\n",
        "\n",
        "The span of a set of vectors is all linear combinations of these vectors.\n",
        "\n",
        "The span of any number of elements of vector space V is also a subspace of V (it is the smallest subspace of V)."
      ]
    },
    {
      "cell_type": "markdown",
      "metadata": {},
      "source": [
        "***\n",
        "\n",
        "## Image\n",
        "\n",
        "Example:\n",
        "A linear tranformation $ L $ maps from the vector space $ V $ to the vector space $ W $. This transformation takes vectors from $ V $ and turns them into vectors in $ W $.\n",
        "Transforming a group of vectors from $ V $ starts mapping out some vectors in $ W $.\n",
        "$ S $ is a subspace of $ V $\n",
        "$ L(S) $ is the image (a set of vectors from performed linear transformation) of $ S $.\n",
        "\n",
        "The image of $ S $ is a subspace of $ W $.\n",
        "\n",
        "## Kernel (null space)\n",
        "\n",
        "The $ ker(L) $ is the set of vectors in $ V $ (is a subspace of $ V $) that when transformed gives the zero vector in $ W $.\n",
        "\n",
        "The space of all vectors that become null (they land on a zero vector)."
      ]
    },
    {
      "cell_type": "markdown",
      "metadata": {},
      "source": [
        "Example for checking comprehension\n",
        "\n",
        "$ L: \\R^{2} -> \\R^{3} $\n",
        "\n",
        "$ L(v) = [v_{2}, -3v_{1}, 2v_{1} + 2v_{2}] $\n",
        "\n",
        "1) If $ S $ is the subspace of $ \\R^{2} $ with vectors of the form $ <c, 0> $ then find the image $ L(S) $\n",
        "\n",
        "$ L(S) $ includes vectors of the form $ <0, -3c, 2c> $\n",
        "\n",
        "\n",
        "2) Find $ ker(L) $\n",
        "\n",
        "$ ker(L) $ includes only the vector $ <0, 0> $"
      ]
    },
    {
      "cell_type": "markdown",
      "metadata": {
        "id": "qqX10kKs2fPv"
      },
      "source": [
        "****\n",
        "## Symmetric matrix\n",
        "\n",
        "$A^{T} = A$"
      ]
    },
    {
      "cell_type": "code",
      "execution_count": 17,
      "metadata": {
        "colab": {
          "base_uri": "https://localhost:8080/"
        },
        "id": "Pqrd59CX2nK-",
        "outputId": "55c0fb93-2158-4a15-e806-32d3252f7ac1"
      },
      "outputs": [
        {
          "data": {
            "text/plain": [
              "array([[ 1,  1, -1],\n",
              "       [ 1,  2,  0],\n",
              "       [-1,  0,  5]])"
            ]
          },
          "execution_count": 17,
          "metadata": {},
          "output_type": "execute_result"
        }
      ],
      "source": [
        "A = np.array([[1, 1, -1], [1, 2, 0], [-1, 0, 5]])\n",
        "A"
      ]
    },
    {
      "cell_type": "code",
      "execution_count": 18,
      "metadata": {
        "colab": {
          "base_uri": "https://localhost:8080/"
        },
        "id": "YiLnqKSu2xSV",
        "outputId": "50e6191b-48a7-41d5-bc4e-1a76468531ed"
      },
      "outputs": [
        {
          "data": {
            "text/plain": [
              "array([[ 1,  1, -1],\n",
              "       [ 1,  2,  0],\n",
              "       [-1,  0,  5]])"
            ]
          },
          "execution_count": 18,
          "metadata": {},
          "output_type": "execute_result"
        }
      ],
      "source": [
        "A_t = A.transpose()\n",
        "A_t"
      ]
    },
    {
      "cell_type": "code",
      "execution_count": 19,
      "metadata": {
        "colab": {
          "base_uri": "https://localhost:8080/"
        },
        "id": "SCGnFLUG290x",
        "outputId": "eb358dbe-fac8-43a8-bef0-4c8b862bcf1e"
      },
      "outputs": [
        {
          "data": {
            "text/plain": [
              "True"
            ]
          },
          "execution_count": 19,
          "metadata": {},
          "output_type": "execute_result"
        }
      ],
      "source": [
        "np.array_equal(A, A_t)"
      ]
    },
    {
      "cell_type": "markdown",
      "metadata": {
        "id": "w9yjWm0qpTHf"
      },
      "source": [
        "\n",
        "\n",
        "---\n",
        "\n",
        "\n",
        "## Norm\n",
        "\n",
        "The norm is generally used to evaluate the error of the model.\n",
        "\n",
        "\n",
        "\n",
        "*   L1 norm - the sum of the absolute values of the vector (the Manhattan/Taxicab Distance, the Mean Absolute Error (MAE), the Least Absolute Shrinkage and Selection Operator (LASSO))\n",
        "*   L2 norm - the square root of the sum of the squared vector values (the Euclidean Distance, the Mean Squared Error (MSE) / Least Squares Error, or the Ridge Operator)\n",
        "*   Max norm - the maximum vector values\n",
        "\n",
        "\n",
        "Properties:\n",
        "\n",
        "*   $ ||x|| \\geq 0 $\n",
        "\n",
        "*   $ ||x||  = 0 \\iff x = 0 $\n",
        "\n",
        "*   $ ||x + y|| \\leq ||x|| + ||y|| $\n",
        "\n",
        "*   $ ||λx|| = |λ|||x|| $\n",
        "\n",
        "\n",
        "\n",
        "\n",
        "\n"
      ]
    },
    {
      "cell_type": "code",
      "execution_count": 20,
      "metadata": {
        "id": "WT4PTFLwpVEk"
      },
      "outputs": [],
      "source": [
        "from numpy.linalg import norm"
      ]
    },
    {
      "cell_type": "code",
      "execution_count": 21,
      "metadata": {
        "id": "n9vueShHrbjk"
      },
      "outputs": [],
      "source": [
        "norm_description = 'Vector \\n {0} \\n norm ({1}) value: {2}'"
      ]
    },
    {
      "cell_type": "code",
      "execution_count": 22,
      "metadata": {
        "id": "JNylQYdKrr_D"
      },
      "outputs": [],
      "source": [
        "x = np.array([1, 2, 3])"
      ]
    },
    {
      "cell_type": "code",
      "execution_count": 23,
      "metadata": {
        "colab": {
          "base_uri": "https://localhost:8080/"
        },
        "id": "EZd0lRIEr6fr",
        "outputId": "2d747936-7fca-44dc-eb28-34f5ee47aef0"
      },
      "outputs": [
        {
          "name": "stdout",
          "output_type": "stream",
          "text": [
            "Vector \n",
            " [1 2 3] \n",
            " norm (L1) value: 6.0\n"
          ]
        }
      ],
      "source": [
        "print(norm_description.format(x, 'L1', norm(x, 1)))"
      ]
    },
    {
      "cell_type": "code",
      "execution_count": 24,
      "metadata": {
        "colab": {
          "base_uri": "https://localhost:8080/"
        },
        "id": "J90IHI9nt1oX",
        "outputId": "29a6aaf0-bdb0-4c74-dd28-a30a62c583d8"
      },
      "outputs": [
        {
          "name": "stdout",
          "output_type": "stream",
          "text": [
            "Vector \n",
            " [1 2 3] \n",
            " norm (L1) value: 6\n"
          ]
        }
      ],
      "source": [
        "norm_1_value = 0\n",
        "\n",
        "for value in x:\n",
        "  norm_1_value += abs(value)\n",
        "\n",
        "print(norm_description.format(x, 'L1', norm_1_value))"
      ]
    },
    {
      "cell_type": "code",
      "execution_count": 25,
      "metadata": {
        "colab": {
          "base_uri": "https://localhost:8080/"
        },
        "id": "11MHNOTgsDTW",
        "outputId": "0b65ed85-55e9-40b1-d47e-9990e274ffa8"
      },
      "outputs": [
        {
          "name": "stdout",
          "output_type": "stream",
          "text": [
            "Vector \n",
            " [1 2 3] \n",
            " norm (L2) value: 3.7416573867739413\n"
          ]
        }
      ],
      "source": [
        "print(norm_description.format(x, 'L2', norm(x)))"
      ]
    },
    {
      "cell_type": "code",
      "execution_count": 26,
      "metadata": {
        "colab": {
          "base_uri": "https://localhost:8080/"
        },
        "id": "F7toWKGEvASP",
        "outputId": "01b521a1-9e7a-4c56-b624-a97fd52283cc"
      },
      "outputs": [
        {
          "name": "stdout",
          "output_type": "stream",
          "text": [
            "Vector \n",
            " [1 2 3] \n",
            " norm (L2) value: 3.7416573867739413\n"
          ]
        }
      ],
      "source": [
        "norm_2_value = 0\n",
        "\n",
        "for value in x:\n",
        "  norm_2_value  += value**2\n",
        "\n",
        "norm_2_value = np.sqrt(norm_2_value)\n",
        "\n",
        "print(norm_description.format(x, 'L2', norm_2_value))"
      ]
    },
    {
      "cell_type": "code",
      "execution_count": 27,
      "metadata": {
        "colab": {
          "base_uri": "https://localhost:8080/"
        },
        "id": "uoKKB9VAsNXX",
        "outputId": "edc4c445-4220-4f08-a460-1863acfaf66f"
      },
      "outputs": [
        {
          "name": "stdout",
          "output_type": "stream",
          "text": [
            "Vector \n",
            " [1 2 3] \n",
            " norm (inf) value: 3.0\n"
          ]
        }
      ],
      "source": [
        "print(norm_description.format(x, 'inf', norm(x, np.inf)))"
      ]
    },
    {
      "cell_type": "code",
      "execution_count": 28,
      "metadata": {
        "colab": {
          "base_uri": "https://localhost:8080/"
        },
        "id": "4RTjFuJMwAny",
        "outputId": "8ed6b7bd-4e84-4ef0-b6ca-94dc062ede8b"
      },
      "outputs": [
        {
          "name": "stdout",
          "output_type": "stream",
          "text": [
            "Vector \n",
            " [1 2 3] \n",
            " norm (inf) value: 3\n"
          ]
        }
      ],
      "source": [
        "norm_inf_value = 0\n",
        "\n",
        "for value in x:\n",
        "  if abs(value) > norm_inf_value:\n",
        "    norm_inf_value = value\n",
        "\n",
        "print(norm_description.format(x, 'inf', norm_inf_value))"
      ]
    },
    {
      "cell_type": "markdown",
      "metadata": {
        "id": "CdJsovyhw9I2"
      },
      "source": [
        "****\n",
        "## Dot product\n",
        "\n",
        "> $ <x, y> $\n",
        "\n",
        "Pairs of $ (V<x, y>) $ is an Eucleadian space.\n",
        "\n",
        "The dot product of two functions (u, v):\n",
        "\n",
        "$ <u, v> = \\int_{a}^{b} u(x)v(x) \\,dx \\ $\n",
        "\n",
        "The dot product in $ \\R^{n} $:\n",
        "\n",
        "$x^{T}y = \\sum_{i=1}^{n} x_i y_i $"
      ]
    },
    {
      "cell_type": "code",
      "execution_count": 29,
      "metadata": {
        "id": "jzkkf_WYw7wl"
      },
      "outputs": [],
      "source": [
        "v1 = np.array([-2, 1])\n",
        "v2 = np.array([0, 3])"
      ]
    },
    {
      "cell_type": "code",
      "execution_count": 30,
      "metadata": {
        "colab": {
          "base_uri": "https://localhost:8080/"
        },
        "id": "ceoyPJ5Z1zHN",
        "outputId": "6773a75a-e974-4930-b910-7eb0d5952587"
      },
      "outputs": [
        {
          "data": {
            "text/plain": [
              "3"
            ]
          },
          "execution_count": 30,
          "metadata": {},
          "output_type": "execute_result"
        }
      ],
      "source": [
        "np.dot(v1, v2)"
      ]
    },
    {
      "cell_type": "markdown",
      "metadata": {
        "id": "QPRsC6uO4_JD"
      },
      "source": [
        "The Euclidean length of the vector\n",
        "\n",
        "$ ||x|| = \t\\sqrt{<x, x>}$\n",
        "\n",
        "$ <x, y> = x^{T}y $\n",
        "\n",
        "If the vectors x are orthogonal (i.e., their angle is π / 2 or 90°).\n",
        "$ <x, y> = 0 $"
      ]
    },
    {
      "cell_type": "markdown",
      "metadata": {
        "id": "yy627kpE6H_h"
      },
      "source": [
        "****\n",
        "## Orthogonal matrix\n",
        "\n",
        "> real square matrix whose columns and rows are orthonormal vectors\n",
        "\n",
        "$ AA^{T} = I = A^{T}A $\n",
        "\n",
        "$ A^{-1} = A^{T} $"
      ]
    },
    {
      "cell_type": "code",
      "execution_count": 31,
      "metadata": {
        "id": "_eW3eWB36QSh"
      },
      "outputs": [],
      "source": [
        "A = np.array([[-1, 0], [0, 1]])\n",
        "A_t = np.transpose(A)\n",
        "A_inv = np.linalg.inv(A)"
      ]
    },
    {
      "cell_type": "code",
      "execution_count": 32,
      "metadata": {
        "colab": {
          "base_uri": "https://localhost:8080/"
        },
        "id": "UA31mIIA7EjR",
        "outputId": "e8a8067e-22f0-4c05-d964-60618ee2976b"
      },
      "outputs": [
        {
          "data": {
            "text/plain": [
              "array([[-1,  0],\n",
              "       [ 0,  1]])"
            ]
          },
          "execution_count": 32,
          "metadata": {},
          "output_type": "execute_result"
        }
      ],
      "source": [
        "A"
      ]
    },
    {
      "cell_type": "code",
      "execution_count": 33,
      "metadata": {
        "colab": {
          "base_uri": "https://localhost:8080/"
        },
        "id": "PM2kZ9DV7E4O",
        "outputId": "8c663def-72e2-4443-f10a-0dea6bb571c4"
      },
      "outputs": [
        {
          "data": {
            "text/plain": [
              "array([[-1,  0],\n",
              "       [ 0,  1]])"
            ]
          },
          "execution_count": 33,
          "metadata": {},
          "output_type": "execute_result"
        }
      ],
      "source": [
        "A_t"
      ]
    },
    {
      "cell_type": "code",
      "execution_count": 34,
      "metadata": {
        "colab": {
          "base_uri": "https://localhost:8080/"
        },
        "id": "GAoDPraD71GV",
        "outputId": "97dfba59-fc3c-47f9-d1c6-3d6def0f340b"
      },
      "outputs": [
        {
          "data": {
            "text/plain": [
              "array([[-1., -0.],\n",
              "       [ 0.,  1.]])"
            ]
          },
          "execution_count": 34,
          "metadata": {},
          "output_type": "execute_result"
        }
      ],
      "source": [
        "A_inv"
      ]
    },
    {
      "cell_type": "code",
      "execution_count": 35,
      "metadata": {
        "colab": {
          "base_uri": "https://localhost:8080/"
        },
        "id": "hqasmUSu7GCb",
        "outputId": "4e4309fb-cab7-4602-c5b3-83a36a7cc3fc"
      },
      "outputs": [
        {
          "data": {
            "text/plain": [
              "array([[1, 0],\n",
              "       [0, 1]])"
            ]
          },
          "execution_count": 35,
          "metadata": {},
          "output_type": "execute_result"
        }
      ],
      "source": [
        "res = np.dot(A, A_t)\n",
        "res"
      ]
    },
    {
      "cell_type": "code",
      "execution_count": 36,
      "metadata": {
        "colab": {
          "base_uri": "https://localhost:8080/"
        },
        "id": "9obNhnID7MDO",
        "outputId": "cc591d3b-38f3-473e-ea5e-4150d6006843"
      },
      "outputs": [
        {
          "data": {
            "text/plain": [
              "array([[1., 0.],\n",
              "       [0., 1.]])"
            ]
          },
          "execution_count": 36,
          "metadata": {},
          "output_type": "execute_result"
        }
      ],
      "source": [
        "I = np.eye(2)\n",
        "I"
      ]
    },
    {
      "cell_type": "code",
      "execution_count": 37,
      "metadata": {
        "colab": {
          "base_uri": "https://localhost:8080/"
        },
        "id": "DC0vRBmS7U2e",
        "outputId": "417910b7-3dd7-4f4c-8b9b-b798f1879de4"
      },
      "outputs": [
        {
          "data": {
            "text/plain": [
              "True"
            ]
          },
          "execution_count": 37,
          "metadata": {},
          "output_type": "execute_result"
        }
      ],
      "source": [
        "np.all(np.equal(res, I))"
      ]
    },
    {
      "cell_type": "code",
      "execution_count": 38,
      "metadata": {
        "colab": {
          "base_uri": "https://localhost:8080/"
        },
        "id": "YshdttUY7bA3",
        "outputId": "933d84ab-c1c3-4139-b948-ca020f8cb10c"
      },
      "outputs": [
        {
          "data": {
            "text/plain": [
              "True"
            ]
          },
          "execution_count": 38,
          "metadata": {},
          "output_type": "execute_result"
        }
      ],
      "source": [
        "np.all(np.equal(A_inv, A_t))"
      ]
    },
    {
      "cell_type": "markdown",
      "metadata": {},
      "source": [
        "***\n",
        "\n",
        "## Determinant\n",
        "\n",
        "If \n",
        "\n",
        "$ det(A) \\neq 0 $ \n",
        "\n",
        "then inverse matrix\n",
        "\n",
        "$  A^{-1} $\n",
        "\n",
        "exists.\n",
        "\n",
        "A square matrix has the\n",
        "\n",
        "$ det(A) \\neq 0 $\n",
        "\n",
        "if and only if\n",
        "\n",
        "$ rk(A) = n $"
      ]
    },
    {
      "cell_type": "code",
      "execution_count": 39,
      "metadata": {},
      "outputs": [
        {
          "data": {
            "text/plain": [
              "array([[1, 2],\n",
              "       [3, 4]])"
            ]
          },
          "execution_count": 39,
          "metadata": {},
          "output_type": "execute_result"
        }
      ],
      "source": [
        "A = np.array([[1, 2], [3, 4]])\n",
        "A"
      ]
    },
    {
      "cell_type": "code",
      "execution_count": 40,
      "metadata": {},
      "outputs": [
        {
          "data": {
            "text/plain": [
              "-2.0000000000000004"
            ]
          },
          "execution_count": 40,
          "metadata": {},
          "output_type": "execute_result"
        }
      ],
      "source": [
        "det = np.linalg.det(A)\n",
        "det"
      ]
    },
    {
      "cell_type": "code",
      "execution_count": 41,
      "metadata": {},
      "outputs": [
        {
          "data": {
            "text/plain": [
              "-2"
            ]
          },
          "execution_count": 41,
          "metadata": {},
          "output_type": "execute_result"
        }
      ],
      "source": [
        "det = A[0][0] * A[1][1] - A[0][1] * A[1][0]\n",
        "det"
      ]
    },
    {
      "cell_type": "code",
      "execution_count": 42,
      "metadata": {},
      "outputs": [
        {
          "data": {
            "text/plain": [
              "2"
            ]
          },
          "execution_count": 42,
          "metadata": {},
          "output_type": "execute_result"
        }
      ],
      "source": [
        "np.linalg.matrix_rank(A)"
      ]
    },
    {
      "cell_type": "code",
      "execution_count": 43,
      "metadata": {},
      "outputs": [],
      "source": [
        "A_t_l = np.array([\n",
        "    [3, 0, 0],\n",
        "    [1, 1, 0],\n",
        "    [4, 3, 2],\n",
        "])"
      ]
    },
    {
      "cell_type": "code",
      "execution_count": 44,
      "metadata": {},
      "outputs": [
        {
          "data": {
            "text/plain": [
              "5.999999999999998"
            ]
          },
          "execution_count": 44,
          "metadata": {},
          "output_type": "execute_result"
        }
      ],
      "source": [
        "np.linalg.det(A_t_l)"
      ]
    },
    {
      "cell_type": "code",
      "execution_count": 45,
      "metadata": {},
      "outputs": [],
      "source": [
        "A_t_h = np.array([\n",
        "    [3, 5, 6],\n",
        "    [0, 10, 7],\n",
        "    [0, 0, 2],\n",
        "])"
      ]
    },
    {
      "cell_type": "code",
      "execution_count": 46,
      "metadata": {},
      "outputs": [
        {
          "data": {
            "text/plain": [
              "60.000000000000036"
            ]
          },
          "execution_count": 46,
          "metadata": {},
          "output_type": "execute_result"
        }
      ],
      "source": [
        "np.linalg.det(A_t_h)"
      ]
    },
    {
      "cell_type": "markdown",
      "metadata": {},
      "source": [
        "***\n",
        "## Eigenvectors and eigenvalues\n",
        "#### Wektory i wartości własne\n",
        "\n",
        "Finding $ \\lambda $ and $ \\textbf{x} $ which make the expression true:\n",
        "\n",
        "$ A \\textbf{x} = \\lambda \\textbf{x} $\n",
        "\n",
        "$ A \\textbf{x} = (\\lambda I) \\textbf{x} $\n",
        "\n",
        "$ (\\lambda I) $ - identity matrix scaled by lambda\n",
        "\n",
        "$ A \\textbf{x} - (\\lambda I) \\textbf{x} = \\textbf{0} $\n",
        "\n",
        "$ (A - \\lambda I) \\textbf{x} = \\textbf{0} $\n",
        "\n",
        "Then:\n",
        "\n",
        "$ det(A - \\lambda I) = 0 $\n",
        "\n",
        "\n",
        "$ A - square matrix $\n",
        "\n",
        "$ x - eigenvector $\n",
        "\n",
        "$ \\lambda - eigenvalue $\n",
        "\n",
        "$ A \\textbf{x} $ - matrix-vector multiplication\n",
        "\n",
        "$ \\lambda \\textbf{x} $ - scalar-vector multiplication\n",
        "\n",
        "\n",
        "The set of all eigenvalues $ \\lambda $ of $ A $ - spectrum $ A $.\n",
        "\n",
        "The matrix $ A $ and $ A^{T} $ have the same eigenvalues $ \\lambda $ but not necessarily the same eigenvectors $ x $.\n",
        "\n",
        "The determinant of matrix $ A $ with eigenvalues $ \\lambda_i $ is equal to:\n",
        "\n",
        "$ det(A) = \\prod_{i=1}^n \\lambda_i $\n",
        "\n"
      ]
    },
    {
      "cell_type": "code",
      "execution_count": 47,
      "metadata": {},
      "outputs": [],
      "source": [
        "B = np.array([\n",
        "    [1, 2],\n",
        "    [3, 4]\n",
        "])"
      ]
    },
    {
      "cell_type": "code",
      "execution_count": 48,
      "metadata": {},
      "outputs": [],
      "source": [
        "w, v = np.linalg.eig(B)"
      ]
    },
    {
      "cell_type": "code",
      "execution_count": 49,
      "metadata": {},
      "outputs": [
        {
          "data": {
            "text/plain": [
              "array([-0.37228132,  5.37228132])"
            ]
          },
          "execution_count": 49,
          "metadata": {},
          "output_type": "execute_result"
        }
      ],
      "source": [
        "w"
      ]
    },
    {
      "cell_type": "code",
      "execution_count": 50,
      "metadata": {},
      "outputs": [
        {
          "data": {
            "text/plain": [
              "array([[-0.82456484, -0.41597356],\n",
              "       [ 0.56576746, -0.90937671]])"
            ]
          },
          "execution_count": 50,
          "metadata": {},
          "output_type": "execute_result"
        }
      ],
      "source": [
        "v"
      ]
    },
    {
      "cell_type": "code",
      "execution_count": 51,
      "metadata": {},
      "outputs": [],
      "source": [
        "m = np.random.randn(4, 4)\n",
        "\n",
        "w, v = np.linalg.eig(m)"
      ]
    },
    {
      "cell_type": "code",
      "execution_count": 52,
      "metadata": {},
      "outputs": [
        {
          "data": {
            "text/plain": [
              "array([ 1.63783997+0.j        , -0.29311553+0.67781938j,\n",
              "       -0.29311553-0.67781938j, -0.85123872+0.j        ])"
            ]
          },
          "execution_count": 52,
          "metadata": {},
          "output_type": "execute_result"
        }
      ],
      "source": [
        "# eigenvalues\n",
        "w"
      ]
    },
    {
      "cell_type": "code",
      "execution_count": 53,
      "metadata": {},
      "outputs": [
        {
          "data": {
            "text/plain": [
              "array([[ 0.02313323+0.j        , -0.17982265-0.49860247j,\n",
              "        -0.17982265+0.49860247j, -0.16017536+0.j        ],\n",
              "       [-0.49428181+0.j        , -0.09325888-0.22708354j,\n",
              "        -0.09325888+0.22708354j, -0.94368889+0.j        ],\n",
              "       [ 0.06404114+0.j        ,  0.73087443+0.j        ,\n",
              "         0.73087443-0.j        , -0.27535295+0.j        ],\n",
              "       [-0.86663088+0.j        ,  0.34160034-0.08903377j,\n",
              "         0.34160034+0.08903377j,  0.08930781+0.j        ]])"
            ]
          },
          "execution_count": 53,
          "metadata": {},
          "output_type": "execute_result"
        }
      ],
      "source": [
        "# eigenvector size=(4,4)\n",
        "v"
      ]
    },
    {
      "cell_type": "markdown",
      "metadata": {},
      "source": [
        "***\n",
        "## Linear Independence\n",
        "\n",
        "If a given vector can be written in terms of other vectors in vector space V then those vectors are linearly dependent.\n",
        "If none of the vectors can be written in terms of the other vectors in vector space V then they are linearly independent.\n",
        "\n",
        "$ \\lambda_{1}x_{1} + \\lambda_{2}x_{2} + \\lambda_{3}x_{3} = 0 $\n",
        "\n",
        "All the scalars in the above equation have to be equal to zero for linear independence.\n",
        "\n",
        "Checking linear independence - looking for a valid set of nonzero scalars.\n",
        "* nonzero scalars do not exist - elements are linearly independent\n",
        "* nonzero scalars exist - elements are linearly dependent\n",
        "\n",
        "\n",
        "For square matrices:\n",
        "* if the determinant is zero - the vectors are linearly dependent\n",
        "* if the determinant is nonzero - the vectors are linearly independent"
      ]
    },
    {
      "cell_type": "code",
      "execution_count": 54,
      "metadata": {},
      "outputs": [],
      "source": [
        "a = np.array([\n",
        "    [1, 2],\n",
        "    [1, 2]\n",
        "])"
      ]
    },
    {
      "cell_type": "code",
      "execution_count": 55,
      "metadata": {},
      "outputs": [
        {
          "data": {
            "text/plain": [
              "0.0"
            ]
          },
          "execution_count": 55,
          "metadata": {},
          "output_type": "execute_result"
        }
      ],
      "source": [
        "np.linalg.det(a)"
      ]
    },
    {
      "cell_type": "code",
      "execution_count": 56,
      "metadata": {},
      "outputs": [],
      "source": [
        "b = np.array([\n",
        "    [1, 1],\n",
        "    [1, -1]\n",
        "])"
      ]
    },
    {
      "cell_type": "code",
      "execution_count": 57,
      "metadata": {},
      "outputs": [
        {
          "data": {
            "text/plain": [
              "-2.0"
            ]
          },
          "execution_count": 57,
          "metadata": {},
          "output_type": "execute_result"
        }
      ],
      "source": [
        "np.linalg.det(b)"
      ]
    },
    {
      "cell_type": "code",
      "execution_count": 58,
      "metadata": {},
      "outputs": [],
      "source": [
        "c = np.array([\n",
        "    [0, 1, 0],\n",
        "    [1, 0, 0],\n",
        "    [1, 1, 0]\n",
        "])"
      ]
    },
    {
      "cell_type": "code",
      "execution_count": 59,
      "metadata": {},
      "outputs": [
        {
          "data": {
            "text/plain": [
              "0.0"
            ]
          },
          "execution_count": 59,
          "metadata": {},
          "output_type": "execute_result"
        }
      ],
      "source": [
        "np.linalg.det(c)"
      ]
    },
    {
      "cell_type": "markdown",
      "metadata": {},
      "source": [
        "***\n",
        "## Trace\n",
        "\n",
        "$ tr(A) = \\sum_{i=1}^n a_ii $\n",
        "\n",
        "$ tr(A) = \\sum_{i=1}^n \\lambda_i $"
      ]
    },
    {
      "cell_type": "code",
      "execution_count": 60,
      "metadata": {},
      "outputs": [],
      "source": [
        "C = np.array([\n",
        "    [-1, 2],\n",
        "    [3, 0]\n",
        "])"
      ]
    },
    {
      "cell_type": "code",
      "execution_count": 61,
      "metadata": {},
      "outputs": [
        {
          "data": {
            "text/plain": [
              "-1"
            ]
          },
          "execution_count": 61,
          "metadata": {},
          "output_type": "execute_result"
        }
      ],
      "source": [
        "np.trace(C)"
      ]
    },
    {
      "cell_type": "markdown",
      "metadata": {},
      "source": [
        "***\n",
        "## Diagonalization\n",
        "\n",
        "The matrix A is diagonalizable if it is similar to diagonal matrix, if there exists an invertible matrix $ P $ and diagonal matrix $ D $\n",
        "\n",
        "$ P^{-1}AP = D $\n",
        "\n",
        "$ A = PDP^{-1} $\n",
        "\n",
        "Finding eigenvalues:\n",
        "\n",
        "$ |A - \\lambda I| = 0 $\n",
        "\n",
        "Finding eigenvectors:\n",
        "\n",
        "$ (A - \\lambda I)\\textbf{x} = \\textbf{0} $\n",
        "\n",
        "\n",
        "The $ P $ matrix is said to diagonalize $ A $ because multiplying $ A $ in this way results in a diagonal matrix.\n",
        "\n",
        "Works only for matrices that have unique eigenvalues.\n",
        "$ A $ can have duplicate eigenvalues if they have linearly independent eigenvectors for duplicate values.\n",
        "\n",
        "$ D $ is made of the eigenvalues of $ A $.\n",
        "The matrix $ P $ is made of the eigenvectors of $ A $. \n",
        "\n",
        "Diagonalization involves taking a matrix and writing it as a product of matrices, one of has only values along the diagonal."
      ]
    },
    {
      "cell_type": "code",
      "execution_count": 62,
      "metadata": {},
      "outputs": [],
      "source": [
        "A = np.array([\n",
        "    [-3, -4],\n",
        "    [5, 6]\n",
        "])"
      ]
    },
    {
      "cell_type": "code",
      "execution_count": 63,
      "metadata": {},
      "outputs": [],
      "source": [
        "# find the eigenvalues and eigenvectors\n",
        "eigenvalues_A, eigenvector_A = np.linalg.eig(A)\n"
      ]
    },
    {
      "cell_type": "code",
      "execution_count": 64,
      "metadata": {},
      "outputs": [
        {
          "data": {
            "text/plain": [
              "array([1., 2.])"
            ]
          },
          "execution_count": 64,
          "metadata": {},
          "output_type": "execute_result"
        }
      ],
      "source": [
        "eigenvalues_A"
      ]
    },
    {
      "cell_type": "code",
      "execution_count": 65,
      "metadata": {},
      "outputs": [
        {
          "data": {
            "text/plain": [
              "array([[-0.70710678,  0.62469505],\n",
              "       [ 0.70710678, -0.78086881]])"
            ]
          },
          "execution_count": 65,
          "metadata": {},
          "output_type": "execute_result"
        }
      ],
      "source": [
        "eigenvector_A"
      ]
    },
    {
      "cell_type": "code",
      "execution_count": 66,
      "metadata": {},
      "outputs": [
        {
          "data": {
            "text/plain": [
              "array([[1., 0.],\n",
              "       [0., 2.]])"
            ]
          },
          "execution_count": 66,
          "metadata": {},
          "output_type": "execute_result"
        }
      ],
      "source": [
        "# D matrix - eigenvalues across the diagonal\n",
        "\n",
        "D = np.array([\n",
        "    [eigenvalues_A[0], 0],\n",
        "    [0, eigenvalues_A[1]]\n",
        "])\n",
        "D"
      ]
    },
    {
      "cell_type": "code",
      "execution_count": 67,
      "metadata": {},
      "outputs": [
        {
          "data": {
            "text/plain": [
              "array([[-0.70710678,  0.62469505],\n",
              "       [ 0.70710678, -0.78086881]])"
            ]
          },
          "execution_count": 67,
          "metadata": {},
          "output_type": "execute_result"
        }
      ],
      "source": [
        "P = np.array([\n",
        "    [eigenvector_A[0][0], eigenvector_A[0][1]],\n",
        "    [eigenvector_A[1][0], eigenvector_A[1][1]]\n",
        "])\n",
        "P"
      ]
    },
    {
      "cell_type": "code",
      "execution_count": 68,
      "metadata": {},
      "outputs": [
        {
          "data": {
            "text/plain": [
              "array([[-7.07106781, -5.65685425],\n",
              "       [-6.40312424, -6.40312424]])"
            ]
          },
          "execution_count": 68,
          "metadata": {},
          "output_type": "execute_result"
        }
      ],
      "source": [
        "P_inv = np.linalg.inv(P)\n",
        "P_inv"
      ]
    },
    {
      "cell_type": "code",
      "execution_count": 69,
      "metadata": {},
      "outputs": [
        {
          "data": {
            "text/plain": [
              "array([[-3., -4.],\n",
              "       [ 5.,  6.]])"
            ]
          },
          "execution_count": 69,
          "metadata": {},
          "output_type": "execute_result"
        }
      ],
      "source": [
        "# verify\n",
        "A_check = P.dot(D).dot(P_inv)\n",
        "A_check"
      ]
    },
    {
      "cell_type": "markdown",
      "metadata": {},
      "source": [
        "***\n",
        "## Cholesky decomposition\n",
        "\n",
        "Symmetric and positive-definite matrix $ A $ can be presented as $ A = LL^{T} $\n",
        "\n",
        "$ L $ - lower - triangular  matrix with positive values on the diagonal \n",
        "\n",
        "Often used as a fast way of solving:\n",
        "\n",
        "$ Ax = b $\n",
        "\n",
        "$ Ly = b $\n",
        "\n",
        "$ L.Hx = y $"
      ]
    },
    {
      "cell_type": "code",
      "execution_count": 70,
      "metadata": {},
      "outputs": [],
      "source": [
        "D = np.array([\n",
        "    [1, 2, -1],\n",
        "    [1, 3, 4],\n",
        "    [2, 0, 3]\n",
        "])"
      ]
    },
    {
      "cell_type": "code",
      "execution_count": 71,
      "metadata": {},
      "outputs": [
        {
          "data": {
            "text/plain": [
              "array([[ 6,  5,  9],\n",
              "       [ 5, 13, 10],\n",
              "       [ 9, 10, 26]])"
            ]
          },
          "execution_count": 71,
          "metadata": {},
          "output_type": "execute_result"
        }
      ],
      "source": [
        "Ds = np.dot(D.T, D)\n",
        "Ds"
      ]
    },
    {
      "cell_type": "code",
      "execution_count": 72,
      "metadata": {},
      "outputs": [
        {
          "data": {
            "text/plain": [
              "array([[2.44948974, 0.        , 0.        ],\n",
              "       [2.04124145, 2.97209242, 0.        ],\n",
              "       [3.67423461, 0.84115823, 3.4340141 ]])"
            ]
          },
          "execution_count": 72,
          "metadata": {},
          "output_type": "execute_result"
        }
      ],
      "source": [
        "L = np.linalg.cholesky(Ds)\n",
        "L"
      ]
    },
    {
      "cell_type": "code",
      "execution_count": 73,
      "metadata": {},
      "outputs": [
        {
          "data": {
            "text/plain": [
              "array([[ 6.,  5.,  9.],\n",
              "       [ 5., 13., 10.],\n",
              "       [ 9., 10., 26.]])"
            ]
          },
          "execution_count": 73,
          "metadata": {},
          "output_type": "execute_result"
        }
      ],
      "source": [
        "np.dot(L, L.T.conj())"
      ]
    },
    {
      "cell_type": "markdown",
      "metadata": {},
      "source": [
        "***\n",
        "## QR decomposition\n",
        "\n",
        "$ A = QR $\n",
        "\n",
        "$ Q $ - orthogonal, orthonormal matrix \n",
        "\n",
        "$ R $ - upper-triangular matrix\n",
        "\n",
        "The matrix $ Q $ is orthogonal if $ Q^{T}Q = I $\n"
      ]
    },
    {
      "cell_type": "code",
      "execution_count": 74,
      "metadata": {},
      "outputs": [],
      "source": [
        "M = np.array([\n",
        "    [1, 2, -1],\n",
        "    [1, 3, 4],\n",
        "    [2, 0, 3]\n",
        "])"
      ]
    },
    {
      "cell_type": "code",
      "execution_count": 75,
      "metadata": {},
      "outputs": [],
      "source": [
        "q, r = np.linalg.qr(M)"
      ]
    },
    {
      "cell_type": "code",
      "execution_count": 76,
      "metadata": {},
      "outputs": [
        {
          "data": {
            "text/plain": [
              "array([[-0.40824829, -0.39254051, -0.82416338],\n",
              "       [-0.40824829, -0.7290038 ,  0.54944226],\n",
              "       [-0.81649658,  0.56077215,  0.13736056]])"
            ]
          },
          "execution_count": 76,
          "metadata": {},
          "output_type": "execute_result"
        }
      ],
      "source": [
        "q"
      ]
    },
    {
      "cell_type": "code",
      "execution_count": 77,
      "metadata": {},
      "outputs": [
        {
          "data": {
            "text/plain": [
              "array([[-2.44948974, -2.04124145, -3.67423461],\n",
              "       [ 0.        , -2.97209242, -0.84115823],\n",
              "       [ 0.        ,  0.        ,  3.4340141 ]])"
            ]
          },
          "execution_count": 77,
          "metadata": {},
          "output_type": "execute_result"
        }
      ],
      "source": [
        "r"
      ]
    },
    {
      "cell_type": "code",
      "execution_count": 78,
      "metadata": {},
      "outputs": [],
      "source": [
        "N = np.array([\n",
        "    [1, 2],\n",
        "    [1, 3],\n",
        "    [2, 0]\n",
        "])"
      ]
    },
    {
      "cell_type": "code",
      "execution_count": 79,
      "metadata": {},
      "outputs": [],
      "source": [
        "qN, rN = np.linalg.qr(N)"
      ]
    },
    {
      "cell_type": "code",
      "execution_count": 80,
      "metadata": {},
      "outputs": [
        {
          "data": {
            "text/plain": [
              "array([[-0.40824829, -0.39254051],\n",
              "       [-0.40824829, -0.7290038 ],\n",
              "       [-0.81649658,  0.56077215]])"
            ]
          },
          "execution_count": 80,
          "metadata": {},
          "output_type": "execute_result"
        }
      ],
      "source": [
        "qN"
      ]
    },
    {
      "cell_type": "code",
      "execution_count": 81,
      "metadata": {},
      "outputs": [
        {
          "data": {
            "text/plain": [
              "array([[-2.44948974, -2.04124145],\n",
              "       [ 0.        , -2.97209242]])"
            ]
          },
          "execution_count": 81,
          "metadata": {},
          "output_type": "execute_result"
        }
      ],
      "source": [
        "rN"
      ]
    },
    {
      "cell_type": "markdown",
      "metadata": {},
      "source": [
        "***\n",
        "\n",
        "## LU decomposition\n",
        "\n",
        "It is a method of solving square systems of linear equations. It decomposes the matrix A into A product of two matrices: a lower triangular matrix L and upper triangular matrix U.\n",
        "\n",
        "$ LU = A $\n",
        "\n",
        "$ L $ - a lower triangular matrix\n",
        "$ U $ - an upper triangular matrix\n"
      ]
    },
    {
      "cell_type": "code",
      "execution_count": 82,
      "metadata": {},
      "outputs": [],
      "source": [
        "A = np.array([\n",
        "    [2., 1., 1.],\n",
        "    [1., 3., 2.],\n",
        "    [1., 0., 0.]\n",
        "]) \n",
        "\n",
        "B = np.array([4., 5., 6.])"
      ]
    },
    {
      "cell_type": "code",
      "execution_count": 83,
      "metadata": {},
      "outputs": [
        {
          "data": {
            "text/plain": [
              "(array([[ 2. ,  1. ,  1. ],\n",
              "        [ 0.5,  2.5,  1.5],\n",
              "        [ 0.5, -0.2, -0.2]]),\n",
              " array([0, 1, 2], dtype=int32))"
            ]
          },
          "execution_count": 83,
          "metadata": {},
          "output_type": "execute_result"
        }
      ],
      "source": [
        "LU = linalg.lu_factor(A)\n",
        "LU"
      ]
    },
    {
      "cell_type": "code",
      "execution_count": 84,
      "metadata": {},
      "outputs": [
        {
          "data": {
            "text/plain": [
              "array([  6.,  15., -23.])"
            ]
          },
          "execution_count": 84,
          "metadata": {},
          "output_type": "execute_result"
        }
      ],
      "source": [
        "x = linalg.lu_solve(LU, B)\n",
        "x"
      ]
    },
    {
      "cell_type": "code",
      "execution_count": 85,
      "metadata": {},
      "outputs": [],
      "source": [
        "# P - permutation matrix\n",
        "# LU = A\n",
        "\n",
        "P, L, U = linalg.lu(A)"
      ]
    },
    {
      "cell_type": "code",
      "execution_count": 86,
      "metadata": {},
      "outputs": [
        {
          "data": {
            "text/plain": [
              "array([[1., 0., 0.],\n",
              "       [0., 1., 0.],\n",
              "       [0., 0., 1.]])"
            ]
          },
          "execution_count": 86,
          "metadata": {},
          "output_type": "execute_result"
        }
      ],
      "source": [
        "P"
      ]
    },
    {
      "cell_type": "code",
      "execution_count": 87,
      "metadata": {},
      "outputs": [
        {
          "data": {
            "text/plain": [
              "array([[ 1. ,  0. ,  0. ],\n",
              "       [ 0.5,  1. ,  0. ],\n",
              "       [ 0.5, -0.2,  1. ]])"
            ]
          },
          "execution_count": 87,
          "metadata": {},
          "output_type": "execute_result"
        }
      ],
      "source": [
        "L"
      ]
    },
    {
      "cell_type": "code",
      "execution_count": 88,
      "metadata": {},
      "outputs": [
        {
          "data": {
            "text/plain": [
              "array([[ 2. ,  1. ,  1. ],\n",
              "       [ 0. ,  2.5,  1.5],\n",
              "       [ 0. ,  0. , -0.2]])"
            ]
          },
          "execution_count": 88,
          "metadata": {},
          "output_type": "execute_result"
        }
      ],
      "source": [
        "U"
      ]
    },
    {
      "cell_type": "markdown",
      "metadata": {},
      "source": [
        "***\n",
        "### SVD - Singular Value Decomposition\n",
        "\n",
        "$ \\sigma = \\sqrt{\\lambda_i}, i=1, 2, .., r $\n",
        "\n",
        "$ r $ - matrix rank with dimension (m, n)\n",
        "\n",
        "$ r \\leq min(m,n) $\n",
        "\n",
        "$ \\sigma $ - singular values\n",
        "\n",
        "Eigenvectors $ v_i $ of a $ A^{T}A $ matrix - right singular vectors\n",
        "\n",
        "Eigenvectors $ u_i $ of a $ AA^{T} $ matrix - left singular vector \n",
        "\n"
      ]
    },
    {
      "cell_type": "code",
      "execution_count": 89,
      "metadata": {},
      "outputs": [],
      "source": [
        "X = np.array([\n",
        "    [1, 2, -1],\n",
        "    [1, 3, 4],\n",
        "    [2, 0, 3]\n",
        "])"
      ]
    },
    {
      "cell_type": "markdown",
      "metadata": {},
      "source": [
        "$ u, vh $ - unitary array(s)"
      ]
    },
    {
      "cell_type": "code",
      "execution_count": 90,
      "metadata": {},
      "outputs": [],
      "source": [
        "u, s, vh = np.linalg.svd(X)"
      ]
    },
    {
      "cell_type": "code",
      "execution_count": 91,
      "metadata": {},
      "outputs": [
        {
          "data": {
            "text/plain": [
              "array([[ 0.06877539, -0.81780229,  0.57137497],\n",
              "       [ 0.84386796, -0.25779912, -0.47055975],\n",
              "       [ 0.53212481,  0.51452796,  0.67238692]])"
            ]
          },
          "execution_count": 91,
          "metadata": {},
          "output_type": "execute_result"
        }
      ],
      "source": [
        "u"
      ]
    },
    {
      "cell_type": "markdown",
      "metadata": {},
      "source": [
        "$ s $ - vector(s) with the singular values"
      ]
    },
    {
      "cell_type": "code",
      "execution_count": 92,
      "metadata": {},
      "outputs": [
        {
          "data": {
            "text/plain": [
              "array([5.92221212, 2.75224663, 1.53379989])"
            ]
          },
          "execution_count": 92,
          "metadata": {},
          "output_type": "execute_result"
        }
      ],
      "source": [
        "s"
      ]
    },
    {
      "cell_type": "code",
      "execution_count": 93,
      "metadata": {},
      "outputs": [
        {
          "data": {
            "text/plain": [
              "array([[ 0.33380989,  0.45070231,  0.82791207],\n",
              "       [-0.01691182, -0.87528564,  0.48331049],\n",
              "       [ 0.9424887 , -0.17533532, -0.28455681]])"
            ]
          },
          "execution_count": 93,
          "metadata": {},
          "output_type": "execute_result"
        }
      ],
      "source": [
        "vh"
      ]
    },
    {
      "cell_type": "code",
      "execution_count": 94,
      "metadata": {},
      "outputs": [
        {
          "data": {
            "text/plain": [
              "array([[ 1.00000000e+00,  2.00000000e+00, -1.00000000e+00],\n",
              "       [ 1.00000000e+00,  3.00000000e+00,  4.00000000e+00],\n",
              "       [ 2.00000000e+00,  1.85912396e-15,  3.00000000e+00]])"
            ]
          },
          "execution_count": 94,
          "metadata": {},
          "output_type": "execute_result"
        }
      ],
      "source": [
        "# Verify the result\n",
        "np.dot(u * s, vh)"
      ]
    },
    {
      "cell_type": "markdown",
      "metadata": {},
      "source": [
        "***\n",
        "### Decomposition methods usage\n",
        "\n",
        "*   solving linear equations $ Ax = b $\n"
      ]
    },
    {
      "cell_type": "code",
      "execution_count": 95,
      "metadata": {},
      "outputs": [],
      "source": [
        "A = np.array([\n",
        "    [1, 2],\n",
        "    [1, 3],\n",
        "    [2, 0]\n",
        "])"
      ]
    },
    {
      "cell_type": "code",
      "execution_count": 96,
      "metadata": {},
      "outputs": [],
      "source": [
        "b = np.array([1, 0, 2])"
      ]
    },
    {
      "cell_type": "code",
      "execution_count": 97,
      "metadata": {},
      "outputs": [],
      "source": [
        "q, r = np.linalg.qr(A)"
      ]
    },
    {
      "cell_type": "code",
      "execution_count": 98,
      "metadata": {},
      "outputs": [],
      "source": [
        "pom = np.dot(q.T, b)"
      ]
    },
    {
      "cell_type": "code",
      "execution_count": 99,
      "metadata": {},
      "outputs": [
        {
          "data": {
            "text/plain": [
              "array([ 1.03773585, -0.24528302])"
            ]
          },
          "execution_count": 99,
          "metadata": {},
          "output_type": "execute_result"
        }
      ],
      "source": [
        "x = np.dot(np.linalg.inv(r), pom)\n",
        "x"
      ]
    },
    {
      "cell_type": "code",
      "execution_count": 100,
      "metadata": {},
      "outputs": [],
      "source": [
        "result, res, rank, s = np.linalg.lstsq(A, b, rcond=None)"
      ]
    },
    {
      "cell_type": "code",
      "execution_count": 101,
      "metadata": {},
      "outputs": [
        {
          "data": {
            "text/plain": [
              "array([ 1.03773585, -0.24528302])"
            ]
          },
          "execution_count": 101,
          "metadata": {},
          "output_type": "execute_result"
        }
      ],
      "source": [
        "result"
      ]
    },
    {
      "cell_type": "code",
      "execution_count": 102,
      "metadata": {},
      "outputs": [
        {
          "data": {
            "text/plain": [
              "array([0.30188679])"
            ]
          },
          "execution_count": 102,
          "metadata": {},
          "output_type": "execute_result"
        }
      ],
      "source": [
        "res"
      ]
    },
    {
      "cell_type": "code",
      "execution_count": 103,
      "metadata": {},
      "outputs": [
        {
          "data": {
            "text/plain": [
              "2"
            ]
          },
          "execution_count": 103,
          "metadata": {},
          "output_type": "execute_result"
        }
      ],
      "source": [
        "rank"
      ]
    },
    {
      "cell_type": "code",
      "execution_count": 104,
      "metadata": {},
      "outputs": [
        {
          "data": {
            "text/plain": [
              "array([3.95009846, 1.84301986])"
            ]
          },
          "execution_count": 104,
          "metadata": {},
          "output_type": "execute_result"
        }
      ],
      "source": [
        "s"
      ]
    },
    {
      "cell_type": "markdown",
      "metadata": {},
      "source": [
        "***\n",
        "## Probability\n",
        "\n",
        "The discrete case:\n",
        "\n",
        "$ P(X = x_{i}, Y = y_{j}) = \\dfrac{n_{ij}}{N} $\n",
        "\n",
        "The continous case:\n",
        "\n",
        "#### $ pdf $ - probability density function\n",
        "\n",
        "*   $ f(x) \\geq 0 $\n",
        "*   $ \\int f(x)dx = 1 $\n",
        "\n",
        "\n",
        "$ P(a \\leq X \\leq b) = \\int_{a}^{b} f(x)dx $\n",
        "\n",
        "#### $ cdf $ - cumulative distribution function\n",
        "\n",
        "$ F(x) = P(X_1 \\leq x_1, ..., X_D \\leq x_D) $\n",
        "\n",
        "$ F(X) = \\int_{-\\infty}^{x_{1}} ... \\int_{-\\infty}^{x_{D}} f(y_{1}, ..., y_{D}) dy_{1}, ... dy_{D} $\n",
        "\n",
        "#### Marginal probability distribution\n",
        "\n",
        "$ p(x) = \\sum_{y} p(x, y) $\n",
        "\n",
        "$ p(x) = \\int_{y} p(x, y)dy $\n",
        "\n",
        "#### Conditional probability distribution\n",
        "\n",
        "$ p(x, y) = p(y|x)p(x) $\n",
        "\n",
        "#### Bayes' Theorem\n",
        "\n",
        "$ p(x|y) = \\frac{p(y|x)p(x)}{p(y)} $\n",
        "\n",
        "$ p(x_{i}|y) = \\frac{p(y|x_{i})p(x_{i})}{\\sum_{j=1}^np(y|x_{j}p(x_{j})} $"
      ]
    },
    {
      "cell_type": "code",
      "execution_count": 105,
      "metadata": {},
      "outputs": [],
      "source": [
        "mu, sigma = 1, 2\n",
        "s = np.random.normal(mu, sigma, 1000)"
      ]
    },
    {
      "cell_type": "code",
      "execution_count": 106,
      "metadata": {},
      "outputs": [
        {
          "data": {
            "image/png": "[encoded data removed]",
            "text/plain": [
              "<Figure size 432x288 with 1 Axes>"
            ]
          },
          "metadata": {
            "needs_background": "light"
          },
          "output_type": "display_data"
        }
      ],
      "source": [
        "import matplotlib.pyplot as plt\n",
        "\n",
        "count, bins, ignored = plt.hist(s, 30, density=True)\n",
        "\n",
        "plt.plot(bins, 1/(sigma * np.sqrt(2 *np.pi)) * np.exp(-(bins - mu)**2 / (2*sigma**2)))\n",
        "\n",
        "plt.show()\n"
      ]
    },
    {
      "cell_type": "code",
      "execution_count": 107,
      "metadata": {},
      "outputs": [],
      "source": [
        "s2 = np.random.normal(mu, sigma, 1000)"
      ]
    },
    {
      "cell_type": "code",
      "execution_count": 108,
      "metadata": {},
      "outputs": [
        {
          "data": {
            "text/plain": [
              "0.9401450613371514"
            ]
          },
          "execution_count": 108,
          "metadata": {},
          "output_type": "execute_result"
        }
      ],
      "source": [
        "np.mean(s)"
      ]
    },
    {
      "cell_type": "code",
      "execution_count": 109,
      "metadata": {},
      "outputs": [
        {
          "data": {
            "text/plain": [
              "0.9883411055435197"
            ]
          },
          "execution_count": 109,
          "metadata": {},
          "output_type": "execute_result"
        }
      ],
      "source": [
        "np.mean(s2)"
      ]
    },
    {
      "cell_type": "code",
      "execution_count": 110,
      "metadata": {},
      "outputs": [
        {
          "data": {
            "text/plain": [
              "1.9095305204082667"
            ]
          },
          "execution_count": 110,
          "metadata": {},
          "output_type": "execute_result"
        }
      ],
      "source": [
        "np.std(s, ddof=1)"
      ]
    },
    {
      "cell_type": "code",
      "execution_count": 111,
      "metadata": {},
      "outputs": [
        {
          "data": {
            "text/plain": [
              "1.9613918255477045"
            ]
          },
          "execution_count": 111,
          "metadata": {},
          "output_type": "execute_result"
        }
      ],
      "source": [
        "np.std(s2, ddof=1)"
      ]
    },
    {
      "cell_type": "code",
      "execution_count": 112,
      "metadata": {},
      "outputs": [
        {
          "data": {
            "text/plain": [
              "0.9751137628426458"
            ]
          },
          "execution_count": 112,
          "metadata": {},
          "output_type": "execute_result"
        }
      ],
      "source": [
        "np.median(s)"
      ]
    },
    {
      "cell_type": "code",
      "execution_count": 113,
      "metadata": {},
      "outputs": [
        {
          "data": {
            "text/plain": [
              "array([[ 3.25046157,  4.03965563,  2.22418362, -1.23050609, -1.64546014],\n",
              "       [-0.00515858,  0.80544515,  1.35059848, -0.25845334,  1.55352202],\n",
              "       [ 1.33198513, -0.22867428,  0.31424515,  2.30878291,  0.38344108]])"
            ]
          },
          "execution_count": 113,
          "metadata": {},
          "output_type": "execute_result"
        }
      ],
      "source": [
        "np.random.normal(1, 2, size=(3,5))"
      ]
    },
    {
      "cell_type": "code",
      "execution_count": 114,
      "metadata": {},
      "outputs": [
        {
          "data": {
            "text/plain": [
              "array([[ 1.        , -0.05463126],\n",
              "       [-0.05463126,  1.        ]])"
            ]
          },
          "execution_count": 114,
          "metadata": {},
          "output_type": "execute_result"
        }
      ],
      "source": [
        "np.corrcoef(s, s2)"
      ]
    },
    {
      "cell_type": "code",
      "execution_count": 115,
      "metadata": {},
      "outputs": [
        {
          "data": {
            "text/plain": [
              "3.642660501562295"
            ]
          },
          "execution_count": 115,
          "metadata": {},
          "output_type": "execute_result"
        }
      ],
      "source": [
        "np.var(s)"
      ]
    },
    {
      "cell_type": "code",
      "execution_count": 116,
      "metadata": {},
      "outputs": [
        {
          "data": {
            "text/plain": [
              "array([[ 3.64630681, -0.20461253],\n",
              "       [-0.20461253,  3.84705789]])"
            ]
          },
          "execution_count": 116,
          "metadata": {},
          "output_type": "execute_result"
        }
      ],
      "source": [
        "np.cov(s, s2)"
      ]
    },
    {
      "cell_type": "markdown",
      "metadata": {},
      "source": [
        "***\n",
        "## The Jacobian\n",
        "\n",
        "The Jacobian matrix aggregates the first-order partial derivatives of a multivariate function that can be used for backpropagation.\n",
        "The Jacobian determinant can be used during the process of changing between variables, it is a scaling factor between one coordinate space and another\n",
        "\n"
      ]
    },
    {
      "cell_type": "markdown",
      "metadata": {},
      "source": [
        "## The Hessian\n",
        "\n",
        "The Hessian matrix is a matrix of second order partial derivatives.\n",
        "The Hessian and the corresponding discriminant are used to determine the local extreme points of a function. It helps determine the saddle points and the local extremum of a function."
      ]
    },
    {
      "cell_type": "markdown",
      "metadata": {},
      "source": [
        "***\n",
        "## Optimization using gradient\n",
        "\n",
        "Iterative method:\n",
        "\n",
        "$ x_{i+1} = x_{i} - \\gamma_{i} \\nabla f(x_{i}) $\n",
        "\n",
        "Adaptive methods modify \\gamma_{i} according to the function local values.\n",
        "Following Heuristics are used:\n",
        "* if the function value increased in the next iteration, decrease the $ \\gamma_{i} $ coefficient and repeat the iteration\n",
        "* if the function value decreased in the next iteration, increase the $ \\gamma_{i} $ coefficient and repeat the iteration"
      ]
    },
    {
      "cell_type": "code",
      "execution_count": 195,
      "metadata": {},
      "outputs": [],
      "source": [
        "def f(x):\n",
        "    return x**2\n",
        "\n",
        "def gradient(x):\n",
        "    return 2*x\n",
        "\n",
        "def gradient_method(x, gradient, gamma, max_iter=10):\n",
        "    xs = np.zeros(1 + max_iter)\n",
        "    xs[0] = x\n",
        "\n",
        "    for i in range(max_iter):\n",
        "        x = x - gamma * gradient(x)\n",
        "        xs[i+1] = x\n",
        "\n",
        "    return xs"
      ]
    },
    {
      "cell_type": "code",
      "execution_count": 205,
      "metadata": {},
      "outputs": [],
      "source": [
        "x0 = 5\n",
        "gamma = 0.1\n",
        "xs = gradient_method(x0, gradient, gamma)\n",
        "xp = np.linspace(-5, 5, 100)"
      ]
    },
    {
      "cell_type": "code",
      "execution_count": 211,
      "metadata": {},
      "outputs": [
        {
          "data": {
            "image/png": "[encoded data removed]",
            "text/plain": [
              "<Figure size 432x288 with 1 Axes>"
            ]
          },
          "metadata": {
            "needs_background": "light"
          },
          "output_type": "display_data"
        }
      ],
      "source": [
        "plt.plot(xp, f(xp))\n",
        "plt.plot(xs, f(xs), 'o-', c='red')\n",
        "\n",
        "for i, (x, y) in enumerate(zip(xs, f(xs)), 1):\n",
        "    plt.text(x, y+0.2, i, bbox=dict(facecolor='white', alpha=0.7), fontsize=12) "
      ]
    },
    {
      "cell_type": "code",
      "execution_count": 213,
      "metadata": {},
      "outputs": [],
      "source": [
        "gamma = 0.9\n",
        "x0 = 5\n",
        "xs = gradient_method(x0, gradient, gamma)\n",
        "xp = np.linspace(-5, 5, 100)"
      ]
    },
    {
      "cell_type": "code",
      "execution_count": 214,
      "metadata": {},
      "outputs": [
        {
          "data": {
            "image/png": "[encoded data removed]",
            "text/plain": [
              "<Figure size 432x288 with 1 Axes>"
            ]
          },
          "metadata": {
            "needs_background": "light"
          },
          "output_type": "display_data"
        }
      ],
      "source": [
        "plt.plot(xp, f(xp))\n",
        "plt.plot(xs, f(xs), 'o-', c='red')\n",
        "\n",
        "for i, (x, y) in enumerate(zip(xs, f(xs)), 1):\n",
        "    plt.text(x, y+0.2, i, bbox=dict(facecolor='white', alpha=0.7), fontsize=12)"
      ]
    },
    {
      "cell_type": "markdown",
      "metadata": {},
      "source": [
        "### Basic Gradient Descent\n",
        "\n",
        "Steps:\n",
        "\n",
        "1. Set the initial value of the variable $ x^{[s=0]} $ (step $ s=0 $, value $ x^{[0]} $)\n",
        "2. Set the search ending criterion (e.g. number of iterations, minimal change of cost function)\n",
        "3. Check the value of the cost function for $ x[s] $, end if the criterion has been reached\n",
        "4. If the criterion has not been reached - updated $ x^{[s+1]}=x^{[s]} + \\eta \\Delta x $\n",
        "\n",
        "$ \\eta $ - learning rate\n"
      ]
    },
    {
      "cell_type": "code",
      "execution_count": 3,
      "metadata": {},
      "outputs": [],
      "source": [
        "def gradient_descent(gradient, start, learning_rate, n_iter=50):\n",
        "    \"\"\"Starting with an arbitrarily chosen position of a point or a vector.\n",
        "       Then moving the point or vector iteratively in the direction of\n",
        "       the fastest decrease of the cost function.\n",
        "\n",
        "       The starting point is updated by moving to the new position.\n",
        "\n",
        "    Args:\n",
        "        gradient (function): the gradient of the function to minimize\n",
        "        start (scalar, list): the starting point\n",
        "        learning_rate (float): controls the magnitude of the position update\n",
        "        n_iter (_type_): the number of iterations\n",
        "\n",
        "    Returns:\n",
        "        list: the vector describin the last position found \n",
        "    \"\"\"\n",
        "    vector = start\n",
        "    for _ in range(n_iter):\n",
        "        diff = -learning_rate * gradient(vector)\n",
        "        vector += diff\n",
        "    return vector"
      ]
    },
    {
      "cell_type": "code",
      "execution_count": 5,
      "metadata": {},
      "outputs": [
        {
          "data": {
            "text/plain": [
              "8.082812774647624e-11"
            ]
          },
          "execution_count": 5,
          "metadata": {},
          "output_type": "execute_result"
        }
      ],
      "source": [
        "gradient_descent(gradient=lambda x: 2*x, start=10.0, learning_rate=0.2)"
      ]
    },
    {
      "cell_type": "markdown",
      "metadata": {},
      "source": [
        "Gradient descent can be accelereated by using momentum from past updates.\n",
        "\n",
        "### Gradient descent with momentum\n",
        "\n",
        "Additional hyperparameter that controls the amount of history (momentum) to include in the update equation.\n",
        "\n",
        "$ x_{i+1} = x_{i} - \\gamma_{i} \\nabla f(x_{i}) + \\alpha \\Delta x_{i} $\n",
        "\n",
        "$ \\alpha \\in [0,1] $  "
      ]
    },
    {
      "cell_type": "markdown",
      "metadata": {},
      "source": [
        "### Stochastic Gradient Descent\n",
        "\n",
        "The error is calculated for each example in the training dataset.\n",
        "The parameters are updated after evaluating each training example.\n",
        "\n",
        "It is an approximation of gradient.\n",
        "\n",
        "The cost function is a sum of costs:\n",
        "\n",
        "$ L(\\theta) = \\sum_{i=1}^{n} L_n(\\theta) $\n",
        "\n",
        "$ \\theta is a vector of parameters which are searched $\n",
        "\n",
        "An example of a cost function:\n",
        "\n",
        "$ L(\\theta) = -\\sum_{i=1}^n log p(y_{n}|x_{n}, \\theta $\n",
        "\n",
        "for regression:\n",
        "\n",
        "$ x_{n} \\in \\R^{D} $ - the vector of points in which observations are known $ y_{n} $\n",
        "\n",
        "$ \\theta $ - model parameters\n",
        "\n",
        "\n",
        "The basic gradient descent uses the entire dataset.\n",
        "\n",
        "Updating the vector with parameters is realized according to the equation:\n",
        "\n",
        "$ \\theta_{i+1} = \\theta_{i} - \\gamma_{i} \\nabla L(\\theta_{i}) $\n",
        "\n",
        "$ \\theta_{i+1} = \\theta_{i} - \\gamma_{i} \\sum_{i=1}^n \\nabla L_{n}(\\theta_{i}) $\n",
        "\n",
        "\n",
        "Calculating $ \\nabla L(\\theta_{i}) $ for huge amount of data is costly.\n",
        "\n",
        "\n",
        "$ \\sum_{i=1}^n \\nabla L_{n}(\\theta_{i}) $\n",
        "\n",
        "\n",
        "$ \\sum_{i \\in S_{n}} \\nabla L_{n}(\\theta_{i}) $\n"
      ]
    },
    {
      "cell_type": "markdown",
      "metadata": {},
      "source": [
        "***\n",
        "\n",
        "## Lagrange multipliers\n",
        "\n",
        "Getting x for the min value the function $ f(x) $\n",
        "with constraints:\n",
        "\n",
        "$ g_{i}(x) \\leq 0 $ for $ i = 1, ..., m $\n",
        "\n",
        "where \n",
        "\n",
        "$ f $: $ \\R^{d} \\rightarrow \\R $\n",
        "\n",
        "$ g_{i}: \\R^{d} \\rightarrow \\R $ for $ i = 1, ..., m $\n",
        "\n",
        "\n",
        "$ f, g_{i} $ do not have to be convex\n",
        "\n",
        "\n",
        "$ ℒ(\\textbf{x, λ}) = f(\\textbf{x}) + \\sum_{i=1}^{n}λ_{i}g_{i}(\\textbf{x}) $ \n",
        "\n",
        "For vectors:\n",
        "\n",
        "$ ℒ(\\textbf{x, λ}) = f(\\textbf{x}) + λ^{T}g(\\textbf{x}) $\n",
        "\n",
        "Dual problem:\n",
        "\n",
        "$ max_{\\lambda \\in \\R^{m}} 𝔒(λ) $\n",
        "\n",
        "under condition that:\n",
        "\n",
        "$ λ \\geq 0 $\n",
        "\n",
        "where\n",
        "\n",
        "$ 𝔒(λ) = min_{x\\in\\R^{d}} ℒ (𝒙, \\lambda)$\n",
        "\n",
        "\n",
        "#### Minmax inequality\n",
        "\n",
        "$ max_{y} min_{x} \\phi (x, y) \\leq min_{x} max_{y} \\phi (x, y) $\n",
        "\n",
        "therefore:\n",
        "\n",
        "$ max_{\\lambda \\geq 0} min_{x \\in \\R^{d}} ℒ (𝒙, \\lambda) \\leq min_{x \\in \\R^{d}} max_{\\lambda \\geq 0} ℒ (𝒙, \\lambda)$\n",
        "\n",
        "\n",
        "$ min_{x \\in \\R^{d}} ℒ (𝒙, \\lambda) $ is an optimization without constraints for a given value $ \\lambda $"
      ]
    },
    {
      "cell_type": "markdown",
      "metadata": {},
      "source": [
        "***\n",
        "\n",
        "## Convex optimization\n",
        "\n",
        "The set $ C $ is convex if for every $ x, y \\in C $ and for every real number $ \\theta, 0 \\leq \\theta \\leq 1 $ this expression is true:\n",
        "\n",
        "$ \\theta x + (1 - \\theta)y \\in C $\n",
        "\n",
        "$ f: \\R^{d} \\rightarrow \\R $ is a function defined on convex set\n",
        "$ f $ is a convex function if for every $ x, y $ and $ \\theta, 0 \\leq \\theta \\leq 1 $ \n",
        "this expression is valid:\n",
        "\n",
        "$ f(\\theta x + (1 - \\theta)y \\leq \\theta f(x) + (1 - \\theta) f(y)$"
      ]
    },
    {
      "cell_type": "markdown",
      "metadata": {},
      "source": [
        "***\n",
        "\n",
        "## Cross-validation\n",
        "\n",
        "K-fold cross-validation is useful for evaluating machine learning models on unseen data.\n",
        "\n",
        "Splitting data into k subsets and selecting one set as a test set. The remaining k-1 are treated as training set. \n",
        "\n",
        "Allows for using all data in case of small dataset.\n",
        "\n",
        "Cross-validation approximates the expected value of the generalization error.\n",
        "\n",
        "\n",
        "k - parameter which refers to the number of groups that a given data sample is to be split into.\n",
        "\n"
      ]
    },
    {
      "cell_type": "code",
      "execution_count": 217,
      "metadata": {},
      "outputs": [],
      "source": [
        "from sklearn.model_selection import KFold"
      ]
    },
    {
      "cell_type": "code",
      "execution_count": 228,
      "metadata": {},
      "outputs": [],
      "source": [
        "dataset = np.array([0.2, 0.4, 0.6, 0.8, 1.0, 1.2])"
      ]
    },
    {
      "cell_type": "code",
      "execution_count": 229,
      "metadata": {},
      "outputs": [],
      "source": [
        "kfold = KFold(3)"
      ]
    },
    {
      "cell_type": "code",
      "execution_count": 234,
      "metadata": {},
      "outputs": [
        {
          "name": "stdout",
          "output_type": "stream",
          "text": [
            "train: [0.6 0.8 1.  1.2], test: [0.2 0.4]\n",
            "train: [0.2 0.4 1.  1.2], test: [0.6 0.8]\n",
            "train: [0.2 0.4 0.6 0.8], test: [1.  1.2]\n"
          ]
        }
      ],
      "source": [
        "for train, test in kfold.split(dataset):\n",
        "    print('train: %s, test: %s' % (dataset[train], dataset[test]))"
      ]
    }
  ],
  "metadata": {
    "colab": {
      "collapsed_sections": [],
      "name": "AI-CF.ipynb",
      "provenance": []
    },
    "kernelspec": {
      "display_name": "Python 3",
      "name": "python3"
    },
    "language_info": {
      "codemirror_mode": {
        "name": "ipython",
        "version": 3
      },
      "file_extension": ".py",
      "mimetype": "text/x-python",
      "name": "python",
      "nbconvert_exporter": "python",
      "pygments_lexer": "ipython3",
      "version": "3.8.6"
    }
  },
  "nbformat": 4,
  "nbformat_minor": 0
}
