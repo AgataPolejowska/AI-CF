{
  "cells": [
    {
      "cell_type": "markdown",
      "metadata": {
        "id": "WEv8xU0HjSsG"
      },
      "source": [
        "***\n",
        "## Rank\n",
        "\n",
        "> The **rank** of a matrix - the dimension of the vector space generated (or spanned) by its columns, maximal number of **linearly independent** columns of the matrix.\n",
        "\n",
        "\n",
        "Numpy Linear algebra\n",
        "\n",
        "\n",
        "> The **rank** of an array - the number of signular values of the array.\n",
        "\n",
        "\n",
        "\n",
        "\n"
      ]
    },
    {
      "cell_type": "markdown",
      "metadata": {
        "id": "UBJ-wjYRls1w"
      },
      "source": [
        "The rank is commonly denoted by:\n",
        "\n",
        "$rank(A)$\n",
        "\n",
        "$rk(A)$"
      ]
    },
    {
      "cell_type": "code",
      "execution_count": 94,
      "metadata": {
        "id": "29ceZsiiP2SC"
      },
      "outputs": [],
      "source": [
        "from numpy.linalg import matrix_rank\n",
        "import numpy as np"
      ]
    },
    {
      "cell_type": "code",
      "execution_count": 95,
      "metadata": {
        "id": "oqK3IZUBPHtx"
      },
      "outputs": [],
      "source": [
        "matrix_A = np.array([[1, 2], [3, 4]])\n",
        "matrix_B = np.array([[1, 0], [0, 0]])"
      ]
    },
    {
      "cell_type": "code",
      "execution_count": 96,
      "metadata": {
        "id": "SvWqA12mQuHp"
      },
      "outputs": [],
      "source": [
        "matrix_A_transpose = np.transpose(matrix_A)\n",
        "matrix_B_transpose = np.transpose(matrix_B)"
      ]
    },
    {
      "cell_type": "code",
      "execution_count": 97,
      "metadata": {
        "id": "spV0fBlKQAA5"
      },
      "outputs": [],
      "source": [
        "matrix_A_rank = matrix_rank(matrix_A)\n",
        "matrix_B_rank = matrix_rank(matrix_B)"
      ]
    },
    {
      "cell_type": "code",
      "execution_count": 98,
      "metadata": {
        "id": "o03KSZekQLoY"
      },
      "outputs": [],
      "source": [
        "rank_description = 'Matrix \\n {0} \\n rank (rząd macierzy): {1}'"
      ]
    },
    {
      "cell_type": "code",
      "execution_count": 99,
      "metadata": {
        "colab": {
          "base_uri": "https://localhost:8080/"
        },
        "id": "L5nhopBoncoy",
        "outputId": "a539fbbb-cc5d-4570-fdcd-aaf7e3cd0f00"
      },
      "outputs": [
        {
          "name": "stdout",
          "output_type": "stream",
          "text": [
            "Matrix \n",
            " [[1 2]\n",
            " [3 4]] \n",
            " rank (rząd macierzy): 2\n",
            "Matrix \n",
            " [[1 0]\n",
            " [0 0]] \n",
            " rank (rząd macierzy): 1\n"
          ]
        }
      ],
      "source": [
        "print(rank_description.format(matrix_A, matrix_A_rank))\n",
        "print(rank_description.format(matrix_B, matrix_B_rank))"
      ]
    },
    {
      "cell_type": "markdown",
      "metadata": {
        "id": "xgi-2GGTmWRR"
      },
      "source": [
        "$rank(A) = rank(A^{T})$"
      ]
    },
    {
      "cell_type": "code",
      "execution_count": 100,
      "metadata": {
        "id": "zE-0_UuvQlQV"
      },
      "outputs": [],
      "source": [
        "rank_check = matrix_A_rank == matrix_rank(matrix_A_transpose) and matrix_B_rank == matrix_rank(matrix_B_transpose)"
      ]
    },
    {
      "cell_type": "code",
      "execution_count": 101,
      "metadata": {
        "colab": {
          "base_uri": "https://localhost:8080/"
        },
        "id": "gKYI41dYReJR",
        "outputId": "46350efa-766b-49bb-cea3-cc3fd5ef68c6"
      },
      "outputs": [
        {
          "name": "stdout",
          "output_type": "stream",
          "text": [
            "Matrix rank is equal to the same matrix rank but transposed: True\n"
          ]
        }
      ],
      "source": [
        "print('Matrix rank is equal to the same matrix rank but transposed:', rank_check)"
      ]
    },
    {
      "cell_type": "code",
      "execution_count": 102,
      "metadata": {
        "colab": {
          "base_uri": "https://localhost:8080/"
        },
        "id": "ZaMPT90ERxOt",
        "outputId": "31846b5f-441c-41bc-e939-a93369a248c0"
      },
      "outputs": [
        {
          "name": "stdout",
          "output_type": "stream",
          "text": [
            "Matrix \n",
            " [0. 0. 0. 0.] \n",
            " rank (rząd macierzy): 0\n"
          ]
        }
      ],
      "source": [
        "print(rank_description.format(np.zeros((4,)), matrix_rank(np.zeros((4,)))))"
      ]
    },
    {
      "cell_type": "code",
      "execution_count": 103,
      "metadata": {
        "colab": {
          "base_uri": "https://localhost:8080/"
        },
        "id": "mJT6nRpNi3nC",
        "outputId": "171a9d97-0d0b-4c53-ce9c-c94b96234eb6"
      },
      "outputs": [
        {
          "name": "stdout",
          "output_type": "stream",
          "text": [
            "Matrix \n",
            " [1. 1. 1. 1.] \n",
            " rank (rząd macierzy): 1\n"
          ]
        }
      ],
      "source": [
        "print(rank_description.format(np.ones((4,)), matrix_rank(np.ones((4,)))))"
      ]
    },
    {
      "cell_type": "code",
      "execution_count": 104,
      "metadata": {
        "colab": {
          "base_uri": "https://localhost:8080/"
        },
        "id": "gZhL3ePHoZJ9",
        "outputId": "a7407741-3df8-439f-8b13-5b66cc79a4c8"
      },
      "outputs": [
        {
          "name": "stdout",
          "output_type": "stream",
          "text": [
            "Matrix \n",
            " [[0. 0. 0. 0.]] \n",
            " rank (rząd macierzy): 0\n"
          ]
        }
      ],
      "source": [
        "print(rank_description.format(np.zeros((1,4)), matrix_rank(np.zeros((1,4)))))"
      ]
    },
    {
      "cell_type": "code",
      "execution_count": 105,
      "metadata": {
        "colab": {
          "base_uri": "https://localhost:8080/"
        },
        "id": "geyCYLr_oeTm",
        "outputId": "52c2f3fd-7ac4-4eb1-ea2a-433071ffdc4a"
      },
      "outputs": [
        {
          "name": "stdout",
          "output_type": "stream",
          "text": [
            "Matrix \n",
            " [[1. 1. 1. 1.]] \n",
            " rank (rząd macierzy): 1\n"
          ]
        }
      ],
      "source": [
        "print(rank_description.format(np.ones((1,4)), matrix_rank(np.ones((1,4)))))"
      ]
    },
    {
      "cell_type": "code",
      "execution_count": 106,
      "metadata": {
        "colab": {
          "base_uri": "https://localhost:8080/"
        },
        "id": "i9GK4KXHojke",
        "outputId": "fd792566-04fa-4574-9d84-f9184681c1d8"
      },
      "outputs": [
        {
          "name": "stdout",
          "output_type": "stream",
          "text": [
            "Matrix \n",
            " [[0. 0. 0. 0.]\n",
            " [0. 0. 0. 0.]\n",
            " [0. 0. 0. 0.]\n",
            " [0. 0. 0. 0.]] \n",
            " rank (rząd macierzy): 0\n"
          ]
        }
      ],
      "source": [
        "print(rank_description.format(np.zeros((4,4)), matrix_rank(np.zeros((4,4)))))"
      ]
    },
    {
      "cell_type": "code",
      "execution_count": 107,
      "metadata": {
        "colab": {
          "base_uri": "https://localhost:8080/"
        },
        "id": "EaPUdhKiom_B",
        "outputId": "c097654c-0e14-480f-b7ef-c38cf380819b"
      },
      "outputs": [
        {
          "name": "stdout",
          "output_type": "stream",
          "text": [
            "Matrix \n",
            " [[1. 1. 1. 1.]\n",
            " [1. 1. 1. 1.]\n",
            " [1. 1. 1. 1.]\n",
            " [1. 1. 1. 1.]] \n",
            " rank (rząd macierzy): 1\n"
          ]
        }
      ],
      "source": [
        "print(rank_description.format(np.ones((4,4)), matrix_rank(np.ones((4,4)))))"
      ]
    },
    {
      "cell_type": "markdown",
      "metadata": {
        "id": "qqX10kKs2fPv"
      },
      "source": [
        "****\n",
        "## Symmetric matrix\n",
        "\n",
        "$A^{T} = A$"
      ]
    },
    {
      "cell_type": "code",
      "execution_count": 108,
      "metadata": {
        "colab": {
          "base_uri": "https://localhost:8080/"
        },
        "id": "Pqrd59CX2nK-",
        "outputId": "55c0fb93-2158-4a15-e806-32d3252f7ac1"
      },
      "outputs": [
        {
          "data": {
            "text/plain": [
              "array([[ 1,  1, -1],\n",
              "       [ 1,  2,  0],\n",
              "       [-1,  0,  5]])"
            ]
          },
          "execution_count": 108,
          "metadata": {},
          "output_type": "execute_result"
        }
      ],
      "source": [
        "A = np.array([[1, 1, -1], [1, 2, 0], [-1, 0, 5]])\n",
        "A"
      ]
    },
    {
      "cell_type": "code",
      "execution_count": 109,
      "metadata": {
        "colab": {
          "base_uri": "https://localhost:8080/"
        },
        "id": "YiLnqKSu2xSV",
        "outputId": "50e6191b-48a7-41d5-bc4e-1a76468531ed"
      },
      "outputs": [
        {
          "data": {
            "text/plain": [
              "array([[ 1,  1, -1],\n",
              "       [ 1,  2,  0],\n",
              "       [-1,  0,  5]])"
            ]
          },
          "execution_count": 109,
          "metadata": {},
          "output_type": "execute_result"
        }
      ],
      "source": [
        "A_t = A.transpose()\n",
        "A_t"
      ]
    },
    {
      "cell_type": "code",
      "execution_count": 110,
      "metadata": {
        "colab": {
          "base_uri": "https://localhost:8080/"
        },
        "id": "SCGnFLUG290x",
        "outputId": "eb358dbe-fac8-43a8-bef0-4c8b862bcf1e"
      },
      "outputs": [
        {
          "data": {
            "text/plain": [
              "True"
            ]
          },
          "execution_count": 110,
          "metadata": {},
          "output_type": "execute_result"
        }
      ],
      "source": [
        "np.array_equal(A, A_t)"
      ]
    },
    {
      "cell_type": "markdown",
      "metadata": {
        "id": "w9yjWm0qpTHf"
      },
      "source": [
        "\n",
        "\n",
        "---\n",
        "\n",
        "\n",
        "## Norm\n",
        "\n",
        "The norm is generally used to evaluate the error of the model.\n",
        "\n",
        "\n",
        "\n",
        "*   L1 norm - the sum of the absolute values of the vector (the Manhattan/Taxicab Distance, the Mean Absolute Error (MAE), the Least Absolute Shrinkage and Selection Operator (LASSO))\n",
        "*   L2 norm - the square root of the sum of the squared vector values (the Euclidean Distance, the Mean Squared Error (MSE) / Least Squares Error, or the Ridge Operator)\n",
        "*   Max norm - the maximum vector values\n",
        "\n",
        "\n",
        "Properties:\n",
        "\n",
        "*   $ ||x|| \\geq 0 $\n",
        "\n",
        "*   $ ||x||  = 0 \\iff x = 0 $\n",
        "\n",
        "*   $ ||x + y|| \\leq ||x|| + ||y|| $\n",
        "\n",
        "*   $ ||λx|| = |λ|||x|| $\n",
        "\n",
        "\n",
        "\n",
        "\n",
        "\n"
      ]
    },
    {
      "cell_type": "code",
      "execution_count": 111,
      "metadata": {
        "id": "WT4PTFLwpVEk"
      },
      "outputs": [],
      "source": [
        "from numpy.linalg import norm"
      ]
    },
    {
      "cell_type": "code",
      "execution_count": 112,
      "metadata": {
        "id": "n9vueShHrbjk"
      },
      "outputs": [],
      "source": [
        "norm_description = 'Vector \\n {0} \\n norm ({1}) value: {2}'"
      ]
    },
    {
      "cell_type": "code",
      "execution_count": 113,
      "metadata": {
        "id": "JNylQYdKrr_D"
      },
      "outputs": [],
      "source": [
        "x = np.array([1, 2, 3])"
      ]
    },
    {
      "cell_type": "code",
      "execution_count": 114,
      "metadata": {
        "colab": {
          "base_uri": "https://localhost:8080/"
        },
        "id": "EZd0lRIEr6fr",
        "outputId": "2d747936-7fca-44dc-eb28-34f5ee47aef0"
      },
      "outputs": [
        {
          "name": "stdout",
          "output_type": "stream",
          "text": [
            "Vector \n",
            " [1 2 3] \n",
            " norm (L1) value: 6.0\n"
          ]
        }
      ],
      "source": [
        "print(norm_description.format(x, 'L1', norm(x, 1)))"
      ]
    },
    {
      "cell_type": "code",
      "execution_count": 115,
      "metadata": {
        "colab": {
          "base_uri": "https://localhost:8080/"
        },
        "id": "J90IHI9nt1oX",
        "outputId": "29a6aaf0-bdb0-4c74-dd28-a30a62c583d8"
      },
      "outputs": [
        {
          "name": "stdout",
          "output_type": "stream",
          "text": [
            "Vector \n",
            " [1 2 3] \n",
            " norm (L1) value: 6\n"
          ]
        }
      ],
      "source": [
        "norm_1_value = 0\n",
        "\n",
        "for value in x:\n",
        "  norm_1_value += abs(value)\n",
        "\n",
        "print(norm_description.format(x, 'L1', norm_1_value))"
      ]
    },
    {
      "cell_type": "code",
      "execution_count": 116,
      "metadata": {
        "colab": {
          "base_uri": "https://localhost:8080/"
        },
        "id": "11MHNOTgsDTW",
        "outputId": "0b65ed85-55e9-40b1-d47e-9990e274ffa8"
      },
      "outputs": [
        {
          "name": "stdout",
          "output_type": "stream",
          "text": [
            "Vector \n",
            " [1 2 3] \n",
            " norm (L2) value: 3.7416573867739413\n"
          ]
        }
      ],
      "source": [
        "print(norm_description.format(x, 'L2', norm(x)))"
      ]
    },
    {
      "cell_type": "code",
      "execution_count": 117,
      "metadata": {
        "colab": {
          "base_uri": "https://localhost:8080/"
        },
        "id": "F7toWKGEvASP",
        "outputId": "01b521a1-9e7a-4c56-b624-a97fd52283cc"
      },
      "outputs": [
        {
          "name": "stdout",
          "output_type": "stream",
          "text": [
            "Vector \n",
            " [1 2 3] \n",
            " norm (L2) value: 3.7416573867739413\n"
          ]
        }
      ],
      "source": [
        "norm_2_value = 0\n",
        "\n",
        "for value in x:\n",
        "  norm_2_value  += value**2\n",
        "\n",
        "norm_2_value = np.sqrt(norm_2_value)\n",
        "\n",
        "print(norm_description.format(x, 'L2', norm_2_value))"
      ]
    },
    {
      "cell_type": "code",
      "execution_count": 118,
      "metadata": {
        "colab": {
          "base_uri": "https://localhost:8080/"
        },
        "id": "uoKKB9VAsNXX",
        "outputId": "edc4c445-4220-4f08-a460-1863acfaf66f"
      },
      "outputs": [
        {
          "name": "stdout",
          "output_type": "stream",
          "text": [
            "Vector \n",
            " [1 2 3] \n",
            " norm (inf) value: 3.0\n"
          ]
        }
      ],
      "source": [
        "print(norm_description.format(x, 'inf', norm(x, np.inf)))"
      ]
    },
    {
      "cell_type": "code",
      "execution_count": 119,
      "metadata": {
        "colab": {
          "base_uri": "https://localhost:8080/"
        },
        "id": "4RTjFuJMwAny",
        "outputId": "8ed6b7bd-4e84-4ef0-b6ca-94dc062ede8b"
      },
      "outputs": [
        {
          "name": "stdout",
          "output_type": "stream",
          "text": [
            "Vector \n",
            " [1 2 3] \n",
            " norm (inf) value: 3\n"
          ]
        }
      ],
      "source": [
        "norm_inf_value = 0\n",
        "\n",
        "for value in x:\n",
        "  if abs(value) > norm_inf_value:\n",
        "    norm_inf_value = value\n",
        "\n",
        "print(norm_description.format(x, 'inf', norm_inf_value))"
      ]
    },
    {
      "cell_type": "markdown",
      "metadata": {
        "id": "CdJsovyhw9I2"
      },
      "source": [
        "****\n",
        "## Dot product\n",
        "\n",
        "> $ <x, y> $\n",
        "\n",
        "Pairs of $ (V<x, y>) $ is an Eucleadian space.\n",
        "\n",
        "The dot product of two functions (u, v):\n",
        "\n",
        "$ <u, v> = \\int_{a}^{b} u(x)v(x) \\,dx \\ $\n",
        "\n",
        "The dot product in $ R^{n} $:\n",
        "\n",
        "$x^{T}y = \\sum_{i=1}^{n} x_i y_i $"
      ]
    },
    {
      "cell_type": "code",
      "execution_count": 120,
      "metadata": {
        "id": "jzkkf_WYw7wl"
      },
      "outputs": [],
      "source": [
        "v1 = np.array([-2, 1])\n",
        "v2 = np.array([0, 3])"
      ]
    },
    {
      "cell_type": "code",
      "execution_count": 121,
      "metadata": {
        "colab": {
          "base_uri": "https://localhost:8080/"
        },
        "id": "ceoyPJ5Z1zHN",
        "outputId": "6773a75a-e974-4930-b910-7eb0d5952587"
      },
      "outputs": [
        {
          "data": {
            "text/plain": [
              "3"
            ]
          },
          "execution_count": 121,
          "metadata": {},
          "output_type": "execute_result"
        }
      ],
      "source": [
        "np.dot(v1, v2)"
      ]
    },
    {
      "cell_type": "markdown",
      "metadata": {
        "id": "QPRsC6uO4_JD"
      },
      "source": [
        "The Euclidean length of the vector\n",
        "\n",
        "$ ||x|| = \t\\sqrt{<x, x>}$\n",
        "\n",
        "$ <x, y> = x^{T}y $\n",
        "\n",
        "If the vectors x are orthogonal (i.e., their angle is π / 2 or 90°).\n",
        "$ <x, y> = 0 $"
      ]
    },
    {
      "cell_type": "markdown",
      "metadata": {
        "id": "yy627kpE6H_h"
      },
      "source": [
        "****\n",
        "## Orthogonal matrix\n",
        "\n",
        "> real square matrix whose columns and rows are orthonormal vectors\n",
        "\n",
        "$ AA^{T} = I = A^{T}A $\n",
        "\n",
        "$ A^{-1} = A^{T} $"
      ]
    },
    {
      "cell_type": "code",
      "execution_count": 122,
      "metadata": {
        "id": "_eW3eWB36QSh"
      },
      "outputs": [],
      "source": [
        "A = np.array([[-1, 0], [0, 1]])\n",
        "A_t = np.transpose(A)\n",
        "A_inv = np.linalg.inv(A)"
      ]
    },
    {
      "cell_type": "code",
      "execution_count": 123,
      "metadata": {
        "colab": {
          "base_uri": "https://localhost:8080/"
        },
        "id": "UA31mIIA7EjR",
        "outputId": "e8a8067e-22f0-4c05-d964-60618ee2976b"
      },
      "outputs": [
        {
          "data": {
            "text/plain": [
              "array([[-1,  0],\n",
              "       [ 0,  1]])"
            ]
          },
          "execution_count": 123,
          "metadata": {},
          "output_type": "execute_result"
        }
      ],
      "source": [
        "A"
      ]
    },
    {
      "cell_type": "code",
      "execution_count": 124,
      "metadata": {
        "colab": {
          "base_uri": "https://localhost:8080/"
        },
        "id": "PM2kZ9DV7E4O",
        "outputId": "8c663def-72e2-4443-f10a-0dea6bb571c4"
      },
      "outputs": [
        {
          "data": {
            "text/plain": [
              "array([[-1,  0],\n",
              "       [ 0,  1]])"
            ]
          },
          "execution_count": 124,
          "metadata": {},
          "output_type": "execute_result"
        }
      ],
      "source": [
        "A_t"
      ]
    },
    {
      "cell_type": "code",
      "execution_count": 125,
      "metadata": {
        "colab": {
          "base_uri": "https://localhost:8080/"
        },
        "id": "GAoDPraD71GV",
        "outputId": "97dfba59-fc3c-47f9-d1c6-3d6def0f340b"
      },
      "outputs": [
        {
          "data": {
            "text/plain": [
              "array([[-1., -0.],\n",
              "       [ 0.,  1.]])"
            ]
          },
          "execution_count": 125,
          "metadata": {},
          "output_type": "execute_result"
        }
      ],
      "source": [
        "A_inv"
      ]
    },
    {
      "cell_type": "code",
      "execution_count": 126,
      "metadata": {
        "colab": {
          "base_uri": "https://localhost:8080/"
        },
        "id": "hqasmUSu7GCb",
        "outputId": "4e4309fb-cab7-4602-c5b3-83a36a7cc3fc"
      },
      "outputs": [
        {
          "data": {
            "text/plain": [
              "array([[1, 0],\n",
              "       [0, 1]])"
            ]
          },
          "execution_count": 126,
          "metadata": {},
          "output_type": "execute_result"
        }
      ],
      "source": [
        "res = np.dot(A, A_t)\n",
        "res"
      ]
    },
    {
      "cell_type": "code",
      "execution_count": 127,
      "metadata": {
        "colab": {
          "base_uri": "https://localhost:8080/"
        },
        "id": "9obNhnID7MDO",
        "outputId": "cc591d3b-38f3-473e-ea5e-4150d6006843"
      },
      "outputs": [
        {
          "data": {
            "text/plain": [
              "array([[1., 0.],\n",
              "       [0., 1.]])"
            ]
          },
          "execution_count": 127,
          "metadata": {},
          "output_type": "execute_result"
        }
      ],
      "source": [
        "I = np.eye(2)\n",
        "I"
      ]
    },
    {
      "cell_type": "code",
      "execution_count": 128,
      "metadata": {
        "colab": {
          "base_uri": "https://localhost:8080/"
        },
        "id": "DC0vRBmS7U2e",
        "outputId": "417910b7-3dd7-4f4c-8b9b-b798f1879de4"
      },
      "outputs": [
        {
          "data": {
            "text/plain": [
              "True"
            ]
          },
          "execution_count": 128,
          "metadata": {},
          "output_type": "execute_result"
        }
      ],
      "source": [
        "np.all(np.equal(res, I))"
      ]
    },
    {
      "cell_type": "code",
      "execution_count": 129,
      "metadata": {
        "colab": {
          "base_uri": "https://localhost:8080/"
        },
        "id": "YshdttUY7bA3",
        "outputId": "933d84ab-c1c3-4139-b948-ca020f8cb10c"
      },
      "outputs": [
        {
          "data": {
            "text/plain": [
              "True"
            ]
          },
          "execution_count": 129,
          "metadata": {},
          "output_type": "execute_result"
        }
      ],
      "source": [
        "np.all(np.equal(A_inv, A_t))"
      ]
    },
    {
      "cell_type": "markdown",
      "metadata": {},
      "source": [
        "***\n",
        "\n",
        "## Determinant\n",
        "\n",
        "If \n",
        "\n",
        "$ det(A) \\neq 0 $ \n",
        "\n",
        "then inverse matrix\n",
        "\n",
        "$  A^{-1} $\n",
        "\n",
        "exists.\n",
        "\n",
        "A square matrix has the\n",
        "\n",
        "$ det(A) \\neq 0 $\n",
        "\n",
        "if and only if\n",
        "\n",
        "$ rk(A) = n $"
      ]
    },
    {
      "cell_type": "code",
      "execution_count": 130,
      "metadata": {},
      "outputs": [
        {
          "data": {
            "text/plain": [
              "array([[1, 2],\n",
              "       [3, 4]])"
            ]
          },
          "execution_count": 130,
          "metadata": {},
          "output_type": "execute_result"
        }
      ],
      "source": [
        "A = np.array([[1, 2], [3, 4]])\n",
        "A"
      ]
    },
    {
      "cell_type": "code",
      "execution_count": 131,
      "metadata": {},
      "outputs": [
        {
          "data": {
            "text/plain": [
              "-2.0000000000000004"
            ]
          },
          "execution_count": 131,
          "metadata": {},
          "output_type": "execute_result"
        }
      ],
      "source": [
        "det = np.linalg.det(A)\n",
        "det"
      ]
    },
    {
      "cell_type": "code",
      "execution_count": 132,
      "metadata": {},
      "outputs": [
        {
          "data": {
            "text/plain": [
              "-2"
            ]
          },
          "execution_count": 132,
          "metadata": {},
          "output_type": "execute_result"
        }
      ],
      "source": [
        "det = A[0][0] * A[1][1] - A[0][1] * A[1][0]\n",
        "det"
      ]
    },
    {
      "cell_type": "code",
      "execution_count": 133,
      "metadata": {},
      "outputs": [
        {
          "data": {
            "text/plain": [
              "2"
            ]
          },
          "execution_count": 133,
          "metadata": {},
          "output_type": "execute_result"
        }
      ],
      "source": [
        "np.linalg.matrix_rank(A)"
      ]
    },
    {
      "cell_type": "code",
      "execution_count": 134,
      "metadata": {},
      "outputs": [],
      "source": [
        "A_t_l = np.array([\n",
        "    [3, 0, 0],\n",
        "    [1, 1, 0],\n",
        "    [4, 3, 2],\n",
        "])"
      ]
    },
    {
      "cell_type": "code",
      "execution_count": 135,
      "metadata": {},
      "outputs": [
        {
          "data": {
            "text/plain": [
              "5.999999999999998"
            ]
          },
          "execution_count": 135,
          "metadata": {},
          "output_type": "execute_result"
        }
      ],
      "source": [
        "np.linalg.det(A_t_l)"
      ]
    },
    {
      "cell_type": "code",
      "execution_count": 136,
      "metadata": {},
      "outputs": [],
      "source": [
        "A_t_h = np.array([\n",
        "    [3, 5, 6],\n",
        "    [0, 10, 7],\n",
        "    [0, 0, 2],\n",
        "])"
      ]
    },
    {
      "cell_type": "code",
      "execution_count": 137,
      "metadata": {},
      "outputs": [
        {
          "data": {
            "text/plain": [
              "60.000000000000036"
            ]
          },
          "execution_count": 137,
          "metadata": {},
          "output_type": "execute_result"
        }
      ],
      "source": [
        "np.linalg.det(A_t_h)"
      ]
    },
    {
      "cell_type": "markdown",
      "metadata": {},
      "source": [
        "***\n",
        "## Eigenvectors and eigenvalues\n",
        "#### Wektory i wartości własne\n",
        "\n",
        "$ Ax = \\lambda x $\n",
        "\n",
        "$ A - square matrix $\n",
        "\n",
        "$ x - eigenvector $\n",
        "\n",
        "$ \\lambda - eigenvalue $\n",
        "\n",
        "The set of all eigenvalues $ \\lambda $ of $ A $ - spectrum $ A $.\n",
        "\n",
        "The matrix $ A $ and $ A^{T} $ have the same eigenvalues $ \\lambda $ but not necessarily the same eigenvectors $ x $.\n",
        "\n",
        "The determinant of matrix $ A $ with eigenvalues $ \\lambda_i $ is equal to:\n",
        "\n",
        "$ det(A) = \\prod_{i=1}^n \\lambda_i $"
      ]
    },
    {
      "cell_type": "code",
      "execution_count": 138,
      "metadata": {},
      "outputs": [],
      "source": [
        "B = np.array([\n",
        "    [1, 2],\n",
        "    [3, 4]\n",
        "])"
      ]
    },
    {
      "cell_type": "code",
      "execution_count": 139,
      "metadata": {},
      "outputs": [],
      "source": [
        "w, v = np.linalg.eig(B)"
      ]
    },
    {
      "cell_type": "code",
      "execution_count": 140,
      "metadata": {},
      "outputs": [
        {
          "data": {
            "text/plain": [
              "array([-0.37228132,  5.37228132])"
            ]
          },
          "execution_count": 140,
          "metadata": {},
          "output_type": "execute_result"
        }
      ],
      "source": [
        "w"
      ]
    },
    {
      "cell_type": "code",
      "execution_count": 141,
      "metadata": {},
      "outputs": [
        {
          "data": {
            "text/plain": [
              "array([[-0.82456484, -0.41597356],\n",
              "       [ 0.56576746, -0.90937671]])"
            ]
          },
          "execution_count": 141,
          "metadata": {},
          "output_type": "execute_result"
        }
      ],
      "source": [
        "v"
      ]
    },
    {
      "cell_type": "markdown",
      "metadata": {},
      "source": [
        "***\n",
        "## Trace\n",
        "\n",
        "$ tr(A) = \\sum_{i=1}^n a_ii $\n",
        "\n",
        "$ tr(A) = \\sum_{i=1}^n \\lambda_i $"
      ]
    },
    {
      "cell_type": "code",
      "execution_count": 142,
      "metadata": {},
      "outputs": [],
      "source": [
        "C = np.array([\n",
        "    [-1, 2],\n",
        "    [3, 0]\n",
        "])"
      ]
    },
    {
      "cell_type": "code",
      "execution_count": 143,
      "metadata": {},
      "outputs": [
        {
          "data": {
            "text/plain": [
              "-1"
            ]
          },
          "execution_count": 143,
          "metadata": {},
          "output_type": "execute_result"
        }
      ],
      "source": [
        "np.trace(C)"
      ]
    },
    {
      "cell_type": "markdown",
      "metadata": {},
      "source": [
        "***\n",
        "## Cholesky decomposition\n",
        "\n",
        "Symmetric and positive-definite matrix $ A $ can be presented as $ A = LL^{T} $\n",
        "\n",
        "$ L $ - lower - triangular  matrix with positive values on the diagonal \n",
        "\n",
        "Often used as a fast way of solving:\n",
        "\n",
        "$ Ax = b $\n",
        "\n",
        "$ Ly = b $\n",
        "\n",
        "$ L.Hx = y $"
      ]
    },
    {
      "cell_type": "code",
      "execution_count": 144,
      "metadata": {},
      "outputs": [],
      "source": [
        "D = np.array([\n",
        "    [1, 2, -1],\n",
        "    [1, 3, 4],\n",
        "    [2, 0, 3]\n",
        "])"
      ]
    },
    {
      "cell_type": "code",
      "execution_count": 145,
      "metadata": {},
      "outputs": [
        {
          "data": {
            "text/plain": [
              "array([[ 6,  5,  9],\n",
              "       [ 5, 13, 10],\n",
              "       [ 9, 10, 26]])"
            ]
          },
          "execution_count": 145,
          "metadata": {},
          "output_type": "execute_result"
        }
      ],
      "source": [
        "Ds = np.dot(D.T, D)\n",
        "Ds"
      ]
    },
    {
      "cell_type": "code",
      "execution_count": 146,
      "metadata": {},
      "outputs": [
        {
          "data": {
            "text/plain": [
              "array([[2.44948974, 0.        , 0.        ],\n",
              "       [2.04124145, 2.97209242, 0.        ],\n",
              "       [3.67423461, 0.84115823, 3.4340141 ]])"
            ]
          },
          "execution_count": 146,
          "metadata": {},
          "output_type": "execute_result"
        }
      ],
      "source": [
        "L = np.linalg.cholesky(Ds)\n",
        "L"
      ]
    },
    {
      "cell_type": "code",
      "execution_count": 147,
      "metadata": {},
      "outputs": [
        {
          "data": {
            "text/plain": [
              "array([[ 6.,  5.,  9.],\n",
              "       [ 5., 13., 10.],\n",
              "       [ 9., 10., 26.]])"
            ]
          },
          "execution_count": 147,
          "metadata": {},
          "output_type": "execute_result"
        }
      ],
      "source": [
        "np.dot(L, L.T.conj())"
      ]
    },
    {
      "cell_type": "markdown",
      "metadata": {},
      "source": [
        "***\n",
        "## QR decomposition\n",
        "\n",
        "$ A = QR $\n",
        "\n",
        "$ Q $ - orthogonal, orthonormal matrix \n",
        "\n",
        "$ R $ - upper-triangular matrix\n",
        "\n",
        "The matrix $ Q $ is orthogonal if $ Q^{T}Q = I $\n"
      ]
    },
    {
      "cell_type": "code",
      "execution_count": 148,
      "metadata": {},
      "outputs": [],
      "source": [
        "M = np.array([\n",
        "    [1, 2, -1],\n",
        "    [1, 3, 4],\n",
        "    [2, 0, 3]\n",
        "])"
      ]
    },
    {
      "cell_type": "code",
      "execution_count": 149,
      "metadata": {},
      "outputs": [],
      "source": [
        "q, r = np.linalg.qr(M)"
      ]
    },
    {
      "cell_type": "code",
      "execution_count": 150,
      "metadata": {},
      "outputs": [
        {
          "data": {
            "text/plain": [
              "array([[-0.40824829, -0.39254051, -0.82416338],\n",
              "       [-0.40824829, -0.7290038 ,  0.54944226],\n",
              "       [-0.81649658,  0.56077215,  0.13736056]])"
            ]
          },
          "execution_count": 150,
          "metadata": {},
          "output_type": "execute_result"
        }
      ],
      "source": [
        "q"
      ]
    },
    {
      "cell_type": "code",
      "execution_count": 151,
      "metadata": {},
      "outputs": [
        {
          "data": {
            "text/plain": [
              "array([[-2.44948974, -2.04124145, -3.67423461],\n",
              "       [ 0.        , -2.97209242, -0.84115823],\n",
              "       [ 0.        ,  0.        ,  3.4340141 ]])"
            ]
          },
          "execution_count": 151,
          "metadata": {},
          "output_type": "execute_result"
        }
      ],
      "source": [
        "r"
      ]
    },
    {
      "cell_type": "code",
      "execution_count": 152,
      "metadata": {},
      "outputs": [],
      "source": [
        "N = np.array([\n",
        "    [1, 2],\n",
        "    [1, 3],\n",
        "    [2, 0]\n",
        "])"
      ]
    },
    {
      "cell_type": "code",
      "execution_count": 153,
      "metadata": {},
      "outputs": [],
      "source": [
        "qN, rN = np.linalg.qr(N)"
      ]
    },
    {
      "cell_type": "code",
      "execution_count": 154,
      "metadata": {},
      "outputs": [
        {
          "data": {
            "text/plain": [
              "array([[-0.40824829, -0.39254051],\n",
              "       [-0.40824829, -0.7290038 ],\n",
              "       [-0.81649658,  0.56077215]])"
            ]
          },
          "execution_count": 154,
          "metadata": {},
          "output_type": "execute_result"
        }
      ],
      "source": [
        "qN"
      ]
    },
    {
      "cell_type": "code",
      "execution_count": 155,
      "metadata": {},
      "outputs": [
        {
          "data": {
            "text/plain": [
              "array([[-2.44948974, -2.04124145],\n",
              "       [ 0.        , -2.97209242]])"
            ]
          },
          "execution_count": 155,
          "metadata": {},
          "output_type": "execute_result"
        }
      ],
      "source": [
        "rN"
      ]
    },
    {
      "cell_type": "markdown",
      "metadata": {},
      "source": [
        "***\n",
        "### SVD - Singular Value Decomposition\n",
        "\n",
        "$ \\sigma = \\sqrt{\\lambda_i}, i=1, 2, .., r $\n",
        "\n",
        "$ r $ - matrix rank with dimension (m, n)\n",
        "\n",
        "$ r \\leq min(m,n) $\n",
        "\n",
        "$ \\sigma $ - singular values\n",
        "\n",
        "Eigenvectors $ v_i $ of a $ A^{T}A $ matrix - right singular vectors\n",
        "\n",
        "Eigenvectors $ u_i $ of a $ AA^{T} $ matrix - left singular vector \n",
        "\n"
      ]
    },
    {
      "cell_type": "code",
      "execution_count": 156,
      "metadata": {},
      "outputs": [],
      "source": [
        "X = np.array([\n",
        "    [1, 2, -1],\n",
        "    [1, 3, 4],\n",
        "    [2, 0, 3]\n",
        "])"
      ]
    },
    {
      "cell_type": "markdown",
      "metadata": {},
      "source": [
        "$ u, vh $ - unitary array(s)"
      ]
    },
    {
      "cell_type": "code",
      "execution_count": 157,
      "metadata": {},
      "outputs": [],
      "source": [
        "u, s, vh = np.linalg.svd(X)"
      ]
    },
    {
      "cell_type": "code",
      "execution_count": 158,
      "metadata": {},
      "outputs": [
        {
          "data": {
            "text/plain": [
              "array([[ 0.06877539, -0.81780229,  0.57137497],\n",
              "       [ 0.84386796, -0.25779912, -0.47055975],\n",
              "       [ 0.53212481,  0.51452796,  0.67238692]])"
            ]
          },
          "execution_count": 158,
          "metadata": {},
          "output_type": "execute_result"
        }
      ],
      "source": [
        "u"
      ]
    },
    {
      "cell_type": "markdown",
      "metadata": {},
      "source": [
        "$ s $ - vector(s) with the singular values"
      ]
    },
    {
      "cell_type": "code",
      "execution_count": 159,
      "metadata": {},
      "outputs": [
        {
          "data": {
            "text/plain": [
              "array([5.92221212, 2.75224663, 1.53379989])"
            ]
          },
          "execution_count": 159,
          "metadata": {},
          "output_type": "execute_result"
        }
      ],
      "source": [
        "s"
      ]
    },
    {
      "cell_type": "code",
      "execution_count": 160,
      "metadata": {},
      "outputs": [
        {
          "data": {
            "text/plain": [
              "array([[ 0.33380989,  0.45070231,  0.82791207],\n",
              "       [-0.01691182, -0.87528564,  0.48331049],\n",
              "       [ 0.9424887 , -0.17533532, -0.28455681]])"
            ]
          },
          "execution_count": 160,
          "metadata": {},
          "output_type": "execute_result"
        }
      ],
      "source": [
        "vh"
      ]
    },
    {
      "cell_type": "code",
      "execution_count": 161,
      "metadata": {},
      "outputs": [
        {
          "data": {
            "text/plain": [
              "array([[ 1.00000000e+00,  2.00000000e+00, -1.00000000e+00],\n",
              "       [ 1.00000000e+00,  3.00000000e+00,  4.00000000e+00],\n",
              "       [ 2.00000000e+00,  1.85912396e-15,  3.00000000e+00]])"
            ]
          },
          "execution_count": 161,
          "metadata": {},
          "output_type": "execute_result"
        }
      ],
      "source": [
        "# Verify the result\n",
        "np.dot(u * s, vh)"
      ]
    },
    {
      "cell_type": "markdown",
      "metadata": {},
      "source": [
        "***\n",
        "### Decomposition methods usage\n",
        "\n",
        "*   solving linear equations $ Ax = b $\n"
      ]
    },
    {
      "cell_type": "code",
      "execution_count": 162,
      "metadata": {},
      "outputs": [],
      "source": [
        "A = np.array([\n",
        "    [1, 2],\n",
        "    [1, 3],\n",
        "    [2, 0]\n",
        "])"
      ]
    },
    {
      "cell_type": "code",
      "execution_count": 163,
      "metadata": {},
      "outputs": [],
      "source": [
        "b = np.array([1, 0, 2])"
      ]
    },
    {
      "cell_type": "code",
      "execution_count": 164,
      "metadata": {},
      "outputs": [],
      "source": [
        "q, r = np.linalg.qr(A)"
      ]
    },
    {
      "cell_type": "code",
      "execution_count": 165,
      "metadata": {},
      "outputs": [],
      "source": [
        "pom = np.dot(q.T, b)"
      ]
    },
    {
      "cell_type": "code",
      "execution_count": 166,
      "metadata": {},
      "outputs": [
        {
          "data": {
            "text/plain": [
              "array([ 1.03773585, -0.24528302])"
            ]
          },
          "execution_count": 166,
          "metadata": {},
          "output_type": "execute_result"
        }
      ],
      "source": [
        "x = np.dot(np.linalg.inv(r), pom)\n",
        "x"
      ]
    },
    {
      "cell_type": "code",
      "execution_count": 167,
      "metadata": {},
      "outputs": [],
      "source": [
        "result, res, rank, s = np.linalg.lstsq(A, b, rcond=None)"
      ]
    },
    {
      "cell_type": "code",
      "execution_count": 168,
      "metadata": {},
      "outputs": [
        {
          "data": {
            "text/plain": [
              "array([ 1.03773585, -0.24528302])"
            ]
          },
          "execution_count": 168,
          "metadata": {},
          "output_type": "execute_result"
        }
      ],
      "source": [
        "result"
      ]
    },
    {
      "cell_type": "code",
      "execution_count": 169,
      "metadata": {},
      "outputs": [
        {
          "data": {
            "text/plain": [
              "array([0.30188679])"
            ]
          },
          "execution_count": 169,
          "metadata": {},
          "output_type": "execute_result"
        }
      ],
      "source": [
        "res"
      ]
    },
    {
      "cell_type": "code",
      "execution_count": 170,
      "metadata": {},
      "outputs": [
        {
          "data": {
            "text/plain": [
              "2"
            ]
          },
          "execution_count": 170,
          "metadata": {},
          "output_type": "execute_result"
        }
      ],
      "source": [
        "rank"
      ]
    },
    {
      "cell_type": "code",
      "execution_count": 171,
      "metadata": {},
      "outputs": [
        {
          "data": {
            "text/plain": [
              "array([3.95009846, 1.84301986])"
            ]
          },
          "execution_count": 171,
          "metadata": {},
          "output_type": "execute_result"
        }
      ],
      "source": [
        "s"
      ]
    },
    {
      "cell_type": "markdown",
      "metadata": {},
      "source": [
        "***\n",
        "## Probability\n",
        "\n",
        "The discrete case:\n",
        "\n",
        "$ P(X = x_{i}, Y = y_{j}) = \\dfrac{n_{ij}}{N} $\n",
        "\n",
        "The continous case:\n",
        "\n",
        "#### $ pdf $ - probability density function\n",
        "\n",
        "*   $ f(x) \\geq 0 $\n",
        "*   $ \\int f(x)dx = 1 $\n",
        "\n",
        "\n",
        "$ P(a \\leq X \\leq b) = \\int_{a}^{b} f(x)dx $\n",
        "\n",
        "#### $ cdf $ - cumulative distribution function\n",
        "\n",
        "$ F(x) = P(X_1 \\leq x_1, ..., X_D \\leq x_D) $\n",
        "\n",
        "$ F(X) = \\int_{-\\infty}^{x_{1}} ... \\int_{-\\infty}^{x_{D}} f(y_{1}, ..., y_{D}) dy_{1}, ... dy_{D} $\n",
        "\n",
        "#### Marginal probability distribution\n",
        "\n",
        "$ p(x) = \\sum_{y} p(x, y) $\n",
        "\n",
        "$ p(x) = \\int_{y} p(x, y)dy $\n",
        "\n",
        "#### Conditional probability distribution\n",
        "\n",
        "$ p(x, y) = p(y|x)p(x) $\n",
        "\n",
        "#### Bayes' Theorem\n",
        "\n",
        "$ p(x|y) = \\frac{p(y|x)p(x)}{p(y)} $\n",
        "\n",
        "$ p(x_{i}|y) = \\frac{p(y|x_{i})p(x_{i})}{\\sum_{j=1}^np(y|x_{j}p(x_{j})} $"
      ]
    },
    {
      "cell_type": "code",
      "execution_count": 177,
      "metadata": {},
      "outputs": [],
      "source": [
        "mu, sigma = 1, 2\n",
        "s = np.random.normal(mu, sigma, 1000)"
      ]
    },
    {
      "cell_type": "code",
      "execution_count": 179,
      "metadata": {},
      "outputs": [
        {
          "data": {
            "image/png": "[encoded data removed]",
            "text/plain": [
              "<Figure size 432x288 with 1 Axes>"
            ]
          },
          "metadata": {
            "needs_background": "light"
          },
          "output_type": "display_data"
        }
      ],
      "source": [
        "import matplotlib.pyplot as plt\n",
        "\n",
        "count, bins, ignored = plt.hist(s, 30, density=True)\n",
        "\n",
        "plt.plot(bins, 1/(sigma * np.sqrt(2 *np.pi)) * np.exp(-(bins - mu)**2 / (2*sigma**2)))\n",
        "\n",
        "plt.show()\n"
      ]
    },
    {
      "cell_type": "code",
      "execution_count": 182,
      "metadata": {},
      "outputs": [],
      "source": [
        "s2 = np.random.normal(mu, sigma, 1000)"
      ]
    },
    {
      "cell_type": "code",
      "execution_count": 183,
      "metadata": {},
      "outputs": [
        {
          "data": {
            "text/plain": [
              "1.0605190715237567"
            ]
          },
          "execution_count": 183,
          "metadata": {},
          "output_type": "execute_result"
        }
      ],
      "source": [
        "np.mean(s)"
      ]
    },
    {
      "cell_type": "code",
      "execution_count": 184,
      "metadata": {},
      "outputs": [
        {
          "data": {
            "text/plain": [
              "1.0900419051278574"
            ]
          },
          "execution_count": 184,
          "metadata": {},
          "output_type": "execute_result"
        }
      ],
      "source": [
        "np.mean(s2)"
      ]
    },
    {
      "cell_type": "code",
      "execution_count": 185,
      "metadata": {},
      "outputs": [
        {
          "data": {
            "text/plain": [
              "1.9596207631762028"
            ]
          },
          "execution_count": 185,
          "metadata": {},
          "output_type": "execute_result"
        }
      ],
      "source": [
        "np.std(s, ddof=1)"
      ]
    },
    {
      "cell_type": "code",
      "execution_count": 186,
      "metadata": {},
      "outputs": [
        {
          "data": {
            "text/plain": [
              "2.0225965904851044"
            ]
          },
          "execution_count": 186,
          "metadata": {},
          "output_type": "execute_result"
        }
      ],
      "source": [
        "np.std(s2, ddof=1)"
      ]
    },
    {
      "cell_type": "code",
      "execution_count": 187,
      "metadata": {},
      "outputs": [
        {
          "data": {
            "text/plain": [
              "1.148188671410527"
            ]
          },
          "execution_count": 187,
          "metadata": {},
          "output_type": "execute_result"
        }
      ],
      "source": [
        "np.median(s)"
      ]
    },
    {
      "cell_type": "code",
      "execution_count": 189,
      "metadata": {},
      "outputs": [
        {
          "data": {
            "text/plain": [
              "array([[0.31376072, 1.74731433, 0.63390377, 1.303991  , 1.02859267],\n",
              "       [3.10815661, 2.79936009, 0.57507287, 0.91364764, 0.18652004],\n",
              "       [1.4531988 , 0.64622787, 4.26595976, 1.98343165, 1.49291185]])"
            ]
          },
          "execution_count": 189,
          "metadata": {},
          "output_type": "execute_result"
        }
      ],
      "source": [
        "np.random.normal(1, 2, size=(3,5))"
      ]
    },
    {
      "cell_type": "code",
      "execution_count": 190,
      "metadata": {},
      "outputs": [
        {
          "data": {
            "text/plain": [
              "array([[1.        , 0.01064792],\n",
              "       [0.01064792, 1.        ]])"
            ]
          },
          "execution_count": 190,
          "metadata": {},
          "output_type": "execute_result"
        }
      ],
      "source": [
        "np.corrcoef(s, s2)"
      ]
    },
    {
      "cell_type": "code",
      "execution_count": 191,
      "metadata": {},
      "outputs": [
        {
          "data": {
            "text/plain": [
              "3.8362734219358123"
            ]
          },
          "execution_count": 191,
          "metadata": {},
          "output_type": "execute_result"
        }
      ],
      "source": [
        "np.var(s)"
      ]
    },
    {
      "cell_type": "code",
      "execution_count": 192,
      "metadata": {},
      "outputs": [
        {
          "data": {
            "text/plain": [
              "array([[3.84011354, 0.04220328],\n",
              "       [0.04220328, 4.09089697]])"
            ]
          },
          "execution_count": 192,
          "metadata": {},
          "output_type": "execute_result"
        }
      ],
      "source": [
        "np.cov(s, s2)"
      ]
    },
    {
      "cell_type": "markdown",
      "metadata": {},
      "source": [
        "***\n",
        "## The Jacobian\n",
        "\n",
        "The Jacobian matrix aggregates the first-order partial derivatives of a multivariate function that can be used for backpropagation.\n",
        "The Jacobian determinant can be used during the process of changing between variables, it is a scaling factor between one coordinate space and another\n",
        "\n"
      ]
    },
    {
      "cell_type": "markdown",
      "metadata": {},
      "source": [
        "## The Hessian\n",
        "\n",
        "The Hessian matrix is a matrix of second order partial derivatives.\n",
        "The Hessian and the corresponding discriminant are used to determine the local extreme points of a function. It helps determine the saddle points and the local extremum of a function."
      ]
    },
    {
      "cell_type": "markdown",
      "metadata": {},
      "source": [
        "***\n",
        "## Optimization\n"
      ]
    },
    {
      "cell_type": "code",
      "execution_count": 195,
      "metadata": {},
      "outputs": [],
      "source": [
        "def f(x):\n",
        "    return x**2\n",
        "\n",
        "def gradient(x):\n",
        "    return 2*x\n",
        "\n",
        "def gradient_method(x, gradient, gamma, max_iter=10):\n",
        "    xs = np.zeros(1 + max_iter)\n",
        "    xs[0] = x\n",
        "\n",
        "    for i in range(max_iter):\n",
        "        x = x - gamma * gradient(x)\n",
        "        xs[i+1] = x\n",
        "\n",
        "    return xs"
      ]
    },
    {
      "cell_type": "code",
      "execution_count": 205,
      "metadata": {},
      "outputs": [],
      "source": [
        "x0 = 5\n",
        "gamma = 0.1\n",
        "xs = gradient_method(x0, gradient, gamma)\n",
        "xp = np.linspace(-5, 5, 100)"
      ]
    },
    {
      "cell_type": "code",
      "execution_count": 211,
      "metadata": {},
      "outputs": [
        {
          "data": {
            "image/png": "[encoded data removed]",
            "text/plain": [
              "<Figure size 432x288 with 1 Axes>"
            ]
          },
          "metadata": {
            "needs_background": "light"
          },
          "output_type": "display_data"
        }
      ],
      "source": [
        "plt.plot(xp, f(xp))\n",
        "plt.plot(xs, f(xs), 'o-', c='red')\n",
        "\n",
        "for i, (x, y) in enumerate(zip(xs, f(xs)), 1):\n",
        "    plt.text(x, y+0.2, i, bbox=dict(facecolor='white', alpha=0.7), fontsize=12) "
      ]
    },
    {
      "cell_type": "code",
      "execution_count": 213,
      "metadata": {},
      "outputs": [],
      "source": [
        "gamma = 0.9\n",
        "x0 = 5\n",
        "xs = gradient_method(x0, gradient, gamma)\n",
        "xp = np.linspace(-5, 5, 100)"
      ]
    },
    {
      "cell_type": "code",
      "execution_count": 214,
      "metadata": {},
      "outputs": [
        {
          "data": {
            "image/png": "[encoded data removed]",
            "text/plain": [
              "<Figure size 432x288 with 1 Axes>"
            ]
          },
          "metadata": {
            "needs_background": "light"
          },
          "output_type": "display_data"
        }
      ],
      "source": [
        "plt.plot(xp, f(xp))\n",
        "plt.plot(xs, f(xs), 'o-', c='red')\n",
        "\n",
        "for i, (x, y) in enumerate(zip(xs, f(xs)), 1):\n",
        "    plt.text(x, y+0.2, i, bbox=dict(facecolor='white', alpha=0.7), fontsize=12)"
      ]
    },
    {
      "cell_type": "code",
      "execution_count": null,
      "metadata": {},
      "outputs": [],
      "source": []
    }
  ],
  "metadata": {
    "colab": {
      "collapsed_sections": [],
      "name": "AI-CF.ipynb",
      "provenance": []
    },
    "kernelspec": {
      "display_name": "Python 3",
      "name": "python3"
    },
    "language_info": {
      "codemirror_mode": {
        "name": "ipython",
        "version": 3
      },
      "file_extension": ".py",
      "mimetype": "text/x-python",
      "name": "python",
      "nbconvert_exporter": "python",
      "pygments_lexer": "ipython3",
      "version": "3.8.6"
    }
  },
  "nbformat": 4,
  "nbformat_minor": 0
}
