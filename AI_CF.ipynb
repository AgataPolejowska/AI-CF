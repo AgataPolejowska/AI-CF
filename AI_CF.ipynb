{
  "nbformat": 4,
  "nbformat_minor": 0,
  "metadata": {
    "colab": {
      "name": "AI-CF.ipynb",
      "provenance": [],
      "collapsed_sections": []
    },
    "kernelspec": {
      "name": "python3",
      "display_name": "Python 3"
    },
    "language_info": {
      "name": "python"
    }
  },
  "cells": [
    {
      "cell_type": "markdown",
      "source": [
        "# *LINEAR ALGEBRA*"
      ],
      "metadata": {
        "id": "b_wM2OmPPf2o"
      }
    },
    {
      "cell_type": "markdown",
      "source": [
        "## Rank\n",
        "\n",
        "> The **rank** of a matrix - the dimension of the vector space generated (or spanned) by its columns, maximal number of **linearly independent** columns of the matrix.\n",
        "\n",
        "\n",
        "Numpy Linear algebra\n",
        "\n",
        "\n",
        "> The **rank** of an array - the number of signular values of the array.\n",
        "\n",
        "\n",
        "\n",
        "\n"
      ],
      "metadata": {
        "id": "WEv8xU0HjSsG"
      }
    },
    {
      "cell_type": "markdown",
      "source": [
        "The rank is commonly denoted by:\n",
        "\n",
        "$rank(A)$\n",
        "\n",
        "$rk(A)$"
      ],
      "metadata": {
        "id": "UBJ-wjYRls1w"
      }
    },
    {
      "cell_type": "code",
      "source": [
        "from numpy.linalg import matrix_rank\n",
        "import numpy as np"
      ],
      "metadata": {
        "id": "29ceZsiiP2SC"
      },
      "execution_count": 2,
      "outputs": []
    },
    {
      "cell_type": "code",
      "execution_count": 5,
      "metadata": {
        "id": "oqK3IZUBPHtx"
      },
      "outputs": [],
      "source": [
        "matrix_A = np.array([[1, 2], [3, 4]])\n",
        "matrix_B = np.array([[1, 0], [0, 0]])"
      ]
    },
    {
      "cell_type": "code",
      "source": [
        "matrix_A_transpose = np.transpose(matrix_A)\n",
        "matrix_B_transpose = np.transpose(matrix_B)"
      ],
      "metadata": {
        "id": "SvWqA12mQuHp"
      },
      "execution_count": 6,
      "outputs": []
    },
    {
      "cell_type": "code",
      "source": [
        "matrix_A_rank = matrix_rank(matrix_A)\n",
        "matrix_B_rank = matrix_rank(matrix_B)"
      ],
      "metadata": {
        "id": "spV0fBlKQAA5"
      },
      "execution_count": 7,
      "outputs": []
    },
    {
      "cell_type": "code",
      "source": [
        "rank_description = 'Matrix \\n {0} \\n rank (rząd macierzy): {1}'"
      ],
      "metadata": {
        "id": "o03KSZekQLoY"
      },
      "execution_count": 15,
      "outputs": []
    },
    {
      "cell_type": "code",
      "source": [
        "print(rank_description.format(matrix_A, matrix_A_rank))\n",
        "print(rank_description.format(matrix_B, matrix_B_rank))"
      ],
      "metadata": {
        "colab": {
          "base_uri": "https://localhost:8080/"
        },
        "id": "L5nhopBoncoy",
        "outputId": "8263416c-23d6-4685-9743-e09502dc9b86"
      },
      "execution_count": 16,
      "outputs": [
        {
          "output_type": "stream",
          "name": "stdout",
          "text": [
            "Matrix \n",
            " [[1 2]\n",
            " [3 4]] \n",
            " rank (rząd macierzy): 2\n",
            "Matrix \n",
            " [[1 0]\n",
            " [0 0]] \n",
            " rank (rząd macierzy): 1\n"
          ]
        }
      ]
    },
    {
      "cell_type": "markdown",
      "source": [
        "$rank(A) = rank(A^{T})$"
      ],
      "metadata": {
        "id": "xgi-2GGTmWRR"
      }
    },
    {
      "cell_type": "code",
      "source": [
        "rank_check = matrix_A_rank == matrix_rank(matrix_A_transpose) and matrix_B_rank == matrix_rank(matrix_B_transpose)"
      ],
      "metadata": {
        "id": "zE-0_UuvQlQV"
      },
      "execution_count": 9,
      "outputs": []
    },
    {
      "cell_type": "code",
      "source": [
        "print('Matrix rank is equal to the same matrix rank but transposed:', rank_check)"
      ],
      "metadata": {
        "colab": {
          "base_uri": "https://localhost:8080/"
        },
        "id": "gKYI41dYReJR",
        "outputId": "422aa445-d0fc-4b4a-fc97-212c27ad6043"
      },
      "execution_count": 10,
      "outputs": [
        {
          "output_type": "stream",
          "name": "stdout",
          "text": [
            "Matrix rank is equal to the same matrix rank but transposed: True\n"
          ]
        }
      ]
    },
    {
      "cell_type": "code",
      "source": [
        "print(rank_description.format(np.zeros((4,)), matrix_rank(np.zeros((4,)))))"
      ],
      "metadata": {
        "id": "ZaMPT90ERxOt",
        "colab": {
          "base_uri": "https://localhost:8080/"
        },
        "outputId": "ad59eaa9-9a16-4f97-db84-9b0e36668c1e"
      },
      "execution_count": 24,
      "outputs": [
        {
          "output_type": "stream",
          "name": "stdout",
          "text": [
            "Matrix \n",
            " [0. 0. 0. 0.] \n",
            " rank (rząd macierzy): 0\n"
          ]
        }
      ]
    },
    {
      "cell_type": "code",
      "source": [
        "print(rank_description.format(np.ones((4,)), matrix_rank(np.ones((4,)))))"
      ],
      "metadata": {
        "colab": {
          "base_uri": "https://localhost:8080/"
        },
        "id": "mJT6nRpNi3nC",
        "outputId": "551bfffd-8794-418c-ca6a-ab847afc755a"
      },
      "execution_count": 25,
      "outputs": [
        {
          "output_type": "stream",
          "name": "stdout",
          "text": [
            "Matrix \n",
            " [1. 1. 1. 1.] \n",
            " rank (rząd macierzy): 1\n"
          ]
        }
      ]
    },
    {
      "cell_type": "code",
      "source": [
        "print(rank_description.format(np.zeros((1,4)), matrix_rank(np.zeros((1,4)))))"
      ],
      "metadata": {
        "colab": {
          "base_uri": "https://localhost:8080/"
        },
        "id": "gZhL3ePHoZJ9",
        "outputId": "7885fd34-69c2-443a-b4d1-3df5252a2fee"
      },
      "execution_count": 27,
      "outputs": [
        {
          "output_type": "stream",
          "name": "stdout",
          "text": [
            "Matrix \n",
            " [[0. 0. 0. 0.]] \n",
            " rank (rząd macierzy): 0\n"
          ]
        }
      ]
    },
    {
      "cell_type": "code",
      "source": [
        "print(rank_description.format(np.ones((1,4)), matrix_rank(np.ones((1,4)))))"
      ],
      "metadata": {
        "colab": {
          "base_uri": "https://localhost:8080/"
        },
        "id": "geyCYLr_oeTm",
        "outputId": "0602151e-d82a-4f5d-cca5-9ce4ae1509b3"
      },
      "execution_count": 28,
      "outputs": [
        {
          "output_type": "stream",
          "name": "stdout",
          "text": [
            "Matrix \n",
            " [[1. 1. 1. 1.]] \n",
            " rank (rząd macierzy): 1\n"
          ]
        }
      ]
    },
    {
      "cell_type": "code",
      "source": [
        "print(rank_description.format(np.zeros((4,4)), matrix_rank(np.zeros((4,4)))))"
      ],
      "metadata": {
        "colab": {
          "base_uri": "https://localhost:8080/"
        },
        "id": "i9GK4KXHojke",
        "outputId": "f2b107a9-dafd-4e1d-fea4-cfe99e096e08"
      },
      "execution_count": 29,
      "outputs": [
        {
          "output_type": "stream",
          "name": "stdout",
          "text": [
            "Matrix \n",
            " [[0. 0. 0. 0.]\n",
            " [0. 0. 0. 0.]\n",
            " [0. 0. 0. 0.]\n",
            " [0. 0. 0. 0.]] \n",
            " rank (rząd macierzy): 0\n"
          ]
        }
      ]
    },
    {
      "cell_type": "code",
      "source": [
        "print(rank_description.format(np.ones((4,4)), matrix_rank(np.ones((4,4)))))"
      ],
      "metadata": {
        "colab": {
          "base_uri": "https://localhost:8080/"
        },
        "id": "EaPUdhKiom_B",
        "outputId": "03a7cf82-2a32-4321-a33e-b04cb3c31f95"
      },
      "execution_count": 30,
      "outputs": [
        {
          "output_type": "stream",
          "name": "stdout",
          "text": [
            "Matrix \n",
            " [[1. 1. 1. 1.]\n",
            " [1. 1. 1. 1.]\n",
            " [1. 1. 1. 1.]\n",
            " [1. 1. 1. 1.]] \n",
            " rank (rząd macierzy): 1\n"
          ]
        }
      ]
    },
    {
      "cell_type": "markdown",
      "source": [
        "\n",
        "\n",
        "---\n",
        "\n",
        "\n",
        "## Norm\n",
        "\n",
        "The norm is generally used to evaluate the error of the model.\n",
        "\n",
        "\n",
        "\n",
        "*   L1 norm - the sum of the absolute values of the vector\n",
        "*   L2 norm - the square root of the sum of the squared vector values\n",
        "*   Max norm - the maximum vector values\n",
        "\n",
        "\n",
        "Properties:\n",
        "\n",
        "*   $ ||x|| \\geq 0 $\n",
        "\n",
        "*   $ ||X||  = 0 \\iff x = 0 $\n",
        "\n",
        "*   $ ||x + y|| \\leq ||x|| + ||y|| $\n",
        "\n",
        "*   $ ||λx|| = |λ|||x|| $\n",
        "\n",
        "\n",
        "\n",
        "\n",
        "\n"
      ],
      "metadata": {
        "id": "w9yjWm0qpTHf"
      }
    },
    {
      "cell_type": "code",
      "source": [
        "from numpy.linalg import norm"
      ],
      "metadata": {
        "id": "WT4PTFLwpVEk"
      },
      "execution_count": 31,
      "outputs": []
    },
    {
      "cell_type": "code",
      "source": [
        "norm_description = 'Vector \\n {0} \\n norm ({1}) value: {2}'"
      ],
      "metadata": {
        "id": "n9vueShHrbjk"
      },
      "execution_count": 34,
      "outputs": []
    },
    {
      "cell_type": "code",
      "source": [
        "x = np.array([1, 2, 3])"
      ],
      "metadata": {
        "id": "JNylQYdKrr_D"
      },
      "execution_count": 43,
      "outputs": []
    },
    {
      "cell_type": "code",
      "source": [
        "print(norm_description.format(x, 'L1', norm(x, 1)))"
      ],
      "metadata": {
        "colab": {
          "base_uri": "https://localhost:8080/"
        },
        "id": "EZd0lRIEr6fr",
        "outputId": "068ea1e3-a18e-43f0-c76a-72e109e2cd5c"
      },
      "execution_count": 44,
      "outputs": [
        {
          "output_type": "stream",
          "name": "stdout",
          "text": [
            "Vector \n",
            " [1 2 3] \n",
            " norm (L1) value: 6.0\n"
          ]
        }
      ]
    },
    {
      "cell_type": "code",
      "source": [
        "print(norm_description.format(x, 'L2', norm(x)))"
      ],
      "metadata": {
        "colab": {
          "base_uri": "https://localhost:8080/"
        },
        "id": "11MHNOTgsDTW",
        "outputId": "4e27feda-4fa1-4018-8adf-b6a770f38a66"
      },
      "execution_count": 45,
      "outputs": [
        {
          "output_type": "stream",
          "name": "stdout",
          "text": [
            "Vector \n",
            " [1 2 3] \n",
            " norm (L2) value: 3.7416573867739413\n"
          ]
        }
      ]
    },
    {
      "cell_type": "code",
      "source": [
        "print(norm_description.format(x, 'inf', norm(x, np.inf)))"
      ],
      "metadata": {
        "colab": {
          "base_uri": "https://localhost:8080/"
        },
        "id": "uoKKB9VAsNXX",
        "outputId": "6da6a6cd-8bba-425a-c015-ac9e9b47e289"
      },
      "execution_count": 46,
      "outputs": [
        {
          "output_type": "stream",
          "name": "stdout",
          "text": [
            "Vector \n",
            " [1 2 3] \n",
            " norm (inf) value: 3.0\n"
          ]
        }
      ]
    }
  ]
}