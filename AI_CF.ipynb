{
  "cells": [
    {
      "cell_type": "markdown",
      "metadata": {
        "id": "b_wM2OmPPf2o"
      },
      "source": [
        "# *LINEAR ALGEBRA*"
      ]
    },
    {
      "cell_type": "markdown",
      "metadata": {
        "id": "WEv8xU0HjSsG"
      },
      "source": [
        "***\n",
        "## Rank\n",
        "\n",
        "> The **rank** of a matrix - the dimension of the vector space generated (or spanned) by its columns, maximal number of **linearly independent** columns of the matrix.\n",
        "\n",
        "\n",
        "Numpy Linear algebra\n",
        "\n",
        "\n",
        "> The **rank** of an array - the number of signular values of the array.\n",
        "\n",
        "\n",
        "\n",
        "\n"
      ]
    },
    {
      "cell_type": "markdown",
      "metadata": {
        "id": "UBJ-wjYRls1w"
      },
      "source": [
        "The rank is commonly denoted by:\n",
        "\n",
        "$rank(A)$\n",
        "\n",
        "$rk(A)$"
      ]
    },
    {
      "cell_type": "code",
      "execution_count": 2,
      "metadata": {
        "id": "29ceZsiiP2SC"
      },
      "outputs": [],
      "source": [
        "from numpy.linalg import matrix_rank\n",
        "import numpy as np"
      ]
    },
    {
      "cell_type": "code",
      "execution_count": 3,
      "metadata": {
        "id": "oqK3IZUBPHtx"
      },
      "outputs": [],
      "source": [
        "matrix_A = np.array([[1, 2], [3, 4]])\n",
        "matrix_B = np.array([[1, 0], [0, 0]])"
      ]
    },
    {
      "cell_type": "code",
      "execution_count": 4,
      "metadata": {
        "id": "SvWqA12mQuHp"
      },
      "outputs": [],
      "source": [
        "matrix_A_transpose = np.transpose(matrix_A)\n",
        "matrix_B_transpose = np.transpose(matrix_B)"
      ]
    },
    {
      "cell_type": "code",
      "execution_count": 5,
      "metadata": {
        "id": "spV0fBlKQAA5"
      },
      "outputs": [],
      "source": [
        "matrix_A_rank = matrix_rank(matrix_A)\n",
        "matrix_B_rank = matrix_rank(matrix_B)"
      ]
    },
    {
      "cell_type": "code",
      "execution_count": 6,
      "metadata": {
        "id": "o03KSZekQLoY"
      },
      "outputs": [],
      "source": [
        "rank_description = 'Matrix \\n {0} \\n rank (rząd macierzy): {1}'"
      ]
    },
    {
      "cell_type": "code",
      "execution_count": 7,
      "metadata": {
        "colab": {
          "base_uri": "https://localhost:8080/"
        },
        "id": "L5nhopBoncoy",
        "outputId": "a539fbbb-cc5d-4570-fdcd-aaf7e3cd0f00"
      },
      "outputs": [
        {
          "name": "stdout",
          "output_type": "stream",
          "text": [
            "Matrix \n",
            " [[1 2]\n",
            " [3 4]] \n",
            " rank (rząd macierzy): 2\n",
            "Matrix \n",
            " [[1 0]\n",
            " [0 0]] \n",
            " rank (rząd macierzy): 1\n"
          ]
        }
      ],
      "source": [
        "print(rank_description.format(matrix_A, matrix_A_rank))\n",
        "print(rank_description.format(matrix_B, matrix_B_rank))"
      ]
    },
    {
      "cell_type": "markdown",
      "metadata": {
        "id": "xgi-2GGTmWRR"
      },
      "source": [
        "$rank(A) = rank(A^{T})$"
      ]
    },
    {
      "cell_type": "code",
      "execution_count": 8,
      "metadata": {
        "id": "zE-0_UuvQlQV"
      },
      "outputs": [],
      "source": [
        "rank_check = matrix_A_rank == matrix_rank(matrix_A_transpose) and matrix_B_rank == matrix_rank(matrix_B_transpose)"
      ]
    },
    {
      "cell_type": "code",
      "execution_count": 9,
      "metadata": {
        "colab": {
          "base_uri": "https://localhost:8080/"
        },
        "id": "gKYI41dYReJR",
        "outputId": "46350efa-766b-49bb-cea3-cc3fd5ef68c6"
      },
      "outputs": [
        {
          "name": "stdout",
          "output_type": "stream",
          "text": [
            "Matrix rank is equal to the same matrix rank but transposed: True\n"
          ]
        }
      ],
      "source": [
        "print('Matrix rank is equal to the same matrix rank but transposed:', rank_check)"
      ]
    },
    {
      "cell_type": "code",
      "execution_count": 10,
      "metadata": {
        "colab": {
          "base_uri": "https://localhost:8080/"
        },
        "id": "ZaMPT90ERxOt",
        "outputId": "31846b5f-441c-41bc-e939-a93369a248c0"
      },
      "outputs": [
        {
          "name": "stdout",
          "output_type": "stream",
          "text": [
            "Matrix \n",
            " [0. 0. 0. 0.] \n",
            " rank (rząd macierzy): 0\n"
          ]
        }
      ],
      "source": [
        "print(rank_description.format(np.zeros((4,)), matrix_rank(np.zeros((4,)))))"
      ]
    },
    {
      "cell_type": "code",
      "execution_count": 11,
      "metadata": {
        "colab": {
          "base_uri": "https://localhost:8080/"
        },
        "id": "mJT6nRpNi3nC",
        "outputId": "171a9d97-0d0b-4c53-ce9c-c94b96234eb6"
      },
      "outputs": [
        {
          "name": "stdout",
          "output_type": "stream",
          "text": [
            "Matrix \n",
            " [1. 1. 1. 1.] \n",
            " rank (rząd macierzy): 1\n"
          ]
        }
      ],
      "source": [
        "print(rank_description.format(np.ones((4,)), matrix_rank(np.ones((4,)))))"
      ]
    },
    {
      "cell_type": "code",
      "execution_count": 12,
      "metadata": {
        "colab": {
          "base_uri": "https://localhost:8080/"
        },
        "id": "gZhL3ePHoZJ9",
        "outputId": "a7407741-3df8-439f-8b13-5b66cc79a4c8"
      },
      "outputs": [
        {
          "name": "stdout",
          "output_type": "stream",
          "text": [
            "Matrix \n",
            " [[0. 0. 0. 0.]] \n",
            " rank (rząd macierzy): 0\n"
          ]
        }
      ],
      "source": [
        "print(rank_description.format(np.zeros((1,4)), matrix_rank(np.zeros((1,4)))))"
      ]
    },
    {
      "cell_type": "code",
      "execution_count": 13,
      "metadata": {
        "colab": {
          "base_uri": "https://localhost:8080/"
        },
        "id": "geyCYLr_oeTm",
        "outputId": "52c2f3fd-7ac4-4eb1-ea2a-433071ffdc4a"
      },
      "outputs": [
        {
          "name": "stdout",
          "output_type": "stream",
          "text": [
            "Matrix \n",
            " [[1. 1. 1. 1.]] \n",
            " rank (rząd macierzy): 1\n"
          ]
        }
      ],
      "source": [
        "print(rank_description.format(np.ones((1,4)), matrix_rank(np.ones((1,4)))))"
      ]
    },
    {
      "cell_type": "code",
      "execution_count": 14,
      "metadata": {
        "colab": {
          "base_uri": "https://localhost:8080/"
        },
        "id": "i9GK4KXHojke",
        "outputId": "fd792566-04fa-4574-9d84-f9184681c1d8"
      },
      "outputs": [
        {
          "name": "stdout",
          "output_type": "stream",
          "text": [
            "Matrix \n",
            " [[0. 0. 0. 0.]\n",
            " [0. 0. 0. 0.]\n",
            " [0. 0. 0. 0.]\n",
            " [0. 0. 0. 0.]] \n",
            " rank (rząd macierzy): 0\n"
          ]
        }
      ],
      "source": [
        "print(rank_description.format(np.zeros((4,4)), matrix_rank(np.zeros((4,4)))))"
      ]
    },
    {
      "cell_type": "code",
      "execution_count": 15,
      "metadata": {
        "colab": {
          "base_uri": "https://localhost:8080/"
        },
        "id": "EaPUdhKiom_B",
        "outputId": "c097654c-0e14-480f-b7ef-c38cf380819b"
      },
      "outputs": [
        {
          "name": "stdout",
          "output_type": "stream",
          "text": [
            "Matrix \n",
            " [[1. 1. 1. 1.]\n",
            " [1. 1. 1. 1.]\n",
            " [1. 1. 1. 1.]\n",
            " [1. 1. 1. 1.]] \n",
            " rank (rząd macierzy): 1\n"
          ]
        }
      ],
      "source": [
        "print(rank_description.format(np.ones((4,4)), matrix_rank(np.ones((4,4)))))"
      ]
    },
    {
      "cell_type": "markdown",
      "metadata": {
        "id": "qqX10kKs2fPv"
      },
      "source": [
        "****\n",
        "## Symmetric matrix\n",
        "\n",
        "$A^{T} = A$"
      ]
    },
    {
      "cell_type": "code",
      "execution_count": 16,
      "metadata": {
        "colab": {
          "base_uri": "https://localhost:8080/"
        },
        "id": "Pqrd59CX2nK-",
        "outputId": "55c0fb93-2158-4a15-e806-32d3252f7ac1"
      },
      "outputs": [
        {
          "data": {
            "text/plain": [
              "array([[ 1,  1, -1],\n",
              "       [ 1,  2,  0],\n",
              "       [-1,  0,  5]])"
            ]
          },
          "execution_count": 16,
          "metadata": {},
          "output_type": "execute_result"
        }
      ],
      "source": [
        "A = np.array([[1, 1, -1], [1, 2, 0], [-1, 0, 5]])\n",
        "A"
      ]
    },
    {
      "cell_type": "code",
      "execution_count": 17,
      "metadata": {
        "colab": {
          "base_uri": "https://localhost:8080/"
        },
        "id": "YiLnqKSu2xSV",
        "outputId": "50e6191b-48a7-41d5-bc4e-1a76468531ed"
      },
      "outputs": [
        {
          "data": {
            "text/plain": [
              "array([[ 1,  1, -1],\n",
              "       [ 1,  2,  0],\n",
              "       [-1,  0,  5]])"
            ]
          },
          "execution_count": 17,
          "metadata": {},
          "output_type": "execute_result"
        }
      ],
      "source": [
        "A_t = A.transpose()\n",
        "A_t"
      ]
    },
    {
      "cell_type": "code",
      "execution_count": 18,
      "metadata": {
        "colab": {
          "base_uri": "https://localhost:8080/"
        },
        "id": "SCGnFLUG290x",
        "outputId": "eb358dbe-fac8-43a8-bef0-4c8b862bcf1e"
      },
      "outputs": [
        {
          "data": {
            "text/plain": [
              "True"
            ]
          },
          "execution_count": 18,
          "metadata": {},
          "output_type": "execute_result"
        }
      ],
      "source": [
        "np.array_equal(A, A_t)"
      ]
    },
    {
      "cell_type": "markdown",
      "metadata": {
        "id": "w9yjWm0qpTHf"
      },
      "source": [
        "\n",
        "\n",
        "---\n",
        "\n",
        "\n",
        "## Norm\n",
        "\n",
        "The norm is generally used to evaluate the error of the model.\n",
        "\n",
        "\n",
        "\n",
        "*   L1 norm - the sum of the absolute values of the vector (the Manhattan/Taxicab Distance, the Mean Absolute Error (MAE), the Least Absolute Shrinkage and Selection Operator (LASSO))\n",
        "*   L2 norm - the square root of the sum of the squared vector values (the Euclidean Distance, the Mean Squared Error (MSE) / Least Squares Error, or the Ridge Operator)\n",
        "*   Max norm - the maximum vector values\n",
        "\n",
        "\n",
        "Properties:\n",
        "\n",
        "*   $ ||x|| \\geq 0 $\n",
        "\n",
        "*   $ ||x||  = 0 \\iff x = 0 $\n",
        "\n",
        "*   $ ||x + y|| \\leq ||x|| + ||y|| $\n",
        "\n",
        "*   $ ||λx|| = |λ|||x|| $\n",
        "\n",
        "\n",
        "\n",
        "\n",
        "\n"
      ]
    },
    {
      "cell_type": "code",
      "execution_count": 19,
      "metadata": {
        "id": "WT4PTFLwpVEk"
      },
      "outputs": [],
      "source": [
        "from numpy.linalg import norm"
      ]
    },
    {
      "cell_type": "code",
      "execution_count": 20,
      "metadata": {
        "id": "n9vueShHrbjk"
      },
      "outputs": [],
      "source": [
        "norm_description = 'Vector \\n {0} \\n norm ({1}) value: {2}'"
      ]
    },
    {
      "cell_type": "code",
      "execution_count": 21,
      "metadata": {
        "id": "JNylQYdKrr_D"
      },
      "outputs": [],
      "source": [
        "x = np.array([1, 2, 3])"
      ]
    },
    {
      "cell_type": "code",
      "execution_count": 22,
      "metadata": {
        "colab": {
          "base_uri": "https://localhost:8080/"
        },
        "id": "EZd0lRIEr6fr",
        "outputId": "2d747936-7fca-44dc-eb28-34f5ee47aef0"
      },
      "outputs": [
        {
          "name": "stdout",
          "output_type": "stream",
          "text": [
            "Vector \n",
            " [1 2 3] \n",
            " norm (L1) value: 6.0\n"
          ]
        }
      ],
      "source": [
        "print(norm_description.format(x, 'L1', norm(x, 1)))"
      ]
    },
    {
      "cell_type": "code",
      "execution_count": 23,
      "metadata": {
        "colab": {
          "base_uri": "https://localhost:8080/"
        },
        "id": "J90IHI9nt1oX",
        "outputId": "29a6aaf0-bdb0-4c74-dd28-a30a62c583d8"
      },
      "outputs": [
        {
          "name": "stdout",
          "output_type": "stream",
          "text": [
            "Vector \n",
            " [1 2 3] \n",
            " norm (L1) value: 6\n"
          ]
        }
      ],
      "source": [
        "norm_1_value = 0\n",
        "\n",
        "for value in x:\n",
        "  norm_1_value += abs(value)\n",
        "\n",
        "print(norm_description.format(x, 'L1', norm_1_value))"
      ]
    },
    {
      "cell_type": "code",
      "execution_count": 24,
      "metadata": {
        "colab": {
          "base_uri": "https://localhost:8080/"
        },
        "id": "11MHNOTgsDTW",
        "outputId": "0b65ed85-55e9-40b1-d47e-9990e274ffa8"
      },
      "outputs": [
        {
          "name": "stdout",
          "output_type": "stream",
          "text": [
            "Vector \n",
            " [1 2 3] \n",
            " norm (L2) value: 3.7416573867739413\n"
          ]
        }
      ],
      "source": [
        "print(norm_description.format(x, 'L2', norm(x)))"
      ]
    },
    {
      "cell_type": "code",
      "execution_count": 25,
      "metadata": {
        "colab": {
          "base_uri": "https://localhost:8080/"
        },
        "id": "F7toWKGEvASP",
        "outputId": "01b521a1-9e7a-4c56-b624-a97fd52283cc"
      },
      "outputs": [
        {
          "name": "stdout",
          "output_type": "stream",
          "text": [
            "Vector \n",
            " [1 2 3] \n",
            " norm (L2) value: 3.7416573867739413\n"
          ]
        }
      ],
      "source": [
        "norm_2_value = 0\n",
        "\n",
        "for value in x:\n",
        "  norm_2_value  += value**2\n",
        "\n",
        "norm_2_value = np.sqrt(norm_2_value)\n",
        "\n",
        "print(norm_description.format(x, 'L2', norm_2_value))"
      ]
    },
    {
      "cell_type": "code",
      "execution_count": 26,
      "metadata": {
        "colab": {
          "base_uri": "https://localhost:8080/"
        },
        "id": "uoKKB9VAsNXX",
        "outputId": "edc4c445-4220-4f08-a460-1863acfaf66f"
      },
      "outputs": [
        {
          "name": "stdout",
          "output_type": "stream",
          "text": [
            "Vector \n",
            " [1 2 3] \n",
            " norm (inf) value: 3.0\n"
          ]
        }
      ],
      "source": [
        "print(norm_description.format(x, 'inf', norm(x, np.inf)))"
      ]
    },
    {
      "cell_type": "code",
      "execution_count": 27,
      "metadata": {
        "colab": {
          "base_uri": "https://localhost:8080/"
        },
        "id": "4RTjFuJMwAny",
        "outputId": "8ed6b7bd-4e84-4ef0-b6ca-94dc062ede8b"
      },
      "outputs": [
        {
          "name": "stdout",
          "output_type": "stream",
          "text": [
            "Vector \n",
            " [1 2 3] \n",
            " norm (inf) value: 3\n"
          ]
        }
      ],
      "source": [
        "norm_inf_value = 0\n",
        "\n",
        "for value in x:\n",
        "  if abs(value) > norm_inf_value:\n",
        "    norm_inf_value = value\n",
        "\n",
        "print(norm_description.format(x, 'inf', norm_inf_value))"
      ]
    },
    {
      "cell_type": "markdown",
      "metadata": {
        "id": "CdJsovyhw9I2"
      },
      "source": [
        "****\n",
        "## Dot product\n",
        "\n",
        "> $ <x, y> $\n",
        "\n",
        "Pairs of $ (V<x, y>) $ is an Eucleadian space.\n",
        "\n",
        "The dot product of two functions (u, v):\n",
        "\n",
        "$ <u, v> = \\int_{a}^{b} u(x)v(x) \\,dx \\ $\n",
        "\n",
        "The dot product in $ R^{n} $:\n",
        "\n",
        "$x^{T}y = \\sum_{i=1}^{n} x_i y_i $"
      ]
    },
    {
      "cell_type": "code",
      "execution_count": 28,
      "metadata": {
        "id": "jzkkf_WYw7wl"
      },
      "outputs": [],
      "source": [
        "v1 = np.array([-2, 1])\n",
        "v2 = np.array([0, 3])"
      ]
    },
    {
      "cell_type": "code",
      "execution_count": 29,
      "metadata": {
        "colab": {
          "base_uri": "https://localhost:8080/"
        },
        "id": "ceoyPJ5Z1zHN",
        "outputId": "6773a75a-e974-4930-b910-7eb0d5952587"
      },
      "outputs": [
        {
          "data": {
            "text/plain": [
              "3"
            ]
          },
          "execution_count": 29,
          "metadata": {},
          "output_type": "execute_result"
        }
      ],
      "source": [
        "np.dot(v1, v2)"
      ]
    },
    {
      "cell_type": "markdown",
      "metadata": {
        "id": "QPRsC6uO4_JD"
      },
      "source": [
        "The Euclidean length of the vector\n",
        "\n",
        "$ ||x|| = \t\\sqrt{<x, x>}$\n",
        "\n",
        "$ <x, y> = x^{T}y $\n",
        "\n",
        "If the vectors x are orthogonal (i.e., their angle is π / 2 or 90°).\n",
        "$ <x, y> = 0 $"
      ]
    },
    {
      "cell_type": "markdown",
      "metadata": {
        "id": "yy627kpE6H_h"
      },
      "source": [
        "****\n",
        "## Orthogonal matrix\n",
        "\n",
        "> real square matrix whose columns and rows are orthonormal vectors\n",
        "\n",
        "$ AA^{T} = I = A^{T}A $\n",
        "\n",
        "$ A^{-1} = A^{T} $"
      ]
    },
    {
      "cell_type": "code",
      "execution_count": 30,
      "metadata": {
        "id": "_eW3eWB36QSh"
      },
      "outputs": [],
      "source": [
        "A = np.array([[-1, 0], [0, 1]])\n",
        "A_t = np.transpose(A)\n",
        "A_inv = np.linalg.inv(A)"
      ]
    },
    {
      "cell_type": "code",
      "execution_count": 31,
      "metadata": {
        "colab": {
          "base_uri": "https://localhost:8080/"
        },
        "id": "UA31mIIA7EjR",
        "outputId": "e8a8067e-22f0-4c05-d964-60618ee2976b"
      },
      "outputs": [
        {
          "data": {
            "text/plain": [
              "array([[-1,  0],\n",
              "       [ 0,  1]])"
            ]
          },
          "execution_count": 31,
          "metadata": {},
          "output_type": "execute_result"
        }
      ],
      "source": [
        "A"
      ]
    },
    {
      "cell_type": "code",
      "execution_count": 32,
      "metadata": {
        "colab": {
          "base_uri": "https://localhost:8080/"
        },
        "id": "PM2kZ9DV7E4O",
        "outputId": "8c663def-72e2-4443-f10a-0dea6bb571c4"
      },
      "outputs": [
        {
          "data": {
            "text/plain": [
              "array([[-1,  0],\n",
              "       [ 0,  1]])"
            ]
          },
          "execution_count": 32,
          "metadata": {},
          "output_type": "execute_result"
        }
      ],
      "source": [
        "A_t"
      ]
    },
    {
      "cell_type": "code",
      "execution_count": 33,
      "metadata": {
        "colab": {
          "base_uri": "https://localhost:8080/"
        },
        "id": "GAoDPraD71GV",
        "outputId": "97dfba59-fc3c-47f9-d1c6-3d6def0f340b"
      },
      "outputs": [
        {
          "data": {
            "text/plain": [
              "array([[-1., -0.],\n",
              "       [ 0.,  1.]])"
            ]
          },
          "execution_count": 33,
          "metadata": {},
          "output_type": "execute_result"
        }
      ],
      "source": [
        "A_inv"
      ]
    },
    {
      "cell_type": "code",
      "execution_count": 34,
      "metadata": {
        "colab": {
          "base_uri": "https://localhost:8080/"
        },
        "id": "hqasmUSu7GCb",
        "outputId": "4e4309fb-cab7-4602-c5b3-83a36a7cc3fc"
      },
      "outputs": [
        {
          "data": {
            "text/plain": [
              "array([[1, 0],\n",
              "       [0, 1]])"
            ]
          },
          "execution_count": 34,
          "metadata": {},
          "output_type": "execute_result"
        }
      ],
      "source": [
        "res = np.dot(A, A_t)\n",
        "res"
      ]
    },
    {
      "cell_type": "code",
      "execution_count": 35,
      "metadata": {
        "colab": {
          "base_uri": "https://localhost:8080/"
        },
        "id": "9obNhnID7MDO",
        "outputId": "cc591d3b-38f3-473e-ea5e-4150d6006843"
      },
      "outputs": [
        {
          "data": {
            "text/plain": [
              "array([[1., 0.],\n",
              "       [0., 1.]])"
            ]
          },
          "execution_count": 35,
          "metadata": {},
          "output_type": "execute_result"
        }
      ],
      "source": [
        "I = np.eye(2)\n",
        "I"
      ]
    },
    {
      "cell_type": "code",
      "execution_count": 36,
      "metadata": {
        "colab": {
          "base_uri": "https://localhost:8080/"
        },
        "id": "DC0vRBmS7U2e",
        "outputId": "417910b7-3dd7-4f4c-8b9b-b798f1879de4"
      },
      "outputs": [
        {
          "data": {
            "text/plain": [
              "True"
            ]
          },
          "execution_count": 36,
          "metadata": {},
          "output_type": "execute_result"
        }
      ],
      "source": [
        "np.all(np.equal(res, I))"
      ]
    },
    {
      "cell_type": "code",
      "execution_count": 37,
      "metadata": {
        "colab": {
          "base_uri": "https://localhost:8080/"
        },
        "id": "YshdttUY7bA3",
        "outputId": "933d84ab-c1c3-4139-b948-ca020f8cb10c"
      },
      "outputs": [
        {
          "data": {
            "text/plain": [
              "True"
            ]
          },
          "execution_count": 37,
          "metadata": {},
          "output_type": "execute_result"
        }
      ],
      "source": [
        "np.all(np.equal(A_inv, A_t))"
      ]
    },
    {
      "cell_type": "markdown",
      "metadata": {},
      "source": [
        "***\n",
        "\n",
        "## Determinant\n",
        "\n",
        "If \n",
        "\n",
        "$ det(A) \\neq 0 $ \n",
        "\n",
        "then inverse matrix\n",
        "\n",
        "$  A^{-1} $\n",
        "\n",
        "exists.\n",
        "\n",
        "A square matrix has the\n",
        "\n",
        "$ det(A) \\neq 0 $\n",
        "\n",
        "if and only if\n",
        "\n",
        "$ rk(A) = n $"
      ]
    },
    {
      "cell_type": "code",
      "execution_count": 38,
      "metadata": {},
      "outputs": [
        {
          "data": {
            "text/plain": [
              "array([[1, 2],\n",
              "       [3, 4]])"
            ]
          },
          "execution_count": 38,
          "metadata": {},
          "output_type": "execute_result"
        }
      ],
      "source": [
        "A = np.array([[1, 2], [3, 4]])\n",
        "A"
      ]
    },
    {
      "cell_type": "code",
      "execution_count": 39,
      "metadata": {},
      "outputs": [
        {
          "data": {
            "text/plain": [
              "-2.0000000000000004"
            ]
          },
          "execution_count": 39,
          "metadata": {},
          "output_type": "execute_result"
        }
      ],
      "source": [
        "det = np.linalg.det(A)\n",
        "det"
      ]
    },
    {
      "cell_type": "code",
      "execution_count": 40,
      "metadata": {},
      "outputs": [
        {
          "data": {
            "text/plain": [
              "-2"
            ]
          },
          "execution_count": 40,
          "metadata": {},
          "output_type": "execute_result"
        }
      ],
      "source": [
        "det = A[0][0] * A[1][1] - A[0][1] * A[1][0]\n",
        "det"
      ]
    },
    {
      "cell_type": "code",
      "execution_count": 41,
      "metadata": {},
      "outputs": [
        {
          "data": {
            "text/plain": [
              "2"
            ]
          },
          "execution_count": 41,
          "metadata": {},
          "output_type": "execute_result"
        }
      ],
      "source": [
        "np.linalg.matrix_rank(A)"
      ]
    },
    {
      "cell_type": "code",
      "execution_count": 42,
      "metadata": {},
      "outputs": [],
      "source": [
        "A_t_l = np.array([\n",
        "    [3, 0, 0],\n",
        "    [1, 1, 0],\n",
        "    [4, 3, 2],\n",
        "])"
      ]
    },
    {
      "cell_type": "code",
      "execution_count": 43,
      "metadata": {},
      "outputs": [
        {
          "data": {
            "text/plain": [
              "5.999999999999998"
            ]
          },
          "execution_count": 43,
          "metadata": {},
          "output_type": "execute_result"
        }
      ],
      "source": [
        "np.linalg.det(A_t_l)"
      ]
    },
    {
      "cell_type": "code",
      "execution_count": 44,
      "metadata": {},
      "outputs": [],
      "source": [
        "A_t_h = np.array([\n",
        "    [3, 5, 6],\n",
        "    [0, 10, 7],\n",
        "    [0, 0, 2],\n",
        "])"
      ]
    },
    {
      "cell_type": "code",
      "execution_count": 45,
      "metadata": {},
      "outputs": [
        {
          "data": {
            "text/plain": [
              "60.000000000000036"
            ]
          },
          "execution_count": 45,
          "metadata": {},
          "output_type": "execute_result"
        }
      ],
      "source": [
        "np.linalg.det(A_t_h)"
      ]
    },
    {
      "cell_type": "markdown",
      "metadata": {},
      "source": [
        "***\n",
        "## Eigenvectors and eigenvalues\n",
        "#### Wektory i wartości własne\n",
        "\n",
        "$ Ax = \\lambda x $\n",
        "\n",
        "$ A - square matrix $\n",
        "\n",
        "$ x - eigenvector $\n",
        "\n",
        "$ \\lambda - eigenvalue $\n",
        "\n",
        "The set of all eigenvalues $ \\lambda $ of $ A $ - spectrum $ A $.\n",
        "\n",
        "The matrix $ A $ and $ A^{T} $ have the same eigenvalues $ \\lambda $ but not necessarily the same eigenvectors $ x $.\n",
        "\n",
        "The determinant of matrix $ A $ with eigenvalues $ \\lambda_i $ is equal to:\n",
        "\n",
        "$ det(A) = \\prod_{i=1}^n \\lambda_i $"
      ]
    },
    {
      "cell_type": "code",
      "execution_count": 47,
      "metadata": {},
      "outputs": [],
      "source": [
        "B = np.array([\n",
        "    [1, 2],\n",
        "    [3, 4]\n",
        "])"
      ]
    },
    {
      "cell_type": "code",
      "execution_count": 51,
      "metadata": {},
      "outputs": [],
      "source": [
        "w, v = np.linalg.eig(B)"
      ]
    },
    {
      "cell_type": "code",
      "execution_count": 52,
      "metadata": {},
      "outputs": [
        {
          "data": {
            "text/plain": [
              "array([-0.37228132,  5.37228132])"
            ]
          },
          "execution_count": 52,
          "metadata": {},
          "output_type": "execute_result"
        }
      ],
      "source": [
        "w"
      ]
    },
    {
      "cell_type": "code",
      "execution_count": 53,
      "metadata": {},
      "outputs": [
        {
          "data": {
            "text/plain": [
              "array([[-0.82456484, -0.41597356],\n",
              "       [ 0.56576746, -0.90937671]])"
            ]
          },
          "execution_count": 53,
          "metadata": {},
          "output_type": "execute_result"
        }
      ],
      "source": [
        "v"
      ]
    },
    {
      "cell_type": "markdown",
      "metadata": {},
      "source": [
        "***\n",
        "## Trace\n",
        "\n",
        "$ tr(A) = \\sum_{i=1}^n a_ii $\n",
        "\n",
        "$ tr(A) = \\sum_{i=1}^n \\lambda_i $"
      ]
    },
    {
      "cell_type": "code",
      "execution_count": 56,
      "metadata": {},
      "outputs": [],
      "source": [
        "C = np.array([\n",
        "    [-1, 2],\n",
        "    [3, 0]\n",
        "])"
      ]
    },
    {
      "cell_type": "code",
      "execution_count": 57,
      "metadata": {},
      "outputs": [
        {
          "data": {
            "text/plain": [
              "-1"
            ]
          },
          "execution_count": 57,
          "metadata": {},
          "output_type": "execute_result"
        }
      ],
      "source": [
        "np.trace(C)"
      ]
    }
  ],
  "metadata": {
    "colab": {
      "collapsed_sections": [],
      "name": "AI-CF.ipynb",
      "provenance": []
    },
    "kernelspec": {
      "display_name": "Python 3",
      "name": "python3"
    },
    "language_info": {
      "codemirror_mode": {
        "name": "ipython",
        "version": 3
      },
      "file_extension": ".py",
      "mimetype": "text/x-python",
      "name": "python",
      "nbconvert_exporter": "python",
      "pygments_lexer": "ipython3",
      "version": "3.8.6"
    }
  },
  "nbformat": 4,
  "nbformat_minor": 0
}
