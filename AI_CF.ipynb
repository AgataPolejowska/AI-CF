{
  "nbformat": 4,
  "nbformat_minor": 0,
  "metadata": {
    "colab": {
      "name": "AI-CF.ipynb",
      "provenance": []
    },
    "kernelspec": {
      "name": "python3",
      "display_name": "Python 3"
    },
    "language_info": {
      "name": "python"
    }
  },
  "cells": [
    {
      "cell_type": "markdown",
      "source": [
        "# *LINEAR ALGEBRA*"
      ],
      "metadata": {
        "id": "b_wM2OmPPf2o"
      }
    },
    {
      "cell_type": "code",
      "source": [
        "import numpy as np"
      ],
      "metadata": {
        "id": "29ceZsiiP2SC"
      },
      "execution_count": 14,
      "outputs": []
    },
    {
      "cell_type": "code",
      "execution_count": 15,
      "metadata": {
        "id": "oqK3IZUBPHtx"
      },
      "outputs": [],
      "source": [
        "matrix_A = np.array([[1, 2], [3, 4]])\n",
        "matrix_B = np.array([[1, 0], [0, 0]])"
      ]
    },
    {
      "cell_type": "code",
      "source": [
        "matrix_A_transpose = np.transpose(matrix_A)\n",
        "matrix_B_transpose = np.transpose(matrix_B)"
      ],
      "metadata": {
        "id": "SvWqA12mQuHp"
      },
      "execution_count": 19,
      "outputs": []
    },
    {
      "cell_type": "code",
      "source": [
        "matrix_A_rank = np.linalg.matrix_rank(matrix_A)\n",
        "matrix_B_rank = np.linalg.matrix_rank(matrix_B)"
      ],
      "metadata": {
        "id": "spV0fBlKQAA5"
      },
      "execution_count": 16,
      "outputs": []
    },
    {
      "cell_type": "code",
      "source": [
        "print('Matrix rank (rząd macierzy):', matrix_A_rank)\n",
        "print('Matrix rank (rząd macierzy):', matrix_B_rank)"
      ],
      "metadata": {
        "colab": {
          "base_uri": "https://localhost:8080/"
        },
        "id": "o03KSZekQLoY",
        "outputId": "81d4680a-632f-4b2e-c945-5ba9367167f3"
      },
      "execution_count": 20,
      "outputs": [
        {
          "output_type": "stream",
          "name": "stdout",
          "text": [
            "Matrix rank (rząd macierzy): 2\n",
            "Matrix rank (rząd macierzy): 1\n"
          ]
        }
      ]
    },
    {
      "cell_type": "code",
      "source": [
        "rank_check = matrix_A_rank == np.linalg.matrix_rank(matrix_A_transpose) and matrix_B_rank == np.linalg.matrix_rank(matrix_B_transpose)"
      ],
      "metadata": {
        "id": "zE-0_UuvQlQV"
      },
      "execution_count": 25,
      "outputs": []
    },
    {
      "cell_type": "code",
      "source": [
        "print('Matrix rank is equal to the same matrix but transposed:', rank_check)"
      ],
      "metadata": {
        "colab": {
          "base_uri": "https://localhost:8080/"
        },
        "id": "gKYI41dYReJR",
        "outputId": "2df7f974-cf73-4513-b915-24b39b7c10cc"
      },
      "execution_count": 27,
      "outputs": [
        {
          "output_type": "stream",
          "name": "stdout",
          "text": [
            "Matrix rank is equal to the same matrix but transposed: True\n"
          ]
        }
      ]
    },
    {
      "cell_type": "code",
      "source": [
        ""
      ],
      "metadata": {
        "id": "ZaMPT90ERxOt"
      },
      "execution_count": null,
      "outputs": []
    }
  ]
}