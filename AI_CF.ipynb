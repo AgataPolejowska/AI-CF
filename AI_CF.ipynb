{
  "nbformat": 4,
  "nbformat_minor": 0,
  "metadata": {
    "colab": {
      "name": "AI-CF.ipynb",
      "provenance": [],
      "collapsed_sections": []
    },
    "kernelspec": {
      "name": "python3",
      "display_name": "Python 3"
    },
    "language_info": {
      "name": "python"
    }
  },
  "cells": [
    {
      "cell_type": "markdown",
      "source": [
        "# *LINEAR ALGEBRA*"
      ],
      "metadata": {
        "id": "b_wM2OmPPf2o"
      }
    },
    {
      "cell_type": "markdown",
      "source": [
        "## Rank\n",
        "\n",
        "> The **rank** of a matrix - the dimension of the vector space generated (or spanned) by its columns, maximal number of **linearly independent** columns of the matrix.\n",
        "\n",
        "\n",
        "Numpy Linear algebra\n",
        "\n",
        "\n",
        "> The **rank** of an array - the number of signular values of the array.\n",
        "\n",
        "\n",
        "\n",
        "\n"
      ],
      "metadata": {
        "id": "WEv8xU0HjSsG"
      }
    },
    {
      "cell_type": "markdown",
      "source": [
        "The rank is commonly denoted by:\n",
        "\n",
        "$rank(A)$\n",
        "\n",
        "$rk(A)$"
      ],
      "metadata": {
        "id": "UBJ-wjYRls1w"
      }
    },
    {
      "cell_type": "code",
      "source": [
        "from numpy.linalg import matrix_rank\n",
        "import numpy as np"
      ],
      "metadata": {
        "id": "29ceZsiiP2SC"
      },
      "execution_count": 2,
      "outputs": []
    },
    {
      "cell_type": "code",
      "execution_count": 3,
      "metadata": {
        "id": "oqK3IZUBPHtx"
      },
      "outputs": [],
      "source": [
        "matrix_A = np.array([[1, 2], [3, 4]])\n",
        "matrix_B = np.array([[1, 0], [0, 0]])"
      ]
    },
    {
      "cell_type": "code",
      "source": [
        "matrix_A_transpose = np.transpose(matrix_A)\n",
        "matrix_B_transpose = np.transpose(matrix_B)"
      ],
      "metadata": {
        "id": "SvWqA12mQuHp"
      },
      "execution_count": 4,
      "outputs": []
    },
    {
      "cell_type": "code",
      "source": [
        "matrix_A_rank = matrix_rank(matrix_A)\n",
        "matrix_B_rank = matrix_rank(matrix_B)"
      ],
      "metadata": {
        "id": "spV0fBlKQAA5"
      },
      "execution_count": 5,
      "outputs": []
    },
    {
      "cell_type": "code",
      "source": [
        "rank_description = 'Matrix \\n {0} \\n rank (rząd macierzy): {1}'"
      ],
      "metadata": {
        "id": "o03KSZekQLoY"
      },
      "execution_count": 6,
      "outputs": []
    },
    {
      "cell_type": "code",
      "source": [
        "print(rank_description.format(matrix_A, matrix_A_rank))\n",
        "print(rank_description.format(matrix_B, matrix_B_rank))"
      ],
      "metadata": {
        "colab": {
          "base_uri": "https://localhost:8080/"
        },
        "id": "L5nhopBoncoy",
        "outputId": "a539fbbb-cc5d-4570-fdcd-aaf7e3cd0f00"
      },
      "execution_count": 7,
      "outputs": [
        {
          "output_type": "stream",
          "name": "stdout",
          "text": [
            "Matrix \n",
            " [[1 2]\n",
            " [3 4]] \n",
            " rank (rząd macierzy): 2\n",
            "Matrix \n",
            " [[1 0]\n",
            " [0 0]] \n",
            " rank (rząd macierzy): 1\n"
          ]
        }
      ]
    },
    {
      "cell_type": "markdown",
      "source": [
        "$rank(A) = rank(A^{T})$"
      ],
      "metadata": {
        "id": "xgi-2GGTmWRR"
      }
    },
    {
      "cell_type": "code",
      "source": [
        "rank_check = matrix_A_rank == matrix_rank(matrix_A_transpose) and matrix_B_rank == matrix_rank(matrix_B_transpose)"
      ],
      "metadata": {
        "id": "zE-0_UuvQlQV"
      },
      "execution_count": 8,
      "outputs": []
    },
    {
      "cell_type": "code",
      "source": [
        "print('Matrix rank is equal to the same matrix rank but transposed:', rank_check)"
      ],
      "metadata": {
        "colab": {
          "base_uri": "https://localhost:8080/"
        },
        "id": "gKYI41dYReJR",
        "outputId": "46350efa-766b-49bb-cea3-cc3fd5ef68c6"
      },
      "execution_count": 9,
      "outputs": [
        {
          "output_type": "stream",
          "name": "stdout",
          "text": [
            "Matrix rank is equal to the same matrix rank but transposed: True\n"
          ]
        }
      ]
    },
    {
      "cell_type": "code",
      "source": [
        "print(rank_description.format(np.zeros((4,)), matrix_rank(np.zeros((4,)))))"
      ],
      "metadata": {
        "id": "ZaMPT90ERxOt",
        "colab": {
          "base_uri": "https://localhost:8080/"
        },
        "outputId": "31846b5f-441c-41bc-e939-a93369a248c0"
      },
      "execution_count": 10,
      "outputs": [
        {
          "output_type": "stream",
          "name": "stdout",
          "text": [
            "Matrix \n",
            " [0. 0. 0. 0.] \n",
            " rank (rząd macierzy): 0\n"
          ]
        }
      ]
    },
    {
      "cell_type": "code",
      "source": [
        "print(rank_description.format(np.ones((4,)), matrix_rank(np.ones((4,)))))"
      ],
      "metadata": {
        "colab": {
          "base_uri": "https://localhost:8080/"
        },
        "id": "mJT6nRpNi3nC",
        "outputId": "171a9d97-0d0b-4c53-ce9c-c94b96234eb6"
      },
      "execution_count": 11,
      "outputs": [
        {
          "output_type": "stream",
          "name": "stdout",
          "text": [
            "Matrix \n",
            " [1. 1. 1. 1.] \n",
            " rank (rząd macierzy): 1\n"
          ]
        }
      ]
    },
    {
      "cell_type": "code",
      "source": [
        "print(rank_description.format(np.zeros((1,4)), matrix_rank(np.zeros((1,4)))))"
      ],
      "metadata": {
        "colab": {
          "base_uri": "https://localhost:8080/"
        },
        "id": "gZhL3ePHoZJ9",
        "outputId": "a7407741-3df8-439f-8b13-5b66cc79a4c8"
      },
      "execution_count": 12,
      "outputs": [
        {
          "output_type": "stream",
          "name": "stdout",
          "text": [
            "Matrix \n",
            " [[0. 0. 0. 0.]] \n",
            " rank (rząd macierzy): 0\n"
          ]
        }
      ]
    },
    {
      "cell_type": "code",
      "source": [
        "print(rank_description.format(np.ones((1,4)), matrix_rank(np.ones((1,4)))))"
      ],
      "metadata": {
        "colab": {
          "base_uri": "https://localhost:8080/"
        },
        "id": "geyCYLr_oeTm",
        "outputId": "52c2f3fd-7ac4-4eb1-ea2a-433071ffdc4a"
      },
      "execution_count": 13,
      "outputs": [
        {
          "output_type": "stream",
          "name": "stdout",
          "text": [
            "Matrix \n",
            " [[1. 1. 1. 1.]] \n",
            " rank (rząd macierzy): 1\n"
          ]
        }
      ]
    },
    {
      "cell_type": "code",
      "source": [
        "print(rank_description.format(np.zeros((4,4)), matrix_rank(np.zeros((4,4)))))"
      ],
      "metadata": {
        "colab": {
          "base_uri": "https://localhost:8080/"
        },
        "id": "i9GK4KXHojke",
        "outputId": "fd792566-04fa-4574-9d84-f9184681c1d8"
      },
      "execution_count": 14,
      "outputs": [
        {
          "output_type": "stream",
          "name": "stdout",
          "text": [
            "Matrix \n",
            " [[0. 0. 0. 0.]\n",
            " [0. 0. 0. 0.]\n",
            " [0. 0. 0. 0.]\n",
            " [0. 0. 0. 0.]] \n",
            " rank (rząd macierzy): 0\n"
          ]
        }
      ]
    },
    {
      "cell_type": "code",
      "source": [
        "print(rank_description.format(np.ones((4,4)), matrix_rank(np.ones((4,4)))))"
      ],
      "metadata": {
        "colab": {
          "base_uri": "https://localhost:8080/"
        },
        "id": "EaPUdhKiom_B",
        "outputId": "c097654c-0e14-480f-b7ef-c38cf380819b"
      },
      "execution_count": 15,
      "outputs": [
        {
          "output_type": "stream",
          "name": "stdout",
          "text": [
            "Matrix \n",
            " [[1. 1. 1. 1.]\n",
            " [1. 1. 1. 1.]\n",
            " [1. 1. 1. 1.]\n",
            " [1. 1. 1. 1.]] \n",
            " rank (rząd macierzy): 1\n"
          ]
        }
      ]
    },
    {
      "cell_type": "markdown",
      "source": [
        "## Symmetric matrix\n",
        "\n",
        "$A^{T} = A$"
      ],
      "metadata": {
        "id": "qqX10kKs2fPv"
      }
    },
    {
      "cell_type": "code",
      "source": [
        "A = np.array([[1, 1, -1], [1, 2, 0], [-1, 0, 5]])\n",
        "A"
      ],
      "metadata": {
        "colab": {
          "base_uri": "https://localhost:8080/"
        },
        "id": "Pqrd59CX2nK-",
        "outputId": "55c0fb93-2158-4a15-e806-32d3252f7ac1"
      },
      "execution_count": 45,
      "outputs": [
        {
          "output_type": "execute_result",
          "data": {
            "text/plain": [
              "array([[ 1,  1, -1],\n",
              "       [ 1,  2,  0],\n",
              "       [-1,  0,  5]])"
            ]
          },
          "metadata": {},
          "execution_count": 45
        }
      ]
    },
    {
      "cell_type": "code",
      "source": [
        "A_t = A.transpose()\n",
        "A_t"
      ],
      "metadata": {
        "colab": {
          "base_uri": "https://localhost:8080/"
        },
        "id": "YiLnqKSu2xSV",
        "outputId": "50e6191b-48a7-41d5-bc4e-1a76468531ed"
      },
      "execution_count": 46,
      "outputs": [
        {
          "output_type": "execute_result",
          "data": {
            "text/plain": [
              "array([[ 1,  1, -1],\n",
              "       [ 1,  2,  0],\n",
              "       [-1,  0,  5]])"
            ]
          },
          "metadata": {},
          "execution_count": 46
        }
      ]
    },
    {
      "cell_type": "code",
      "source": [
        "np.array_equal(A, A_t)"
      ],
      "metadata": {
        "colab": {
          "base_uri": "https://localhost:8080/"
        },
        "id": "SCGnFLUG290x",
        "outputId": "eb358dbe-fac8-43a8-bef0-4c8b862bcf1e"
      },
      "execution_count": 47,
      "outputs": [
        {
          "output_type": "execute_result",
          "data": {
            "text/plain": [
              "True"
            ]
          },
          "metadata": {},
          "execution_count": 47
        }
      ]
    },
    {
      "cell_type": "markdown",
      "source": [
        "\n",
        "\n",
        "---\n",
        "\n",
        "\n",
        "## Norm\n",
        "\n",
        "The norm is generally used to evaluate the error of the model.\n",
        "\n",
        "\n",
        "\n",
        "*   L1 norm - the sum of the absolute values of the vector (the Manhattan/Taxicab Distance, the Mean Absolute Error (MAE), the Least Absolute Shrinkage and Selection Operator (LASSO))\n",
        "*   L2 norm - the square root of the sum of the squared vector values (the Euclidean Distance, the Mean Squared Error (MSE) / Least Squares Error, or the Ridge Operator)\n",
        "*   Max norm - the maximum vector values\n",
        "\n",
        "\n",
        "Properties:\n",
        "\n",
        "*   $ ||x|| \\geq 0 $\n",
        "\n",
        "*   $ ||x||  = 0 \\iff x = 0 $\n",
        "\n",
        "*   $ ||x + y|| \\leq ||x|| + ||y|| $\n",
        "\n",
        "*   $ ||λx|| = |λ|||x|| $\n",
        "\n",
        "\n",
        "\n",
        "\n",
        "\n"
      ],
      "metadata": {
        "id": "w9yjWm0qpTHf"
      }
    },
    {
      "cell_type": "code",
      "source": [
        "from numpy.linalg import norm"
      ],
      "metadata": {
        "id": "WT4PTFLwpVEk"
      },
      "execution_count": 16,
      "outputs": []
    },
    {
      "cell_type": "code",
      "source": [
        "norm_description = 'Vector \\n {0} \\n norm ({1}) value: {2}'"
      ],
      "metadata": {
        "id": "n9vueShHrbjk"
      },
      "execution_count": 17,
      "outputs": []
    },
    {
      "cell_type": "code",
      "source": [
        "x = np.array([1, 2, 3])"
      ],
      "metadata": {
        "id": "JNylQYdKrr_D"
      },
      "execution_count": 23,
      "outputs": []
    },
    {
      "cell_type": "code",
      "source": [
        "print(norm_description.format(x, 'L1', norm(x, 1)))"
      ],
      "metadata": {
        "colab": {
          "base_uri": "https://localhost:8080/"
        },
        "id": "EZd0lRIEr6fr",
        "outputId": "2d747936-7fca-44dc-eb28-34f5ee47aef0"
      },
      "execution_count": 24,
      "outputs": [
        {
          "output_type": "stream",
          "name": "stdout",
          "text": [
            "Vector \n",
            " [1 2 3] \n",
            " norm (L1) value: 6.0\n"
          ]
        }
      ]
    },
    {
      "cell_type": "code",
      "source": [
        "norm_1_value = 0\n",
        "\n",
        "for value in x:\n",
        "  norm_1_value += abs(value)\n",
        "\n",
        "print(norm_description.format(x, 'L1', norm_1_value))"
      ],
      "metadata": {
        "colab": {
          "base_uri": "https://localhost:8080/"
        },
        "id": "J90IHI9nt1oX",
        "outputId": "29a6aaf0-bdb0-4c74-dd28-a30a62c583d8"
      },
      "execution_count": 30,
      "outputs": [
        {
          "output_type": "stream",
          "name": "stdout",
          "text": [
            "Vector \n",
            " [1 2 3] \n",
            " norm (L1) value: 6\n"
          ]
        }
      ]
    },
    {
      "cell_type": "code",
      "source": [
        "print(norm_description.format(x, 'L2', norm(x)))"
      ],
      "metadata": {
        "colab": {
          "base_uri": "https://localhost:8080/"
        },
        "id": "11MHNOTgsDTW",
        "outputId": "0b65ed85-55e9-40b1-d47e-9990e274ffa8"
      },
      "execution_count": 20,
      "outputs": [
        {
          "output_type": "stream",
          "name": "stdout",
          "text": [
            "Vector \n",
            " [1 2 3] \n",
            " norm (L2) value: 3.7416573867739413\n"
          ]
        }
      ]
    },
    {
      "cell_type": "code",
      "source": [
        "norm_2_value = 0\n",
        "\n",
        "for value in x:\n",
        "  norm_2_value  += value**2\n",
        "\n",
        "norm_2_value = np.sqrt(norm_2_value)\n",
        "\n",
        "print(norm_description.format(x, 'L2', norm_2_value))"
      ],
      "metadata": {
        "colab": {
          "base_uri": "https://localhost:8080/"
        },
        "id": "F7toWKGEvASP",
        "outputId": "01b521a1-9e7a-4c56-b624-a97fd52283cc"
      },
      "execution_count": 34,
      "outputs": [
        {
          "output_type": "stream",
          "name": "stdout",
          "text": [
            "Vector \n",
            " [1 2 3] \n",
            " norm (L2) value: 3.7416573867739413\n"
          ]
        }
      ]
    },
    {
      "cell_type": "code",
      "source": [
        "print(norm_description.format(x, 'inf', norm(x, np.inf)))"
      ],
      "metadata": {
        "colab": {
          "base_uri": "https://localhost:8080/"
        },
        "id": "uoKKB9VAsNXX",
        "outputId": "edc4c445-4220-4f08-a460-1863acfaf66f"
      },
      "execution_count": 35,
      "outputs": [
        {
          "output_type": "stream",
          "name": "stdout",
          "text": [
            "Vector \n",
            " [1 2 3] \n",
            " norm (inf) value: 3.0\n"
          ]
        }
      ]
    },
    {
      "cell_type": "code",
      "source": [
        "norm_inf_value = 0\n",
        "\n",
        "for value in x:\n",
        "  if abs(value) > norm_inf_value:\n",
        "    norm_inf_value = value\n",
        "\n",
        "print(norm_description.format(x, 'inf', norm_inf_value))"
      ],
      "metadata": {
        "colab": {
          "base_uri": "https://localhost:8080/"
        },
        "id": "4RTjFuJMwAny",
        "outputId": "8ed6b7bd-4e84-4ef0-b6ca-94dc062ede8b"
      },
      "execution_count": 38,
      "outputs": [
        {
          "output_type": "stream",
          "name": "stdout",
          "text": [
            "Vector \n",
            " [1 2 3] \n",
            " norm (inf) value: 3\n"
          ]
        }
      ]
    },
    {
      "cell_type": "markdown",
      "source": [
        "## Dot product\n",
        "\n",
        "> $ <x, y> $\n",
        "\n",
        "Pairs of $ (V<x, y>) $ is an Eucleadian space.\n",
        "\n",
        "The dot product of two functions (u, v):\n",
        "\n",
        "$ <u, v> = \\int_{a}^{b} u(x)v(x) \\,dx \\ $\n",
        "\n",
        "The dot product in $ R^{n} $:\n",
        "\n",
        "$x^{T}y = \\sum_{i=1}^{n} x_i y_i $"
      ],
      "metadata": {
        "id": "CdJsovyhw9I2"
      }
    },
    {
      "cell_type": "code",
      "source": [
        "v1 = np.array([-2, 1])\n",
        "v2 = np.array([0, 3])"
      ],
      "metadata": {
        "id": "jzkkf_WYw7wl"
      },
      "execution_count": 42,
      "outputs": []
    },
    {
      "cell_type": "code",
      "source": [
        "np.dot(v1, v2)"
      ],
      "metadata": {
        "colab": {
          "base_uri": "https://localhost:8080/"
        },
        "id": "ceoyPJ5Z1zHN",
        "outputId": "6773a75a-e974-4930-b910-7eb0d5952587"
      },
      "execution_count": 43,
      "outputs": [
        {
          "output_type": "execute_result",
          "data": {
            "text/plain": [
              "3"
            ]
          },
          "metadata": {},
          "execution_count": 43
        }
      ]
    },
    {
      "cell_type": "markdown",
      "source": [
        "The Euclidean length of the vector\n",
        "\n",
        "$ ||x|| = \t\\sqrt{<x, x>}$\n",
        "\n",
        "$ <x, y> = x^{T}y $\n",
        "\n",
        "If the vectors x are orthogonal (i.e., their angle is π / 2 or 90°).\n",
        "$ <x, y> = 0 $"
      ],
      "metadata": {
        "id": "QPRsC6uO4_JD"
      }
    },
    {
      "cell_type": "markdown",
      "source": [
        "## Orthogonal matrix\n",
        "\n",
        "> real square matrix whose columns and rows are orthonormal vectors\n",
        "\n",
        "$ AA^{T} = I = A^{T}A $\n",
        "\n",
        "$ A^{-1} = A^{T} $"
      ],
      "metadata": {
        "id": "yy627kpE6H_h"
      }
    },
    {
      "cell_type": "code",
      "source": [
        "A = np.array([[-1, 0], [0, 1]])\n",
        "A_t = np.transpose(A)\n",
        "A_inv = np.linalg.inv(A)"
      ],
      "metadata": {
        "id": "_eW3eWB36QSh"
      },
      "execution_count": 55,
      "outputs": []
    },
    {
      "cell_type": "code",
      "source": [
        "A"
      ],
      "metadata": {
        "colab": {
          "base_uri": "https://localhost:8080/"
        },
        "id": "UA31mIIA7EjR",
        "outputId": "e8a8067e-22f0-4c05-d964-60618ee2976b"
      },
      "execution_count": 56,
      "outputs": [
        {
          "output_type": "execute_result",
          "data": {
            "text/plain": [
              "array([[-1,  0],\n",
              "       [ 0,  1]])"
            ]
          },
          "metadata": {},
          "execution_count": 56
        }
      ]
    },
    {
      "cell_type": "code",
      "source": [
        "A_t"
      ],
      "metadata": {
        "colab": {
          "base_uri": "https://localhost:8080/"
        },
        "id": "PM2kZ9DV7E4O",
        "outputId": "8c663def-72e2-4443-f10a-0dea6bb571c4"
      },
      "execution_count": 57,
      "outputs": [
        {
          "output_type": "execute_result",
          "data": {
            "text/plain": [
              "array([[-1,  0],\n",
              "       [ 0,  1]])"
            ]
          },
          "metadata": {},
          "execution_count": 57
        }
      ]
    },
    {
      "cell_type": "code",
      "source": [
        "A_inv"
      ],
      "metadata": {
        "colab": {
          "base_uri": "https://localhost:8080/"
        },
        "id": "GAoDPraD71GV",
        "outputId": "97dfba59-fc3c-47f9-d1c6-3d6def0f340b"
      },
      "execution_count": 58,
      "outputs": [
        {
          "output_type": "execute_result",
          "data": {
            "text/plain": [
              "array([[-1., -0.],\n",
              "       [ 0.,  1.]])"
            ]
          },
          "metadata": {},
          "execution_count": 58
        }
      ]
    },
    {
      "cell_type": "code",
      "source": [
        "res = np.dot(A, A_t)\n",
        "res"
      ],
      "metadata": {
        "colab": {
          "base_uri": "https://localhost:8080/"
        },
        "id": "hqasmUSu7GCb",
        "outputId": "4e4309fb-cab7-4602-c5b3-83a36a7cc3fc"
      },
      "execution_count": 53,
      "outputs": [
        {
          "output_type": "execute_result",
          "data": {
            "text/plain": [
              "array([[1, 0],\n",
              "       [0, 1]])"
            ]
          },
          "metadata": {},
          "execution_count": 53
        }
      ]
    },
    {
      "cell_type": "code",
      "source": [
        "I = np.eye(2)\n",
        "I"
      ],
      "metadata": {
        "colab": {
          "base_uri": "https://localhost:8080/"
        },
        "id": "9obNhnID7MDO",
        "outputId": "cc591d3b-38f3-473e-ea5e-4150d6006843"
      },
      "execution_count": 52,
      "outputs": [
        {
          "output_type": "execute_result",
          "data": {
            "text/plain": [
              "array([[1., 0.],\n",
              "       [0., 1.]])"
            ]
          },
          "metadata": {},
          "execution_count": 52
        }
      ]
    },
    {
      "cell_type": "code",
      "source": [
        "np.all(np.equal(res, I))"
      ],
      "metadata": {
        "colab": {
          "base_uri": "https://localhost:8080/"
        },
        "id": "DC0vRBmS7U2e",
        "outputId": "417910b7-3dd7-4f4c-8b9b-b798f1879de4"
      },
      "execution_count": 54,
      "outputs": [
        {
          "output_type": "execute_result",
          "data": {
            "text/plain": [
              "True"
            ]
          },
          "metadata": {},
          "execution_count": 54
        }
      ]
    },
    {
      "cell_type": "code",
      "source": [
        "np.all(np.equal(A_inv, A_t))"
      ],
      "metadata": {
        "colab": {
          "base_uri": "https://localhost:8080/"
        },
        "id": "YshdttUY7bA3",
        "outputId": "933d84ab-c1c3-4139-b948-ca020f8cb10c"
      },
      "execution_count": 59,
      "outputs": [
        {
          "output_type": "execute_result",
          "data": {
            "text/plain": [
              "True"
            ]
          },
          "metadata": {},
          "execution_count": 59
        }
      ]
    },
    {
      "cell_type": "code",
      "source": [
        ""
      ],
      "metadata": {
        "id": "ITDTkbUu8Mz6"
      },
      "execution_count": null,
      "outputs": []
    }
  ]
}