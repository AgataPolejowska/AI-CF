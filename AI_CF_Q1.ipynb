{
 "cells": [
  {
   "cell_type": "code",
   "execution_count": 2,
   "metadata": {},
   "outputs": [],
   "source": [
    "import numpy as np"
   ]
  },
  {
   "cell_type": "markdown",
   "metadata": {},
   "source": [
    "***\n",
    "\n",
    "#### **Q1.**\n",
    "\n",
    "Given the eigenvalues:\n",
    "\n",
    "$ \\lambda_{1} = 0 $\n",
    "\n",
    "$ \\lambda_{2} = c $\n",
    "\n",
    "$ \\lambda_{3} = 2 $\n",
    "\n",
    "\n",
    "and eigenvectors:\n",
    "\n",
    "$ x_{1} = [1, 1, 1] $\n",
    "\n",
    "$ x_{2} = [1, -1, 0] $\n",
    "\n",
    "$ x_{3} = [1, 1, -2] $\n"
   ]
  },
  {
   "cell_type": "markdown",
   "metadata": {},
   "source": [
    "a) Is the matrix diagonalizable? For which $ c $?\n",
    "\n",
    "Hint: \n",
    "We need enough eigenvectors, we don't care about eigenvalues to say if a matrix is diagonalizable. The eigenvectors should be independent."
   ]
  },
  {
   "cell_type": "code",
   "execution_count": 4,
   "metadata": {},
   "outputs": [
    {
     "data": {
      "text/plain": [
       "6.0"
      ]
     },
     "execution_count": 4,
     "metadata": {},
     "output_type": "execute_result"
    }
   ],
   "source": [
    "# Check if vectors are independent\n",
    "\n",
    "x1 = [1, 1, 1]\n",
    "x2 = [1, -1, 0]\n",
    "x3 = [1, 1, -2]\n",
    "\n",
    "matrix = np.array([\n",
    "    x1,\n",
    "    x2,\n",
    "    x3\n",
    "])\n",
    "\n",
    "np.linalg.det(matrix) # if nonzero - lineary independent"
   ]
  },
  {
   "cell_type": "code",
   "execution_count": 10,
   "metadata": {},
   "outputs": [
    {
     "data": {
      "text/plain": [
       "0"
      ]
     },
     "execution_count": 10,
     "metadata": {},
     "output_type": "execute_result"
    }
   ],
   "source": [
    "# vectors are orthogonal if the dot porduct of the vectors is zero\n",
    "np.dot(x1, x2) and np.dot(x1, x3) and np.dot(x2, x2) # if zero - all three vectors are mutually orthogonal"
   ]
  },
  {
   "cell_type": "markdown",
   "metadata": {},
   "source": [
    "**Answer:\n",
    "The eigenvectors are orthogonal and lineary independent.\n",
    "So, the matrix is diagonalizable for all $ c $.**\n"
   ]
  },
  {
   "cell_type": "markdown",
   "metadata": {},
   "source": [
    "b) Is the matrix symmetric? For which $ c $?\n",
    "\n",
    "Eigenvectors are orthogonal. Then for matrix to be symmetric, all eigenvalues have to be real.\n",
    "\n",
    "**Answer: all real $ c $**"
   ]
  },
  {
   "cell_type": "markdown",
   "metadata": {},
   "source": [
    "c) Is the matrix positive definite (sub-case of symmetric)?\n",
    "\n",
    "**Answer: No, because it's got an eigenvalue equal to zero.**"
   ]
  },
  {
   "cell_type": "markdown",
   "metadata": {},
   "source": [
    "d) Could one half of matrix be a projection matrix?\n",
    "\n",
    "Hint: Projection matrices are real, symmetric (their eigenvalues are real). The eigenvalues of projection matrices are zero and one only.\n",
    "\n",
    "**Answer: $ c = 0 $ or $ c = 2 $ (because half of matrix: c/2 = 1 or c/2 = 0)**"
   ]
  },
  {
   "cell_type": "code",
   "execution_count": null,
   "metadata": {},
   "outputs": [],
   "source": []
  },
  {
   "cell_type": "markdown",
   "metadata": {},
   "source": [
    "***\n",
    "#### **Q2.** \n",
    "\n",
    "SVD - Singular Value Decomposition\n",
    "\n",
    "\n",
    "Review:\n",
    "\n",
    "$ A = (orthogonal)(diagonal)(orthogonal) = U\\Sigma V^{T}$ \n",
    "\n",
    "For every matrix $ A $ (e.g. rectangular).\n",
    "\n",
    "Symmetric case: $ U = V $\n",
    "\n",
    "$ AA^{T} = (U\\Sigma V^{T})(V\\Sigma^{T} U^{T})$\n",
    "\n",
    "$ V^{T}V = I $\n",
    "\n",
    "$ AV = U\\Sigma $\n",
    "\n",
    "\n",
    "\n",
    "Suppose that:\n",
    "\n",
    "$ \\Sigma = [ [3, 0], [0, 2]]$\n",
    "\n",
    "$ U = [u_{1}, u_{2}] $\n",
    "\n",
    "$ V^{T} = [v_{1}, v_{2}]^{T} $\n",
    "\n",
    "$ U, V - orthogonal $\n",
    "\n",
    "\n",
    "$ \\Sigma = [ [\\sigma_{1}, 0], [0, \\sigma_{2}]]$\n",
    "\n",
    "$ \\sigma_{1} = 3 $\n",
    "\n",
    "$ \\sigma_{2} = 2 $\n",
    "\n",
    "What if $ \\sigma_{2} = -2 $? That's not a signular value decomposition. **Singular values are not negative.**\n",
    "\n",
    "What if $ \\sigma_{2} = 0 $? It's singular. \n",
    "\n",
    "What is the rank, null space of $ A $ if $ \\sigma_{2} = 0 $? **rank(A) = 1, nullspace(A) = 1**"
   ]
  },
  {
   "cell_type": "markdown",
   "metadata": {},
   "source": []
  }
 ],
 "metadata": {
  "interpreter": {
   "hash": "709e4d1bbd98513b04ff4e6c58ffd55cbb1b7bdc871cfb761daf3a0874830e59"
  },
  "kernelspec": {
   "display_name": "Python 3.8.6 64-bit",
   "language": "python",
   "name": "python3"
  },
  "language_info": {
   "codemirror_mode": {
    "name": "ipython",
    "version": 3
   },
   "file_extension": ".py",
   "mimetype": "text/x-python",
   "name": "python",
   "nbconvert_exporter": "python",
   "pygments_lexer": "ipython3",
   "version": "3.8.6"
  },
  "orig_nbformat": 4
 },
 "nbformat": 4,
 "nbformat_minor": 2
}
