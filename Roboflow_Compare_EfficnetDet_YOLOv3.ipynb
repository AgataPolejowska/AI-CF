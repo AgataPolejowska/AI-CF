{
  "nbformat": 4,
  "nbformat_minor": 0,
  "metadata": {
    "colab": {
      "provenance": [],
      "include_colab_link": true
    },
    "kernelspec": {
      "name": "python3",
      "display_name": "Python 3"
    },
    "accelerator": "GPU"
  },
  "cells": [
    {
      "cell_type": "markdown",
      "metadata": {
        "id": "view-in-github",
        "colab_type": "text"
      },
      "source": [
        "<a href=\"https://colab.research.google.com/github/AgataPolejowska/AI-CF/blob/main/Roboflow_Compare_EfficnetDet_YOLOv3.ipynb\" target=\"_parent\"><img src=\"https://colab.research.google.com/assets/colab-badge.svg\" alt=\"Open In Colab\"/></a>"
      ]
    },
    {
      "cell_type": "markdown",
      "metadata": {
        "id": "rs_M-gWdU8te"
      },
      "source": [
        "# Overview\n",
        "\n",
        "YoloV3 has been the go to model for image detection use cases in application development because of its small size, quick inference time, and portability. Recently, the Google Brain team has released EfficientDet, which has shown promise to perform better under more stringent computational constraints than YoloV3 on COCO (a general image detection task). \n",
        "\n",
        "In this notebook, we put the claims of EfficientDet to the test. We compare the **model size, training time, downstream performance, and inference time** of YoloV3 and EfficientDet-D0 on a custom dataset from Roboflow. To run on your own custom dataset, you only need to change one line of code that you will recieve after uploading your data set to Roboflow!\n",
        "\n",
        "\n",
        "#### ![Post image](https://i.imgur.com/eisthE4.png)\n",
        "\n",
        "Image Citation: http://clipart-library.com/ \n",
        "\n",
        "\n",
        "\n",
        "### **Data Download** \n",
        "\n",
        "We will download our data in two formats from Roboflow. COCO json for EfficientDet and Yolov3 Darknet text. Our data contains examples of labeling chess pieces, which we at Roboflow consider our \"hello world\" for image detection. \n",
        "\n",
        "### **Model training** \n",
        "\n",
        "To familiarize with training EfficientDet with Roboflow [see this blog post](incoming). \n",
        "To familiarize with training YoloV3 with Roboflow [see this blog post](https://blog.roboflow.ai/training-a-yolov3-object-detection-model-with-a-custom-dataset/)\n",
        "\n",
        "Both of our implementations of the two models are in pytorch. \n",
        "\n",
        "### **Measuring training time** \n",
        "\n",
        "In order to measure training time, we train each model to the point of convergence. \n",
        "\n",
        "### **Measuring model size**\n",
        "\n",
        "We look at how much storage is required to host the trained model weights for each implementation\n",
        "\n",
        "### **Measuring downstream performance**\n",
        "\n",
        "We evaluate the mAP (mean Average Precision) on our test set split. \n",
        "\n",
        "### **Measuring Inference Time** \n",
        "\n",
        "We time the average amount of time it takes the model to make inferences on a single shot image detection task. \n",
        "\n",
        "### **Conclusion**\n",
        "\n",
        "What did we find\n",
        "\n",
        "#### ![Roboflow Workmark](https://i.imgur.com/WHFqYSJ.png)\n",
        "\n"
      ]
    },
    {
      "cell_type": "markdown",
      "metadata": {
        "id": "xj9AE8yzq6Qr"
      },
      "source": [
        "# Set Up Environment"
      ]
    },
    {
      "cell_type": "code",
      "metadata": {
        "id": "8TCN6M76zpf4",
        "outputId": "a45be7f6-f640-4eb4-df7e-d1a13ea65d5e",
        "colab": {
          "base_uri": "https://localhost:8080/",
          "height": 187
        }
      },
      "source": [
        "#look at specs\n",
        "!df -h\n"
      ],
      "execution_count": null,
      "outputs": [
        {
          "output_type": "stream",
          "text": [
            "Filesystem      Size  Used Avail Use% Mounted on\n",
            "overlay          69G   32G   34G  49% /\n",
            "tmpfs            64M     0   64M   0% /dev\n",
            "tmpfs           6.4G     0  6.4G   0% /sys/fs/cgroup\n",
            "shm             5.8G     0  5.8G   0% /dev/shm\n",
            "tmpfs           6.4G   16K  6.4G   1% /var/colab\n",
            "/dev/sda1        75G   33G   43G  44% /opt/bin\n",
            "tmpfs           6.4G     0  6.4G   0% /proc/acpi\n",
            "tmpfs           6.4G     0  6.4G   0% /proc/scsi\n",
            "tmpfs           6.4G     0  6.4G   0% /sys/firmware\n"
          ],
          "name": "stdout"
        }
      ]
    },
    {
      "cell_type": "code",
      "metadata": {
        "id": "FjSNEtRjzxLL",
        "outputId": "204a5309-e268-494b-c320-eded3af1a0c6",
        "colab": {
          "base_uri": "https://localhost:8080/",
          "height": 955
        }
      },
      "source": [
        "!cat /proc/cpuinfo"
      ],
      "execution_count": null,
      "outputs": [
        {
          "output_type": "stream",
          "text": [
            "processor\t: 0\n",
            "vendor_id\t: GenuineIntel\n",
            "cpu family\t: 6\n",
            "model\t\t: 63\n",
            "model name\t: Intel(R) Xeon(R) CPU @ 2.30GHz\n",
            "stepping\t: 0\n",
            "microcode\t: 0x1\n",
            "cpu MHz\t\t: 2300.000\n",
            "cache size\t: 46080 KB\n",
            "physical id\t: 0\n",
            "siblings\t: 2\n",
            "core id\t\t: 0\n",
            "cpu cores\t: 1\n",
            "apicid\t\t: 0\n",
            "initial apicid\t: 0\n",
            "fpu\t\t: yes\n",
            "fpu_exception\t: yes\n",
            "cpuid level\t: 13\n",
            "wp\t\t: yes\n",
            "flags\t\t: fpu vme de pse tsc msr pae mce cx8 apic sep mtrr pge mca cmov pat pse36 clflush mmx fxsr sse sse2 ss ht syscall nx pdpe1gb rdtscp lm constant_tsc rep_good nopl xtopology nonstop_tsc cpuid tsc_known_freq pni pclmulqdq ssse3 fma cx16 pcid sse4_1 sse4_2 x2apic movbe popcnt aes xsave avx f16c rdrand hypervisor lahf_lm abm invpcid_single ssbd ibrs ibpb stibp fsgsbase tsc_adjust bmi1 avx2 smep bmi2 erms invpcid xsaveopt arat md_clear arch_capabilities\n",
            "bugs\t\t: cpu_meltdown spectre_v1 spectre_v2 spec_store_bypass l1tf mds swapgs itlb_multihit\n",
            "bogomips\t: 4600.00\n",
            "clflush size\t: 64\n",
            "cache_alignment\t: 64\n",
            "address sizes\t: 46 bits physical, 48 bits virtual\n",
            "power management:\n",
            "\n",
            "processor\t: 1\n",
            "vendor_id\t: GenuineIntel\n",
            "cpu family\t: 6\n",
            "model\t\t: 63\n",
            "model name\t: Intel(R) Xeon(R) CPU @ 2.30GHz\n",
            "stepping\t: 0\n",
            "microcode\t: 0x1\n",
            "cpu MHz\t\t: 2300.000\n",
            "cache size\t: 46080 KB\n",
            "physical id\t: 0\n",
            "siblings\t: 2\n",
            "core id\t\t: 0\n",
            "cpu cores\t: 1\n",
            "apicid\t\t: 1\n",
            "initial apicid\t: 1\n",
            "fpu\t\t: yes\n",
            "fpu_exception\t: yes\n",
            "cpuid level\t: 13\n",
            "wp\t\t: yes\n",
            "flags\t\t: fpu vme de pse tsc msr pae mce cx8 apic sep mtrr pge mca cmov pat pse36 clflush mmx fxsr sse sse2 ss ht syscall nx pdpe1gb rdtscp lm constant_tsc rep_good nopl xtopology nonstop_tsc cpuid tsc_known_freq pni pclmulqdq ssse3 fma cx16 pcid sse4_1 sse4_2 x2apic movbe popcnt aes xsave avx f16c rdrand hypervisor lahf_lm abm invpcid_single ssbd ibrs ibpb stibp fsgsbase tsc_adjust bmi1 avx2 smep bmi2 erms invpcid xsaveopt arat md_clear arch_capabilities\n",
            "bugs\t\t: cpu_meltdown spectre_v1 spectre_v2 spec_store_bypass l1tf mds swapgs itlb_multihit\n",
            "bogomips\t: 4600.00\n",
            "clflush size\t: 64\n",
            "cache_alignment\t: 64\n",
            "address sizes\t: 46 bits physical, 48 bits virtual\n",
            "power management:\n",
            "\n"
          ],
          "name": "stdout"
        }
      ]
    },
    {
      "cell_type": "code",
      "metadata": {
        "id": "ZMK5PKXtz12h",
        "outputId": "2cb46a2f-2c1c-4400-b048-91705b539096",
        "colab": {
          "base_uri": "https://localhost:8080/",
          "height": 816
        }
      },
      "source": [
        "!cat /proc/meminfo"
      ],
      "execution_count": null,
      "outputs": [
        {
          "output_type": "stream",
          "text": [
            "MemTotal:       13333556 kB\n",
            "MemFree:        10538116 kB\n",
            "MemAvailable:   12461524 kB\n",
            "Buffers:           74320 kB\n",
            "Cached:          2006724 kB\n",
            "SwapCached:            0 kB\n",
            "Active:           728140 kB\n",
            "Inactive:        1785584 kB\n",
            "Active(anon):     412256 kB\n",
            "Inactive(anon):      336 kB\n",
            "Active(file):     315884 kB\n",
            "Inactive(file):  1785248 kB\n",
            "Unevictable:           0 kB\n",
            "Mlocked:               0 kB\n",
            "SwapTotal:             0 kB\n",
            "SwapFree:              0 kB\n",
            "Dirty:               924 kB\n",
            "Writeback:             0 kB\n",
            "AnonPages:        432764 kB\n",
            "Mapped:           221928 kB\n",
            "Shmem:               940 kB\n",
            "Slab:             166124 kB\n",
            "SReclaimable:     126340 kB\n",
            "SUnreclaim:        39784 kB\n",
            "KernelStack:        3488 kB\n",
            "PageTables:         5356 kB\n",
            "NFS_Unstable:          0 kB\n",
            "Bounce:                0 kB\n",
            "WritebackTmp:          0 kB\n",
            "CommitLimit:     6666776 kB\n",
            "Committed_AS:    2507124 kB\n",
            "VmallocTotal:   34359738367 kB\n",
            "VmallocUsed:           0 kB\n",
            "VmallocChunk:          0 kB\n",
            "Percpu:              920 kB\n",
            "AnonHugePages:         0 kB\n",
            "ShmemHugePages:        0 kB\n",
            "ShmemPmdMapped:        0 kB\n",
            "HugePages_Total:       0\n",
            "HugePages_Free:        0\n",
            "HugePages_Rsvd:        0\n",
            "HugePages_Surp:        0\n",
            "Hugepagesize:       2048 kB\n",
            "Hugetlb:               0 kB\n",
            "DirectMap4k:      107708 kB\n",
            "DirectMap2M:     5134336 kB\n",
            "DirectMap1G:    10485760 kB\n"
          ],
          "name": "stdout"
        }
      ]
    },
    {
      "cell_type": "code",
      "metadata": {
        "id": "AM8VHd16UuYm",
        "outputId": "ffc31c10-e759-478e-9ea1-0c9efcb863c1",
        "colab": {
          "base_uri": "https://localhost:8080/",
          "height": 1000
        }
      },
      "source": [
        "#first set up for EfficientDet\n",
        "#our fork of the Tessellate-Imaging image detection library\n",
        "#!rm -rf Monk_Object_Detection\n",
        "! git clone https://github.com/roboflow-ai/Monk_Object_Detection.git\n",
        "# For colab use the command below\n",
        "# Set up library requirments\n",
        "! cd Monk_Object_Detection/3_mxrcnn/installation && cat requirements_colab.txt | xargs -n 1 -L 1 pip install\n",
        "#fixed version of tqdm output for Colab\n",
        "!pip install --force https://github.com/chengs/tqdm/archive/colab.zip\n",
        "#IGNORE restart runtime warning, it is indeed installed\n",
        "#missing a few extra packages that we will need later! \n",
        "!pip install efficientnet_pytorch\n",
        "!pip install tensorboardX\n",
        "\n",
        "\n",
        "#second set up for YOLOv3\n",
        "import os\n",
        "import torch\n",
        "from IPython.display import Image, clear_output \n",
        "print('PyTorch %s %s' % (torch.__version__, torch.cuda.get_device_properties(0) if torch.cuda.is_available() else 'CPU'))\n",
        "!git clone https://github.com/roboflow-ai/yolov3  # clone\n"
      ],
      "execution_count": null,
      "outputs": [
        {
          "output_type": "stream",
          "text": [
            "Cloning into 'Monk_Object_Detection'...\n",
            "remote: Enumerating objects: 42, done.\u001b[K\n",
            "remote: Counting objects: 100% (42/42), done.\u001b[K\n",
            "remote: Compressing objects: 100% (30/30), done.\u001b[K\n",
            "remote: Total 3744 (delta 24), reused 30 (delta 12), pack-reused 3702\u001b[K\n",
            "Receiving objects: 100% (3744/3744), 132.19 MiB | 31.29 MiB/s, done.\n",
            "Resolving deltas: 100% (797/797), done.\n",
            "Checking out files: 100% (4032/4032), done.\n",
            "Collecting mxnet-cu100\n",
            "\u001b[?25l  Downloading https://files.pythonhosted.org/packages/3d/84/d098e0607ee6207448b6af65315f5d45946b49e4f48160eade6cdd64ce4e/mxnet_cu100-1.5.1.post0-py2.py3-none-manylinux1_x86_64.whl (540.1MB)\n",
            "\u001b[K     |████████████████████████████████| 540.1MB 32kB/s \n",
            "\u001b[?25hRequirement already satisfied: numpy<2.0.0,>1.16.0 in /usr/local/lib/python3.6/dist-packages (from mxnet-cu100) (1.18.3)\n",
            "Collecting graphviz<0.9.0,>=0.8.1\n",
            "  Downloading https://files.pythonhosted.org/packages/53/39/4ab213673844e0c004bed8a0781a0721a3f6bb23eb8854ee75c236428892/graphviz-0.8.4-py2.py3-none-any.whl\n",
            "Requirement already satisfied: requests<3,>=2.20.0 in /usr/local/lib/python3.6/dist-packages (from mxnet-cu100) (2.21.0)\n",
            "Requirement already satisfied: chardet<3.1.0,>=3.0.2 in /usr/local/lib/python3.6/dist-packages (from requests<3,>=2.20.0->mxnet-cu100) (3.0.4)\n",
            "Requirement already satisfied: urllib3<1.25,>=1.21.1 in /usr/local/lib/python3.6/dist-packages (from requests<3,>=2.20.0->mxnet-cu100) (1.24.3)\n",
            "Requirement already satisfied: certifi>=2017.4.17 in /usr/local/lib/python3.6/dist-packages (from requests<3,>=2.20.0->mxnet-cu100) (2020.4.5.1)\n",
            "Requirement already satisfied: idna<2.9,>=2.5 in /usr/local/lib/python3.6/dist-packages (from requests<3,>=2.20.0->mxnet-cu100) (2.8)\n",
            "Installing collected packages: graphviz, mxnet-cu100\n",
            "  Found existing installation: graphviz 0.10.1\n",
            "    Uninstalling graphviz-0.10.1:\n",
            "      Successfully uninstalled graphviz-0.10.1\n",
            "Successfully installed graphviz-0.8.4 mxnet-cu100-1.5.1.post0\n",
            "Collecting dicttoxml\n",
            "  Downloading https://files.pythonhosted.org/packages/74/36/534db111db9e7610a41641a1f6669a964aacaf51858f466de264cc8dcdd9/dicttoxml-1.7.4.tar.gz\n",
            "Building wheels for collected packages: dicttoxml\n",
            "  Building wheel for dicttoxml (setup.py) ... \u001b[?25l\u001b[?25hdone\n",
            "  Created wheel for dicttoxml: filename=dicttoxml-1.7.4-cp36-none-any.whl size=17452 sha256=34d7d74b41b2f0a8fa80acc8b8412c86dec94b9e9f0728ad3aa5a68bdbd9cad9\n",
            "  Stored in directory: /root/.cache/pip/wheels/62/4f/a3/afd4a68f5add45a668c14efa53b64d5cffb2be6bacf993c151\n",
            "Successfully built dicttoxml\n",
            "Installing collected packages: dicttoxml\n",
            "Successfully installed dicttoxml-1.7.4\n",
            "Collecting xmltodict\n",
            "  Downloading https://files.pythonhosted.org/packages/28/fd/30d5c1d3ac29ce229f6bdc40bbc20b28f716e8b363140c26eff19122d8a5/xmltodict-0.12.0-py2.py3-none-any.whl\n",
            "Installing collected packages: xmltodict\n",
            "Successfully installed xmltodict-0.12.0\n",
            "Requirement already satisfied: pycocotools from git+https://github.com/abhi-kumar/cocoapi.git#egg=pycocotools&subdirectory=PythonAPI in /usr/local/lib/python3.6/dist-packages (2.0.0)\n",
            "Collecting https://github.com/chengs/tqdm/archive/colab.zip\n",
            "\u001b[?25l  Downloading https://github.com/chengs/tqdm/archive/colab.zip\n",
            "\u001b[K     - 378kB 6.4MB/s\n",
            "\u001b[?25hBuilding wheels for collected packages: tqdm\n",
            "  Building wheel for tqdm (setup.py) ... \u001b[?25l\u001b[?25hdone\n",
            "  Created wheel for tqdm: filename=tqdm-4.28.1-py2.py3-none-any.whl size=47867 sha256=ad41b03ba33f3b333531cfcbd5573147bfe89283962ea49cc584bb387ac26663\n",
            "  Stored in directory: /tmp/pip-ephem-wheel-cache-k9j91e4e/wheels/41/18/ee/d5dd158441b27965855b1bbae03fa2d8a91fe645c01b419896\n",
            "Successfully built tqdm\n",
            "\u001b[31mERROR: spacy 2.2.4 has requirement tqdm<5.0.0,>=4.38.0, but you'll have tqdm 4.28.1 which is incompatible.\u001b[0m\n",
            "Installing collected packages: tqdm\n",
            "  Found existing installation: tqdm 4.38.0\n",
            "    Uninstalling tqdm-4.38.0:\n",
            "      Successfully uninstalled tqdm-4.38.0\n",
            "Successfully installed tqdm-4.28.1\n"
          ],
          "name": "stdout"
        },
        {
          "output_type": "display_data",
          "data": {
            "application/vnd.colab-display-data+json": {
              "pip_warning": {
                "packages": [
                  "tqdm"
                ]
              }
            }
          },
          "metadata": {
            "tags": []
          }
        },
        {
          "output_type": "stream",
          "text": [
            "Collecting efficientnet_pytorch\n",
            "  Downloading https://files.pythonhosted.org/packages/b8/cb/0309a6e3d404862ae4bc017f89645cf150ac94c14c88ef81d215c8e52925/efficientnet_pytorch-0.6.3.tar.gz\n",
            "Requirement already satisfied: torch in /usr/local/lib/python3.6/dist-packages (from efficientnet_pytorch) (1.4.0)\n",
            "Building wheels for collected packages: efficientnet-pytorch\n",
            "  Building wheel for efficientnet-pytorch (setup.py) ... \u001b[?25l\u001b[?25hdone\n",
            "  Created wheel for efficientnet-pytorch: filename=efficientnet_pytorch-0.6.3-cp36-none-any.whl size=12422 sha256=346db5a16d87ae5db02dcf2571cdf769a1db7d424a53e6e5372cc3c1eff947a6\n",
            "  Stored in directory: /root/.cache/pip/wheels/42/1e/a9/2a578ba9ad04e776e80bf0f70d8a7f4c29ec0718b92d8f6ccd\n",
            "Successfully built efficientnet-pytorch\n",
            "Installing collected packages: efficientnet-pytorch\n",
            "Successfully installed efficientnet-pytorch-0.6.3\n",
            "Collecting tensorboardX\n",
            "\u001b[?25l  Downloading https://files.pythonhosted.org/packages/35/f1/5843425495765c8c2dd0784a851a93ef204d314fc87bcc2bbb9f662a3ad1/tensorboardX-2.0-py2.py3-none-any.whl (195kB)\n",
            "\u001b[K     |████████████████████████████████| 204kB 2.8MB/s \n",
            "\u001b[?25hRequirement already satisfied: numpy in /usr/local/lib/python3.6/dist-packages (from tensorboardX) (1.18.3)\n",
            "Requirement already satisfied: six in /usr/local/lib/python3.6/dist-packages (from tensorboardX) (1.12.0)\n",
            "Requirement already satisfied: protobuf>=3.8.0 in /usr/local/lib/python3.6/dist-packages (from tensorboardX) (3.10.0)\n",
            "Requirement already satisfied: setuptools in /usr/local/lib/python3.6/dist-packages (from protobuf>=3.8.0->tensorboardX) (46.1.3)\n",
            "Installing collected packages: tensorboardX\n",
            "Successfully installed tensorboardX-2.0\n",
            "PyTorch 1.4.0 _CudaDeviceProperties(name='Tesla P100-PCIE-16GB', major=6, minor=0, total_memory=16280MB, multi_processor_count=56)\n",
            "Cloning into 'yolov3'...\n",
            "remote: Enumerating objects: 8443, done.\u001b[K\n",
            "remote: Total 8443 (delta 0), reused 0 (delta 0), pack-reused 8443\u001b[K\n",
            "Receiving objects: 100% (8443/8443), 6.90 MiB | 22.57 MiB/s, done.\n",
            "Resolving deltas: 100% (5819/5819), done.\n"
          ],
          "name": "stdout"
        }
      ]
    },
    {
      "cell_type": "markdown",
      "metadata": {
        "id": "2Lj8YPQpr-lt"
      },
      "source": [
        "# Retrieve Data and Set Up Data Directories"
      ]
    },
    {
      "cell_type": "code",
      "metadata": {
        "id": "rNLd17ssr2k_",
        "outputId": "adbe0f25-04f6-464e-b5d2-39b127402526",
        "colab": {
          "base_uri": "https://localhost:8080/",
          "height": 1000
        }
      },
      "source": [
        "#input your COCO json link here \n",
        "!mkdir ed_data\n",
        "%cd ed_data\n",
        "!curl -L [YOUR LINK HERE] > roboflow.zip; unzip roboflow.zip; rm roboflow.zip"
      ],
      "execution_count": null,
      "outputs": [
        {
          "output_type": "stream",
          "text": [
            "/content/ed_data\n",
            "  % Total    % Received % Xferd  Average Speed   Time    Time     Time  Current\n",
            "                                 Dload  Upload   Total   Spent    Left  Speed\n",
            "100   887  100   887    0     0   1016      0 --:--:-- --:--:-- --:--:--  1014\n",
            "100 6374k  100 6374k    0     0  4933k      0  0:00:01  0:00:01 --:--:--  287M\n",
            "Archive:  roboflow.zip\n",
            " extracting: train/BloodImage_00240_jpg.rf.02e03d6cdaa6a0c4446fbede5b024dd2.jpg  \n",
            " extracting: train/BloodImage_00196_jpg.rf.03390ec25911b1035cae7b7ea3b8245d.jpg  \n",
            " extracting: train/BloodImage_00053_jpg.rf.039e0e2cfc3db970127dbb3f4ae9ee6d.jpg  \n",
            " extracting: train/BloodImage_00256_jpg.rf.03ae10c8cb261253736684b6b1774dc4.jpg  \n",
            " extracting: train/BloodImage_00018_jpg.rf.02cc3c42d3b2af24c2432c9ec88bb492.jpg  \n",
            " extracting: test/BloodImage_00190_jpg.rf.03484116dcad7715c77d30654056fc54.jpg  \n",
            " extracting: valid/BloodImage_00377_jpg.rf.0312942b2d584915ce2498b70b4c7fd9.jpg  \n",
            " extracting: train/BloodImage_00320_jpg.rf.0162f52310ba3d29d7a1a9cd30a43488.jpg  \n",
            " extracting: train/BloodImage_00242_jpg.rf.007c73259d80a031ed7705cc0d1fa86c.jpg  \n",
            " extracting: valid/BloodImage_00012_jpg.rf.06d9ed50ba900fe61856c7e24ed06ba0.jpg  \n",
            " extracting: test/BloodImage_00133_jpg.rf.06c3705fcfe2fcaee19e1a076e511508.jpg  \n",
            " extracting: train/BloodImage_00239_jpg.rf.0a392e6482129861f845776014bca4d7.jpg  \n",
            " extracting: train/BloodImage_00022_jpg.rf.05c7fc3470f2b51f2f54ea31300027e6.jpg  \n",
            " extracting: train/BloodImage_00115_jpg.rf.08f07455792ce28311940e1aa2ad40b8.jpg  \n",
            " extracting: valid/BloodImage_00017_jpg.rf.03e73d66a140b6b0fb97b3170af9ff27.jpg  \n",
            " extracting: valid/BloodImage_00331_jpg.rf.044ea8a16ce827b20833a47fc7146fd6.jpg  \n",
            " extracting: train/BloodImage_00078_jpg.rf.09c7b76c73691728b1f4d063a73c8d16.jpg  \n",
            " extracting: train/BloodImage_00159_jpg.rf.0cab1622395939c60dbbaa441fd39f49.jpg  \n",
            " extracting: train/BloodImage_00114_jpg.rf.0d42050ce8a689c2d3ec656a2b3b7c98.jpg  \n",
            " extracting: train/BloodImage_00066_jpg.rf.10b8742cf6c3d30e9cd9bd760732301f.jpg  \n",
            " extracting: valid/BloodImage_00063_jpg.rf.0ef175881b7c6530580795fa39ca644d.jpg  \n",
            " extracting: train/BloodImage_00304_jpg.rf.0da7230b16452359879fb633f0225fa2.jpg  \n",
            " extracting: train/BloodImage_00264_jpg.rf.14facedcbafa9e8bfb4d7eea78580cfa.jpg  \n",
            " extracting: train/BloodImage_00156_jpg.rf.108986055b618fef7b0f32129dc11432.jpg  \n",
            " extracting: valid/BloodImage_00319_jpg.rf.0f57f7ace7255d76cd34edfcd696da79.jpg  \n",
            " extracting: train/BloodImage_00383_jpg.rf.14f45a36baf2301bc8ce6dea7346b62b.jpg  \n",
            " extracting: train/BloodImage_00255_jpg.rf.1455f9385ccbba92d4f5b87717c6a34a.jpg  \n",
            " extracting: valid/BloodImage_00086_jpg.rf.152da52d617487a634188f808b4ec681.jpg  \n",
            " extracting: valid/BloodImage_00364_jpg.rf.1541add8efc3f48d1616cd0e4debc0d7.jpg  \n",
            " extracting: test/BloodImage_00227_jpg.rf.1572183909350ffe748751e967b7c8e5.jpg  \n",
            " extracting: train/BloodImage_00379_jpg.rf.17df569f98c7960cc5526bba81823a72.jpg  \n",
            " extracting: valid/BloodImage_00141_jpg.rf.15e1059065f4842124bdf52c3161d0a8.jpg  \n",
            " extracting: valid/BloodImage_00270_jpg.rf.191c3cea14d9f973f6a19bab4297f5d7.jpg  \n",
            " extracting: train/BloodImage_00037_jpg.rf.18e27dcb80748ea9b2bb72affe6955a9.jpg  \n",
            " extracting: train/BloodImage_00234_jpg.rf.18d2e25089fec6bfd34af849101ec5df.jpg  \n",
            " extracting: train/BloodImage_00082_jpg.rf.1b88bd568853f9619e36c831e16c9700.jpg  \n",
            " extracting: test/BloodImage_00350_jpg.rf.1a19e9f9f197fbeab278718f7c6cea9b.jpg  \n",
            " extracting: train/BloodImage_00198_jpg.rf.18d705a660d83e704730ea1b14dd2077.jpg  \n",
            " extracting: train/BloodImage_00339_jpg.rf.1c864cee713e0bec62310ea5a76080a0.jpg  \n",
            " extracting: train/BloodImage_00310_jpg.rf.1940f2a0646c496caeb9582bec214181.jpg  \n",
            " extracting: valid/BloodImage_00228_jpg.rf.1b1f39332c3667817654332095bb46e4.jpg  \n",
            " extracting: valid/BloodImage_00272_jpg.rf.1d6bb9962ec5549fce8a8f99261a69e4.jpg  \n",
            " extracting: train/BloodImage_00360_jpg.rf.19ff3dce8fcfa24801b2d80410428f9b.jpg  \n",
            " extracting: train/BloodImage_00202_jpg.rf.1c61ccd0178cad42f9fb20b562b19e69.jpg  \n",
            " extracting: test/BloodImage_00386_jpg.rf.1de8e2e0e94f942d7a1523852d7fb146.jpg  \n",
            " extracting: train/BloodImage_00046_jpg.rf.1e9c28f0a571c11f4ea437c572514294.jpg  \n",
            " extracting: valid/BloodImage_00259_jpg.rf.208ca99d2262848a6f688f1b03f3a17c.jpg  \n",
            " extracting: train/BloodImage_00353_jpg.rf.1fac753bf205700c58dd779731e14180.jpg  \n",
            " extracting: train/BloodImage_00269_jpg.rf.1ee5ead2df591affdfee9c28d0d81c03.jpg  \n",
            " extracting: train/BloodImage_00322_jpg.rf.20605708fa51549976fdc85c119bcb6e.jpg  \n",
            " extracting: train/BloodImage_00367_jpg.rf.25def0443d0fe800478ba711c2b9ee51.jpg  \n",
            " extracting: train/BloodImage_00083_jpg.rf.2998d1f2400bf04ed90e539ebe913cb8.jpg  \n",
            " extracting: valid/BloodImage_00392_jpg.rf.26c64b145b1e7eb4df490142d6f3e870.jpg  \n",
            " extracting: valid/BloodImage_00069_jpg.rf.2446f0efdd6fa2d9847b464b72e34fe5.jpg  \n",
            " extracting: valid/BloodImage_00245_jpg.rf.224c5716e01f4ea635cfb7f2341e124e.jpg  \n",
            " extracting: train/BloodImage_00166_jpg.rf.262a043ff8a1e6b0190cc9b0cb01b56d.jpg  \n",
            " extracting: valid/BloodImage_00296_jpg.rf.2a3cabbce4438cfe6ee323364ce08e99.jpg  \n",
            " extracting: train/BloodImage_00162_jpg.rf.229a391d4dfca55e7c249ebedcd2020a.jpg  \n",
            " extracting: train/BloodImage_00249_jpg.rf.2a9916c3b2be9eac4e6964d419e8f83e.jpg  \n",
            " extracting: train/BloodImage_00163_jpg.rf.2aa7e068eb6f9b52d00de43ae134abbf.jpg  \n",
            " extracting: train/BloodImage_00219_jpg.rf.2b33151b3d173a07019c8dbe0b1eef09.jpg  \n",
            " extracting: valid/BloodImage_00161_jpg.rf.2c7244cdb8cd9a69a9bc88e5880756a5.jpg  \n",
            " extracting: train/BloodImage_00209_jpg.rf.2cc187a736630ff701811b3360688169.jpg  \n",
            " extracting: train/BloodImage_00054_jpg.rf.2dd30b3b0392d1bcd33a10e37cf9713e.jpg  \n",
            " extracting: train/BloodImage_00408_jpg.rf.2db889e1cefb413a5db010d72ca74a57.jpg  \n",
            " extracting: train/BloodImage_00065_jpg.rf.2f2e7813f4b5a427dc0daa29a61ef87b.jpg  \n",
            " extracting: train/BloodImage_00005_jpg.rf.2f91dec02bab564d83b88d976eb1b522.jpg  \n",
            " extracting: train/BloodImage_00229_jpg.rf.33d23966f0eeac6cb22f2666ff2f946d.jpg  \n",
            " extracting: train/BloodImage_00193_jpg.rf.2edae1a9ce8be9f7fb12c048d0be56ff.jpg  \n",
            " extracting: train/BloodImage_00174_jpg.rf.301d3d0e4ff10f6eadf8c47651ce44c6.jpg  \n",
            " extracting: train/BloodImage_00164_jpg.rf.2dc9699ae630c27a13a599fc3b22eab6.jpg  \n",
            " extracting: valid/BloodImage_00344_jpg.rf.3092e1f75781e74953416874af6a2cf1.jpg  \n",
            " extracting: train/BloodImage_00318_jpg.rf.342691b7f6c08450f5490f831c427de7.jpg  \n",
            " extracting: train/BloodImage_00345_jpg.rf.342e2b1c5e4d56905fab255eeaa6e2b0.jpg  \n",
            " extracting: train/BloodImage_00148_jpg.rf.36ab8a5b17c0f020559ff5b04129feb5.jpg  \n",
            " extracting: train/BloodImage_00011_jpg.rf.3607f411314ee43c560ffa5f57ff1727.jpg  \n",
            " extracting: train/BloodImage_00177_jpg.rf.3a59e39ed8fd92dce966a45e9ede25a8.jpg  \n",
            " extracting: train/BloodImage_00189_jpg.rf.367746c6879d03a67ba3db2b851d590d.jpg  \n",
            " extracting: train/BloodImage_00055_jpg.rf.3d395f708128e727f7e7242c4f394622.jpg  \n",
            " extracting: test/BloodImage_00334_jpg.rf.3b8a84d57940aeb45e5c2046c8411996.jpg  \n",
            " extracting: train/BloodImage_00040_jpg.rf.3c32836a8bf11d7d442ab01959c5a255.jpg  \n",
            " extracting: train/BloodImage_00045_jpg.rf.38710cbc65a66447df197c29ea137bcb.jpg  \n",
            " extracting: train/BloodImage_00218_jpg.rf.38dc20f84bac3714542a27966e8e9ac0.jpg  \n",
            " extracting: train/BloodImage_00351_jpg.rf.3a78a0669c32fa4074a0e656e651653d.jpg  \n",
            " extracting: train/BloodImage_00094_jpg.rf.3dc231631acaf34455356c09357d0f10.jpg  \n",
            " extracting: train/BloodImage_00003_jpg.rf.3e0d750daa4754a3717d15768c14b847.jpg  \n",
            " extracting: train/BloodImage_00206_jpg.rf.3c4c8a6d8833bcb4434066200ad71f34.jpg  \n",
            " extracting: train/BloodImage_00374_jpg.rf.3f54b84ef0b8f9fd62ca4e4f446fa0dc.jpg  \n",
            " extracting: train/BloodImage_00064_jpg.rf.40b642a4415a851fa531a1c07c0779a3.jpg  \n",
            " extracting: train/BloodImage_00052_jpg.rf.4023bcaa5fa43bcccae52e1692be6a64.jpg  \n",
            " extracting: train/BloodImage_00088_jpg.rf.42a8b1939f2601dc01953d1f260559e2.jpg  \n",
            " extracting: train/BloodImage_00106_jpg.rf.41efe1d5b7329f045593fe17d508168e.jpg  \n",
            " extracting: train/BloodImage_00089_jpg.rf.41841d675472134fe0bdcc09d97fdbb0.jpg  \n",
            " extracting: valid/BloodImage_00109_jpg.rf.43f46103208703c3e95b1ae3dab79dc6.jpg  \n",
            " extracting: train/BloodImage_00124_jpg.rf.419c03cd998f9a1f8d05b0126f430759.jpg  \n",
            " extracting: train/BloodImage_00314_jpg.rf.421fc1b9f8eef79699b0568988c5b5f4.jpg  \n",
            " extracting: train/BloodImage_00144_jpg.rf.41b18bcceab7a84e66e1a02494938b47.jpg  \n",
            " extracting: train/BloodImage_00059_jpg.rf.42cedd40c0ac118de13f7f9aa2b5cb9f.jpg  \n",
            " extracting: train/BloodImage_00382_jpg.rf.441811773d805f5c81479894b9ea511b.jpg  \n",
            " extracting: train/BloodImage_00268_jpg.rf.473cee61267c80c66f2523aa4af68146.jpg  \n",
            " extracting: test/BloodImage_00265_jpg.rf.4b7cc25caca963b5e0325c6998917cd1.jpg  \n",
            " extracting: train/BloodImage_00290_jpg.rf.4a1faeff8efd151340e239efd973fa18.jpg  \n",
            " extracting: train/BloodImage_00168_jpg.rf.449c90b2ff7ed0802b47c26c575ddf33.jpg  \n",
            " extracting: train/BloodImage_00034_jpg.rf.46e3b2de709731ca1fa9f38726bf149b.jpg  \n",
            " extracting: train/BloodImage_00395_jpg.rf.47cabfa08f17f878a8bbee72e7f8f08f.jpg  \n",
            " extracting: valid/BloodImage_00403_jpg.rf.4d5849f3949a9ab146d27c85b98ccb1c.jpg  \n",
            " extracting: train/BloodImage_00073_jpg.rf.4d57fd7ccdd1e22499bd72b28e0d0081.jpg  \n",
            " extracting: train/BloodImage_00232_jpg.rf.4ce291260d52eb9d910e26b62fd7d3e0.jpg  \n",
            " extracting: train/BloodImage_00405_jpg.rf.4d9fd11e7034f2c6a6ffe504a019d47a.jpg  \n",
            " extracting: train/BloodImage_00006_jpg.rf.4eca53bb633875468ce90becd1c5f719.jpg  \n",
            " extracting: train/BloodImage_00231_jpg.rf.4e0100ad257ff1196189de55acf7f581.jpg  \n",
            " extracting: test/BloodImage_00090_jpg.rf.4fd1da847d2857b6092003c41255ea4c.jpg  \n",
            " extracting: valid/BloodImage_00107_jpg.rf.5036b0302cd94ded2f6e52245f4bb8dd.jpg  \n",
            " extracting: train/BloodImage_00149_jpg.rf.509ac73b73e2de5ecc9a52583ec67f5a.jpg  \n",
            " extracting: train/BloodImage_00361_jpg.rf.509134ededd0bb5bfe892c081c8a8ee4.jpg  \n",
            " extracting: test/BloodImage_00160_jpg.rf.500f16e32681898ca1ce052ea0402c08.jpg  \n",
            " extracting: train/BloodImage_00098_jpg.rf.50b2cf5e22eea7c47809de57b9a123da.jpg  \n",
            " extracting: train/BloodImage_00028_jpg.rf.51c68ad3c8ede11bd8746437c88e06f1.jpg  \n",
            " extracting: train/BloodImage_00147_jpg.rf.4ff5270c8f9af1231edc4d857bf03008.jpg  \n",
            " extracting: valid/BloodImage_00004_jpg.rf.52181b30907075ce5e9b10c9652f1366.jpg  \n",
            " extracting: train/BloodImage_00388_jpg.rf.52f04938641f61a72e98ec3fe0b799ae.jpg  \n",
            " extracting: train/BloodImage_00179_jpg.rf.5389cd1c1e07c0b36a476709869dbb0c.jpg  \n",
            " extracting: train/BloodImage_00035_jpg.rf.53e35f4ed8b5e52c69171c57a9d6b3c5.jpg  \n",
            " extracting: train/BloodImage_00224_jpg.rf.53f7054c6772cb2b151ea81956c01b33.jpg  \n",
            " extracting: valid/BloodImage_00104_jpg.rf.54a0b45ddd1527f7899c8765b40b38b7.jpg  \n",
            " extracting: train/BloodImage_00010_jpg.rf.5557ba0a93133a1db1b3f86903e18f76.jpg  \n",
            " extracting: test/BloodImage_00325_jpg.rf.55e62842be833601c86a1bd449ee8fe6.jpg  \n",
            " extracting: train/BloodImage_00212_jpg.rf.585d649f788289748c8154994c2be005.jpg  \n",
            " extracting: train/BloodImage_00201_jpg.rf.581afd773e44135e84f0fc55d4078222.jpg  \n",
            " extracting: train/BloodImage_00236_jpg.rf.5a7791e4051f7ed235acec127debab33.jpg  \n",
            " extracting: test/BloodImage_00289_jpg.rf.58c541d9273174738d3d74e599428169.jpg  \n",
            " extracting: train/BloodImage_00208_jpg.rf.57797100bc9d0bfd6a84ace0b924acf0.jpg  \n",
            " extracting: train/BloodImage_00375_jpg.rf.5afa8f7a497058dee0fbd8d66d6497f7.jpg  \n",
            " extracting: train/BloodImage_00143_jpg.rf.5c08eedd455492fe3c8f0d68d752e6f8.jpg  \n",
            " extracting: test/BloodImage_00099_jpg.rf.5b178d758af2a97d3df8e5f87b1f344a.jpg  \n",
            " extracting: train/BloodImage_00023_jpg.rf.596a00645c755424b0ae07694b659688.jpg  \n",
            " extracting: valid/BloodImage_00277_jpg.rf.5b3f27f9b4aeaf06b45953f4347e6a02.jpg  \n",
            " extracting: train/BloodImage_00226_jpg.rf.5cee949501e370f5af909f7b38ed1c92.jpg  \n",
            " extracting: train/BloodImage_00042_jpg.rf.5d8db568b0b0c73e24e1d0bd5df54c5e.jpg  \n",
            " extracting: train/BloodImage_00346_jpg.rf.5d6ff1668f494698f4099d2643521946.jpg  \n",
            " extracting: test/BloodImage_00336_jpg.rf.5ae87ede3994ca14504136035e256e38.jpg  \n",
            " extracting: train/BloodImage_00244_jpg.rf.5afde78b6186e06dd80b0cce0a905bee.jpg  \n",
            " extracting: train/BloodImage_00409_jpg.rf.602d5cb2372fe77d6f88a9f94bdd8b01.jpg  \n",
            " extracting: train/BloodImage_00400_jpg.rf.605c63e2ba0dac6198c9d89f964d71b4.jpg  \n",
            " extracting: train/BloodImage_00184_jpg.rf.61346810b7e7dc1cd5f7d52a5efb32ef.jpg  \n",
            " extracting: valid/BloodImage_00225_jpg.rf.60d5691e69a56dae993361a34e561c1b.jpg  \n",
            " extracting: test/BloodImage_00038_jpg.rf.63da20f3f5538d0d2be8c4633c7034a1.jpg  \n",
            " extracting: train/BloodImage_00326_jpg.rf.6354a2b22bf107222d680bb7d7ce8b6d.jpg  \n",
            " extracting: train/BloodImage_00165_jpg.rf.63cb185ab85deeb69a5676a96e070094.jpg  \n",
            " extracting: train/BloodImage_00167_jpg.rf.62a0c4a1efba7c7c1ea784805a039d3c.jpg  \n",
            " extracting: train/BloodImage_00002_jpg.rf.6077885e28afc7ef361acf12d94d4d88.jpg  \n",
            " extracting: train/BloodImage_00079_jpg.rf.6402c4f2af44a41572486f1227a1b585.jpg  \n",
            " extracting: valid/BloodImage_00216_jpg.rf.657e10ec7e1bd863da88d1030764194d.jpg  \n",
            " extracting: valid/BloodImage_00092_jpg.rf.64b7cd21a16e4e8d34386f3bbba3e67a.jpg  \n",
            " extracting: train/BloodImage_00180_jpg.rf.66cbbab7f3be1c3c00b775652b742735.jpg  \n",
            " extracting: valid/BloodImage_00348_jpg.rf.65f9510ccc0d7025caa0d989bfae9b1a.jpg  \n",
            " extracting: train/BloodImage_00352_jpg.rf.65f47310549c55fa1db2903d27862146.jpg  \n",
            " extracting: train/BloodImage_00103_jpg.rf.687ed77fd9d913fbcf1e7720256bccac.jpg  \n",
            " extracting: train/BloodImage_00175_jpg.rf.69d531581faefa31d4bebbcbd4f36063.jpg  \n",
            " extracting: train/BloodImage_00343_jpg.rf.67341bf00984218273df718b614fe92b.jpg  \n",
            " extracting: test/BloodImage_00120_jpg.rf.6742a4da047e1226a181d2de2978ce6d.jpg  \n",
            " extracting: train/BloodImage_00074_jpg.rf.6773a911ebfa4093d69d32f485ece9b6.jpg  \n",
            " extracting: train/BloodImage_00370_jpg.rf.6a50b1e9364e0a8d60a28ebd27c6d4cd.jpg  \n",
            " extracting: train/BloodImage_00197_jpg.rf.6b5a2a6cc8a9cbc334b4cc6363b19717.jpg  \n",
            " extracting: train/BloodImage_00013_jpg.rf.6be66fdc74e851b63ef10dd6cf2d1bbc.jpg  \n",
            " extracting: train/BloodImage_00305_jpg.rf.6bb627ca75ffb4e00c667ae9c331b4a9.jpg  \n",
            " extracting: test/BloodImage_00204_jpg.rf.6c3c9e37ab9122b026444cc4e685aef1.jpg  \n",
            " extracting: valid/BloodImage_00252_jpg.rf.6f42aa6e17ac140440e01c87c8017722.jpg  \n",
            " extracting: test/BloodImage_00254_jpg.rf.6e046ca48ec2e57c2e178aa3f08ec8ee.jpg  \n",
            " extracting: train/BloodImage_00200_jpg.rf.6e8e69feda789b5b7de74ff4323d3926.jpg  \n",
            " extracting: train/BloodImage_00376_jpg.rf.6e3242d2d6342ee60ac04e1f0d794b09.jpg  \n",
            " extracting: test/BloodImage_00266_jpg.rf.6d62684a33e2f5bc048803aba3177f58.jpg  \n",
            " extracting: train/BloodImage_00031_jpg.rf.6ff72f20dd5f6b4a241cd55105d88ca5.jpg  \n",
            " extracting: train/BloodImage_00288_jpg.rf.723e7d8512a6113320fe6666d3129aad.jpg  \n",
            " extracting: valid/BloodImage_00276_jpg.rf.72b95da74bfce959d8dda5c0c37933ac.jpg  \n",
            " extracting: valid/BloodImage_00355_jpg.rf.6caa8dbcbd9a9b7569088339949522aa.jpg  \n",
            " extracting: train/BloodImage_00100_jpg.rf.71d2f2b11994f786b16e7b5132d7308d.jpg  \n",
            " extracting: valid/BloodImage_00182_jpg.rf.77af1fd18d295a433630af696d861851.jpg  \n",
            " extracting: train/BloodImage_00267_jpg.rf.77b86c33dac9591ca72126660dd6a112.jpg  \n",
            " extracting: train/BloodImage_00058_jpg.rf.78a414ea6fe32a14b1f05fdf97761e45.jpg  \n",
            " extracting: train/BloodImage_00293_jpg.rf.78717e9ed6f5037f5e3d2539fe5c7fa2.jpg  \n",
            " extracting: train/BloodImage_00285_jpg.rf.7380b1602d97a1d16c8c9d8461c1a78c.jpg  \n",
            " extracting: valid/BloodImage_00108_jpg.rf.7550b80c37f37bd47a513d84b9cae557.jpg  \n",
            " extracting: valid/BloodImage_00221_jpg.rf.7bdba56b31403ea6c91d6eab14bc1d36.jpg  \n",
            " extracting: test/BloodImage_00337_jpg.rf.7959cb18929c970939cda4a9544547c8.jpg  \n",
            " extracting: valid/BloodImage_00217_jpg.rf.7bf6033f01880011b056f35c6fffc63d.jpg  \n",
            " extracting: train/BloodImage_00260_jpg.rf.790033dfaa22f8d63d1d794c7e320bad.jpg  \n",
            " extracting: valid/BloodImage_00070_jpg.rf.7d3efb259a21ba459dffe5a85b974b0b.jpg  \n",
            " extracting: test/BloodImage_00154_jpg.rf.7c682b32a64ca0520b6fc725f0d667c7.jpg  \n",
            " extracting: train/BloodImage_00368_jpg.rf.7db094f9e34bb5b669dec415ff593714.jpg  \n",
            " extracting: train/BloodImage_00365_jpg.rf.834ce2d9a8b7dd1647fe2c159659b967.jpg  \n",
            " extracting: valid/BloodImage_00281_jpg.rf.813106d0417b3ae3213c1ca97b233b4c.jpg  \n",
            " extracting: train/BloodImage_00192_jpg.rf.7fe82835e330e3f5c04f9300f2f3063a.jpg  \n",
            " extracting: train/BloodImage_00342_jpg.rf.83bc536c22bb7c493ca6ae5a54b9d698.jpg  \n",
            " extracting: train/BloodImage_00203_jpg.rf.7e1e0baedaf6227f45f74ed5727ccec8.jpg  \n",
            " extracting: train/BloodImage_00097_jpg.rf.858d7117f280c3f6a14464a0f73c0920.jpg  \n",
            " extracting: train/BloodImage_00101_jpg.rf.85a56d6e0c085353c13f06a057562c1f.jpg  \n",
            " extracting: train/BloodImage_00091_jpg.rf.8723660dee1777d62c0f6bdaa8f85e4f.jpg  \n",
            " extracting: valid/BloodImage_00297_jpg.rf.853746ceed056b2a39049282c9ffbd8a.jpg  \n",
            " extracting: train/BloodImage_00398_jpg.rf.88272989c2c060bdaab0f369111e1eed.jpg  \n",
            " extracting: train/BloodImage_00396_jpg.rf.87f7e3afd9ac02542d093ed0e5846e6f.jpg  \n",
            " extracting: train/BloodImage_00111_jpg.rf.8870565af7f2f95f707f1fe8257ab856.jpg  \n",
            " extracting: train/BloodImage_00007_jpg.rf.8875d271e2671668961ec3ec314dba08.jpg  \n",
            " extracting: valid/BloodImage_00183_jpg.rf.8943c694fb9708ae74a2b015d1f77f6b.jpg  \n",
            " extracting: train/BloodImage_00407_jpg.rf.8ffc1a12125e83eecee8d23da68646bf.jpg  \n",
            " extracting: valid/BloodImage_00110_jpg.rf.8d89167f3ff070807b0de1df00547d46.jpg  \n",
            " extracting: valid/BloodImage_00057_jpg.rf.88e778c9509fe9954183f9a019a6deb2.jpg  \n",
            " extracting: train/BloodImage_00251_jpg.rf.907c7f4f42fb6ca2a5d34e06b4cd3cc7.jpg  \n",
            " extracting: train/BloodImage_00223_jpg.rf.900340184b673740f4bbb4243f6ff6ed.jpg  \n",
            " extracting: test/BloodImage_00275_jpg.rf.9108b9a016fadd9c367b05dfb0c40c2c.jpg  \n",
            " extracting: train/BloodImage_00262_jpg.rf.911152179cab0162253e2d3f1805e778.jpg  \n",
            " extracting: valid/BloodImage_00026_jpg.rf.823e2bb87c26496748847b212c20ca9a.jpg  \n",
            " extracting: valid/BloodImage_00076_jpg.rf.9200c500c10bb2debcc1a1be99e5359b.jpg  \n",
            " extracting: valid/BloodImage_00211_jpg.rf.94172f3701a81e38c7a14046b1ce963f.jpg  \n",
            " extracting: train/BloodImage_00291_jpg.rf.94e5e3697c522e003de8fc06c06d2725.jpg  \n",
            " extracting: valid/BloodImage_00384_jpg.rf.9212c214c677515d51cc06b9f40e50c6.jpg  \n",
            " extracting: train/BloodImage_00391_jpg.rf.96cb68490f98fdf99712e953a8f96001.jpg  \n",
            " extracting: train/BloodImage_00178_jpg.rf.97be05fc4078f65bc3bff25911217908.jpg  \n",
            " extracting: valid/BloodImage_00404_jpg.rf.9656609cf7292fdb6cb8e755a3cac91d.jpg  \n",
            " extracting: train/BloodImage_00087_jpg.rf.97ee9ceab5eb8fe66671ff3b6f86fec4.jpg  \n",
            " extracting: train/BloodImage_00333_jpg.rf.97f2ec9bd7af669ebf93a73ad4522e10.jpg  \n",
            " extracting: train/BloodImage_00271_jpg.rf.9023474335f0271ddf9a6f7479dbafe8.jpg  \n",
            " extracting: valid/BloodImage_00298_jpg.rf.9b5e265dbe525bbc19790bb27c3cec01.jpg  \n",
            " extracting: train/BloodImage_00142_jpg.rf.9a61799e4585712264749bf61b0b39f6.jpg  \n",
            " extracting: train/BloodImage_00172_jpg.rf.98a5f2f944c3848ea5a5f8c543ccd7eb.jpg  \n",
            " extracting: valid/BloodImage_00410_jpg.rf.91f0f738b1e5c97891f10829dcd99202.jpg  \n",
            " extracting: test/BloodImage_00301_jpg.rf.9c427e66bcc1b088df9a5e71c0abefba.jpg  \n",
            " extracting: train/BloodImage_00313_jpg.rf.9ba2384696c0a86e4e2b0980b2b8139b.jpg  \n",
            " extracting: test/BloodImage_00369_jpg.rf.99ae139e5530a25980b7acdd56a4317c.jpg  \n",
            " extracting: train/BloodImage_00378_jpg.rf.9ea076bee6824b777f9ffbd8dad4abeb.jpg  \n",
            " extracting: train/BloodImage_00247_jpg.rf.9e01c6f5520cec0cd477f12eaf084ca9.jpg  \n",
            " extracting: test/BloodImage_00278_jpg.rf.9ce9e9760ff20b56b115c86879e02a67.jpg  \n",
            " extracting: train/BloodImage_00033_jpg.rf.9ea986460903aabe669834b358b0b2fd.jpg  \n",
            " extracting: train/BloodImage_00338_jpg.rf.9f35cefbbd15e526b5349186f312803e.jpg  \n",
            " extracting: train/BloodImage_00029_jpg.rf.9f2b9187d858afc3f35cbdb6d1a82e67.jpg  \n",
            " extracting: valid/BloodImage_00126_jpg.rf.a146488a9e1242c652bf5ec2d6a90c22.jpg  \n",
            " extracting: train/BloodImage_00015_jpg.rf.a1aca60385f1ad8cf0d04e688b9d8c4d.jpg  \n",
            " extracting: valid/BloodImage_00123_jpg.rf.9e3dee111a093f05b0187284085960f6.jpg  \n",
            " extracting: train/BloodImage_00349_jpg.rf.a4e8bbdf1d28f8362ea87a5550c37b4d.jpg  \n",
            " extracting: train/BloodImage_00140_jpg.rf.a582c718a8f2c134dc51cc37d1d97020.jpg  \n",
            " extracting: valid/BloodImage_00246_jpg.rf.a78e264e917d3c6215c06530b36838d3.jpg  \n",
            " extracting: train/BloodImage_00067_jpg.rf.a5b2b01c0f566a59317105d093275e72.jpg  \n",
            " extracting: valid/BloodImage_00187_jpg.rf.a20ad236a4d33c964b882c2abceb8d1c.jpg  \n",
            " extracting: train/BloodImage_00145_jpg.rf.a265e7f4f0aab5586c6aa5258bb03966.jpg  \n",
            " extracting: test/BloodImage_00113_jpg.rf.a6d6a75c0ebfc703ecff95e2938be34d.jpg  \n",
            " extracting: train/BloodImage_00323_jpg.rf.a633c18b99a31c1f1a6f1ca2d5a7f634.jpg  \n",
            " extracting: train/BloodImage_00056_jpg.rf.a5efc91886069c9780dfb3e8138ed49e.jpg  \n",
            " extracting: train/BloodImage_00117_jpg.rf.a7b1c58f6a0b6284866ddec6de4239fb.jpg  \n",
            " extracting: train/BloodImage_00362_jpg.rf.a8c5150d189004b32fe41d94be2f197b.jpg  \n",
            " extracting: train/BloodImage_00036_jpg.rf.ab91604015ffed009b2573f59ed80802.jpg  \n",
            " extracting: train/BloodImage_00295_jpg.rf.aa1ecf83f056781df45b50be9c944fd5.jpg  \n",
            " extracting: valid/BloodImage_00205_jpg.rf.ac5731ed67779ef0369f9e4f7cedf329.jpg  \n",
            " extracting: valid/BloodImage_00315_jpg.rf.ab25b8902d12228c75aea8abb15cafa7.jpg  \n",
            " extracting: test/BloodImage_00302_jpg.rf.ae0f61c17483b2e0e7f9b1396fc5108c.jpg  \n",
            " extracting: train/BloodImage_00176_jpg.rf.acacd7a71975b614a6ace94b2d927d13.jpg  \n",
            " extracting: valid/BloodImage_00309_jpg.rf.af6d670209c2ce1dcb6aa4c4c62fb6bc.jpg  \n",
            " extracting: train/BloodImage_00233_jpg.rf.ade52d587dfa61462c31583882bb96ec.jpg  \n",
            " extracting: train/BloodImage_00195_jpg.rf.ade39f1f0cfe1db1e016abf809dfee8b.jpg  \n",
            " extracting: train/BloodImage_00366_jpg.rf.aa640d0d6000546cbc6da4e0d4fd0dec.jpg  \n",
            " extracting: valid/BloodImage_00300_jpg.rf.b004476f20883e37b5addbfff7857be9.jpg  \n",
            " extracting: test/BloodImage_00044_jpg.rf.b0e2369642c5a7fa434ed8defa79e2ba.jpg  \n",
            " extracting: train/BloodImage_00294_jpg.rf.b23c086547586fb22e1ee76e3354af58.jpg  \n",
            " extracting: test/BloodImage_00235_jpg.rf.b01cbde1f504d448759188feadad4838.jpg  \n",
            " extracting: train/BloodImage_00068_jpg.rf.b30050929d89caeac6bc7ed67b229a2d.jpg  \n",
            " extracting: train/BloodImage_00024_jpg.rf.b5a36262f6280ac61d240f8935f33806.jpg  \n",
            " extracting: train/BloodImage_00250_jpg.rf.b4ab58b6f116df5e831b4246e2c044ec.jpg  \n",
            " extracting: train/BloodImage_00014_jpg.rf.af9ce41f51d0572a95f4a89ee15e26a0.jpg  \n",
            " extracting: train/BloodImage_00171_jpg.rf.b92498a881747c362984f9b175c5b9e6.jpg  \n",
            " extracting: train/BloodImage_00032_jpg.rf.b3c7488aa3bf997274f56bce5ffe3a74.jpg  \n",
            " extracting: train/BloodImage_00372_jpg.rf.b4a115141905ebe604af1142f37050fa.jpg  \n",
            " extracting: train/BloodImage_00312_jpg.rf.b6b8d5389b691278bb36789d528127cf.jpg  \n",
            " extracting: train/BloodImage_00248_jpg.rf.b669ad8c3784b6c29cfad94ec72dde6c.jpg  \n",
            " extracting: valid/BloodImage_00021_jpg.rf.ba437d2c57aa4b6e65a8589949859b5a.jpg  \n",
            " extracting: train/BloodImage_00397_jpg.rf.ba01520c70fdbeae824265e65e0b5f59.jpg  \n",
            " extracting: train/BloodImage_00330_jpg.rf.b3bc39de2cd8af899dcbf4968d96106b.jpg  \n",
            " extracting: train/BloodImage_00008_jpg.rf.beb6ffe42e184c37fe1fedb7365363a6.jpg  \n",
            " extracting: train/BloodImage_00020_jpg.rf.bd20279c3a4792f30044ba917d305bca.jpg  \n",
            " extracting: train/BloodImage_00390_jpg.rf.be0239cd714d7b7f0ac83378bc18e7ab.jpg  \n",
            " extracting: train/BloodImage_00030_jpg.rf.c0ed0b62b8d2527e567c547a75fedd3c.jpg  \n",
            " extracting: valid/BloodImage_00263_jpg.rf.c27cac6ad3874265da827b1d50ef4f20.jpg  \n",
            " extracting: train/BloodImage_00381_jpg.rf.c375a7dfa025e6c97e069e7af89839a5.jpg  \n",
            " extracting: train/BloodImage_00340_jpg.rf.c02aff3a668ba7c47d5107cf0fa19509.jpg  \n",
            " extracting: train/BloodImage_00311_jpg.rf.c340f6eb3408f26332497fb1f183dd59.jpg  \n",
            " extracting: train/BloodImage_00170_jpg.rf.c640ac5bbf1cffe65e7bfc4d0a780efc.jpg  \n",
            " extracting: train/BloodImage_00257_jpg.rf.c5ead571c4139477479569e33f37c1e7.jpg  \n",
            " extracting: train/BloodImage_00139_jpg.rf.c52aaed320b17ed10aa927888ce5f348.jpg  \n",
            " extracting: train/BloodImage_00327_jpg.rf.c838cc916de2bfa77a9213b75e474f60.jpg  \n",
            " extracting: train/BloodImage_00393_jpg.rf.cd230b03b6049b36c0a9caa05ae546e3.jpg  \n",
            " extracting: train/BloodImage_00324_jpg.rf.c843c813abdb654ae2b036a9c8e5aa2f.jpg  \n",
            " extracting: valid/BloodImage_00075_jpg.rf.cee7dd52f332b55793e80469e69320c5.jpg  \n",
            " extracting: train/BloodImage_00230_jpg.rf.ce8f4795e74fa224c6fcc1551021a4d4.jpg  \n",
            " extracting: valid/BloodImage_00135_jpg.rf.cbb20dd263d910f9c32eefbab2449cf3.jpg  \n",
            " extracting: train/BloodImage_00048_jpg.rf.cf98381e95dad4b92e185bc9fae23949.jpg  \n",
            " extracting: train/BloodImage_00125_jpg.rf.ce1793bac18a7f5f2dcf297ba7d59388.jpg  \n",
            " extracting: train/BloodImage_00001_jpg.rf.cebb6824aacfc545bb4152ce18717c1b.jpg  \n",
            " extracting: test/BloodImage_00385_jpg.rf.cf0e48c08597f372423a60918074f574.jpg  \n",
            " extracting: test/BloodImage_00284_jpg.rf.d33fcb37af7c55a50f275711763ddf7a.jpg  \n",
            " extracting: test/BloodImage_00241_jpg.rf.d0edd8c528bec298a9552ed8ad5714c7.jpg  \n",
            " extracting: valid/BloodImage_00402_jpg.rf.d087e24abd3c1194a4bf429a804dcc47.jpg  \n",
            " extracting: train/BloodImage_00220_jpg.rf.d0fec0542cc693641936c943b0a4e5e4.jpg  \n",
            " extracting: train/BloodImage_00043_jpg.rf.d4090ebc49c1fad63109d7ff96178e8c.jpg  \n",
            " extracting: test/BloodImage_00191_jpg.rf.d4b5ad6525c6c0bc4eaea1f24901f396.jpg  \n",
            " extracting: valid/BloodImage_00371_jpg.rf.d4fb6ab29cde13f92caf012782889917.jpg  \n",
            " extracting: train/BloodImage_00019_jpg.rf.d554d5cff5e7554bacbd356fe1228630.jpg  \n",
            " extracting: train/BloodImage_00237_jpg.rf.d6b5d4daa715b2519b9be571dd188c4c.jpg  \n",
            " extracting: train/BloodImage_00081_jpg.rf.d60e65271b92608716deba2400016a6c.jpg  \n",
            " extracting: train/BloodImage_00095_jpg.rf.d5e1565486966bf4729f7699660e6178.jpg  \n",
            " extracting: train/BloodImage_00279_jpg.rf.d7360a664bc0931b2b34fe7fc12f96c1.jpg  \n",
            " extracting: train/BloodImage_00354_jpg.rf.d63d0b3dd3ac9df0b06b118900b6caa3.jpg  \n",
            " extracting: train/BloodImage_00158_jpg.rf.d7a8fb65b17a2047331a9ad2af65f904.jpg  \n",
            " extracting: train/BloodImage_00207_jpg.rf.d50d22b1d2d48979c2d26d5c1dc4b4ee.jpg  \n",
            " extracting: train/BloodImage_00199_jpg.rf.d85b02c9e8ab10a1bab7c05fbdc88498.jpg  \n",
            " extracting: train/BloodImage_00009_jpg.rf.da19061a9a7f43fbaedd27dcc9369a79.jpg  \n",
            " extracting: valid/BloodImage_00127_jpg.rf.da0d6240a1f655543a54c1fe0f60d843.jpg  \n",
            " extracting: train/BloodImage_00317_jpg.rf.da05e07bc66b32a5230383724654bd2b.jpg  \n",
            " extracting: train/BloodImage_00253_jpg.rf.df98292053faa0f88eb0466d798f041a.jpg  \n",
            " extracting: train/BloodImage_00303_jpg.rf.d97418f1c8bf7353b33891732eb4a00e.jpg  \n",
            " extracting: valid/BloodImage_00000_jpg.rf.dff4630865bca0ebd8cb9a1d07b98b3b.jpg  \n",
            " extracting: train/BloodImage_00214_jpg.rf.d806efc40815e2b711db9bb66b5f0dd5.jpg  \n",
            " extracting: valid/BloodImage_00273_jpg.rf.e15f8914abda4df6daab3f16806c0738.jpg  \n",
            " extracting: valid/BloodImage_00274_jpg.rf.e2eedfbc54bd9f87694b4adaa7bf6ebf.jpg  \n",
            " extracting: train/BloodImage_00299_jpg.rf.e1fe6fedb2feaf870450ff96b1aaa9e8.jpg  \n",
            " extracting: train/BloodImage_00016_jpg.rf.e424362fede794edc8b0f655cf7f7b52.jpg  \n",
            " extracting: train/BloodImage_00282_jpg.rf.e5b58527707288bdd8cfce942fb65e96.jpg  \n",
            " extracting: valid/BloodImage_00071_jpg.rf.e3383532eceb1841324aac3370b8ee61.jpg  \n",
            " extracting: train/BloodImage_00049_jpg.rf.e2b5ebde1df3675ccfd86e517480da00.jpg  \n",
            " extracting: train/BloodImage_00357_jpg.rf.e2f3c3ce91f7f7f46e2162e85c0a3cd8.jpg  \n",
            " extracting: valid/BloodImage_00258_jpg.rf.e478417f27bd247f64cb60351f2b0fdd.jpg  \n",
            " extracting: train/BloodImage_00039_jpg.rf.e4ee3626b2b2f10c5fd1f2dcaf1c10ca.jpg  \n",
            " extracting: test/BloodImage_00359_jpg.rf.e4b6af6691f2d8cc8345f42bcc1678fa.jpg  \n",
            " extracting: train/BloodImage_00077_jpg.rf.e5fec5b0f926f2c1fe8e3193cb35664a.jpg  \n",
            " extracting: train/BloodImage_00210_jpg.rf.e717500ee4f9e9f2e64b6c54acaa4f92.jpg  \n",
            " extracting: valid/BloodImage_00093_jpg.rf.e67f49890fdb1ed740e27d0ef3d6a48b.jpg  \n",
            " extracting: train/BloodImage_00261_jpg.rf.e7d72d18b1ba65c1b98f70c556c2bc4f.jpg  \n",
            " extracting: train/BloodImage_00152_jpg.rf.e8fa4f194084beaf48533349d359a3d5.jpg  \n",
            " extracting: test/BloodImage_00062_jpg.rf.e965ee152eea462d82706a2709abfe00.jpg  \n",
            " extracting: train/BloodImage_00332_jpg.rf.ed87a2ffb4bb87281d6dc70bc15a24b3.jpg  \n",
            " extracting: train/BloodImage_00137_jpg.rf.edccdbfd3731f56753eb611feb8ceaeb.jpg  \n",
            " extracting: train/BloodImage_00389_jpg.rf.ebfa5de21d4539ed10b56ed0a00c6999.jpg  \n",
            " extracting: train/BloodImage_00287_jpg.rf.ea29305ce151b669e8fe1be5ca248012.jpg  \n",
            " extracting: test/BloodImage_00134_jpg.rf.ee0308b1f3e1ffbb048cb3b1f80e8e36.jpg  \n",
            " extracting: train/BloodImage_00347_jpg.rf.ec3da8e3d3760ff522750704050cc4ab.jpg  \n",
            " extracting: train/BloodImage_00356_jpg.rf.ef52bc664a2f9262370c6d4969a8dd91.jpg  \n",
            " extracting: valid/BloodImage_00335_jpg.rf.ee587575d7a2d47ff383b3c2da829d39.jpg  \n",
            " extracting: train/BloodImage_00072_jpg.rf.edf27bdfdc8a1350d11c0760398f1079.jpg  \n",
            " extracting: train/BloodImage_00150_jpg.rf.efdbcf3bf7e00b06ff9a9694c5f9d237.jpg  \n",
            " extracting: train/BloodImage_00308_jpg.rf.f048c9ada0e94ebaf108ec2e6d8c8f86.jpg  \n",
            " extracting: train/BloodImage_00292_jpg.rf.f22fb518192fce84da68f5ce2d0f7788.jpg  \n",
            " extracting: train/BloodImage_00341_jpg.rf.efe92811d06d4605ab9618d10cb730ee.jpg  \n",
            " extracting: train/BloodImage_00136_jpg.rf.f437f567c670314938b68f629f63867e.jpg  \n",
            " extracting: train/BloodImage_00387_jpg.rf.f41033e0fab81333b2287d63ace10e51.jpg  \n",
            " extracting: train/BloodImage_00307_jpg.rf.efedae262c822c0be29cb50d7e6e2fe8.jpg  \n",
            " extracting: train/BloodImage_00169_jpg.rf.f4d21977acfc39dedf7dffaccd55248c.jpg  \n",
            " extracting: valid/BloodImage_00130_jpg.rf.f5a534f513f71ac22099a4771be38362.jpg  \n",
            " extracting: train/BloodImage_00283_jpg.rf.f6f91c40d0f20bb6274e7a82984d906f.jpg  \n",
            " extracting: train/BloodImage_00243_jpg.rf.f703b4fc40c4114920a836124a84381b.jpg  \n",
            " extracting: train/BloodImage_00222_jpg.rf.f4ffa303a5c7071aba2b41492247ab34.jpg  \n",
            " extracting: train/BloodImage_00132_jpg.rf.f9cc6279809de2f219bab323ce3a1e29.jpg  \n",
            " extracting: valid/BloodImage_00050_jpg.rf.f831da5c49c39be04f0c63b98ab44221.jpg  \n",
            " extracting: train/BloodImage_00157_jpg.rf.fa2209269612935b573d3d3b478fa611.jpg  \n",
            " extracting: train/BloodImage_00047_jpg.rf.fc57c00b0a785b07d53c1a0cbc7d1e6d.jpg  \n",
            " extracting: train/BloodImage_00041_jpg.rf.faaad6f3867d4582efb0a70feb37d3db.jpg  \n",
            " extracting: test/BloodImage_00112_jpg.rf.f8d86689750221da637a054843c72822.jpg  \n",
            " extracting: train/BloodImage_00215_jpg.rf.fe567abb73afc2b25613f702e74904a1.jpg  \n",
            " extracting: train/_annotations.coco.json  \n",
            " extracting: test/_annotations.coco.json  \n",
            " extracting: valid/_annotations.coco.json  \n",
            " extracting: README.roboflow.txt     \n",
            " extracting: README.dataset.txt      \n"
          ],
          "name": "stdout"
        }
      ]
    },
    {
      "cell_type": "code",
      "metadata": {
        "id": "195pqZe1yBqg",
        "outputId": "12da6489-521a-4217-8d5c-3acc329fc391",
        "colab": {
          "base_uri": "https://localhost:8080/",
          "height": 1000
        }
      },
      "source": [
        "#we'll download yolo data into content file directory\n",
        "%cd ..\n",
        "!curl -L [YOUR LINK HERE] > roboflow.zip; unzip roboflow.zip; rm roboflow.zip\n",
        "\n"
      ],
      "execution_count": null,
      "outputs": [
        {
          "output_type": "stream",
          "text": [
            "/content\n",
            "  % Total    % Received % Xferd  Average Speed   Time    Time     Time  Current\n",
            "                                 Dload  Upload   Total   Spent    Left  Speed\n",
            "100   890  100   890    0     0   1326      0 --:--:-- --:--:-- --:--:--  1326\n",
            "100 5072k  100 5072k    0     0  5289k      0 --:--:-- --:--:-- --:--:-- 5289k\n",
            "Archive:  roboflow.zip\n",
            " extracting: train/BloodImage_00240_jpg.rf.02e03d6cdaa6a0c4446fbede5b024dd2.jpg  \n",
            " extracting: valid/BloodImage_00017_jpg.rf.03e73d66a140b6b0fb97b3170af9ff27.jpg  \n",
            " extracting: valid/BloodImage_00377_jpg.rf.0312942b2d584915ce2498b70b4c7fd9.jpg  \n",
            " extracting: train/BloodImage_00196_jpg.rf.03390ec25911b1035cae7b7ea3b8245d.jpg  \n",
            " extracting: train/BloodImage_00242_jpg.rf.007c73259d80a031ed7705cc0d1fa86c.jpg  \n",
            " extracting: train/BloodImage_00053_jpg.rf.039e0e2cfc3db970127dbb3f4ae9ee6d.jpg  \n",
            " extracting: test/BloodImage_00190_jpg.rf.03484116dcad7715c77d30654056fc54.jpg  \n",
            " extracting: train/BloodImage_00320_jpg.rf.0162f52310ba3d29d7a1a9cd30a43488.jpg  \n",
            " extracting: train/BloodImage_00256_jpg.rf.03ae10c8cb261253736684b6b1774dc4.jpg  \n",
            " extracting: train/BloodImage_00018_jpg.rf.02cc3c42d3b2af24c2432c9ec88bb492.jpg  \n",
            " extracting: valid/BloodImage_00012_jpg.rf.06d9ed50ba900fe61856c7e24ed06ba0.jpg  \n",
            " extracting: train/BloodImage_00239_jpg.rf.0a392e6482129861f845776014bca4d7.jpg  \n",
            " extracting: train/BloodImage_00159_jpg.rf.0cab1622395939c60dbbaa441fd39f49.jpg  \n",
            " extracting: train/BloodImage_00022_jpg.rf.05c7fc3470f2b51f2f54ea31300027e6.jpg  \n",
            " extracting: valid/BloodImage_00331_jpg.rf.044ea8a16ce827b20833a47fc7146fd6.jpg  \n",
            " extracting: train/BloodImage_00115_jpg.rf.08f07455792ce28311940e1aa2ad40b8.jpg  \n",
            " extracting: train/BloodImage_00304_jpg.rf.0da7230b16452359879fb633f0225fa2.jpg  \n",
            " extracting: train/BloodImage_00114_jpg.rf.0d42050ce8a689c2d3ec656a2b3b7c98.jpg  \n",
            " extracting: valid/BloodImage_00063_jpg.rf.0ef175881b7c6530580795fa39ca644d.jpg  \n",
            " extracting: train/BloodImage_00078_jpg.rf.09c7b76c73691728b1f4d063a73c8d16.jpg  \n",
            " extracting: test/BloodImage_00133_jpg.rf.06c3705fcfe2fcaee19e1a076e511508.jpg  \n",
            " extracting: valid/BloodImage_00319_jpg.rf.0f57f7ace7255d76cd34edfcd696da79.jpg  \n",
            " extracting: train/BloodImage_00156_jpg.rf.108986055b618fef7b0f32129dc11432.jpg  \n",
            " extracting: train/BloodImage_00066_jpg.rf.10b8742cf6c3d30e9cd9bd760732301f.jpg  \n",
            " extracting: test/BloodImage_00227_jpg.rf.1572183909350ffe748751e967b7c8e5.jpg  \n",
            " extracting: train/BloodImage_00383_jpg.rf.14f45a36baf2301bc8ce6dea7346b62b.jpg  \n",
            " extracting: train/BloodImage_00379_jpg.rf.17df569f98c7960cc5526bba81823a72.jpg  \n",
            " extracting: train/BloodImage_00255_jpg.rf.1455f9385ccbba92d4f5b87717c6a34a.jpg  \n",
            " extracting: train/BloodImage_00264_jpg.rf.14facedcbafa9e8bfb4d7eea78580cfa.jpg  \n",
            " extracting: valid/BloodImage_00141_jpg.rf.15e1059065f4842124bdf52c3161d0a8.jpg  \n",
            " extracting: train/BloodImage_00037_jpg.rf.18e27dcb80748ea9b2bb72affe6955a9.jpg  \n",
            " extracting: train/BloodImage_00234_jpg.rf.18d2e25089fec6bfd34af849101ec5df.jpg  \n",
            " extracting: valid/BloodImage_00086_jpg.rf.152da52d617487a634188f808b4ec681.jpg  \n",
            " extracting: test/BloodImage_00350_jpg.rf.1a19e9f9f197fbeab278718f7c6cea9b.jpg  \n",
            " extracting: valid/BloodImage_00270_jpg.rf.191c3cea14d9f973f6a19bab4297f5d7.jpg  \n",
            " extracting: valid/BloodImage_00228_jpg.rf.1b1f39332c3667817654332095bb46e4.jpg  \n",
            " extracting: train/BloodImage_00082_jpg.rf.1b88bd568853f9619e36c831e16c9700.jpg  \n",
            " extracting: train/BloodImage_00339_jpg.rf.1c864cee713e0bec62310ea5a76080a0.jpg  \n",
            " extracting: train/BloodImage_00198_jpg.rf.18d705a660d83e704730ea1b14dd2077.jpg  \n",
            " extracting: valid/BloodImage_00364_jpg.rf.1541add8efc3f48d1616cd0e4debc0d7.jpg  \n",
            " extracting: valid/BloodImage_00272_jpg.rf.1d6bb9962ec5549fce8a8f99261a69e4.jpg  \n",
            " extracting: train/BloodImage_00202_jpg.rf.1c61ccd0178cad42f9fb20b562b19e69.jpg  \n",
            " extracting: train/BloodImage_00310_jpg.rf.1940f2a0646c496caeb9582bec214181.jpg  \n",
            " extracting: train/BloodImage_00360_jpg.rf.19ff3dce8fcfa24801b2d80410428f9b.jpg  \n",
            " extracting: train/BloodImage_00046_jpg.rf.1e9c28f0a571c11f4ea437c572514294.jpg  \n",
            " extracting: test/BloodImage_00386_jpg.rf.1de8e2e0e94f942d7a1523852d7fb146.jpg  \n",
            " extracting: train/BloodImage_00322_jpg.rf.20605708fa51549976fdc85c119bcb6e.jpg  \n",
            " extracting: train/BloodImage_00353_jpg.rf.1fac753bf205700c58dd779731e14180.jpg  \n",
            " extracting: train/BloodImage_00269_jpg.rf.1ee5ead2df591affdfee9c28d0d81c03.jpg  \n",
            " extracting: valid/BloodImage_00259_jpg.rf.208ca99d2262848a6f688f1b03f3a17c.jpg  \n",
            " extracting: train/BloodImage_00162_jpg.rf.229a391d4dfca55e7c249ebedcd2020a.jpg  \n",
            " extracting: valid/BloodImage_00245_jpg.rf.224c5716e01f4ea635cfb7f2341e124e.jpg  \n",
            " extracting: train/BloodImage_00166_jpg.rf.262a043ff8a1e6b0190cc9b0cb01b56d.jpg  \n",
            " extracting: valid/BloodImage_00069_jpg.rf.2446f0efdd6fa2d9847b464b72e34fe5.jpg  \n",
            " extracting: valid/BloodImage_00392_jpg.rf.26c64b145b1e7eb4df490142d6f3e870.jpg  \n",
            " extracting: valid/BloodImage_00296_jpg.rf.2a3cabbce4438cfe6ee323364ce08e99.jpg  \n",
            " extracting: train/BloodImage_00083_jpg.rf.2998d1f2400bf04ed90e539ebe913cb8.jpg  \n",
            " extracting: train/BloodImage_00367_jpg.rf.25def0443d0fe800478ba711c2b9ee51.jpg  \n",
            " extracting: train/BloodImage_00163_jpg.rf.2aa7e068eb6f9b52d00de43ae134abbf.jpg  \n",
            " extracting: train/BloodImage_00219_jpg.rf.2b33151b3d173a07019c8dbe0b1eef09.jpg  \n",
            " extracting: train/BloodImage_00209_jpg.rf.2cc187a736630ff701811b3360688169.jpg  \n",
            " extracting: train/BloodImage_00249_jpg.rf.2a9916c3b2be9eac4e6964d419e8f83e.jpg  \n",
            " extracting: train/BloodImage_00065_jpg.rf.2f2e7813f4b5a427dc0daa29a61ef87b.jpg  \n",
            " extracting: train/BloodImage_00054_jpg.rf.2dd30b3b0392d1bcd33a10e37cf9713e.jpg  \n",
            " extracting: train/BloodImage_00193_jpg.rf.2edae1a9ce8be9f7fb12c048d0be56ff.jpg  \n",
            " extracting: train/BloodImage_00408_jpg.rf.2db889e1cefb413a5db010d72ca74a57.jpg  \n",
            " extracting: train/BloodImage_00005_jpg.rf.2f91dec02bab564d83b88d976eb1b522.jpg  \n",
            " extracting: train/BloodImage_00229_jpg.rf.33d23966f0eeac6cb22f2666ff2f946d.jpg  \n",
            " extracting: valid/BloodImage_00344_jpg.rf.3092e1f75781e74953416874af6a2cf1.jpg  \n",
            " extracting: valid/BloodImage_00161_jpg.rf.2c7244cdb8cd9a69a9bc88e5880756a5.jpg  \n",
            " extracting: train/BloodImage_00164_jpg.rf.2dc9699ae630c27a13a599fc3b22eab6.jpg  \n",
            " extracting: train/BloodImage_00189_jpg.rf.367746c6879d03a67ba3db2b851d590d.jpg  \n",
            " extracting: train/BloodImage_00174_jpg.rf.301d3d0e4ff10f6eadf8c47651ce44c6.jpg  \n",
            " extracting: train/BloodImage_00177_jpg.rf.3a59e39ed8fd92dce966a45e9ede25a8.jpg  \n",
            " extracting: train/BloodImage_00318_jpg.rf.342691b7f6c08450f5490f831c427de7.jpg  \n",
            " extracting: train/BloodImage_00351_jpg.rf.3a78a0669c32fa4074a0e656e651653d.jpg  \n",
            " extracting: train/BloodImage_00148_jpg.rf.36ab8a5b17c0f020559ff5b04129feb5.jpg  \n",
            " extracting: train/BloodImage_00045_jpg.rf.38710cbc65a66447df197c29ea137bcb.jpg  \n",
            " extracting: train/BloodImage_00345_jpg.rf.342e2b1c5e4d56905fab255eeaa6e2b0.jpg  \n",
            " extracting: train/BloodImage_00218_jpg.rf.38dc20f84bac3714542a27966e8e9ac0.jpg  \n",
            " extracting: train/BloodImage_00040_jpg.rf.3c32836a8bf11d7d442ab01959c5a255.jpg  \n",
            " extracting: train/BloodImage_00055_jpg.rf.3d395f708128e727f7e7242c4f394622.jpg  \n",
            " extracting: test/BloodImage_00334_jpg.rf.3b8a84d57940aeb45e5c2046c8411996.jpg  \n",
            " extracting: train/BloodImage_00094_jpg.rf.3dc231631acaf34455356c09357d0f10.jpg  \n",
            " extracting: train/BloodImage_00374_jpg.rf.3f54b84ef0b8f9fd62ca4e4f446fa0dc.jpg  \n",
            " extracting: train/BloodImage_00003_jpg.rf.3e0d750daa4754a3717d15768c14b847.jpg  \n",
            " extracting: train/BloodImage_00206_jpg.rf.3c4c8a6d8833bcb4434066200ad71f34.jpg  \n",
            " extracting: train/BloodImage_00089_jpg.rf.41841d675472134fe0bdcc09d97fdbb0.jpg  \n",
            " extracting: train/BloodImage_00064_jpg.rf.40b642a4415a851fa531a1c07c0779a3.jpg  \n",
            " extracting: train/BloodImage_00011_jpg.rf.3607f411314ee43c560ffa5f57ff1727.jpg  \n",
            " extracting: train/BloodImage_00088_jpg.rf.42a8b1939f2601dc01953d1f260559e2.jpg  \n",
            " extracting: train/BloodImage_00052_jpg.rf.4023bcaa5fa43bcccae52e1692be6a64.jpg  \n",
            " extracting: train/BloodImage_00314_jpg.rf.421fc1b9f8eef79699b0568988c5b5f4.jpg  \n",
            " extracting: valid/BloodImage_00109_jpg.rf.43f46103208703c3e95b1ae3dab79dc6.jpg  \n",
            " extracting: train/BloodImage_00144_jpg.rf.41b18bcceab7a84e66e1a02494938b47.jpg  \n",
            " extracting: train/BloodImage_00382_jpg.rf.441811773d805f5c81479894b9ea511b.jpg  \n",
            " extracting: train/BloodImage_00124_jpg.rf.419c03cd998f9a1f8d05b0126f430759.jpg  \n",
            " extracting: train/BloodImage_00268_jpg.rf.473cee61267c80c66f2523aa4af68146.jpg  \n",
            " extracting: train/BloodImage_00059_jpg.rf.42cedd40c0ac118de13f7f9aa2b5cb9f.jpg  \n",
            " extracting: train/BloodImage_00034_jpg.rf.46e3b2de709731ca1fa9f38726bf149b.jpg  \n",
            " extracting: train/BloodImage_00395_jpg.rf.47cabfa08f17f878a8bbee72e7f8f08f.jpg  \n",
            " extracting: train/BloodImage_00106_jpg.rf.41efe1d5b7329f045593fe17d508168e.jpg  \n",
            " extracting: test/BloodImage_00265_jpg.rf.4b7cc25caca963b5e0325c6998917cd1.jpg  \n",
            " extracting: train/BloodImage_00073_jpg.rf.4d57fd7ccdd1e22499bd72b28e0d0081.jpg  \n",
            " extracting: train/BloodImage_00168_jpg.rf.449c90b2ff7ed0802b47c26c575ddf33.jpg  \n",
            " extracting: valid/BloodImage_00403_jpg.rf.4d5849f3949a9ab146d27c85b98ccb1c.jpg  \n",
            " extracting: train/BloodImage_00290_jpg.rf.4a1faeff8efd151340e239efd973fa18.jpg  \n",
            " extracting: train/BloodImage_00231_jpg.rf.4e0100ad257ff1196189de55acf7f581.jpg  \n",
            " extracting: train/BloodImage_00006_jpg.rf.4eca53bb633875468ce90becd1c5f719.jpg  \n",
            " extracting: train/BloodImage_00405_jpg.rf.4d9fd11e7034f2c6a6ffe504a019d47a.jpg  \n",
            " extracting: train/BloodImage_00147_jpg.rf.4ff5270c8f9af1231edc4d857bf03008.jpg  \n",
            " extracting: test/BloodImage_00090_jpg.rf.4fd1da847d2857b6092003c41255ea4c.jpg  \n",
            " extracting: test/BloodImage_00160_jpg.rf.500f16e32681898ca1ce052ea0402c08.jpg  \n",
            " extracting: train/BloodImage_00149_jpg.rf.509ac73b73e2de5ecc9a52583ec67f5a.jpg  \n",
            " extracting: valid/BloodImage_00004_jpg.rf.52181b30907075ce5e9b10c9652f1366.jpg  \n",
            " extracting: train/BloodImage_00098_jpg.rf.50b2cf5e22eea7c47809de57b9a123da.jpg  \n",
            " extracting: valid/BloodImage_00107_jpg.rf.5036b0302cd94ded2f6e52245f4bb8dd.jpg  \n",
            " extracting: train/BloodImage_00035_jpg.rf.53e35f4ed8b5e52c69171c57a9d6b3c5.jpg  \n",
            " extracting: train/BloodImage_00179_jpg.rf.5389cd1c1e07c0b36a476709869dbb0c.jpg  \n",
            " extracting: train/BloodImage_00028_jpg.rf.51c68ad3c8ede11bd8746437c88e06f1.jpg  \n",
            " extracting: train/BloodImage_00232_jpg.rf.4ce291260d52eb9d910e26b62fd7d3e0.jpg  \n",
            " extracting: train/BloodImage_00388_jpg.rf.52f04938641f61a72e98ec3fe0b799ae.jpg  \n",
            " extracting: train/BloodImage_00224_jpg.rf.53f7054c6772cb2b151ea81956c01b33.jpg  \n",
            " extracting: train/BloodImage_00212_jpg.rf.585d649f788289748c8154994c2be005.jpg  \n",
            " extracting: test/BloodImage_00325_jpg.rf.55e62842be833601c86a1bd449ee8fe6.jpg  \n",
            " extracting: train/BloodImage_00010_jpg.rf.5557ba0a93133a1db1b3f86903e18f76.jpg  \n",
            " extracting: train/BloodImage_00201_jpg.rf.581afd773e44135e84f0fc55d4078222.jpg  \n",
            " extracting: valid/BloodImage_00104_jpg.rf.54a0b45ddd1527f7899c8765b40b38b7.jpg  \n",
            " extracting: train/BloodImage_00361_jpg.rf.509134ededd0bb5bfe892c081c8a8ee4.jpg  \n",
            " extracting: train/BloodImage_00208_jpg.rf.57797100bc9d0bfd6a84ace0b924acf0.jpg  \n",
            " extracting: train/BloodImage_00375_jpg.rf.5afa8f7a497058dee0fbd8d66d6497f7.jpg  \n",
            " extracting: test/BloodImage_00289_jpg.rf.58c541d9273174738d3d74e599428169.jpg  \n",
            " extracting: train/BloodImage_00244_jpg.rf.5afde78b6186e06dd80b0cce0a905bee.jpg  \n",
            " extracting: valid/BloodImage_00277_jpg.rf.5b3f27f9b4aeaf06b45953f4347e6a02.jpg  \n",
            " extracting: train/BloodImage_00023_jpg.rf.596a00645c755424b0ae07694b659688.jpg  \n",
            " extracting: train/BloodImage_00143_jpg.rf.5c08eedd455492fe3c8f0d68d752e6f8.jpg  \n",
            " extracting: train/BloodImage_00236_jpg.rf.5a7791e4051f7ed235acec127debab33.jpg  \n",
            " extracting: train/BloodImage_00226_jpg.rf.5cee949501e370f5af909f7b38ed1c92.jpg  \n",
            " extracting: train/BloodImage_00042_jpg.rf.5d8db568b0b0c73e24e1d0bd5df54c5e.jpg  \n",
            " extracting: train/BloodImage_00409_jpg.rf.602d5cb2372fe77d6f88a9f94bdd8b01.jpg  \n",
            " extracting: test/BloodImage_00099_jpg.rf.5b178d758af2a97d3df8e5f87b1f344a.jpg  \n",
            " extracting: train/BloodImage_00346_jpg.rf.5d6ff1668f494698f4099d2643521946.jpg  \n",
            " extracting: test/BloodImage_00336_jpg.rf.5ae87ede3994ca14504136035e256e38.jpg  \n",
            " extracting: valid/BloodImage_00225_jpg.rf.60d5691e69a56dae993361a34e561c1b.jpg  \n",
            " extracting: train/BloodImage_00002_jpg.rf.6077885e28afc7ef361acf12d94d4d88.jpg  \n",
            " extracting: train/BloodImage_00400_jpg.rf.605c63e2ba0dac6198c9d89f964d71b4.jpg  \n",
            " extracting: train/BloodImage_00184_jpg.rf.61346810b7e7dc1cd5f7d52a5efb32ef.jpg  \n",
            " extracting: train/BloodImage_00167_jpg.rf.62a0c4a1efba7c7c1ea784805a039d3c.jpg  \n",
            " extracting: train/BloodImage_00165_jpg.rf.63cb185ab85deeb69a5676a96e070094.jpg  \n",
            " extracting: train/BloodImage_00326_jpg.rf.6354a2b22bf107222d680bb7d7ce8b6d.jpg  \n",
            " extracting: test/BloodImage_00038_jpg.rf.63da20f3f5538d0d2be8c4633c7034a1.jpg  \n",
            " extracting: valid/BloodImage_00092_jpg.rf.64b7cd21a16e4e8d34386f3bbba3e67a.jpg  \n",
            " extracting: valid/BloodImage_00216_jpg.rf.657e10ec7e1bd863da88d1030764194d.jpg  \n",
            " extracting: train/BloodImage_00079_jpg.rf.6402c4f2af44a41572486f1227a1b585.jpg  \n",
            " extracting: train/BloodImage_00343_jpg.rf.67341bf00984218273df718b614fe92b.jpg  \n",
            " extracting: train/BloodImage_00180_jpg.rf.66cbbab7f3be1c3c00b775652b742735.jpg  \n",
            " extracting: train/BloodImage_00074_jpg.rf.6773a911ebfa4093d69d32f485ece9b6.jpg  \n",
            " extracting: train/BloodImage_00352_jpg.rf.65f47310549c55fa1db2903d27862146.jpg  \n",
            " extracting: train/BloodImage_00370_jpg.rf.6a50b1e9364e0a8d60a28ebd27c6d4cd.jpg  \n",
            " extracting: train/BloodImage_00103_jpg.rf.687ed77fd9d913fbcf1e7720256bccac.jpg  \n",
            " extracting: test/BloodImage_00120_jpg.rf.6742a4da047e1226a181d2de2978ce6d.jpg  \n",
            " extracting: train/BloodImage_00175_jpg.rf.69d531581faefa31d4bebbcbd4f36063.jpg  \n",
            " extracting: valid/BloodImage_00348_jpg.rf.65f9510ccc0d7025caa0d989bfae9b1a.jpg  \n",
            " extracting: train/BloodImage_00197_jpg.rf.6b5a2a6cc8a9cbc334b4cc6363b19717.jpg  \n",
            " extracting: train/BloodImage_00013_jpg.rf.6be66fdc74e851b63ef10dd6cf2d1bbc.jpg  \n",
            " extracting: valid/BloodImage_00355_jpg.rf.6caa8dbcbd9a9b7569088339949522aa.jpg  \n",
            " extracting: train/BloodImage_00305_jpg.rf.6bb627ca75ffb4e00c667ae9c331b4a9.jpg  \n",
            " extracting: test/BloodImage_00204_jpg.rf.6c3c9e37ab9122b026444cc4e685aef1.jpg  \n",
            " extracting: train/BloodImage_00376_jpg.rf.6e3242d2d6342ee60ac04e1f0d794b09.jpg  \n",
            " extracting: train/BloodImage_00200_jpg.rf.6e8e69feda789b5b7de74ff4323d3926.jpg  \n",
            " extracting: test/BloodImage_00266_jpg.rf.6d62684a33e2f5bc048803aba3177f58.jpg  \n",
            " extracting: train/BloodImage_00288_jpg.rf.723e7d8512a6113320fe6666d3129aad.jpg  \n",
            " extracting: train/BloodImage_00100_jpg.rf.71d2f2b11994f786b16e7b5132d7308d.jpg  \n",
            " extracting: train/BloodImage_00031_jpg.rf.6ff72f20dd5f6b4a241cd55105d88ca5.jpg  \n",
            " extracting: valid/BloodImage_00252_jpg.rf.6f42aa6e17ac140440e01c87c8017722.jpg  \n",
            " extracting: train/BloodImage_00285_jpg.rf.7380b1602d97a1d16c8c9d8461c1a78c.jpg  \n",
            " extracting: valid/BloodImage_00182_jpg.rf.77af1fd18d295a433630af696d861851.jpg  \n",
            " extracting: valid/BloodImage_00276_jpg.rf.72b95da74bfce959d8dda5c0c37933ac.jpg  \n",
            " extracting: train/BloodImage_00267_jpg.rf.77b86c33dac9591ca72126660dd6a112.jpg  \n",
            " extracting: valid/BloodImage_00108_jpg.rf.7550b80c37f37bd47a513d84b9cae557.jpg  \n",
            " extracting: train/BloodImage_00293_jpg.rf.78717e9ed6f5037f5e3d2539fe5c7fa2.jpg  \n",
            " extracting: test/BloodImage_00337_jpg.rf.7959cb18929c970939cda4a9544547c8.jpg  \n",
            " extracting: train/BloodImage_00058_jpg.rf.78a414ea6fe32a14b1f05fdf97761e45.jpg  \n",
            " extracting: test/BloodImage_00154_jpg.rf.7c682b32a64ca0520b6fc725f0d667c7.jpg  \n",
            " extracting: valid/BloodImage_00217_jpg.rf.7bf6033f01880011b056f35c6fffc63d.jpg  \n",
            " extracting: valid/BloodImage_00221_jpg.rf.7bdba56b31403ea6c91d6eab14bc1d36.jpg  \n",
            " extracting: train/BloodImage_00260_jpg.rf.790033dfaa22f8d63d1d794c7e320bad.jpg  \n",
            " extracting: valid/BloodImage_00070_jpg.rf.7d3efb259a21ba459dffe5a85b974b0b.jpg  \n",
            " extracting: train/BloodImage_00368_jpg.rf.7db094f9e34bb5b669dec415ff593714.jpg  \n",
            " extracting: train/BloodImage_00203_jpg.rf.7e1e0baedaf6227f45f74ed5727ccec8.jpg  \n",
            " extracting: test/BloodImage_00254_jpg.rf.6e046ca48ec2e57c2e178aa3f08ec8ee.jpg  \n",
            " extracting: train/BloodImage_00192_jpg.rf.7fe82835e330e3f5c04f9300f2f3063a.jpg  \n",
            " extracting: train/BloodImage_00342_jpg.rf.83bc536c22bb7c493ca6ae5a54b9d698.jpg  \n",
            " extracting: valid/BloodImage_00026_jpg.rf.823e2bb87c26496748847b212c20ca9a.jpg  \n",
            " extracting: valid/BloodImage_00297_jpg.rf.853746ceed056b2a39049282c9ffbd8a.jpg  \n",
            " extracting: valid/BloodImage_00281_jpg.rf.813106d0417b3ae3213c1ca97b233b4c.jpg  \n",
            " extracting: train/BloodImage_00365_jpg.rf.834ce2d9a8b7dd1647fe2c159659b967.jpg  \n",
            " extracting: train/BloodImage_00097_jpg.rf.858d7117f280c3f6a14464a0f73c0920.jpg  \n",
            " extracting: train/BloodImage_00091_jpg.rf.8723660dee1777d62c0f6bdaa8f85e4f.jpg  \n",
            " extracting: train/BloodImage_00101_jpg.rf.85a56d6e0c085353c13f06a057562c1f.jpg  \n",
            " extracting: train/BloodImage_00398_jpg.rf.88272989c2c060bdaab0f369111e1eed.jpg  \n",
            " extracting: train/BloodImage_00396_jpg.rf.87f7e3afd9ac02542d093ed0e5846e6f.jpg  \n",
            " extracting: valid/BloodImage_00057_jpg.rf.88e778c9509fe9954183f9a019a6deb2.jpg  \n",
            " extracting: train/BloodImage_00111_jpg.rf.8870565af7f2f95f707f1fe8257ab856.jpg  \n",
            " extracting: valid/BloodImage_00183_jpg.rf.8943c694fb9708ae74a2b015d1f77f6b.jpg  \n",
            " extracting: valid/BloodImage_00110_jpg.rf.8d89167f3ff070807b0de1df00547d46.jpg  \n",
            " extracting: train/BloodImage_00407_jpg.rf.8ffc1a12125e83eecee8d23da68646bf.jpg  \n",
            " extracting: train/BloodImage_00271_jpg.rf.9023474335f0271ddf9a6f7479dbafe8.jpg  \n",
            " extracting: train/BloodImage_00223_jpg.rf.900340184b673740f4bbb4243f6ff6ed.jpg  \n",
            " extracting: train/BloodImage_00251_jpg.rf.907c7f4f42fb6ca2a5d34e06b4cd3cc7.jpg  \n",
            " extracting: train/BloodImage_00262_jpg.rf.911152179cab0162253e2d3f1805e778.jpg  \n",
            " extracting: valid/BloodImage_00410_jpg.rf.91f0f738b1e5c97891f10829dcd99202.jpg  \n",
            " extracting: train/BloodImage_00007_jpg.rf.8875d271e2671668961ec3ec314dba08.jpg  \n",
            " extracting: valid/BloodImage_00211_jpg.rf.94172f3701a81e38c7a14046b1ce963f.jpg  \n",
            " extracting: valid/BloodImage_00076_jpg.rf.9200c500c10bb2debcc1a1be99e5359b.jpg  \n",
            " extracting: test/BloodImage_00275_jpg.rf.9108b9a016fadd9c367b05dfb0c40c2c.jpg  \n",
            " extracting: valid/BloodImage_00384_jpg.rf.9212c214c677515d51cc06b9f40e50c6.jpg  \n",
            " extracting: valid/BloodImage_00404_jpg.rf.9656609cf7292fdb6cb8e755a3cac91d.jpg  \n",
            " extracting: train/BloodImage_00333_jpg.rf.97f2ec9bd7af669ebf93a73ad4522e10.jpg  \n",
            " extracting: train/BloodImage_00391_jpg.rf.96cb68490f98fdf99712e953a8f96001.jpg  \n",
            " extracting: train/BloodImage_00291_jpg.rf.94e5e3697c522e003de8fc06c06d2725.jpg  \n",
            " extracting: train/BloodImage_00087_jpg.rf.97ee9ceab5eb8fe66671ff3b6f86fec4.jpg  \n",
            " extracting: test/BloodImage_00369_jpg.rf.99ae139e5530a25980b7acdd56a4317c.jpg  \n",
            " extracting: train/BloodImage_00178_jpg.rf.97be05fc4078f65bc3bff25911217908.jpg  \n",
            " extracting: train/BloodImage_00172_jpg.rf.98a5f2f944c3848ea5a5f8c543ccd7eb.jpg  \n",
            " extracting: train/BloodImage_00142_jpg.rf.9a61799e4585712264749bf61b0b39f6.jpg  \n",
            " extracting: train/BloodImage_00313_jpg.rf.9ba2384696c0a86e4e2b0980b2b8139b.jpg  \n",
            " extracting: test/BloodImage_00301_jpg.rf.9c427e66bcc1b088df9a5e71c0abefba.jpg  \n",
            " extracting: test/BloodImage_00278_jpg.rf.9ce9e9760ff20b56b115c86879e02a67.jpg  \n",
            " extracting: train/BloodImage_00247_jpg.rf.9e01c6f5520cec0cd477f12eaf084ca9.jpg  \n",
            " extracting: valid/BloodImage_00298_jpg.rf.9b5e265dbe525bbc19790bb27c3cec01.jpg  \n",
            " extracting: train/BloodImage_00378_jpg.rf.9ea076bee6824b777f9ffbd8dad4abeb.jpg  \n",
            " extracting: valid/BloodImage_00123_jpg.rf.9e3dee111a093f05b0187284085960f6.jpg  \n",
            " extracting: valid/BloodImage_00126_jpg.rf.a146488a9e1242c652bf5ec2d6a90c22.jpg  \n",
            " extracting: train/BloodImage_00015_jpg.rf.a1aca60385f1ad8cf0d04e688b9d8c4d.jpg  \n",
            " extracting: train/BloodImage_00029_jpg.rf.9f2b9187d858afc3f35cbdb6d1a82e67.jpg  \n",
            " extracting: train/BloodImage_00033_jpg.rf.9ea986460903aabe669834b358b0b2fd.jpg  \n",
            " extracting: train/BloodImage_00338_jpg.rf.9f35cefbbd15e526b5349186f312803e.jpg  \n",
            " extracting: train/BloodImage_00349_jpg.rf.a4e8bbdf1d28f8362ea87a5550c37b4d.jpg  \n",
            " extracting: train/BloodImage_00140_jpg.rf.a582c718a8f2c134dc51cc37d1d97020.jpg  \n",
            " extracting: train/BloodImage_00067_jpg.rf.a5b2b01c0f566a59317105d093275e72.jpg  \n",
            " extracting: train/BloodImage_00145_jpg.rf.a265e7f4f0aab5586c6aa5258bb03966.jpg  \n",
            " extracting: valid/BloodImage_00246_jpg.rf.a78e264e917d3c6215c06530b36838d3.jpg  \n",
            " extracting: valid/BloodImage_00187_jpg.rf.a20ad236a4d33c964b882c2abceb8d1c.jpg  \n",
            " extracting: train/BloodImage_00056_jpg.rf.a5efc91886069c9780dfb3e8138ed49e.jpg  \n",
            " extracting: train/BloodImage_00117_jpg.rf.a7b1c58f6a0b6284866ddec6de4239fb.jpg  \n",
            " extracting: test/BloodImage_00113_jpg.rf.a6d6a75c0ebfc703ecff95e2938be34d.jpg  \n",
            " extracting: train/BloodImage_00323_jpg.rf.a633c18b99a31c1f1a6f1ca2d5a7f634.jpg  \n",
            " extracting: valid/BloodImage_00315_jpg.rf.ab25b8902d12228c75aea8abb15cafa7.jpg  \n",
            " extracting: train/BloodImage_00362_jpg.rf.a8c5150d189004b32fe41d94be2f197b.jpg  \n",
            " extracting: train/BloodImage_00295_jpg.rf.aa1ecf83f056781df45b50be9c944fd5.jpg  \n",
            " extracting: valid/BloodImage_00205_jpg.rf.ac5731ed67779ef0369f9e4f7cedf329.jpg  \n",
            " extracting: train/BloodImage_00036_jpg.rf.ab91604015ffed009b2573f59ed80802.jpg  \n",
            " extracting: test/BloodImage_00302_jpg.rf.ae0f61c17483b2e0e7f9b1396fc5108c.jpg  \n",
            " extracting: train/BloodImage_00366_jpg.rf.aa640d0d6000546cbc6da4e0d4fd0dec.jpg  \n",
            " extracting: train/BloodImage_00233_jpg.rf.ade52d587dfa61462c31583882bb96ec.jpg  \n",
            " extracting: valid/BloodImage_00300_jpg.rf.b004476f20883e37b5addbfff7857be9.jpg  \n",
            " extracting: train/BloodImage_00014_jpg.rf.af9ce41f51d0572a95f4a89ee15e26a0.jpg  \n",
            " extracting: train/BloodImage_00176_jpg.rf.acacd7a71975b614a6ace94b2d927d13.jpg  \n",
            " extracting: train/BloodImage_00294_jpg.rf.b23c086547586fb22e1ee76e3354af58.jpg  \n",
            " extracting: train/BloodImage_00195_jpg.rf.ade39f1f0cfe1db1e016abf809dfee8b.jpg  \n",
            " extracting: train/BloodImage_00068_jpg.rf.b30050929d89caeac6bc7ed67b229a2d.jpg  \n",
            " extracting: train/BloodImage_00330_jpg.rf.b3bc39de2cd8af899dcbf4968d96106b.jpg  \n",
            " extracting: test/BloodImage_00235_jpg.rf.b01cbde1f504d448759188feadad4838.jpg  \n",
            " extracting: valid/BloodImage_00309_jpg.rf.af6d670209c2ce1dcb6aa4c4c62fb6bc.jpg  \n",
            " extracting: test/BloodImage_00044_jpg.rf.b0e2369642c5a7fa434ed8defa79e2ba.jpg  \n",
            " extracting: train/BloodImage_00372_jpg.rf.b4a115141905ebe604af1142f37050fa.jpg  \n",
            " extracting: train/BloodImage_00397_jpg.rf.ba01520c70fdbeae824265e65e0b5f59.jpg  \n",
            " extracting: train/BloodImage_00024_jpg.rf.b5a36262f6280ac61d240f8935f33806.jpg  \n",
            " extracting: train/BloodImage_00312_jpg.rf.b6b8d5389b691278bb36789d528127cf.jpg  \n",
            " extracting: train/BloodImage_00250_jpg.rf.b4ab58b6f116df5e831b4246e2c044ec.jpg  \n",
            " extracting: train/BloodImage_00171_jpg.rf.b92498a881747c362984f9b175c5b9e6.jpg  \n",
            " extracting: train/BloodImage_00390_jpg.rf.be0239cd714d7b7f0ac83378bc18e7ab.jpg  \n",
            " extracting: train/BloodImage_00248_jpg.rf.b669ad8c3784b6c29cfad94ec72dde6c.jpg  \n",
            " extracting: train/BloodImage_00008_jpg.rf.beb6ffe42e184c37fe1fedb7365363a6.jpg  \n",
            " extracting: valid/BloodImage_00021_jpg.rf.ba437d2c57aa4b6e65a8589949859b5a.jpg  \n",
            " extracting: train/BloodImage_00020_jpg.rf.bd20279c3a4792f30044ba917d305bca.jpg  \n",
            " extracting: train/BloodImage_00340_jpg.rf.c02aff3a668ba7c47d5107cf0fa19509.jpg  \n",
            " extracting: valid/BloodImage_00263_jpg.rf.c27cac6ad3874265da827b1d50ef4f20.jpg  \n",
            " extracting: train/BloodImage_00381_jpg.rf.c375a7dfa025e6c97e069e7af89839a5.jpg  \n",
            " extracting: train/BloodImage_00030_jpg.rf.c0ed0b62b8d2527e567c547a75fedd3c.jpg  \n",
            " extracting: train/BloodImage_00032_jpg.rf.b3c7488aa3bf997274f56bce5ffe3a74.jpg  \n",
            " extracting: train/BloodImage_00257_jpg.rf.c5ead571c4139477479569e33f37c1e7.jpg  \n",
            " extracting: train/BloodImage_00139_jpg.rf.c52aaed320b17ed10aa927888ce5f348.jpg  \n",
            " extracting: train/BloodImage_00170_jpg.rf.c640ac5bbf1cffe65e7bfc4d0a780efc.jpg  \n",
            " extracting: train/BloodImage_00311_jpg.rf.c340f6eb3408f26332497fb1f183dd59.jpg  \n",
            " extracting: train/BloodImage_00327_jpg.rf.c838cc916de2bfa77a9213b75e474f60.jpg  \n",
            " extracting: train/BloodImage_00001_jpg.rf.cebb6824aacfc545bb4152ce18717c1b.jpg  \n",
            " extracting: train/BloodImage_00393_jpg.rf.cd230b03b6049b36c0a9caa05ae546e3.jpg  \n",
            " extracting: valid/BloodImage_00135_jpg.rf.cbb20dd263d910f9c32eefbab2449cf3.jpg  \n",
            " extracting: test/BloodImage_00385_jpg.rf.cf0e48c08597f372423a60918074f574.jpg  \n",
            " extracting: train/BloodImage_00324_jpg.rf.c843c813abdb654ae2b036a9c8e5aa2f.jpg  \n",
            " extracting: train/BloodImage_00048_jpg.rf.cf98381e95dad4b92e185bc9fae23949.jpg  \n",
            " extracting: train/BloodImage_00230_jpg.rf.ce8f4795e74fa224c6fcc1551021a4d4.jpg  \n",
            " extracting: valid/BloodImage_00402_jpg.rf.d087e24abd3c1194a4bf429a804dcc47.jpg  \n",
            " extracting: train/BloodImage_00125_jpg.rf.ce1793bac18a7f5f2dcf297ba7d59388.jpg  \n",
            " extracting: valid/BloodImage_00075_jpg.rf.cee7dd52f332b55793e80469e69320c5.jpg  \n",
            " extracting: train/BloodImage_00220_jpg.rf.d0fec0542cc693641936c943b0a4e5e4.jpg  \n",
            " extracting: test/BloodImage_00241_jpg.rf.d0edd8c528bec298a9552ed8ad5714c7.jpg  \n",
            " extracting: test/BloodImage_00284_jpg.rf.d33fcb37af7c55a50f275711763ddf7a.jpg  \n",
            " extracting: test/BloodImage_00191_jpg.rf.d4b5ad6525c6c0bc4eaea1f24901f396.jpg  \n",
            " extracting: train/BloodImage_00207_jpg.rf.d50d22b1d2d48979c2d26d5c1dc4b4ee.jpg  \n",
            " extracting: train/BloodImage_00081_jpg.rf.d60e65271b92608716deba2400016a6c.jpg  \n",
            " extracting: train/BloodImage_00019_jpg.rf.d554d5cff5e7554bacbd356fe1228630.jpg  \n",
            " extracting: train/BloodImage_00043_jpg.rf.d4090ebc49c1fad63109d7ff96178e8c.jpg  \n",
            " extracting: valid/BloodImage_00371_jpg.rf.d4fb6ab29cde13f92caf012782889917.jpg  \n",
            " extracting: train/BloodImage_00158_jpg.rf.d7a8fb65b17a2047331a9ad2af65f904.jpg  \n",
            " extracting: train/BloodImage_00237_jpg.rf.d6b5d4daa715b2519b9be571dd188c4c.jpg  \n",
            " extracting: train/BloodImage_00279_jpg.rf.d7360a664bc0931b2b34fe7fc12f96c1.jpg  \n",
            " extracting: train/BloodImage_00354_jpg.rf.d63d0b3dd3ac9df0b06b118900b6caa3.jpg  \n",
            " extracting: valid/BloodImage_00127_jpg.rf.da0d6240a1f655543a54c1fe0f60d843.jpg  \n",
            " extracting: train/BloodImage_00095_jpg.rf.d5e1565486966bf4729f7699660e6178.jpg  \n",
            " extracting: train/BloodImage_00317_jpg.rf.da05e07bc66b32a5230383724654bd2b.jpg  \n",
            " extracting: train/BloodImage_00303_jpg.rf.d97418f1c8bf7353b33891732eb4a00e.jpg  \n",
            " extracting: train/BloodImage_00009_jpg.rf.da19061a9a7f43fbaedd27dcc9369a79.jpg  \n",
            " extracting: train/BloodImage_00214_jpg.rf.d806efc40815e2b711db9bb66b5f0dd5.jpg  \n",
            " extracting: train/BloodImage_00199_jpg.rf.d85b02c9e8ab10a1bab7c05fbdc88498.jpg  \n",
            " extracting: train/BloodImage_00253_jpg.rf.df98292053faa0f88eb0466d798f041a.jpg  \n",
            " extracting: valid/BloodImage_00000_jpg.rf.dff4630865bca0ebd8cb9a1d07b98b3b.jpg  \n",
            " extracting: train/BloodImage_00299_jpg.rf.e1fe6fedb2feaf870450ff96b1aaa9e8.jpg  \n",
            " extracting: valid/BloodImage_00273_jpg.rf.e15f8914abda4df6daab3f16806c0738.jpg  \n",
            " extracting: valid/BloodImage_00274_jpg.rf.e2eedfbc54bd9f87694b4adaa7bf6ebf.jpg  \n",
            " extracting: valid/BloodImage_00071_jpg.rf.e3383532eceb1841324aac3370b8ee61.jpg  \n",
            " extracting: train/BloodImage_00049_jpg.rf.e2b5ebde1df3675ccfd86e517480da00.jpg  \n",
            " extracting: train/BloodImage_00016_jpg.rf.e424362fede794edc8b0f655cf7f7b52.jpg  \n",
            " extracting: train/BloodImage_00357_jpg.rf.e2f3c3ce91f7f7f46e2162e85c0a3cd8.jpg  \n",
            " extracting: train/BloodImage_00282_jpg.rf.e5b58527707288bdd8cfce942fb65e96.jpg  \n",
            " extracting: train/BloodImage_00077_jpg.rf.e5fec5b0f926f2c1fe8e3193cb35664a.jpg  \n",
            " extracting: train/BloodImage_00039_jpg.rf.e4ee3626b2b2f10c5fd1f2dcaf1c10ca.jpg  \n",
            " extracting: valid/BloodImage_00093_jpg.rf.e67f49890fdb1ed740e27d0ef3d6a48b.jpg  \n",
            " extracting: train/BloodImage_00210_jpg.rf.e717500ee4f9e9f2e64b6c54acaa4f92.jpg  \n",
            " extracting: test/BloodImage_00359_jpg.rf.e4b6af6691f2d8cc8345f42bcc1678fa.jpg  \n",
            " extracting: train/BloodImage_00152_jpg.rf.e8fa4f194084beaf48533349d359a3d5.jpg  \n",
            " extracting: train/BloodImage_00261_jpg.rf.e7d72d18b1ba65c1b98f70c556c2bc4f.jpg  \n",
            " extracting: test/BloodImage_00062_jpg.rf.e965ee152eea462d82706a2709abfe00.jpg  \n",
            " extracting: train/BloodImage_00389_jpg.rf.ebfa5de21d4539ed10b56ed0a00c6999.jpg  \n",
            " extracting: train/BloodImage_00287_jpg.rf.ea29305ce151b669e8fe1be5ca248012.jpg  \n",
            " extracting: valid/BloodImage_00258_jpg.rf.e478417f27bd247f64cb60351f2b0fdd.jpg  \n",
            " extracting: train/BloodImage_00137_jpg.rf.edccdbfd3731f56753eb611feb8ceaeb.jpg  \n",
            " extracting: train/BloodImage_00072_jpg.rf.edf27bdfdc8a1350d11c0760398f1079.jpg  \n",
            " extracting: train/BloodImage_00332_jpg.rf.ed87a2ffb4bb87281d6dc70bc15a24b3.jpg  \n",
            " extracting: train/BloodImage_00347_jpg.rf.ec3da8e3d3760ff522750704050cc4ab.jpg  \n",
            " extracting: train/BloodImage_00150_jpg.rf.efdbcf3bf7e00b06ff9a9694c5f9d237.jpg  \n",
            " extracting: test/BloodImage_00134_jpg.rf.ee0308b1f3e1ffbb048cb3b1f80e8e36.jpg  \n",
            " extracting: valid/BloodImage_00335_jpg.rf.ee587575d7a2d47ff383b3c2da829d39.jpg  \n",
            " extracting: train/BloodImage_00356_jpg.rf.ef52bc664a2f9262370c6d4969a8dd91.jpg  \n",
            " extracting: train/BloodImage_00341_jpg.rf.efe92811d06d4605ab9618d10cb730ee.jpg  \n",
            " extracting: train/BloodImage_00308_jpg.rf.f048c9ada0e94ebaf108ec2e6d8c8f86.jpg  \n",
            " extracting: train/BloodImage_00387_jpg.rf.f41033e0fab81333b2287d63ace10e51.jpg  \n",
            " extracting: train/BloodImage_00136_jpg.rf.f437f567c670314938b68f629f63867e.jpg  \n",
            " extracting: train/BloodImage_00307_jpg.rf.efedae262c822c0be29cb50d7e6e2fe8.jpg  \n",
            " extracting: train/BloodImage_00169_jpg.rf.f4d21977acfc39dedf7dffaccd55248c.jpg  \n",
            " extracting: train/BloodImage_00292_jpg.rf.f22fb518192fce84da68f5ce2d0f7788.jpg  \n",
            " extracting: valid/BloodImage_00050_jpg.rf.f831da5c49c39be04f0c63b98ab44221.jpg  \n",
            " extracting: train/BloodImage_00243_jpg.rf.f703b4fc40c4114920a836124a84381b.jpg  \n",
            " extracting: valid/BloodImage_00130_jpg.rf.f5a534f513f71ac22099a4771be38362.jpg  \n",
            " extracting: train/BloodImage_00283_jpg.rf.f6f91c40d0f20bb6274e7a82984d906f.jpg  \n",
            " extracting: test/BloodImage_00112_jpg.rf.f8d86689750221da637a054843c72822.jpg  \n",
            " extracting: train/BloodImage_00222_jpg.rf.f4ffa303a5c7071aba2b41492247ab34.jpg  \n",
            " extracting: train/BloodImage_00132_jpg.rf.f9cc6279809de2f219bab323ce3a1e29.jpg  \n",
            " extracting: train/BloodImage_00041_jpg.rf.faaad6f3867d4582efb0a70feb37d3db.jpg  \n",
            " extracting: train/BloodImage_00157_jpg.rf.fa2209269612935b573d3d3b478fa611.jpg  \n",
            " extracting: train/BloodImage_00215_jpg.rf.fe567abb73afc2b25613f702e74904a1.jpg  \n",
            " extracting: train/BloodImage_00047_jpg.rf.fc57c00b0a785b07d53c1a0cbc7d1e6d.jpg  \n",
            " extracting: train/BloodImage_00240_jpg.rf.02e03d6cdaa6a0c4446fbede5b024dd2.txt  \n",
            " extracting: train/BloodImage_00196_jpg.rf.03390ec25911b1035cae7b7ea3b8245d.txt  \n",
            " extracting: train/BloodImage_00242_jpg.rf.007c73259d80a031ed7705cc0d1fa86c.txt  \n",
            " extracting: train/BloodImage_00053_jpg.rf.039e0e2cfc3db970127dbb3f4ae9ee6d.txt  \n",
            " extracting: train/BloodImage_00320_jpg.rf.0162f52310ba3d29d7a1a9cd30a43488.txt  \n",
            " extracting: train/BloodImage_00256_jpg.rf.03ae10c8cb261253736684b6b1774dc4.txt  \n",
            " extracting: train/BloodImage_00018_jpg.rf.02cc3c42d3b2af24c2432c9ec88bb492.txt  \n",
            " extracting: train/BloodImage_00239_jpg.rf.0a392e6482129861f845776014bca4d7.txt  \n",
            " extracting: train/BloodImage_00159_jpg.rf.0cab1622395939c60dbbaa441fd39f49.txt  \n",
            " extracting: train/BloodImage_00022_jpg.rf.05c7fc3470f2b51f2f54ea31300027e6.txt  \n",
            " extracting: train/BloodImage_00115_jpg.rf.08f07455792ce28311940e1aa2ad40b8.txt  \n",
            " extracting: train/BloodImage_00304_jpg.rf.0da7230b16452359879fb633f0225fa2.txt  \n",
            " extracting: train/BloodImage_00114_jpg.rf.0d42050ce8a689c2d3ec656a2b3b7c98.txt  \n",
            " extracting: train/BloodImage_00078_jpg.rf.09c7b76c73691728b1f4d063a73c8d16.txt  \n",
            " extracting: train/BloodImage_00156_jpg.rf.108986055b618fef7b0f32129dc11432.txt  \n",
            " extracting: train/BloodImage_00066_jpg.rf.10b8742cf6c3d30e9cd9bd760732301f.txt  \n",
            " extracting: train/BloodImage_00383_jpg.rf.14f45a36baf2301bc8ce6dea7346b62b.txt  \n",
            " extracting: train/BloodImage_00379_jpg.rf.17df569f98c7960cc5526bba81823a72.txt  \n",
            " extracting: train/BloodImage_00255_jpg.rf.1455f9385ccbba92d4f5b87717c6a34a.txt  \n",
            " extracting: train/BloodImage_00264_jpg.rf.14facedcbafa9e8bfb4d7eea78580cfa.txt  \n",
            " extracting: train/BloodImage_00037_jpg.rf.18e27dcb80748ea9b2bb72affe6955a9.txt  \n",
            " extracting: train/BloodImage_00234_jpg.rf.18d2e25089fec6bfd34af849101ec5df.txt  \n",
            " extracting: train/BloodImage_00082_jpg.rf.1b88bd568853f9619e36c831e16c9700.txt  \n",
            " extracting: train/BloodImage_00339_jpg.rf.1c864cee713e0bec62310ea5a76080a0.txt  \n",
            " extracting: train/BloodImage_00198_jpg.rf.18d705a660d83e704730ea1b14dd2077.txt  \n",
            " extracting: train/BloodImage_00202_jpg.rf.1c61ccd0178cad42f9fb20b562b19e69.txt  \n",
            " extracting: train/BloodImage_00310_jpg.rf.1940f2a0646c496caeb9582bec214181.txt  \n",
            " extracting: train/BloodImage_00360_jpg.rf.19ff3dce8fcfa24801b2d80410428f9b.txt  \n",
            " extracting: train/BloodImage_00046_jpg.rf.1e9c28f0a571c11f4ea437c572514294.txt  \n",
            " extracting: train/BloodImage_00322_jpg.rf.20605708fa51549976fdc85c119bcb6e.txt  \n",
            " extracting: train/BloodImage_00353_jpg.rf.1fac753bf205700c58dd779731e14180.txt  \n",
            " extracting: train/BloodImage_00269_jpg.rf.1ee5ead2df591affdfee9c28d0d81c03.txt  \n",
            " extracting: train/BloodImage_00162_jpg.rf.229a391d4dfca55e7c249ebedcd2020a.txt  \n",
            " extracting: train/BloodImage_00166_jpg.rf.262a043ff8a1e6b0190cc9b0cb01b56d.txt  \n",
            " extracting: train/BloodImage_00083_jpg.rf.2998d1f2400bf04ed90e539ebe913cb8.txt  \n",
            " extracting: train/BloodImage_00367_jpg.rf.25def0443d0fe800478ba711c2b9ee51.txt  \n",
            " extracting: train/BloodImage_00163_jpg.rf.2aa7e068eb6f9b52d00de43ae134abbf.txt  \n",
            " extracting: train/BloodImage_00219_jpg.rf.2b33151b3d173a07019c8dbe0b1eef09.txt  \n",
            " extracting: train/BloodImage_00209_jpg.rf.2cc187a736630ff701811b3360688169.txt  \n",
            " extracting: train/BloodImage_00249_jpg.rf.2a9916c3b2be9eac4e6964d419e8f83e.txt  \n",
            " extracting: train/BloodImage_00065_jpg.rf.2f2e7813f4b5a427dc0daa29a61ef87b.txt  \n",
            " extracting: train/BloodImage_00054_jpg.rf.2dd30b3b0392d1bcd33a10e37cf9713e.txt  \n",
            " extracting: train/BloodImage_00193_jpg.rf.2edae1a9ce8be9f7fb12c048d0be56ff.txt  \n",
            " extracting: train/BloodImage_00408_jpg.rf.2db889e1cefb413a5db010d72ca74a57.txt  \n",
            " extracting: train/BloodImage_00005_jpg.rf.2f91dec02bab564d83b88d976eb1b522.txt  \n",
            " extracting: train/BloodImage_00229_jpg.rf.33d23966f0eeac6cb22f2666ff2f946d.txt  \n",
            " extracting: train/BloodImage_00164_jpg.rf.2dc9699ae630c27a13a599fc3b22eab6.txt  \n",
            " extracting: train/BloodImage_00189_jpg.rf.367746c6879d03a67ba3db2b851d590d.txt  \n",
            " extracting: train/BloodImage_00174_jpg.rf.301d3d0e4ff10f6eadf8c47651ce44c6.txt  \n",
            " extracting: train/BloodImage_00177_jpg.rf.3a59e39ed8fd92dce966a45e9ede25a8.txt  \n",
            " extracting: train/BloodImage_00318_jpg.rf.342691b7f6c08450f5490f831c427de7.txt  \n",
            " extracting: train/BloodImage_00351_jpg.rf.3a78a0669c32fa4074a0e656e651653d.txt  \n",
            " extracting: train/BloodImage_00148_jpg.rf.36ab8a5b17c0f020559ff5b04129feb5.txt  \n",
            " extracting: train/BloodImage_00045_jpg.rf.38710cbc65a66447df197c29ea137bcb.txt  \n",
            " extracting: train/BloodImage_00345_jpg.rf.342e2b1c5e4d56905fab255eeaa6e2b0.txt  \n",
            " extracting: train/BloodImage_00218_jpg.rf.38dc20f84bac3714542a27966e8e9ac0.txt  \n",
            " extracting: train/BloodImage_00040_jpg.rf.3c32836a8bf11d7d442ab01959c5a255.txt  \n",
            " extracting: train/BloodImage_00055_jpg.rf.3d395f708128e727f7e7242c4f394622.txt  \n",
            " extracting: train/BloodImage_00094_jpg.rf.3dc231631acaf34455356c09357d0f10.txt  \n",
            " extracting: train/BloodImage_00374_jpg.rf.3f54b84ef0b8f9fd62ca4e4f446fa0dc.txt  \n",
            " extracting: train/BloodImage_00003_jpg.rf.3e0d750daa4754a3717d15768c14b847.txt  \n",
            " extracting: train/BloodImage_00206_jpg.rf.3c4c8a6d8833bcb4434066200ad71f34.txt  \n",
            " extracting: train/BloodImage_00089_jpg.rf.41841d675472134fe0bdcc09d97fdbb0.txt  \n",
            " extracting: train/BloodImage_00064_jpg.rf.40b642a4415a851fa531a1c07c0779a3.txt  \n",
            " extracting: train/BloodImage_00011_jpg.rf.3607f411314ee43c560ffa5f57ff1727.txt  \n",
            " extracting: train/BloodImage_00088_jpg.rf.42a8b1939f2601dc01953d1f260559e2.txt  \n",
            " extracting: train/BloodImage_00052_jpg.rf.4023bcaa5fa43bcccae52e1692be6a64.txt  \n",
            " extracting: train/BloodImage_00314_jpg.rf.421fc1b9f8eef79699b0568988c5b5f4.txt  \n",
            " extracting: train/BloodImage_00144_jpg.rf.41b18bcceab7a84e66e1a02494938b47.txt  \n",
            " extracting: train/BloodImage_00382_jpg.rf.441811773d805f5c81479894b9ea511b.txt  \n",
            " extracting: train/BloodImage_00124_jpg.rf.419c03cd998f9a1f8d05b0126f430759.txt  \n",
            " extracting: train/BloodImage_00268_jpg.rf.473cee61267c80c66f2523aa4af68146.txt  \n",
            " extracting: train/BloodImage_00059_jpg.rf.42cedd40c0ac118de13f7f9aa2b5cb9f.txt  \n",
            " extracting: train/BloodImage_00034_jpg.rf.46e3b2de709731ca1fa9f38726bf149b.txt  \n",
            " extracting: train/BloodImage_00395_jpg.rf.47cabfa08f17f878a8bbee72e7f8f08f.txt  \n",
            " extracting: train/BloodImage_00106_jpg.rf.41efe1d5b7329f045593fe17d508168e.txt  \n",
            " extracting: train/BloodImage_00073_jpg.rf.4d57fd7ccdd1e22499bd72b28e0d0081.txt  \n",
            " extracting: train/BloodImage_00168_jpg.rf.449c90b2ff7ed0802b47c26c575ddf33.txt  \n",
            " extracting: train/BloodImage_00290_jpg.rf.4a1faeff8efd151340e239efd973fa18.txt  \n",
            " extracting: train/BloodImage_00231_jpg.rf.4e0100ad257ff1196189de55acf7f581.txt  \n",
            " extracting: train/BloodImage_00006_jpg.rf.4eca53bb633875468ce90becd1c5f719.txt  \n",
            " extracting: train/BloodImage_00405_jpg.rf.4d9fd11e7034f2c6a6ffe504a019d47a.txt  \n",
            " extracting: train/BloodImage_00147_jpg.rf.4ff5270c8f9af1231edc4d857bf03008.txt  \n",
            " extracting: train/BloodImage_00149_jpg.rf.509ac73b73e2de5ecc9a52583ec67f5a.txt  \n",
            " extracting: train/BloodImage_00098_jpg.rf.50b2cf5e22eea7c47809de57b9a123da.txt  \n",
            " extracting: train/BloodImage_00035_jpg.rf.53e35f4ed8b5e52c69171c57a9d6b3c5.txt  \n",
            " extracting: train/BloodImage_00179_jpg.rf.5389cd1c1e07c0b36a476709869dbb0c.txt  \n",
            " extracting: train/BloodImage_00028_jpg.rf.51c68ad3c8ede11bd8746437c88e06f1.txt  \n",
            " extracting: train/BloodImage_00232_jpg.rf.4ce291260d52eb9d910e26b62fd7d3e0.txt  \n",
            " extracting: train/BloodImage_00388_jpg.rf.52f04938641f61a72e98ec3fe0b799ae.txt  \n",
            " extracting: train/BloodImage_00224_jpg.rf.53f7054c6772cb2b151ea81956c01b33.txt  \n",
            " extracting: train/BloodImage_00212_jpg.rf.585d649f788289748c8154994c2be005.txt  \n",
            " extracting: train/BloodImage_00010_jpg.rf.5557ba0a93133a1db1b3f86903e18f76.txt  \n",
            " extracting: train/BloodImage_00201_jpg.rf.581afd773e44135e84f0fc55d4078222.txt  \n",
            " extracting: train/BloodImage_00361_jpg.rf.509134ededd0bb5bfe892c081c8a8ee4.txt  \n",
            " extracting: train/BloodImage_00208_jpg.rf.57797100bc9d0bfd6a84ace0b924acf0.txt  \n",
            " extracting: train/BloodImage_00375_jpg.rf.5afa8f7a497058dee0fbd8d66d6497f7.txt  \n",
            " extracting: train/BloodImage_00244_jpg.rf.5afde78b6186e06dd80b0cce0a905bee.txt  \n",
            " extracting: train/BloodImage_00023_jpg.rf.596a00645c755424b0ae07694b659688.txt  \n",
            " extracting: train/BloodImage_00143_jpg.rf.5c08eedd455492fe3c8f0d68d752e6f8.txt  \n",
            " extracting: train/BloodImage_00236_jpg.rf.5a7791e4051f7ed235acec127debab33.txt  \n",
            " extracting: train/BloodImage_00226_jpg.rf.5cee949501e370f5af909f7b38ed1c92.txt  \n",
            " extracting: train/BloodImage_00042_jpg.rf.5d8db568b0b0c73e24e1d0bd5df54c5e.txt  \n",
            " extracting: train/BloodImage_00409_jpg.rf.602d5cb2372fe77d6f88a9f94bdd8b01.txt  \n",
            " extracting: train/BloodImage_00346_jpg.rf.5d6ff1668f494698f4099d2643521946.txt  \n",
            " extracting: train/BloodImage_00002_jpg.rf.6077885e28afc7ef361acf12d94d4d88.txt  \n",
            " extracting: train/BloodImage_00400_jpg.rf.605c63e2ba0dac6198c9d89f964d71b4.txt  \n",
            " extracting: train/BloodImage_00184_jpg.rf.61346810b7e7dc1cd5f7d52a5efb32ef.txt  \n",
            " extracting: train/BloodImage_00167_jpg.rf.62a0c4a1efba7c7c1ea784805a039d3c.txt  \n",
            " extracting: train/BloodImage_00165_jpg.rf.63cb185ab85deeb69a5676a96e070094.txt  \n",
            " extracting: train/BloodImage_00326_jpg.rf.6354a2b22bf107222d680bb7d7ce8b6d.txt  \n",
            " extracting: train/BloodImage_00079_jpg.rf.6402c4f2af44a41572486f1227a1b585.txt  \n",
            " extracting: train/BloodImage_00343_jpg.rf.67341bf00984218273df718b614fe92b.txt  \n",
            " extracting: train/BloodImage_00180_jpg.rf.66cbbab7f3be1c3c00b775652b742735.txt  \n",
            " extracting: train/BloodImage_00074_jpg.rf.6773a911ebfa4093d69d32f485ece9b6.txt  \n",
            " extracting: train/BloodImage_00352_jpg.rf.65f47310549c55fa1db2903d27862146.txt  \n",
            " extracting: train/BloodImage_00370_jpg.rf.6a50b1e9364e0a8d60a28ebd27c6d4cd.txt  \n",
            " extracting: train/BloodImage_00103_jpg.rf.687ed77fd9d913fbcf1e7720256bccac.txt  \n",
            " extracting: train/BloodImage_00175_jpg.rf.69d531581faefa31d4bebbcbd4f36063.txt  \n",
            " extracting: train/BloodImage_00197_jpg.rf.6b5a2a6cc8a9cbc334b4cc6363b19717.txt  \n",
            " extracting: train/BloodImage_00013_jpg.rf.6be66fdc74e851b63ef10dd6cf2d1bbc.txt  \n",
            " extracting: train/BloodImage_00305_jpg.rf.6bb627ca75ffb4e00c667ae9c331b4a9.txt  \n",
            " extracting: train/BloodImage_00376_jpg.rf.6e3242d2d6342ee60ac04e1f0d794b09.txt  \n",
            " extracting: train/BloodImage_00200_jpg.rf.6e8e69feda789b5b7de74ff4323d3926.txt  \n",
            " extracting: train/BloodImage_00288_jpg.rf.723e7d8512a6113320fe6666d3129aad.txt  \n",
            " extracting: train/BloodImage_00100_jpg.rf.71d2f2b11994f786b16e7b5132d7308d.txt  \n",
            " extracting: train/BloodImage_00031_jpg.rf.6ff72f20dd5f6b4a241cd55105d88ca5.txt  \n",
            " extracting: train/BloodImage_00285_jpg.rf.7380b1602d97a1d16c8c9d8461c1a78c.txt  \n",
            " extracting: train/BloodImage_00267_jpg.rf.77b86c33dac9591ca72126660dd6a112.txt  \n",
            " extracting: train/BloodImage_00293_jpg.rf.78717e9ed6f5037f5e3d2539fe5c7fa2.txt  \n",
            " extracting: train/BloodImage_00058_jpg.rf.78a414ea6fe32a14b1f05fdf97761e45.txt  \n",
            " extracting: train/BloodImage_00260_jpg.rf.790033dfaa22f8d63d1d794c7e320bad.txt  \n",
            " extracting: train/BloodImage_00368_jpg.rf.7db094f9e34bb5b669dec415ff593714.txt  \n",
            " extracting: train/BloodImage_00203_jpg.rf.7e1e0baedaf6227f45f74ed5727ccec8.txt  \n",
            " extracting: train/BloodImage_00192_jpg.rf.7fe82835e330e3f5c04f9300f2f3063a.txt  \n",
            " extracting: train/BloodImage_00342_jpg.rf.83bc536c22bb7c493ca6ae5a54b9d698.txt  \n",
            " extracting: train/BloodImage_00365_jpg.rf.834ce2d9a8b7dd1647fe2c159659b967.txt  \n",
            " extracting: train/BloodImage_00097_jpg.rf.858d7117f280c3f6a14464a0f73c0920.txt  \n",
            " extracting: train/BloodImage_00091_jpg.rf.8723660dee1777d62c0f6bdaa8f85e4f.txt  \n",
            " extracting: train/BloodImage_00101_jpg.rf.85a56d6e0c085353c13f06a057562c1f.txt  \n",
            " extracting: train/BloodImage_00398_jpg.rf.88272989c2c060bdaab0f369111e1eed.txt  \n",
            " extracting: train/BloodImage_00396_jpg.rf.87f7e3afd9ac02542d093ed0e5846e6f.txt  \n",
            " extracting: train/BloodImage_00111_jpg.rf.8870565af7f2f95f707f1fe8257ab856.txt  \n",
            " extracting: train/BloodImage_00407_jpg.rf.8ffc1a12125e83eecee8d23da68646bf.txt  \n",
            " extracting: train/BloodImage_00271_jpg.rf.9023474335f0271ddf9a6f7479dbafe8.txt  \n",
            " extracting: train/BloodImage_00223_jpg.rf.900340184b673740f4bbb4243f6ff6ed.txt  \n",
            " extracting: train/BloodImage_00251_jpg.rf.907c7f4f42fb6ca2a5d34e06b4cd3cc7.txt  \n",
            " extracting: train/BloodImage_00262_jpg.rf.911152179cab0162253e2d3f1805e778.txt  \n",
            " extracting: train/BloodImage_00007_jpg.rf.8875d271e2671668961ec3ec314dba08.txt  \n",
            " extracting: train/BloodImage_00333_jpg.rf.97f2ec9bd7af669ebf93a73ad4522e10.txt  \n",
            " extracting: train/BloodImage_00391_jpg.rf.96cb68490f98fdf99712e953a8f96001.txt  \n",
            " extracting: train/BloodImage_00291_jpg.rf.94e5e3697c522e003de8fc06c06d2725.txt  \n",
            " extracting: train/BloodImage_00087_jpg.rf.97ee9ceab5eb8fe66671ff3b6f86fec4.txt  \n",
            " extracting: train/BloodImage_00178_jpg.rf.97be05fc4078f65bc3bff25911217908.txt  \n",
            " extracting: train/BloodImage_00172_jpg.rf.98a5f2f944c3848ea5a5f8c543ccd7eb.txt  \n",
            " extracting: train/BloodImage_00142_jpg.rf.9a61799e4585712264749bf61b0b39f6.txt  \n",
            " extracting: train/BloodImage_00313_jpg.rf.9ba2384696c0a86e4e2b0980b2b8139b.txt  \n",
            " extracting: train/BloodImage_00247_jpg.rf.9e01c6f5520cec0cd477f12eaf084ca9.txt  \n",
            " extracting: train/BloodImage_00378_jpg.rf.9ea076bee6824b777f9ffbd8dad4abeb.txt  \n",
            " extracting: train/BloodImage_00015_jpg.rf.a1aca60385f1ad8cf0d04e688b9d8c4d.txt  \n",
            " extracting: train/BloodImage_00029_jpg.rf.9f2b9187d858afc3f35cbdb6d1a82e67.txt  \n",
            " extracting: train/BloodImage_00033_jpg.rf.9ea986460903aabe669834b358b0b2fd.txt  \n",
            " extracting: train/BloodImage_00338_jpg.rf.9f35cefbbd15e526b5349186f312803e.txt  \n",
            " extracting: train/BloodImage_00349_jpg.rf.a4e8bbdf1d28f8362ea87a5550c37b4d.txt  \n",
            " extracting: train/BloodImage_00140_jpg.rf.a582c718a8f2c134dc51cc37d1d97020.txt  \n",
            " extracting: train/BloodImage_00067_jpg.rf.a5b2b01c0f566a59317105d093275e72.txt  \n",
            " extracting: train/BloodImage_00145_jpg.rf.a265e7f4f0aab5586c6aa5258bb03966.txt  \n",
            " extracting: train/BloodImage_00056_jpg.rf.a5efc91886069c9780dfb3e8138ed49e.txt  \n",
            " extracting: train/BloodImage_00117_jpg.rf.a7b1c58f6a0b6284866ddec6de4239fb.txt  \n",
            " extracting: train/BloodImage_00323_jpg.rf.a633c18b99a31c1f1a6f1ca2d5a7f634.txt  \n",
            " extracting: train/BloodImage_00362_jpg.rf.a8c5150d189004b32fe41d94be2f197b.txt  \n",
            " extracting: train/BloodImage_00295_jpg.rf.aa1ecf83f056781df45b50be9c944fd5.txt  \n",
            " extracting: train/BloodImage_00036_jpg.rf.ab91604015ffed009b2573f59ed80802.txt  \n",
            " extracting: train/BloodImage_00366_jpg.rf.aa640d0d6000546cbc6da4e0d4fd0dec.txt  \n",
            " extracting: train/BloodImage_00233_jpg.rf.ade52d587dfa61462c31583882bb96ec.txt  \n",
            " extracting: train/BloodImage_00014_jpg.rf.af9ce41f51d0572a95f4a89ee15e26a0.txt  \n",
            " extracting: train/BloodImage_00176_jpg.rf.acacd7a71975b614a6ace94b2d927d13.txt  \n",
            " extracting: train/BloodImage_00294_jpg.rf.b23c086547586fb22e1ee76e3354af58.txt  \n",
            " extracting: train/BloodImage_00195_jpg.rf.ade39f1f0cfe1db1e016abf809dfee8b.txt  \n",
            " extracting: train/BloodImage_00068_jpg.rf.b30050929d89caeac6bc7ed67b229a2d.txt  \n",
            " extracting: train/BloodImage_00330_jpg.rf.b3bc39de2cd8af899dcbf4968d96106b.txt  \n",
            " extracting: train/BloodImage_00372_jpg.rf.b4a115141905ebe604af1142f37050fa.txt  \n",
            " extracting: train/BloodImage_00397_jpg.rf.ba01520c70fdbeae824265e65e0b5f59.txt  \n",
            " extracting: train/BloodImage_00024_jpg.rf.b5a36262f6280ac61d240f8935f33806.txt  \n",
            " extracting: train/BloodImage_00312_jpg.rf.b6b8d5389b691278bb36789d528127cf.txt  \n",
            " extracting: train/BloodImage_00250_jpg.rf.b4ab58b6f116df5e831b4246e2c044ec.txt  \n",
            " extracting: train/BloodImage_00171_jpg.rf.b92498a881747c362984f9b175c5b9e6.txt  \n",
            " extracting: train/BloodImage_00390_jpg.rf.be0239cd714d7b7f0ac83378bc18e7ab.txt  \n",
            " extracting: train/BloodImage_00248_jpg.rf.b669ad8c3784b6c29cfad94ec72dde6c.txt  \n",
            " extracting: train/BloodImage_00008_jpg.rf.beb6ffe42e184c37fe1fedb7365363a6.txt  \n",
            " extracting: train/BloodImage_00020_jpg.rf.bd20279c3a4792f30044ba917d305bca.txt  \n",
            " extracting: train/BloodImage_00340_jpg.rf.c02aff3a668ba7c47d5107cf0fa19509.txt  \n",
            " extracting: train/BloodImage_00381_jpg.rf.c375a7dfa025e6c97e069e7af89839a5.txt  \n",
            " extracting: train/BloodImage_00030_jpg.rf.c0ed0b62b8d2527e567c547a75fedd3c.txt  \n",
            " extracting: train/BloodImage_00032_jpg.rf.b3c7488aa3bf997274f56bce5ffe3a74.txt  \n",
            " extracting: train/BloodImage_00257_jpg.rf.c5ead571c4139477479569e33f37c1e7.txt  \n",
            " extracting: train/BloodImage_00139_jpg.rf.c52aaed320b17ed10aa927888ce5f348.txt  \n",
            " extracting: train/BloodImage_00170_jpg.rf.c640ac5bbf1cffe65e7bfc4d0a780efc.txt  \n",
            " extracting: train/BloodImage_00311_jpg.rf.c340f6eb3408f26332497fb1f183dd59.txt  \n",
            " extracting: train/BloodImage_00327_jpg.rf.c838cc916de2bfa77a9213b75e474f60.txt  \n",
            " extracting: train/BloodImage_00001_jpg.rf.cebb6824aacfc545bb4152ce18717c1b.txt  \n",
            " extracting: train/BloodImage_00393_jpg.rf.cd230b03b6049b36c0a9caa05ae546e3.txt  \n",
            " extracting: train/BloodImage_00324_jpg.rf.c843c813abdb654ae2b036a9c8e5aa2f.txt  \n",
            " extracting: train/BloodImage_00048_jpg.rf.cf98381e95dad4b92e185bc9fae23949.txt  \n",
            " extracting: train/BloodImage_00230_jpg.rf.ce8f4795e74fa224c6fcc1551021a4d4.txt  \n",
            " extracting: train/BloodImage_00125_jpg.rf.ce1793bac18a7f5f2dcf297ba7d59388.txt  \n",
            " extracting: train/BloodImage_00220_jpg.rf.d0fec0542cc693641936c943b0a4e5e4.txt  \n",
            " extracting: train/BloodImage_00207_jpg.rf.d50d22b1d2d48979c2d26d5c1dc4b4ee.txt  \n",
            " extracting: train/BloodImage_00081_jpg.rf.d60e65271b92608716deba2400016a6c.txt  \n",
            " extracting: train/BloodImage_00019_jpg.rf.d554d5cff5e7554bacbd356fe1228630.txt  \n",
            " extracting: train/BloodImage_00043_jpg.rf.d4090ebc49c1fad63109d7ff96178e8c.txt  \n",
            " extracting: train/BloodImage_00158_jpg.rf.d7a8fb65b17a2047331a9ad2af65f904.txt  \n",
            " extracting: train/BloodImage_00237_jpg.rf.d6b5d4daa715b2519b9be571dd188c4c.txt  \n",
            " extracting: train/BloodImage_00279_jpg.rf.d7360a664bc0931b2b34fe7fc12f96c1.txt  \n",
            " extracting: train/BloodImage_00354_jpg.rf.d63d0b3dd3ac9df0b06b118900b6caa3.txt  \n",
            " extracting: train/BloodImage_00095_jpg.rf.d5e1565486966bf4729f7699660e6178.txt  \n",
            " extracting: train/BloodImage_00317_jpg.rf.da05e07bc66b32a5230383724654bd2b.txt  \n",
            " extracting: train/BloodImage_00303_jpg.rf.d97418f1c8bf7353b33891732eb4a00e.txt  \n",
            " extracting: train/BloodImage_00009_jpg.rf.da19061a9a7f43fbaedd27dcc9369a79.txt  \n",
            " extracting: train/BloodImage_00214_jpg.rf.d806efc40815e2b711db9bb66b5f0dd5.txt  \n",
            " extracting: train/BloodImage_00199_jpg.rf.d85b02c9e8ab10a1bab7c05fbdc88498.txt  \n",
            " extracting: train/BloodImage_00253_jpg.rf.df98292053faa0f88eb0466d798f041a.txt  \n",
            " extracting: train/BloodImage_00299_jpg.rf.e1fe6fedb2feaf870450ff96b1aaa9e8.txt  \n",
            " extracting: train/BloodImage_00049_jpg.rf.e2b5ebde1df3675ccfd86e517480da00.txt  \n",
            " extracting: train/BloodImage_00016_jpg.rf.e424362fede794edc8b0f655cf7f7b52.txt  \n",
            " extracting: train/BloodImage_00357_jpg.rf.e2f3c3ce91f7f7f46e2162e85c0a3cd8.txt  \n",
            " extracting: train/BloodImage_00282_jpg.rf.e5b58527707288bdd8cfce942fb65e96.txt  \n",
            " extracting: train/BloodImage_00077_jpg.rf.e5fec5b0f926f2c1fe8e3193cb35664a.txt  \n",
            " extracting: train/BloodImage_00039_jpg.rf.e4ee3626b2b2f10c5fd1f2dcaf1c10ca.txt  \n",
            " extracting: train/BloodImage_00210_jpg.rf.e717500ee4f9e9f2e64b6c54acaa4f92.txt  \n",
            " extracting: train/BloodImage_00152_jpg.rf.e8fa4f194084beaf48533349d359a3d5.txt  \n",
            " extracting: train/BloodImage_00261_jpg.rf.e7d72d18b1ba65c1b98f70c556c2bc4f.txt  \n",
            " extracting: train/BloodImage_00389_jpg.rf.ebfa5de21d4539ed10b56ed0a00c6999.txt  \n",
            " extracting: train/BloodImage_00287_jpg.rf.ea29305ce151b669e8fe1be5ca248012.txt  \n",
            " extracting: train/BloodImage_00137_jpg.rf.edccdbfd3731f56753eb611feb8ceaeb.txt  \n",
            " extracting: train/BloodImage_00072_jpg.rf.edf27bdfdc8a1350d11c0760398f1079.txt  \n",
            " extracting: train/BloodImage_00332_jpg.rf.ed87a2ffb4bb87281d6dc70bc15a24b3.txt  \n",
            " extracting: train/BloodImage_00347_jpg.rf.ec3da8e3d3760ff522750704050cc4ab.txt  \n",
            " extracting: train/BloodImage_00150_jpg.rf.efdbcf3bf7e00b06ff9a9694c5f9d237.txt  \n",
            " extracting: train/BloodImage_00356_jpg.rf.ef52bc664a2f9262370c6d4969a8dd91.txt  \n",
            " extracting: train/BloodImage_00341_jpg.rf.efe92811d06d4605ab9618d10cb730ee.txt  \n",
            " extracting: train/BloodImage_00308_jpg.rf.f048c9ada0e94ebaf108ec2e6d8c8f86.txt  \n",
            " extracting: train/BloodImage_00387_jpg.rf.f41033e0fab81333b2287d63ace10e51.txt  \n",
            " extracting: train/BloodImage_00136_jpg.rf.f437f567c670314938b68f629f63867e.txt  \n",
            " extracting: train/BloodImage_00307_jpg.rf.efedae262c822c0be29cb50d7e6e2fe8.txt  \n",
            " extracting: train/BloodImage_00169_jpg.rf.f4d21977acfc39dedf7dffaccd55248c.txt  \n",
            " extracting: train/BloodImage_00292_jpg.rf.f22fb518192fce84da68f5ce2d0f7788.txt  \n",
            " extracting: train/BloodImage_00243_jpg.rf.f703b4fc40c4114920a836124a84381b.txt  \n",
            " extracting: train/BloodImage_00283_jpg.rf.f6f91c40d0f20bb6274e7a82984d906f.txt  \n",
            " extracting: train/BloodImage_00222_jpg.rf.f4ffa303a5c7071aba2b41492247ab34.txt  \n",
            " extracting: train/BloodImage_00132_jpg.rf.f9cc6279809de2f219bab323ce3a1e29.txt  \n",
            " extracting: train/BloodImage_00041_jpg.rf.faaad6f3867d4582efb0a70feb37d3db.txt  \n",
            " extracting: train/BloodImage_00157_jpg.rf.fa2209269612935b573d3d3b478fa611.txt  \n",
            " extracting: train/BloodImage_00215_jpg.rf.fe567abb73afc2b25613f702e74904a1.txt  \n",
            " extracting: train/BloodImage_00047_jpg.rf.fc57c00b0a785b07d53c1a0cbc7d1e6d.txt  \n",
            " extracting: train/_darknet.labels   \n",
            " extracting: valid/BloodImage_00017_jpg.rf.03e73d66a140b6b0fb97b3170af9ff27.txt  \n",
            " extracting: valid/BloodImage_00377_jpg.rf.0312942b2d584915ce2498b70b4c7fd9.txt  \n",
            " extracting: valid/BloodImage_00012_jpg.rf.06d9ed50ba900fe61856c7e24ed06ba0.txt  \n",
            " extracting: valid/BloodImage_00331_jpg.rf.044ea8a16ce827b20833a47fc7146fd6.txt  \n",
            " extracting: valid/BloodImage_00063_jpg.rf.0ef175881b7c6530580795fa39ca644d.txt  \n",
            " extracting: valid/BloodImage_00319_jpg.rf.0f57f7ace7255d76cd34edfcd696da79.txt  \n",
            " extracting: valid/BloodImage_00141_jpg.rf.15e1059065f4842124bdf52c3161d0a8.txt  \n",
            " extracting: valid/BloodImage_00086_jpg.rf.152da52d617487a634188f808b4ec681.txt  \n",
            " extracting: valid/BloodImage_00270_jpg.rf.191c3cea14d9f973f6a19bab4297f5d7.txt  \n",
            " extracting: valid/BloodImage_00228_jpg.rf.1b1f39332c3667817654332095bb46e4.txt  \n",
            " extracting: valid/BloodImage_00364_jpg.rf.1541add8efc3f48d1616cd0e4debc0d7.txt  \n",
            " extracting: valid/BloodImage_00272_jpg.rf.1d6bb9962ec5549fce8a8f99261a69e4.txt  \n",
            " extracting: valid/BloodImage_00259_jpg.rf.208ca99d2262848a6f688f1b03f3a17c.txt  \n",
            " extracting: valid/BloodImage_00245_jpg.rf.224c5716e01f4ea635cfb7f2341e124e.txt  \n",
            " extracting: valid/BloodImage_00069_jpg.rf.2446f0efdd6fa2d9847b464b72e34fe5.txt  \n",
            " extracting: valid/BloodImage_00392_jpg.rf.26c64b145b1e7eb4df490142d6f3e870.txt  \n",
            " extracting: valid/BloodImage_00296_jpg.rf.2a3cabbce4438cfe6ee323364ce08e99.txt  \n",
            " extracting: valid/BloodImage_00344_jpg.rf.3092e1f75781e74953416874af6a2cf1.txt  \n",
            " extracting: valid/BloodImage_00161_jpg.rf.2c7244cdb8cd9a69a9bc88e5880756a5.txt  \n",
            " extracting: valid/BloodImage_00109_jpg.rf.43f46103208703c3e95b1ae3dab79dc6.txt  \n",
            " extracting: valid/BloodImage_00403_jpg.rf.4d5849f3949a9ab146d27c85b98ccb1c.txt  \n",
            " extracting: valid/BloodImage_00004_jpg.rf.52181b30907075ce5e9b10c9652f1366.txt  \n",
            " extracting: valid/BloodImage_00107_jpg.rf.5036b0302cd94ded2f6e52245f4bb8dd.txt  \n",
            " extracting: valid/BloodImage_00104_jpg.rf.54a0b45ddd1527f7899c8765b40b38b7.txt  \n",
            " extracting: valid/BloodImage_00277_jpg.rf.5b3f27f9b4aeaf06b45953f4347e6a02.txt  \n",
            " extracting: valid/BloodImage_00225_jpg.rf.60d5691e69a56dae993361a34e561c1b.txt  \n",
            " extracting: valid/BloodImage_00092_jpg.rf.64b7cd21a16e4e8d34386f3bbba3e67a.txt  \n",
            " extracting: valid/BloodImage_00216_jpg.rf.657e10ec7e1bd863da88d1030764194d.txt  \n",
            " extracting: valid/BloodImage_00348_jpg.rf.65f9510ccc0d7025caa0d989bfae9b1a.txt  \n",
            " extracting: valid/BloodImage_00355_jpg.rf.6caa8dbcbd9a9b7569088339949522aa.txt  \n",
            " extracting: valid/BloodImage_00252_jpg.rf.6f42aa6e17ac140440e01c87c8017722.txt  \n",
            " extracting: valid/BloodImage_00182_jpg.rf.77af1fd18d295a433630af696d861851.txt  \n",
            " extracting: valid/BloodImage_00276_jpg.rf.72b95da74bfce959d8dda5c0c37933ac.txt  \n",
            " extracting: valid/BloodImage_00108_jpg.rf.7550b80c37f37bd47a513d84b9cae557.txt  \n",
            " extracting: valid/BloodImage_00217_jpg.rf.7bf6033f01880011b056f35c6fffc63d.txt  \n",
            " extracting: valid/BloodImage_00221_jpg.rf.7bdba56b31403ea6c91d6eab14bc1d36.txt  \n",
            " extracting: valid/BloodImage_00070_jpg.rf.7d3efb259a21ba459dffe5a85b974b0b.txt  \n",
            " extracting: valid/BloodImage_00026_jpg.rf.823e2bb87c26496748847b212c20ca9a.txt  \n",
            " extracting: valid/BloodImage_00297_jpg.rf.853746ceed056b2a39049282c9ffbd8a.txt  \n",
            " extracting: valid/BloodImage_00281_jpg.rf.813106d0417b3ae3213c1ca97b233b4c.txt  \n",
            " extracting: valid/BloodImage_00057_jpg.rf.88e778c9509fe9954183f9a019a6deb2.txt  \n",
            " extracting: valid/BloodImage_00183_jpg.rf.8943c694fb9708ae74a2b015d1f77f6b.txt  \n",
            " extracting: valid/BloodImage_00110_jpg.rf.8d89167f3ff070807b0de1df00547d46.txt  \n",
            " extracting: valid/BloodImage_00410_jpg.rf.91f0f738b1e5c97891f10829dcd99202.txt  \n",
            " extracting: valid/BloodImage_00211_jpg.rf.94172f3701a81e38c7a14046b1ce963f.txt  \n",
            " extracting: valid/BloodImage_00076_jpg.rf.9200c500c10bb2debcc1a1be99e5359b.txt  \n",
            " extracting: valid/BloodImage_00384_jpg.rf.9212c214c677515d51cc06b9f40e50c6.txt  \n",
            " extracting: valid/BloodImage_00404_jpg.rf.9656609cf7292fdb6cb8e755a3cac91d.txt  \n",
            " extracting: valid/BloodImage_00298_jpg.rf.9b5e265dbe525bbc19790bb27c3cec01.txt  \n",
            " extracting: valid/BloodImage_00123_jpg.rf.9e3dee111a093f05b0187284085960f6.txt  \n",
            " extracting: valid/BloodImage_00126_jpg.rf.a146488a9e1242c652bf5ec2d6a90c22.txt  \n",
            " extracting: valid/BloodImage_00246_jpg.rf.a78e264e917d3c6215c06530b36838d3.txt  \n",
            " extracting: valid/BloodImage_00187_jpg.rf.a20ad236a4d33c964b882c2abceb8d1c.txt  \n",
            " extracting: valid/BloodImage_00315_jpg.rf.ab25b8902d12228c75aea8abb15cafa7.txt  \n",
            " extracting: valid/BloodImage_00205_jpg.rf.ac5731ed67779ef0369f9e4f7cedf329.txt  \n",
            " extracting: valid/BloodImage_00300_jpg.rf.b004476f20883e37b5addbfff7857be9.txt  \n",
            " extracting: valid/BloodImage_00309_jpg.rf.af6d670209c2ce1dcb6aa4c4c62fb6bc.txt  \n",
            " extracting: valid/BloodImage_00021_jpg.rf.ba437d2c57aa4b6e65a8589949859b5a.txt  \n",
            " extracting: valid/BloodImage_00263_jpg.rf.c27cac6ad3874265da827b1d50ef4f20.txt  \n",
            " extracting: valid/BloodImage_00135_jpg.rf.cbb20dd263d910f9c32eefbab2449cf3.txt  \n",
            " extracting: valid/BloodImage_00402_jpg.rf.d087e24abd3c1194a4bf429a804dcc47.txt  \n",
            " extracting: valid/BloodImage_00075_jpg.rf.cee7dd52f332b55793e80469e69320c5.txt  \n",
            " extracting: valid/BloodImage_00371_jpg.rf.d4fb6ab29cde13f92caf012782889917.txt  \n",
            " extracting: valid/BloodImage_00127_jpg.rf.da0d6240a1f655543a54c1fe0f60d843.txt  \n",
            " extracting: valid/BloodImage_00000_jpg.rf.dff4630865bca0ebd8cb9a1d07b98b3b.txt  \n",
            " extracting: valid/BloodImage_00273_jpg.rf.e15f8914abda4df6daab3f16806c0738.txt  \n",
            " extracting: valid/BloodImage_00274_jpg.rf.e2eedfbc54bd9f87694b4adaa7bf6ebf.txt  \n",
            " extracting: valid/BloodImage_00071_jpg.rf.e3383532eceb1841324aac3370b8ee61.txt  \n",
            " extracting: valid/BloodImage_00093_jpg.rf.e67f49890fdb1ed740e27d0ef3d6a48b.txt  \n",
            " extracting: valid/BloodImage_00258_jpg.rf.e478417f27bd247f64cb60351f2b0fdd.txt  \n",
            " extracting: valid/BloodImage_00335_jpg.rf.ee587575d7a2d47ff383b3c2da829d39.txt  \n",
            " extracting: valid/BloodImage_00050_jpg.rf.f831da5c49c39be04f0c63b98ab44221.txt  \n",
            " extracting: valid/BloodImage_00130_jpg.rf.f5a534f513f71ac22099a4771be38362.txt  \n",
            " extracting: valid/_darknet.labels   \n",
            " extracting: test/BloodImage_00190_jpg.rf.03484116dcad7715c77d30654056fc54.txt  \n",
            " extracting: test/BloodImage_00133_jpg.rf.06c3705fcfe2fcaee19e1a076e511508.txt  \n",
            " extracting: test/BloodImage_00227_jpg.rf.1572183909350ffe748751e967b7c8e5.txt  \n",
            " extracting: test/BloodImage_00350_jpg.rf.1a19e9f9f197fbeab278718f7c6cea9b.txt  \n",
            " extracting: test/BloodImage_00386_jpg.rf.1de8e2e0e94f942d7a1523852d7fb146.txt  \n",
            " extracting: test/BloodImage_00334_jpg.rf.3b8a84d57940aeb45e5c2046c8411996.txt  \n",
            " extracting: test/BloodImage_00265_jpg.rf.4b7cc25caca963b5e0325c6998917cd1.txt  \n",
            " extracting: test/BloodImage_00090_jpg.rf.4fd1da847d2857b6092003c41255ea4c.txt  \n",
            " extracting: test/BloodImage_00160_jpg.rf.500f16e32681898ca1ce052ea0402c08.txt  \n",
            " extracting: test/BloodImage_00325_jpg.rf.55e62842be833601c86a1bd449ee8fe6.txt  \n",
            " extracting: test/BloodImage_00289_jpg.rf.58c541d9273174738d3d74e599428169.txt  \n",
            " extracting: test/BloodImage_00099_jpg.rf.5b178d758af2a97d3df8e5f87b1f344a.txt  \n",
            " extracting: test/BloodImage_00336_jpg.rf.5ae87ede3994ca14504136035e256e38.txt  \n",
            " extracting: test/BloodImage_00038_jpg.rf.63da20f3f5538d0d2be8c4633c7034a1.txt  \n",
            " extracting: test/BloodImage_00120_jpg.rf.6742a4da047e1226a181d2de2978ce6d.txt  \n",
            " extracting: test/BloodImage_00204_jpg.rf.6c3c9e37ab9122b026444cc4e685aef1.txt  \n",
            " extracting: test/BloodImage_00266_jpg.rf.6d62684a33e2f5bc048803aba3177f58.txt  \n",
            " extracting: test/BloodImage_00337_jpg.rf.7959cb18929c970939cda4a9544547c8.txt  \n",
            " extracting: test/BloodImage_00154_jpg.rf.7c682b32a64ca0520b6fc725f0d667c7.txt  \n",
            " extracting: test/BloodImage_00254_jpg.rf.6e046ca48ec2e57c2e178aa3f08ec8ee.txt  \n",
            " extracting: test/BloodImage_00275_jpg.rf.9108b9a016fadd9c367b05dfb0c40c2c.txt  \n",
            " extracting: test/BloodImage_00369_jpg.rf.99ae139e5530a25980b7acdd56a4317c.txt  \n",
            " extracting: test/BloodImage_00301_jpg.rf.9c427e66bcc1b088df9a5e71c0abefba.txt  \n",
            " extracting: test/BloodImage_00278_jpg.rf.9ce9e9760ff20b56b115c86879e02a67.txt  \n",
            " extracting: test/BloodImage_00113_jpg.rf.a6d6a75c0ebfc703ecff95e2938be34d.txt  \n",
            " extracting: test/BloodImage_00302_jpg.rf.ae0f61c17483b2e0e7f9b1396fc5108c.txt  \n",
            " extracting: test/BloodImage_00235_jpg.rf.b01cbde1f504d448759188feadad4838.txt  \n",
            " extracting: test/BloodImage_00044_jpg.rf.b0e2369642c5a7fa434ed8defa79e2ba.txt  \n",
            " extracting: test/BloodImage_00385_jpg.rf.cf0e48c08597f372423a60918074f574.txt  \n",
            " extracting: test/BloodImage_00241_jpg.rf.d0edd8c528bec298a9552ed8ad5714c7.txt  \n",
            " extracting: test/BloodImage_00284_jpg.rf.d33fcb37af7c55a50f275711763ddf7a.txt  \n",
            " extracting: test/BloodImage_00191_jpg.rf.d4b5ad6525c6c0bc4eaea1f24901f396.txt  \n",
            " extracting: test/BloodImage_00359_jpg.rf.e4b6af6691f2d8cc8345f42bcc1678fa.txt  \n",
            " extracting: test/BloodImage_00062_jpg.rf.e965ee152eea462d82706a2709abfe00.txt  \n",
            " extracting: test/BloodImage_00134_jpg.rf.ee0308b1f3e1ffbb048cb3b1f80e8e36.txt  \n",
            " extracting: test/BloodImage_00112_jpg.rf.f8d86689750221da637a054843c72822.txt  \n",
            " extracting: test/_darknet.labels    \n",
            " extracting: README.roboflow.txt     \n",
            " extracting: README.dataset.txt      \n"
          ],
          "name": "stdout"
        }
      ]
    },
    {
      "cell_type": "code",
      "metadata": {
        "id": "dFSgxwD9Igo6"
      },
      "source": [
        "#set up EfficientDet folder structure\n",
        "!mkdir ed_data/Chess\n",
        "!mkdir ed_data/Chess/annotations\n",
        "!mkdir ed_data/Chess/Annotations\n",
        "!mkdir ed_data/Chess/Images\n",
        "\n",
        "%cp ed_data/train/_annotations.coco.json ed_data/Chess/annotations/instances_Images.json\n",
        "%cp ed_data/train/*.jpg ed_data/Chess/Images/"
      ],
      "execution_count": null,
      "outputs": []
    },
    {
      "cell_type": "code",
      "metadata": {
        "id": "ZFCzecyfgzsg",
        "outputId": "fdc840e2-3cf3-4f2d-fa03-0d36d84a014c",
        "colab": {
          "base_uri": "https://localhost:8080/",
          "height": 170
        }
      },
      "source": [
        "#set up yolo folder structure\n",
        "%cd train\n",
        "%mkdir labels\n",
        "%mkdir images\n",
        "%mv *.jpg ./images/\n",
        "%mv *.txt ./labels/\n",
        "%cd images\n",
        "# create Ultralytics specific text file of training images\n",
        "file = open(\"train_images_roboflow.txt\", \"w\") \n",
        "for root, dirs, files in os.walk(\".\"):\n",
        "    for filename in files:\n",
        "      # print(\"../train/images/\" + filename)\n",
        "      if filename == \"train_images_roboflow.txt\":\n",
        "        pass\n",
        "      else:\n",
        "        file.write(\"../train/images/\" + filename + \"\\n\")\n",
        "file.close()\n",
        "\n",
        "\n",
        "%cd ../../valid\n",
        "%mkdir labels\n",
        "%mkdir images\n",
        "\n",
        "%mv *.jpg ./images/\n",
        "%mv *.txt ./labels/\n",
        "%cd images\n",
        "\n",
        "\n",
        "# create Ultralytics specific text file of validation images\n",
        "file = open(\"valid_images_roboflow.txt\", \"w\") \n",
        "for root, dirs, files in os.walk(\".\"):\n",
        "    for filename in files:\n",
        "      # print(\"../train/images/\" + filename)\n",
        "      if filename == \"valid_images_roboflow.txt\":\n",
        "        pass\n",
        "      else:\n",
        "        file.write(\"../valid/images/\" + filename + \"\\n\")\n",
        "file.close()\n",
        "\n",
        "%cd ../../yolov3/data\n",
        "%cat ../../train/_darknet.labels > ../../train/roboflow_data.names\n",
        "\n",
        "def get_num_classes(labels_file_path):\n",
        "    classes = 0\n",
        "    with open(labels_file_path, 'r') as f:\n",
        "      for line in f:\n",
        "        classes += 1\n",
        "    return classes\n",
        "\n",
        "# update the roboflow.data file with correct number of classes\n",
        "import re\n",
        "\n",
        "num_classes = get_num_classes(\"../../train/_darknet.labels\")\n",
        "with open(\"roboflow.data\") as f:\n",
        "    s = f.read()\n",
        "with open(\"roboflow.data\", 'w') as f:\n",
        "    \n",
        "    # Set number of classes num_classes.\n",
        "    s = re.sub('classes=[0-9]+',\n",
        "               'classes={}'.format(num_classes), s)\n",
        "    f.write(s)\n",
        "\n",
        "%cat roboflow.data"
      ],
      "execution_count": null,
      "outputs": [
        {
          "output_type": "stream",
          "text": [
            "/content/train\n",
            "/content/train/images\n",
            "/content/valid\n",
            "/content/valid/images\n",
            "/content/yolov3/data\n",
            "classes=3\n",
            "train=../train/images/train_images_roboflow.txt\n",
            "valid=../valid/images/valid_images_roboflow.txt\n",
            "names=../train/roboflow_data.names\n"
          ],
          "name": "stdout"
        }
      ]
    },
    {
      "cell_type": "markdown",
      "metadata": {
        "id": "KthHlNXQplrj"
      },
      "source": [
        "# Measuring Training Time"
      ]
    },
    {
      "cell_type": "code",
      "metadata": {
        "id": "qfiwg0V5cRXk",
        "outputId": "58284550-05ee-4b1f-d8ca-5c1e5c7ada79",
        "colab": {
          "base_uri": "https://localhost:8080/",
          "height": 34
        }
      },
      "source": [
        "%cd ../"
      ],
      "execution_count": null,
      "outputs": [
        {
          "output_type": "stream",
          "text": [
            "/content/yolov3\n"
          ],
          "name": "stdout"
        }
      ]
    },
    {
      "cell_type": "code",
      "metadata": {
        "id": "rXEuS1tlmo7e",
        "outputId": "97ef00be-9654-47cd-c992-d580bd3cb9ba",
        "colab": {
          "base_uri": "https://localhost:8080/",
          "height": 1000
        }
      },
      "source": [
        "#training YOLOv3 model\n",
        "#on Tesla P100-PCIE-16GB\n",
        "#based on previous experiments on our validaiton set we think the model converges completely in 100 epochs\n",
        "!python3 train.py --data data/roboflow.data --epochs 40\n",
        "#total training time 24.5 min\n",
        "\n",
        "# 0.458 hours. 27.5 min"
      ],
      "execution_count": null,
      "outputs": [
        {
          "output_type": "stream",
          "text": [
            "Namespace(accumulate=4, adam=False, batch_size=16, bucket='', cache_images=False, cfg='cfg/yolov3-spp.cfg', data='data/roboflow.data', device='', epochs=40, evolve=False, img_size=[416], multi_scale=False, name='', nosave=False, notest=False, rect=False, resume=False, single_cls=False, var=None, weights='weights/yolov3-spp-ultralytics.pt')\n",
            "Using CUDA device0 _CudaDeviceProperties(name='Tesla P100-PCIE-16GB', total_memory=16280MB)\n",
            "\n",
            "2020-04-28 15:41:50.270286: I tensorflow/stream_executor/platform/default/dso_loader.cc:44] Successfully opened dynamic library libcudart.so.10.1\n",
            "Model Summary: 225 layers, 6.29987e+07 parameters, 6.29987e+07 gradients\n",
            "  % Total    % Received % Xferd  Average Speed   Time    Time     Time  Current\n",
            "                                 Dload  Upload   Total   Spent    Left  Speed\n",
            "100   408    0   408    0     0   3090      0 --:--:-- --:--:-- --:--:--  3090\n",
            "  0     0    0     0    0     0      0      0 --:--:-- --:--:-- --:--:--     0\n",
            "  0     0    0     0    0     0      0      0 --:--:-- --:--:-- --:--:--     0\n",
            "100  240M    0  240M    0     0   102M      0 --:--:--  0:00:02 --:--:--  146M\n",
            "Downloading https://drive.google.com/uc?export=download&id=1UcR-zVoMs7DH5dj3N1bswkiQTA4dmKF4 as weights/yolov3-spp-ultralytics.pt... Done (2.7s)\n",
            "Caching labels (255 found, 0 missing, 0 empty, 0 duplicate, for 255 images): 100% 255/255 [00:00<00:00, 4184.51it/s]\n",
            "Reading image shapes: 100% 73/73 [00:00<00:00, 2330.79it/s]\n",
            "Caching labels (73 found, 0 missing, 0 empty, 0 duplicate, for 73 images): 100% 73/73 [00:00<00:00, 4739.55it/s]\n",
            "Using 2 dataloader workers\n",
            "Starting training for 40 epochs...\n",
            "\n",
            "     Epoch   gpu_mem      GIoU       obj       cls     total   targets  img_size\n",
            "      0/39     8.22G     0.889      14.1      9.46      24.4       238       416: 100% 16/16 [00:16<00:00,  1.38it/s]\n",
            "               Class    Images   Targets         P         R   mAP@0.5        F1: 100% 3/3 [00:04<00:00,  1.80s/it]\n",
            "                 all        73       967     0.328     0.321     0.182     0.164\n",
            "\n",
            "     Epoch   gpu_mem      GIoU       obj       cls     total   targets  img_size\n",
            "      1/39     9.64G     0.684      8.22      3.48      12.4       246       416: 100% 16/16 [00:12<00:00,  1.41it/s]\n",
            "               Class    Images   Targets         P         R   mAP@0.5        F1: 100% 3/3 [00:02<00:00,  1.27it/s]\n",
            "                 all        73       967     0.504     0.895     0.756     0.614\n",
            "\n",
            "     Epoch   gpu_mem      GIoU       obj       cls     total   targets  img_size\n",
            "      2/39     9.64G     0.613      7.41      1.12      9.14       232       416: 100% 16/16 [00:12<00:00,  1.41it/s]\n",
            "               Class    Images   Targets         P         R   mAP@0.5        F1: 100% 3/3 [00:02<00:00,  1.20it/s]\n",
            "                 all        73       967     0.537     0.945     0.803     0.677\n",
            "\n",
            "Model Bias Summary:    layer        regression        objectness    classification\n",
            "                          89      -0.14+/-0.33      -2.89+/-1.54      -6.57+/-0.89 \n",
            "                         101       0.05+/-0.26      -2.66+/-0.13      -6.33+/-0.68 \n",
            "                         113       0.12+/-0.32      -3.88+/-0.65      -6.03+/-0.72 \n",
            "\n",
            "     Epoch   gpu_mem      GIoU       obj       cls     total   targets  img_size\n",
            "      3/39     9.64G     0.591      6.36     0.624      7.57       244       416: 100% 16/16 [00:12<00:00,  1.41it/s]\n",
            "               Class    Images   Targets         P         R   mAP@0.5        F1: 100% 3/3 [00:02<00:00,  1.30it/s]\n",
            "                 all        73       967     0.597     0.941     0.834     0.722\n",
            "\n",
            "     Epoch   gpu_mem      GIoU       obj       cls     total   targets  img_size\n",
            "      4/39     9.64G     0.573      6.17     0.472      7.21       232       416: 100% 16/16 [00:12<00:00,  1.41it/s]\n",
            "               Class    Images   Targets         P         R   mAP@0.5        F1: 100% 3/3 [00:02<00:00,  1.25it/s]\n",
            "                 all        73       967     0.649     0.947      0.85     0.758\n",
            "\n",
            "     Epoch   gpu_mem      GIoU       obj       cls     total   targets  img_size\n",
            "      5/39     9.64G     0.565       6.1     0.383      7.04       245       416: 100% 16/16 [00:12<00:00,  1.41it/s]\n",
            "               Class    Images   Targets         P         R   mAP@0.5        F1: 100% 3/3 [00:02<00:00,  1.21it/s]\n",
            "                 all        73       967     0.638     0.957     0.858     0.753\n",
            "\n",
            "     Epoch   gpu_mem      GIoU       obj       cls     total   targets  img_size\n",
            "      6/39     9.64G      0.56      5.86     0.287       6.7       241       416: 100% 16/16 [00:12<00:00,  1.41it/s]\n",
            "               Class    Images   Targets         P         R   mAP@0.5        F1: 100% 3/3 [00:02<00:00,  1.28it/s]\n",
            "                 all        73       967     0.637     0.971      0.86     0.754\n",
            "\n",
            "     Epoch   gpu_mem      GIoU       obj       cls     total   targets  img_size\n",
            "      7/39     9.64G     0.544       5.8     0.242      6.58       264       416: 100% 16/16 [00:12<00:00,  1.41it/s]\n",
            "               Class    Images   Targets         P         R   mAP@0.5        F1: 100% 3/3 [00:02<00:00,  1.26it/s]\n",
            "                 all        73       967      0.64      0.97     0.859     0.754\n",
            "\n",
            "     Epoch   gpu_mem      GIoU       obj       cls     total   targets  img_size\n",
            "      8/39     9.64G     0.546      5.83     0.215      6.59       219       416: 100% 16/16 [00:12<00:00,  1.41it/s]\n",
            "               Class    Images   Targets         P         R   mAP@0.5        F1: 100% 3/3 [00:02<00:00,  1.22it/s]\n",
            "                 all        73       967     0.637     0.972     0.863     0.752\n",
            "\n",
            "     Epoch   gpu_mem      GIoU       obj       cls     total   targets  img_size\n",
            "      9/39     9.64G     0.539      5.65      0.19      6.38       258       416: 100% 16/16 [00:12<00:00,  1.41it/s]\n",
            "               Class    Images   Targets         P         R   mAP@0.5        F1: 100% 3/3 [00:02<00:00,  1.28it/s]\n",
            "                 all        73       967     0.638     0.972     0.867     0.754\n",
            "\n",
            "     Epoch   gpu_mem      GIoU       obj       cls     total   targets  img_size\n",
            "     10/39     9.64G     0.535      5.81     0.157       6.5       247       416: 100% 16/16 [00:12<00:00,  1.41it/s]\n",
            "               Class    Images   Targets         P         R   mAP@0.5        F1: 100% 3/3 [00:02<00:00,  1.30it/s]\n",
            "                 all        73       967     0.638     0.973     0.868     0.755\n",
            "\n",
            "     Epoch   gpu_mem      GIoU       obj       cls     total   targets  img_size\n",
            "     11/39     9.64G      0.53       5.7     0.148      6.38       244       416: 100% 16/16 [00:12<00:00,  1.40it/s]\n",
            "               Class    Images   Targets         P         R   mAP@0.5        F1: 100% 3/3 [00:02<00:00,  1.29it/s]\n",
            "                 all        73       967      0.64     0.972     0.868     0.757\n",
            "\n",
            "     Epoch   gpu_mem      GIoU       obj       cls     total   targets  img_size\n",
            "     12/39     9.64G     0.529      5.63     0.163      6.32       255       416: 100% 16/16 [00:12<00:00,  1.41it/s]\n",
            "               Class    Images   Targets         P         R   mAP@0.5        F1: 100% 3/3 [00:02<00:00,  1.31it/s]\n",
            "                 all        73       967     0.574     0.972     0.857     0.709\n",
            "\n",
            "     Epoch   gpu_mem      GIoU       obj       cls     total   targets  img_size\n",
            "     13/39     9.64G     0.507      5.47     0.118      6.09       252       416: 100% 16/16 [00:12<00:00,  1.41it/s]\n",
            "               Class    Images   Targets         P         R   mAP@0.5        F1: 100% 3/3 [00:02<00:00,  1.32it/s]\n",
            "                 all        73       967     0.627     0.976     0.863     0.747\n",
            "\n",
            "     Epoch   gpu_mem      GIoU       obj       cls     total   targets  img_size\n",
            "     14/39     9.64G     0.504      5.57     0.126       6.2       217       416: 100% 16/16 [00:12<00:00,  1.41it/s]\n",
            "               Class    Images   Targets         P         R   mAP@0.5        F1: 100% 3/3 [00:02<00:00,  1.33it/s]\n",
            "                 all        73       967     0.638     0.981     0.863     0.751\n",
            "\n",
            "     Epoch   gpu_mem      GIoU       obj       cls     total   targets  img_size\n",
            "     15/39     9.64G     0.504      5.44     0.125      6.07       258       416: 100% 16/16 [00:12<00:00,  1.41it/s]\n",
            "               Class    Images   Targets         P         R   mAP@0.5        F1: 100% 3/3 [00:02<00:00,  1.20it/s]\n",
            "                 all        73       967     0.651      0.98     0.869     0.764\n",
            "\n",
            "     Epoch   gpu_mem      GIoU       obj       cls     total   targets  img_size\n",
            "     16/39     9.64G     0.498       5.5     0.117      6.11       274       416: 100% 16/16 [00:12<00:00,  1.41it/s]\n",
            "               Class    Images   Targets         P         R   mAP@0.5        F1: 100% 3/3 [00:02<00:00,  1.25it/s]\n",
            "                 all        73       967     0.667     0.981     0.874     0.773\n",
            "\n",
            "     Epoch   gpu_mem      GIoU       obj       cls     total   targets  img_size\n",
            "     17/39     9.64G      0.48      5.33     0.101      5.91       242       416: 100% 16/16 [00:12<00:00,  1.42it/s]\n",
            "               Class    Images   Targets         P         R   mAP@0.5        F1: 100% 3/3 [00:02<00:00,  1.21it/s]\n",
            "                 all        73       967     0.657     0.986     0.875     0.766\n",
            "\n",
            "     Epoch   gpu_mem      GIoU       obj       cls     total   targets  img_size\n",
            "     18/39     9.64G     0.487       5.4      0.11         6       250       416: 100% 16/16 [00:12<00:00,  1.41it/s]\n",
            "               Class    Images   Targets         P         R   mAP@0.5        F1: 100% 3/3 [00:02<00:00,  1.24it/s]\n",
            "                 all        73       967     0.646     0.987     0.875     0.759\n",
            "\n",
            "     Epoch   gpu_mem      GIoU       obj       cls     total   targets  img_size\n",
            "     19/39     9.64G     0.484      5.41     0.096      5.99       230       416: 100% 16/16 [00:12<00:00,  1.41it/s]\n",
            "               Class    Images   Targets         P         R   mAP@0.5        F1: 100% 3/3 [00:02<00:00,  1.32it/s]\n",
            "                 all        73       967     0.658     0.986     0.877     0.768\n",
            "\n",
            "     Epoch   gpu_mem      GIoU       obj       cls     total   targets  img_size\n",
            "     20/39     9.64G     0.484      5.44     0.107      6.03       254       416: 100% 16/16 [00:12<00:00,  1.41it/s]\n",
            "               Class    Images   Targets         P         R   mAP@0.5        F1: 100% 3/3 [00:02<00:00,  1.18it/s]\n",
            "                 all        73       967     0.671     0.986      0.88     0.779\n",
            "\n",
            "     Epoch   gpu_mem      GIoU       obj       cls     total   targets  img_size\n",
            "     21/39     9.64G      0.48      5.52     0.102       6.1       247       416: 100% 16/16 [00:12<00:00,  1.41it/s]\n",
            "               Class    Images   Targets         P         R   mAP@0.5        F1: 100% 3/3 [00:02<00:00,  1.29it/s]\n",
            "                 all        73       967     0.681     0.986     0.881     0.786\n",
            "\n",
            "     Epoch   gpu_mem      GIoU       obj       cls     total   targets  img_size\n",
            "     22/39     9.64G     0.477      5.37    0.0945      5.94       262       416: 100% 16/16 [00:12<00:00,  1.41it/s]\n",
            "               Class    Images   Targets         P         R   mAP@0.5        F1: 100% 3/3 [00:02<00:00,  1.26it/s]\n",
            "                 all        73       967      0.66     0.985     0.879     0.771\n",
            "\n",
            "     Epoch   gpu_mem      GIoU       obj       cls     total   targets  img_size\n",
            "     23/39     9.64G      0.47      5.34    0.0849      5.89       221       416: 100% 16/16 [00:12<00:00,  1.41it/s]\n",
            "               Class    Images   Targets         P         R   mAP@0.5        F1: 100% 3/3 [00:02<00:00,  1.26it/s]\n",
            "                 all        73       967     0.669      0.98     0.877     0.776\n",
            "\n",
            "     Epoch   gpu_mem      GIoU       obj       cls     total   targets  img_size\n",
            "     24/39     9.64G      0.47      5.27    0.0836      5.83       227       416: 100% 16/16 [00:12<00:00,  1.41it/s]\n",
            "               Class    Images   Targets         P         R   mAP@0.5        F1: 100% 3/3 [00:02<00:00,  1.20it/s]\n",
            "                 all        73       967     0.679      0.98     0.878     0.783\n",
            "\n",
            "     Epoch   gpu_mem      GIoU       obj       cls     total   targets  img_size\n",
            "     25/39     9.64G     0.471      5.22    0.0939      5.78       234       416: 100% 16/16 [00:12<00:00,  1.41it/s]\n",
            "               Class    Images   Targets         P         R   mAP@0.5        F1: 100% 3/3 [00:02<00:00,  1.28it/s]\n",
            "                 all        73       967     0.678      0.98     0.878     0.782\n",
            "\n",
            "     Epoch   gpu_mem      GIoU       obj       cls     total   targets  img_size\n",
            "     26/39     9.64G     0.468      5.36    0.0977      5.92       245       416: 100% 16/16 [00:12<00:00,  1.41it/s]\n",
            "               Class    Images   Targets         P         R   mAP@0.5        F1: 100% 3/3 [00:02<00:00,  1.29it/s]\n",
            "                 all        73       967     0.681     0.977     0.876     0.783\n",
            "\n",
            "     Epoch   gpu_mem      GIoU       obj       cls     total   targets  img_size\n",
            "     27/39     9.64G      0.46       5.2    0.0933      5.76       231       416: 100% 16/16 [00:12<00:00,  1.41it/s]\n",
            "               Class    Images   Targets         P         R   mAP@0.5        F1: 100% 3/3 [00:02<00:00,  1.21it/s]\n",
            "                 all        73       967     0.672     0.981     0.878     0.778\n",
            "\n",
            "     Epoch   gpu_mem      GIoU       obj       cls     total   targets  img_size\n",
            "     28/39     9.64G     0.474      5.32    0.0864      5.88       218       416: 100% 16/16 [00:12<00:00,  1.41it/s]\n",
            "               Class    Images   Targets         P         R   mAP@0.5        F1: 100% 3/3 [00:02<00:00,  1.31it/s]\n",
            "                 all        73       967     0.672     0.981     0.878     0.778\n",
            "\n",
            "     Epoch   gpu_mem      GIoU       obj       cls     total   targets  img_size\n",
            "     29/39     9.64G     0.462      5.21    0.0811      5.75       245       416: 100% 16/16 [00:12<00:00,  1.41it/s]\n",
            "               Class    Images   Targets         P         R   mAP@0.5        F1: 100% 3/3 [00:02<00:00,  1.29it/s]\n",
            "                 all        73       967     0.665     0.981     0.877     0.773\n",
            "\n",
            "     Epoch   gpu_mem      GIoU       obj       cls     total   targets  img_size\n",
            "     30/39     9.64G     0.466      5.21    0.0829      5.76       249       416: 100% 16/16 [00:12<00:00,  1.41it/s]\n",
            "               Class    Images   Targets         P         R   mAP@0.5        F1: 100% 3/3 [00:02<00:00,  1.27it/s]\n",
            "                 all        73       967     0.661     0.981     0.878     0.771\n",
            "\n",
            "     Epoch   gpu_mem      GIoU       obj       cls     total   targets  img_size\n",
            "     31/39     9.64G     0.462      5.34    0.0842      5.89       249       416: 100% 16/16 [00:12<00:00,  1.41it/s]\n",
            "               Class    Images   Targets         P         R   mAP@0.5        F1: 100% 3/3 [00:02<00:00,  1.20it/s]\n",
            "                 all        73       967     0.664     0.981     0.878     0.774\n",
            "\n",
            "     Epoch   gpu_mem      GIoU       obj       cls     total   targets  img_size\n",
            "     32/39     9.64G     0.463      5.24    0.0891      5.79       213       416: 100% 16/16 [00:12<00:00,  1.41it/s]\n",
            "               Class    Images   Targets         P         R   mAP@0.5        F1: 100% 3/3 [00:02<00:00,  1.28it/s]\n",
            "                 all        73       967     0.668     0.981      0.88     0.777\n",
            "\n",
            "     Epoch   gpu_mem      GIoU       obj       cls     total   targets  img_size\n",
            "     33/39     9.64G     0.456      5.22    0.0735      5.75       230       416: 100% 16/16 [00:12<00:00,  1.41it/s]\n",
            "               Class    Images   Targets         P         R   mAP@0.5        F1: 100% 3/3 [00:02<00:00,  1.16it/s]\n",
            "                 all        73       967      0.67     0.981     0.881     0.779\n",
            "\n",
            "     Epoch   gpu_mem      GIoU       obj       cls     total   targets  img_size\n",
            "     34/39     9.64G     0.461      5.27    0.0837      5.81       252       416: 100% 16/16 [00:12<00:00,  1.40it/s]\n",
            "               Class    Images   Targets         P         R   mAP@0.5        F1: 100% 3/3 [00:02<00:00,  1.19it/s]\n",
            "                 all        73       967     0.668     0.981     0.881     0.777\n",
            "\n",
            "     Epoch   gpu_mem      GIoU       obj       cls     total   targets  img_size\n",
            "     35/39     9.64G     0.466      5.07    0.0834      5.62       244       416: 100% 16/16 [00:12<00:00,  1.41it/s]\n",
            "               Class    Images   Targets         P         R   mAP@0.5        F1: 100% 3/3 [00:02<00:00,  1.26it/s]\n",
            "                 all        73       967     0.668     0.981     0.881     0.778\n",
            "\n",
            "     Epoch   gpu_mem      GIoU       obj       cls     total   targets  img_size\n",
            "     36/39     9.64G     0.465      5.36    0.0826       5.9       262       416: 100% 16/16 [00:12<00:00,  1.41it/s]\n",
            "               Class    Images   Targets         P         R   mAP@0.5        F1: 100% 3/3 [00:02<00:00,  1.30it/s]\n",
            "                 all        73       967     0.667     0.981     0.881     0.777\n",
            "\n",
            "     Epoch   gpu_mem      GIoU       obj       cls     total   targets  img_size\n",
            "     37/39     9.64G     0.462      5.27    0.0866      5.81       239       416: 100% 16/16 [00:12<00:00,  1.41it/s]\n",
            "               Class    Images   Targets         P         R   mAP@0.5        F1: 100% 3/3 [00:02<00:00,  1.25it/s]\n",
            "                 all        73       967     0.667     0.981     0.881     0.777\n",
            "\n",
            "     Epoch   gpu_mem      GIoU       obj       cls     total   targets  img_size\n",
            "     38/39     9.64G     0.455      5.16    0.0755      5.69       237       416: 100% 16/16 [00:12<00:00,  1.42it/s]\n",
            "               Class    Images   Targets         P         R   mAP@0.5        F1: 100% 3/3 [00:02<00:00,  1.27it/s]\n",
            "                 all        73       967     0.667     0.981     0.881     0.777\n",
            "\n",
            "     Epoch   gpu_mem      GIoU       obj       cls     total   targets  img_size\n",
            "     39/39     9.64G     0.461      5.35     0.083      5.89       218       416: 100% 16/16 [00:12<00:00,  1.41it/s]\n",
            "               Class    Images   Targets         P         R   mAP@0.5        F1: 100% 3/3 [00:02<00:00,  1.17it/s]\n",
            "                 all        73       967     0.669     0.981     0.881     0.779\n",
            "40 epochs completed in 0.214 hours.\n",
            "\n"
          ],
          "name": "stdout"
        }
      ]
    },
    {
      "cell_type": "code",
      "metadata": {
        "id": "iLH1ZL26mq_N",
        "outputId": "26c63a37-76f8-4dcc-f11b-09fb287fbe9d",
        "colab": {
          "base_uri": "https://localhost:8080/",
          "height": 34
        }
      },
      "source": [
        "%cd /content/\n",
        "#now train EfficientDet model"
      ],
      "execution_count": null,
      "outputs": [
        {
          "output_type": "stream",
          "text": [
            "/content\n"
          ],
          "name": "stdout"
        }
      ]
    },
    {
      "cell_type": "code",
      "metadata": {
        "id": "Rggiwxxn2Etr"
      },
      "source": [
        "import os\n",
        "import sys\n",
        "sys.path.append(\"Monk_Object_Detection/4_efficientdet/lib/\");\n",
        "from train_detector import Detector\n",
        "gtf = Detector();\n",
        "\n",
        "#directs the model towards file structure\n",
        "root_dir = \"./\";\n",
        "coco_dir = \"ed_data/Chess\";\n",
        "img_dir = \"./\";\n",
        "set_dir = \"Images\";\n",
        "\n"
      ],
      "execution_count": null,
      "outputs": []
    },
    {
      "cell_type": "code",
      "metadata": {
        "id": "OexLh8Rp2H1o",
        "outputId": "3aae5716-dcf6-4b0b-8ce7-0144409fded3",
        "colab": {
          "base_uri": "https://localhost:8080/",
          "height": 154
        }
      },
      "source": [
        "gtf.Train_Dataset(root_dir, coco_dir, img_dir, set_dir, batch_size=8, image_size=512, use_gpu=True)\n",
        "gtf.Model();\n",
        "\n",
        "#ed_data/Chess/annotations/instances_Images.json"
      ],
      "execution_count": null,
      "outputs": [
        {
          "output_type": "stream",
          "text": [
            "loading annotations into memory...\n",
            "Done (t=0.03s)\n",
            "creating index...\n",
            "index created!\n"
          ],
          "name": "stdout"
        },
        {
          "output_type": "stream",
          "text": [
            "Downloading: \"https://github.com/lukemelas/EfficientNet-PyTorch/releases/download/1.0/efficientnet-b0-355c32eb.pth\" to /root/.cache/torch/checkpoints/efficientnet-b0-355c32eb.pth\n"
          ],
          "name": "stderr"
        },
        {
          "output_type": "display_data",
          "data": {
            "text/html": [
              "<div style=\"display:flex;flex-direction:row;\"><span></span><progress style='margin:2px 4px;' max='21388428' value='21388428'></progress>100% 20.4M/20.4M [00:00&lt;00:00, 88.7MB/s]</div>"
            ],
            "text/plain": [
              "<tqdm._fake_ipywidgets.HBox object>"
            ]
          },
          "metadata": {
            "tags": []
          }
        },
        {
          "output_type": "stream",
          "text": [
            "\n",
            "Loaded pretrained weights for efficientnet-b0\n"
          ],
          "name": "stdout"
        }
      ]
    },
    {
      "cell_type": "code",
      "metadata": {
        "id": "rcnLpfGOwOgo",
        "outputId": "7fa35064-372c-4752-c705-dde7b0fc1db3",
        "colab": {
          "base_uri": "https://localhost:8080/",
          "height": 1000
        }
      },
      "source": [
        "%%time\n",
        "gtf.Set_Hyperparams(lr=0.0001, val_interval=1, es_min_delta=0.0, es_patience=0)\n",
        "gtf.Train(num_epochs=40, model_output_dir=\"trained/\");\n",
        "#total training time 18.3 min\n",
        "#25.2 min"
      ],
      "execution_count": null,
      "outputs": [
        {
          "output_type": "display_data",
          "data": {
            "text/html": [
              "<div style=\"display:flex;flex-direction:row;\"><span>Epoch: 1/40. Iteration: 31/31. Cls loss: 0.80487. Reg loss: 0.84726. Batch loss: 1.65213 Total loss: 1.79787</span><progress style='margin:2px 4px;description_width:initial;' max='31' value='31'></progress>100% 31/31 [00:14&lt;00:00,  2.62it/s]</div>"
            ],
            "text/plain": [
              "<tqdm._fake_ipywidgets.HBox object>"
            ]
          },
          "metadata": {
            "tags": []
          }
        },
        {
          "output_type": "stream",
          "text": [
            "\n"
          ],
          "name": "stdout"
        },
        {
          "output_type": "stream",
          "text": [
            "Monk_Object_Detection/4_efficientdet/lib/src/model.py:251: TracerWarning: Converting a tensor to a Python index might cause the trace to be incorrect. We can't record the data flow of Python values, so this value will be treated as a constant in the future. This means that the trace might not generalize to other inputs!\n",
            "  if len(inputs) == 2:\n",
            "Monk_Object_Detection/4_efficientdet/lib/src/utils.py:84: TracerWarning: Converting a tensor to a Python integer might cause the trace to be incorrect. We can't record the data flow of Python values, so this value will be treated as a constant in the future. This means that the trace might not generalize to other inputs!\n",
            "  image_shape = np.array(image_shape)\n",
            "Monk_Object_Detection/4_efficientdet/lib/src/utils.py:96: TracerWarning: torch.from_numpy results are registered as constants in the trace. You can safely ignore this warning if you use this function to create tensors out of constant variables that would be the same every time you call this function. In any other case, this might cause the trace to be incorrect.\n",
            "  anchors = torch.from_numpy(all_anchors.astype(np.float32))\n",
            "Monk_Object_Detection/4_efficientdet/lib/src/utils.py:57: TracerWarning: There are 3 live references to the data region being modified when tracing in-place operator copy_ (possibly due to an assignment). This might cause the trace to be incorrect, because all other views that also reference this data will not reflect this change in the trace! On the other hand, if all other views use the same memory chunk, but are disjoint (e.g. are outputs of torch.split), this might still be safe.\n",
            "  boxes[:, :, 0] = torch.clamp(boxes[:, :, 0], min=0)\n",
            "Monk_Object_Detection/4_efficientdet/lib/src/utils.py:58: TracerWarning: There are 4 live references to the data region being modified when tracing in-place operator copy_ (possibly due to an assignment). This might cause the trace to be incorrect, because all other views that also reference this data will not reflect this change in the trace! On the other hand, if all other views use the same memory chunk, but are disjoint (e.g. are outputs of torch.split), this might still be safe.\n",
            "  boxes[:, :, 1] = torch.clamp(boxes[:, :, 1], min=0)\n",
            "Monk_Object_Detection/4_efficientdet/lib/src/utils.py:60: TracerWarning: There are 5 live references to the data region being modified when tracing in-place operator copy_ (possibly due to an assignment). This might cause the trace to be incorrect, because all other views that also reference this data will not reflect this change in the trace! On the other hand, if all other views use the same memory chunk, but are disjoint (e.g. are outputs of torch.split), this might still be safe.\n",
            "  boxes[:, :, 2] = torch.clamp(boxes[:, :, 2], max=width)\n",
            "Monk_Object_Detection/4_efficientdet/lib/src/utils.py:61: TracerWarning: There are 6 live references to the data region being modified when tracing in-place operator copy_ (possibly due to an assignment). This might cause the trace to be incorrect, because all other views that also reference this data will not reflect this change in the trace! On the other hand, if all other views use the same memory chunk, but are disjoint (e.g. are outputs of torch.split), this might still be safe.\n",
            "  boxes[:, :, 3] = torch.clamp(boxes[:, :, 3], max=height)\n",
            "Monk_Object_Detection/4_efficientdet/lib/src/model.py:282: TracerWarning: Converting a tensor to a Python boolean might cause the trace to be incorrect. We can't record the data flow of Python values, so this value will be treated as a constant in the future. This means that the trace might not generalize to other inputs!\n",
            "  if scores_over_thresh.sum() == 0:\n"
          ],
          "name": "stderr"
        },
        {
          "output_type": "display_data",
          "data": {
            "text/html": [
              "<div style=\"display:flex;flex-direction:row;\"><span>Epoch: 2/40. Iteration: 31/31. Cls loss: 0.54496. Reg loss: 0.73663. Batch loss: 1.28159 Total loss: 1.27837</span><progress style='margin:2px 4px;description_width:initial;' max='31' value='31'></progress>100% 31/31 [00:14&lt;00:00,  2.70it/s]</div>"
            ],
            "text/plain": [
              "<tqdm._fake_ipywidgets.HBox object>"
            ]
          },
          "metadata": {
            "tags": []
          }
        },
        {
          "output_type": "stream",
          "text": [
            "\n"
          ],
          "name": "stdout"
        },
        {
          "output_type": "display_data",
          "data": {
            "text/html": [
              "<div style=\"display:flex;flex-direction:row;\"><span>Epoch: 3/40. Iteration: 31/31. Cls loss: 0.30696. Reg loss: 0.55356. Batch loss: 0.86052 Total loss: 1.01912</span><progress style='margin:2px 4px;description_width:initial;' max='31' value='31'></progress>100% 31/31 [00:14&lt;00:00,  2.62it/s]</div>"
            ],
            "text/plain": [
              "<tqdm._fake_ipywidgets.HBox object>"
            ]
          },
          "metadata": {
            "tags": []
          }
        },
        {
          "output_type": "stream",
          "text": [
            "\n"
          ],
          "name": "stdout"
        },
        {
          "output_type": "display_data",
          "data": {
            "text/html": [
              "<div style=\"display:flex;flex-direction:row;\"><span>Epoch: 4/40. Iteration: 31/31. Cls loss: 0.28256. Reg loss: 0.49528. Batch loss: 0.77785 Total loss: 0.88182</span><progress style='margin:2px 4px;description_width:initial;' max='31' value='31'></progress>100% 31/31 [00:15&lt;00:00,  2.50it/s]</div>"
            ],
            "text/plain": [
              "<tqdm._fake_ipywidgets.HBox object>"
            ]
          },
          "metadata": {
            "tags": []
          }
        },
        {
          "output_type": "stream",
          "text": [
            "\n"
          ],
          "name": "stdout"
        },
        {
          "output_type": "display_data",
          "data": {
            "text/html": [
              "<div style=\"display:flex;flex-direction:row;\"><span>Epoch: 5/40. Iteration: 31/31. Cls loss: 0.26717. Reg loss: 0.49732. Batch loss: 0.76448 Total loss: 0.79266</span><progress style='margin:2px 4px;description_width:initial;' max='31' value='31'></progress>100% 31/31 [00:14&lt;00:00,  2.64it/s]</div>"
            ],
            "text/plain": [
              "<tqdm._fake_ipywidgets.HBox object>"
            ]
          },
          "metadata": {
            "tags": []
          }
        },
        {
          "output_type": "stream",
          "text": [
            "\n"
          ],
          "name": "stdout"
        },
        {
          "output_type": "display_data",
          "data": {
            "text/html": [
              "<div style=\"display:flex;flex-direction:row;\"><span>Epoch: 6/40. Iteration: 31/31. Cls loss: 0.37010. Reg loss: 0.42048. Batch loss: 0.79059 Total loss: 0.77580</span><progress style='margin:2px 4px;description_width:initial;' max='31' value='31'></progress>100% 31/31 [00:14&lt;00:00,  2.56it/s]</div>"
            ],
            "text/plain": [
              "<tqdm._fake_ipywidgets.HBox object>"
            ]
          },
          "metadata": {
            "tags": []
          }
        },
        {
          "output_type": "stream",
          "text": [
            "\n"
          ],
          "name": "stdout"
        },
        {
          "output_type": "display_data",
          "data": {
            "text/html": [
              "<div style=\"display:flex;flex-direction:row;\"><span>Epoch: 7/40. Iteration: 31/31. Cls loss: 0.24263. Reg loss: 0.45365. Batch loss: 0.69628 Total loss: 0.69102</span><progress style='margin:2px 4px;description_width:initial;' max='31' value='31'></progress>100% 31/31 [00:15&lt;00:00,  2.67it/s]</div>"
            ],
            "text/plain": [
              "<tqdm._fake_ipywidgets.HBox object>"
            ]
          },
          "metadata": {
            "tags": []
          }
        },
        {
          "output_type": "stream",
          "text": [
            "\n"
          ],
          "name": "stdout"
        },
        {
          "output_type": "display_data",
          "data": {
            "text/html": [
              "<div style=\"display:flex;flex-direction:row;\"><span>Epoch: 8/40. Iteration: 31/31. Cls loss: 0.16328. Reg loss: 0.39745. Batch loss: 0.56072 Total loss: 0.67599</span><progress style='margin:2px 4px;description_width:initial;' max='31' value='31'></progress>100% 31/31 [00:15&lt;00:00,  2.57it/s]</div>"
            ],
            "text/plain": [
              "<tqdm._fake_ipywidgets.HBox object>"
            ]
          },
          "metadata": {
            "tags": []
          }
        },
        {
          "output_type": "stream",
          "text": [
            "\n"
          ],
          "name": "stdout"
        },
        {
          "output_type": "display_data",
          "data": {
            "text/html": [
              "<div style=\"display:flex;flex-direction:row;\"><span>Epoch: 9/40. Iteration: 31/31. Cls loss: 0.14796. Reg loss: 0.36480. Batch loss: 0.51276 Total loss: 0.62004</span><progress style='margin:2px 4px;description_width:initial;' max='31' value='31'></progress>100% 31/31 [00:14&lt;00:00,  2.68it/s]</div>"
            ],
            "text/plain": [
              "<tqdm._fake_ipywidgets.HBox object>"
            ]
          },
          "metadata": {
            "tags": []
          }
        },
        {
          "output_type": "stream",
          "text": [
            "\n"
          ],
          "name": "stdout"
        },
        {
          "output_type": "display_data",
          "data": {
            "text/html": [
              "<div style=\"display:flex;flex-direction:row;\"><span>Epoch: 10/40. Iteration: 31/31. Cls loss: 0.18862. Reg loss: 0.41760. Batch loss: 0.60622 Total loss: 0.60955</span><progress style='margin:2px 4px;description_width:initial;' max='31' value='31'></progress>100% 31/31 [00:14&lt;00:00,  2.63it/s]</div>"
            ],
            "text/plain": [
              "<tqdm._fake_ipywidgets.HBox object>"
            ]
          },
          "metadata": {
            "tags": []
          }
        },
        {
          "output_type": "stream",
          "text": [
            "\n"
          ],
          "name": "stdout"
        },
        {
          "output_type": "display_data",
          "data": {
            "text/html": [
              "<div style=\"display:flex;flex-direction:row;\"><span>Epoch: 11/40. Iteration: 31/31. Cls loss: 0.17679. Reg loss: 0.38587. Batch loss: 0.56266 Total loss: 0.58988</span><progress style='margin:2px 4px;description_width:initial;' max='31' value='31'></progress>100% 31/31 [00:15&lt;00:00,  2.44it/s]</div>"
            ],
            "text/plain": [
              "<tqdm._fake_ipywidgets.HBox object>"
            ]
          },
          "metadata": {
            "tags": []
          }
        },
        {
          "output_type": "stream",
          "text": [
            "\n"
          ],
          "name": "stdout"
        },
        {
          "output_type": "display_data",
          "data": {
            "text/html": [
              "<div style=\"display:flex;flex-direction:row;\"><span>Epoch: 12/40. Iteration: 31/31. Cls loss: 0.19804. Reg loss: 0.38336. Batch loss: 0.58141 Total loss: 0.55659</span><progress style='margin:2px 4px;description_width:initial;' max='31' value='31'></progress>100% 31/31 [00:15&lt;00:00,  2.54it/s]</div>"
            ],
            "text/plain": [
              "<tqdm._fake_ipywidgets.HBox object>"
            ]
          },
          "metadata": {
            "tags": []
          }
        },
        {
          "output_type": "stream",
          "text": [
            "\n"
          ],
          "name": "stdout"
        },
        {
          "output_type": "display_data",
          "data": {
            "text/html": [
              "<div style=\"display:flex;flex-direction:row;\"><span>Epoch: 13/40. Iteration: 31/31. Cls loss: 0.13830. Reg loss: 0.33150. Batch loss: 0.46980 Total loss: 0.55499</span><progress style='margin:2px 4px;description_width:initial;' max='31' value='31'></progress>100% 31/31 [00:15&lt;00:00,  2.56it/s]</div>"
            ],
            "text/plain": [
              "<tqdm._fake_ipywidgets.HBox object>"
            ]
          },
          "metadata": {
            "tags": []
          }
        },
        {
          "output_type": "stream",
          "text": [
            "\n"
          ],
          "name": "stdout"
        },
        {
          "output_type": "display_data",
          "data": {
            "text/html": [
              "<div style=\"display:flex;flex-direction:row;\"><span>Epoch: 14/40. Iteration: 31/31. Cls loss: 0.17644. Reg loss: 0.35769. Batch loss: 0.53413 Total loss: 0.51771</span><progress style='margin:2px 4px;description_width:initial;' max='31' value='31'></progress>100% 31/31 [00:15&lt;00:00,  2.41it/s]</div>"
            ],
            "text/plain": [
              "<tqdm._fake_ipywidgets.HBox object>"
            ]
          },
          "metadata": {
            "tags": []
          }
        },
        {
          "output_type": "stream",
          "text": [
            "\n"
          ],
          "name": "stdout"
        },
        {
          "output_type": "display_data",
          "data": {
            "text/html": [
              "<div style=\"display:flex;flex-direction:row;\"><span>Epoch: 15/40. Iteration: 31/31. Cls loss: 0.13339. Reg loss: 0.30950. Batch loss: 0.44289 Total loss: 0.51015</span><progress style='margin:2px 4px;description_width:initial;' max='31' value='31'></progress>100% 31/31 [00:14&lt;00:00,  2.50it/s]</div>"
            ],
            "text/plain": [
              "<tqdm._fake_ipywidgets.HBox object>"
            ]
          },
          "metadata": {
            "tags": []
          }
        },
        {
          "output_type": "stream",
          "text": [
            "\n"
          ],
          "name": "stdout"
        },
        {
          "output_type": "display_data",
          "data": {
            "text/html": [
              "<div style=\"display:flex;flex-direction:row;\"><span>Epoch: 16/40. Iteration: 31/31. Cls loss: 0.12456. Reg loss: 0.34598. Batch loss: 0.47054 Total loss: 0.48983</span><progress style='margin:2px 4px;description_width:initial;' max='31' value='31'></progress>100% 31/31 [00:14&lt;00:00,  2.55it/s]</div>"
            ],
            "text/plain": [
              "<tqdm._fake_ipywidgets.HBox object>"
            ]
          },
          "metadata": {
            "tags": []
          }
        },
        {
          "output_type": "stream",
          "text": [
            "\n"
          ],
          "name": "stdout"
        },
        {
          "output_type": "display_data",
          "data": {
            "text/html": [
              "<div style=\"display:flex;flex-direction:row;\"><span>Epoch: 17/40. Iteration: 31/31. Cls loss: 0.12875. Reg loss: 0.33500. Batch loss: 0.46375 Total loss: 0.48801</span><progress style='margin:2px 4px;description_width:initial;' max='31' value='31'></progress>100% 31/31 [00:15&lt;00:00,  2.57it/s]</div>"
            ],
            "text/plain": [
              "<tqdm._fake_ipywidgets.HBox object>"
            ]
          },
          "metadata": {
            "tags": []
          }
        },
        {
          "output_type": "stream",
          "text": [
            "\n"
          ],
          "name": "stdout"
        },
        {
          "output_type": "display_data",
          "data": {
            "text/html": [
              "<div style=\"display:flex;flex-direction:row;\"><span>Epoch: 18/40. Iteration: 31/31. Cls loss: 0.12989. Reg loss: 0.35928. Batch loss: 0.48916 Total loss: 0.47177</span><progress style='margin:2px 4px;description_width:initial;' max='31' value='31'></progress>100% 31/31 [00:15&lt;00:00,  2.55it/s]</div>"
            ],
            "text/plain": [
              "<tqdm._fake_ipywidgets.HBox object>"
            ]
          },
          "metadata": {
            "tags": []
          }
        },
        {
          "output_type": "stream",
          "text": [
            "\n"
          ],
          "name": "stdout"
        },
        {
          "output_type": "display_data",
          "data": {
            "text/html": [
              "<div style=\"display:flex;flex-direction:row;\"><span>Epoch: 19/40. Iteration: 31/31. Cls loss: 0.14315. Reg loss: 0.36350. Batch loss: 0.50665 Total loss: 0.46774</span><progress style='margin:2px 4px;description_width:initial;' max='31' value='31'></progress>100% 31/31 [00:14&lt;00:00,  2.60it/s]</div>"
            ],
            "text/plain": [
              "<tqdm._fake_ipywidgets.HBox object>"
            ]
          },
          "metadata": {
            "tags": []
          }
        },
        {
          "output_type": "stream",
          "text": [
            "\n"
          ],
          "name": "stdout"
        },
        {
          "output_type": "display_data",
          "data": {
            "text/html": [
              "<div style=\"display:flex;flex-direction:row;\"><span>Epoch: 20/40. Iteration: 31/31. Cls loss: 0.11534. Reg loss: 0.29237. Batch loss: 0.40772 Total loss: 0.43738</span><progress style='margin:2px 4px;description_width:initial;' max='31' value='31'></progress>100% 31/31 [00:14&lt;00:00,  2.54it/s]</div>"
            ],
            "text/plain": [
              "<tqdm._fake_ipywidgets.HBox object>"
            ]
          },
          "metadata": {
            "tags": []
          }
        },
        {
          "output_type": "stream",
          "text": [
            "\n"
          ],
          "name": "stdout"
        },
        {
          "output_type": "display_data",
          "data": {
            "text/html": [
              "<div style=\"display:flex;flex-direction:row;\"><span>Epoch: 21/40. Iteration: 31/31. Cls loss: 0.11102. Reg loss: 0.31393. Batch loss: 0.42495 Total loss: 0.44012</span><progress style='margin:2px 4px;description_width:initial;' max='31' value='31'></progress>100% 31/31 [00:15&lt;00:00,  2.47it/s]</div>"
            ],
            "text/plain": [
              "<tqdm._fake_ipywidgets.HBox object>"
            ]
          },
          "metadata": {
            "tags": []
          }
        },
        {
          "output_type": "stream",
          "text": [
            "\n"
          ],
          "name": "stdout"
        },
        {
          "output_type": "display_data",
          "data": {
            "text/html": [
              "<div style=\"display:flex;flex-direction:row;\"><span>Epoch: 22/40. Iteration: 31/31. Cls loss: 0.12308. Reg loss: 0.34501. Batch loss: 0.46809 Total loss: 0.42858</span><progress style='margin:2px 4px;description_width:initial;' max='31' value='31'></progress>100% 31/31 [00:15&lt;00:00,  2.36it/s]</div>"
            ],
            "text/plain": [
              "<tqdm._fake_ipywidgets.HBox object>"
            ]
          },
          "metadata": {
            "tags": []
          }
        },
        {
          "output_type": "stream",
          "text": [
            "\n"
          ],
          "name": "stdout"
        },
        {
          "output_type": "display_data",
          "data": {
            "text/html": [
              "<div style=\"display:flex;flex-direction:row;\"><span>Epoch: 23/40. Iteration: 31/31. Cls loss: 0.10844. Reg loss: 0.31753. Batch loss: 0.42598 Total loss: 0.41506</span><progress style='margin:2px 4px;description_width:initial;' max='31' value='31'></progress>100% 31/31 [00:14&lt;00:00,  2.67it/s]</div>"
            ],
            "text/plain": [
              "<tqdm._fake_ipywidgets.HBox object>"
            ]
          },
          "metadata": {
            "tags": []
          }
        },
        {
          "output_type": "stream",
          "text": [
            "\n"
          ],
          "name": "stdout"
        },
        {
          "output_type": "display_data",
          "data": {
            "text/html": [
              "<div style=\"display:flex;flex-direction:row;\"><span>Epoch: 24/40. Iteration: 31/31. Cls loss: 0.11453. Reg loss: 0.33055. Batch loss: 0.44508 Total loss: 0.39859</span><progress style='margin:2px 4px;description_width:initial;' max='31' value='31'></progress>100% 31/31 [00:15&lt;00:00,  2.61it/s]</div>"
            ],
            "text/plain": [
              "<tqdm._fake_ipywidgets.HBox object>"
            ]
          },
          "metadata": {
            "tags": []
          }
        },
        {
          "output_type": "stream",
          "text": [
            "\n"
          ],
          "name": "stdout"
        },
        {
          "output_type": "display_data",
          "data": {
            "text/html": [
              "<div style=\"display:flex;flex-direction:row;\"><span>Epoch: 25/40. Iteration: 31/31. Cls loss: 0.08210. Reg loss: 0.28896. Batch loss: 0.37106 Total loss: 0.39608</span><progress style='margin:2px 4px;description_width:initial;' max='31' value='31'></progress>100% 31/31 [00:15&lt;00:00,  2.61it/s]</div>"
            ],
            "text/plain": [
              "<tqdm._fake_ipywidgets.HBox object>"
            ]
          },
          "metadata": {
            "tags": []
          }
        },
        {
          "output_type": "stream",
          "text": [
            "\n"
          ],
          "name": "stdout"
        },
        {
          "output_type": "display_data",
          "data": {
            "text/html": [
              "<div style=\"display:flex;flex-direction:row;\"><span>Epoch: 26/40. Iteration: 31/31. Cls loss: 0.08678. Reg loss: 0.27355. Batch loss: 0.36033 Total loss: 0.37739</span><progress style='margin:2px 4px;description_width:initial;' max='31' value='31'></progress>100% 31/31 [00:15&lt;00:00,  2.37it/s]</div>"
            ],
            "text/plain": [
              "<tqdm._fake_ipywidgets.HBox object>"
            ]
          },
          "metadata": {
            "tags": []
          }
        },
        {
          "output_type": "stream",
          "text": [
            "\n"
          ],
          "name": "stdout"
        },
        {
          "output_type": "display_data",
          "data": {
            "text/html": [
              "<div style=\"display:flex;flex-direction:row;\"><span>Epoch: 27/40. Iteration: 31/31. Cls loss: 0.09682. Reg loss: 0.28105. Batch loss: 0.37787 Total loss: 0.37590</span><progress style='margin:2px 4px;description_width:initial;' max='31' value='31'></progress>100% 31/31 [00:14&lt;00:00,  2.65it/s]</div>"
            ],
            "text/plain": [
              "<tqdm._fake_ipywidgets.HBox object>"
            ]
          },
          "metadata": {
            "tags": []
          }
        },
        {
          "output_type": "stream",
          "text": [
            "\n"
          ],
          "name": "stdout"
        },
        {
          "output_type": "display_data",
          "data": {
            "text/html": [
              "<div style=\"display:flex;flex-direction:row;\"><span>Epoch: 28/40. Iteration: 31/31. Cls loss: 0.07328. Reg loss: 0.26916. Batch loss: 0.34244 Total loss: 0.36578</span><progress style='margin:2px 4px;description_width:initial;' max='31' value='31'></progress>100% 31/31 [00:15&lt;00:00,  2.61it/s]</div>"
            ],
            "text/plain": [
              "<tqdm._fake_ipywidgets.HBox object>"
            ]
          },
          "metadata": {
            "tags": []
          }
        },
        {
          "output_type": "stream",
          "text": [
            "\n"
          ],
          "name": "stdout"
        },
        {
          "output_type": "display_data",
          "data": {
            "text/html": [
              "<div style=\"display:flex;flex-direction:row;\"><span>Epoch: 29/40. Iteration: 31/31. Cls loss: 0.08402. Reg loss: 0.24221. Batch loss: 0.32624 Total loss: 0.35934</span><progress style='margin:2px 4px;description_width:initial;' max='31' value='31'></progress>100% 31/31 [00:15&lt;00:00,  2.48it/s]</div>"
            ],
            "text/plain": [
              "<tqdm._fake_ipywidgets.HBox object>"
            ]
          },
          "metadata": {
            "tags": []
          }
        },
        {
          "output_type": "stream",
          "text": [
            "\n"
          ],
          "name": "stdout"
        },
        {
          "output_type": "display_data",
          "data": {
            "text/html": [
              "<div style=\"display:flex;flex-direction:row;\"><span>Epoch: 30/40. Iteration: 31/31. Cls loss: 0.09577. Reg loss: 0.27779. Batch loss: 0.37356 Total loss: 0.34766</span><progress style='margin:2px 4px;description_width:initial;' max='31' value='31'></progress>100% 31/31 [00:15&lt;00:00,  2.36it/s]</div>"
            ],
            "text/plain": [
              "<tqdm._fake_ipywidgets.HBox object>"
            ]
          },
          "metadata": {
            "tags": []
          }
        },
        {
          "output_type": "stream",
          "text": [
            "\n"
          ],
          "name": "stdout"
        },
        {
          "output_type": "display_data",
          "data": {
            "text/html": [
              "<div style=\"display:flex;flex-direction:row;\"><span>Epoch: 31/40. Iteration: 31/31. Cls loss: 0.07366. Reg loss: 0.27321. Batch loss: 0.34687 Total loss: 0.33611</span><progress style='margin:2px 4px;description_width:initial;' max='31' value='31'></progress>100% 31/31 [00:15&lt;00:00,  2.62it/s]</div>"
            ],
            "text/plain": [
              "<tqdm._fake_ipywidgets.HBox object>"
            ]
          },
          "metadata": {
            "tags": []
          }
        },
        {
          "output_type": "stream",
          "text": [
            "\n"
          ],
          "name": "stdout"
        },
        {
          "output_type": "display_data",
          "data": {
            "text/html": [
              "<div style=\"display:flex;flex-direction:row;\"><span>Epoch: 32/40. Iteration: 31/31. Cls loss: 0.09606. Reg loss: 0.26282. Batch loss: 0.35888 Total loss: 0.32760</span><progress style='margin:2px 4px;description_width:initial;' max='31' value='31'></progress>100% 31/31 [00:14&lt;00:00,  2.64it/s]</div>"
            ],
            "text/plain": [
              "<tqdm._fake_ipywidgets.HBox object>"
            ]
          },
          "metadata": {
            "tags": []
          }
        },
        {
          "output_type": "stream",
          "text": [
            "\n"
          ],
          "name": "stdout"
        },
        {
          "output_type": "display_data",
          "data": {
            "text/html": [
              "<div style=\"display:flex;flex-direction:row;\"><span>Epoch: 33/40. Iteration: 31/31. Cls loss: 0.07907. Reg loss: 0.25914. Batch loss: 0.33821 Total loss: 0.32645</span><progress style='margin:2px 4px;description_width:initial;' max='31' value='31'></progress>100% 31/31 [00:14&lt;00:00,  2.67it/s]</div>"
            ],
            "text/plain": [
              "<tqdm._fake_ipywidgets.HBox object>"
            ]
          },
          "metadata": {
            "tags": []
          }
        },
        {
          "output_type": "stream",
          "text": [
            "\n"
          ],
          "name": "stdout"
        },
        {
          "output_type": "display_data",
          "data": {
            "text/html": [
              "<div style=\"display:flex;flex-direction:row;\"><span>Epoch: 34/40. Iteration: 31/31. Cls loss: 0.10310. Reg loss: 0.29254. Batch loss: 0.39564 Total loss: 0.32258</span><progress style='margin:2px 4px;description_width:initial;' max='31' value='31'></progress>100% 31/31 [00:15&lt;00:00,  2.66it/s]</div>"
            ],
            "text/plain": [
              "<tqdm._fake_ipywidgets.HBox object>"
            ]
          },
          "metadata": {
            "tags": []
          }
        },
        {
          "output_type": "stream",
          "text": [
            "\n"
          ],
          "name": "stdout"
        },
        {
          "output_type": "display_data",
          "data": {
            "text/html": [
              "<div style=\"display:flex;flex-direction:row;\"><span>Epoch: 35/40. Iteration: 31/31. Cls loss: 0.06901. Reg loss: 0.23498. Batch loss: 0.30398 Total loss: 0.32363</span><progress style='margin:2px 4px;description_width:initial;' max='31' value='31'></progress>100% 31/31 [00:15&lt;00:00,  2.54it/s]</div>"
            ],
            "text/plain": [
              "<tqdm._fake_ipywidgets.HBox object>"
            ]
          },
          "metadata": {
            "tags": []
          }
        },
        {
          "output_type": "stream",
          "text": [
            "\n"
          ],
          "name": "stdout"
        },
        {
          "output_type": "display_data",
          "data": {
            "text/html": [
              "<div style=\"display:flex;flex-direction:row;\"><span>Epoch: 36/40. Iteration: 31/31. Cls loss: 0.05844. Reg loss: 0.20826. Batch loss: 0.26670 Total loss: 0.30527</span><progress style='margin:2px 4px;description_width:initial;' max='31' value='31'></progress>100% 31/31 [00:14&lt;00:00,  2.67it/s]</div>"
            ],
            "text/plain": [
              "<tqdm._fake_ipywidgets.HBox object>"
            ]
          },
          "metadata": {
            "tags": []
          }
        },
        {
          "output_type": "stream",
          "text": [
            "\n"
          ],
          "name": "stdout"
        },
        {
          "output_type": "display_data",
          "data": {
            "text/html": [
              "<div style=\"display:flex;flex-direction:row;\"><span>Epoch: 37/40. Iteration: 31/31. Cls loss: 0.05211. Reg loss: 0.20443. Batch loss: 0.25655 Total loss: 0.30145</span><progress style='margin:2px 4px;description_width:initial;' max='31' value='31'></progress>100% 31/31 [00:15&lt;00:00,  2.40it/s]</div>"
            ],
            "text/plain": [
              "<tqdm._fake_ipywidgets.HBox object>"
            ]
          },
          "metadata": {
            "tags": []
          }
        },
        {
          "output_type": "stream",
          "text": [
            "\n"
          ],
          "name": "stdout"
        },
        {
          "output_type": "display_data",
          "data": {
            "text/html": [
              "<div style=\"display:flex;flex-direction:row;\"><span>Epoch: 38/40. Iteration: 31/31. Cls loss: 0.06579. Reg loss: 0.25966. Batch loss: 0.32545 Total loss: 0.29962</span><progress style='margin:2px 4px;description_width:initial;' max='31' value='31'></progress>100% 31/31 [00:15&lt;00:00,  2.59it/s]</div>"
            ],
            "text/plain": [
              "<tqdm._fake_ipywidgets.HBox object>"
            ]
          },
          "metadata": {
            "tags": []
          }
        },
        {
          "output_type": "stream",
          "text": [
            "\n"
          ],
          "name": "stdout"
        },
        {
          "output_type": "display_data",
          "data": {
            "text/html": [
              "<div style=\"display:flex;flex-direction:row;\"><span>Epoch: 39/40. Iteration: 31/31. Cls loss: 0.07399. Reg loss: 0.23382. Batch loss: 0.30780 Total loss: 0.29111</span><progress style='margin:2px 4px;description_width:initial;' max='31' value='31'></progress>100% 31/31 [00:14&lt;00:00,  2.50it/s]</div>"
            ],
            "text/plain": [
              "<tqdm._fake_ipywidgets.HBox object>"
            ]
          },
          "metadata": {
            "tags": []
          }
        },
        {
          "output_type": "stream",
          "text": [
            "\n"
          ],
          "name": "stdout"
        },
        {
          "output_type": "display_data",
          "data": {
            "text/html": [
              "<div style=\"display:flex;flex-direction:row;\"><span>Epoch: 40/40. Iteration: 31/31. Cls loss: 0.09221. Reg loss: 0.29926. Batch loss: 0.39146 Total loss: 0.28538</span><progress style='margin:2px 4px;description_width:initial;' max='31' value='31'></progress>100% 31/31 [00:15&lt;00:00,  2.55it/s]</div>"
            ],
            "text/plain": [
              "<tqdm._fake_ipywidgets.HBox object>"
            ]
          },
          "metadata": {
            "tags": []
          }
        },
        {
          "output_type": "stream",
          "text": [
            "\n",
            "CPU times: user 13min 16s, sys: 1min 13s, total: 14min 29s\n",
            "Wall time: 15min 35s\n"
          ],
          "name": "stdout"
        }
      ]
    },
    {
      "cell_type": "markdown",
      "metadata": {
        "id": "uQR0_jLvCHDY"
      },
      "source": [
        "# Measuring Model Size"
      ]
    },
    {
      "cell_type": "code",
      "metadata": {
        "id": "9tMzq2kdCx3T",
        "outputId": "2a91d8ea-2057-43f5-acc2-eae5b324db31",
        "colab": {
          "base_uri": "https://localhost:8080/",
          "height": 34
        }
      },
      "source": [
        "#size of yolov3 in our test\n",
        "#number of parameters 65,252,682\n",
        "!du --block-size=1MB yolov3/weights/last.pt"
      ],
      "execution_count": null,
      "outputs": [
        {
          "output_type": "stream",
          "text": [
            "253\tyolov3/weights/last.pt\n"
          ],
          "name": "stdout"
        }
      ]
    },
    {
      "cell_type": "code",
      "metadata": {
        "id": "je86emtECyua",
        "outputId": "4d6aea21-e6d2-4d81-9fdf-7b017c781909",
        "colab": {
          "base_uri": "https://localhost:8080/",
          "height": 34
        }
      },
      "source": [
        "#size of EfficientDet-D0 in our test\n",
        "#number of parameters 3,900,000 \n",
        "!du --block-size=1MB trained/signatrix_efficientdet_coco.pth"
      ],
      "execution_count": null,
      "outputs": [
        {
          "output_type": "stream",
          "text": [
            "17\ttrained/signatrix_efficientdet_coco.pth\n"
          ],
          "name": "stdout"
        }
      ]
    },
    {
      "cell_type": "code",
      "metadata": {
        "id": "j6Mn0nDFC6kq",
        "outputId": "cde78b4d-d008-4114-cf94-d092dba83f4c",
        "colab": {
          "base_uri": "https://localhost:8080/",
          "height": 34
        }
      },
      "source": [
        "!du --block-size=1MB trained/signatrix_efficientdet_coco.onnx"
      ],
      "execution_count": null,
      "outputs": [
        {
          "output_type": "stream",
          "text": [
            "18\ttrained/signatrix_efficientdet_coco.onnx\n"
          ],
          "name": "stdout"
        }
      ]
    },
    {
      "cell_type": "code",
      "metadata": {
        "id": "gOVs20hbEVES"
      },
      "source": [
        "#param multiplier 17x\n",
        "#model size 15x "
      ],
      "execution_count": null,
      "outputs": []
    },
    {
      "cell_type": "markdown",
      "metadata": {
        "id": "Nft57ZmxIXft"
      },
      "source": [
        "# Measuring Inference Time"
      ]
    },
    {
      "cell_type": "code",
      "metadata": {
        "id": "tnS8OJraIZ5H"
      },
      "source": [
        "##first inference with effficientDet\n",
        "import os\n",
        "import sys\n",
        "sys.path.append(\"Monk_Object_Detection/4_efficientdet/lib/\");\n",
        "from infer_detector import Infer\n",
        "gtf = Infer();\n",
        "#our trained model weights are in here in onxx format\n",
        "gtf.Model(model_dir=\"trained/\")\n",
        "#extract class list from our annotations\n",
        "import json\n",
        "with open('ed_data/train/_annotations.coco.json') as json_file:\n",
        "    data = json.load(json_file)\n",
        "class_list = []\n",
        "for category in data['categories']:\n",
        "  class_list.append(category['name'])\n"
      ],
      "execution_count": null,
      "outputs": []
    },
    {
      "cell_type": "code",
      "metadata": {
        "id": "-pkSLv3RVXx5",
        "outputId": "9ea42dee-f16b-4752-8403-a290c0b0c342",
        "colab": {
          "base_uri": "https://localhost:8080/",
          "height": 1000
        }
      },
      "source": [
        "!ls test"
      ],
      "execution_count": null,
      "outputs": [
        {
          "output_type": "stream",
          "text": [
            "BloodImage_00038_jpg.rf.63da20f3f5538d0d2be8c4633c7034a1.jpg\n",
            "BloodImage_00038_jpg.rf.63da20f3f5538d0d2be8c4633c7034a1.txt\n",
            "BloodImage_00044_jpg.rf.b0e2369642c5a7fa434ed8defa79e2ba.jpg\n",
            "BloodImage_00044_jpg.rf.b0e2369642c5a7fa434ed8defa79e2ba.txt\n",
            "BloodImage_00062_jpg.rf.e965ee152eea462d82706a2709abfe00.jpg\n",
            "BloodImage_00062_jpg.rf.e965ee152eea462d82706a2709abfe00.txt\n",
            "BloodImage_00090_jpg.rf.4fd1da847d2857b6092003c41255ea4c.jpg\n",
            "BloodImage_00090_jpg.rf.4fd1da847d2857b6092003c41255ea4c.txt\n",
            "BloodImage_00099_jpg.rf.5b178d758af2a97d3df8e5f87b1f344a.jpg\n",
            "BloodImage_00099_jpg.rf.5b178d758af2a97d3df8e5f87b1f344a.txt\n",
            "BloodImage_00112_jpg.rf.f8d86689750221da637a054843c72822.jpg\n",
            "BloodImage_00112_jpg.rf.f8d86689750221da637a054843c72822.txt\n",
            "BloodImage_00113_jpg.rf.a6d6a75c0ebfc703ecff95e2938be34d.jpg\n",
            "BloodImage_00113_jpg.rf.a6d6a75c0ebfc703ecff95e2938be34d.txt\n",
            "BloodImage_00120_jpg.rf.6742a4da047e1226a181d2de2978ce6d.jpg\n",
            "BloodImage_00120_jpg.rf.6742a4da047e1226a181d2de2978ce6d.txt\n",
            "BloodImage_00133_jpg.rf.06c3705fcfe2fcaee19e1a076e511508.jpg\n",
            "BloodImage_00133_jpg.rf.06c3705fcfe2fcaee19e1a076e511508.txt\n",
            "BloodImage_00134_jpg.rf.ee0308b1f3e1ffbb048cb3b1f80e8e36.jpg\n",
            "BloodImage_00134_jpg.rf.ee0308b1f3e1ffbb048cb3b1f80e8e36.txt\n",
            "BloodImage_00154_jpg.rf.7c682b32a64ca0520b6fc725f0d667c7.jpg\n",
            "BloodImage_00154_jpg.rf.7c682b32a64ca0520b6fc725f0d667c7.txt\n",
            "BloodImage_00160_jpg.rf.500f16e32681898ca1ce052ea0402c08.jpg\n",
            "BloodImage_00160_jpg.rf.500f16e32681898ca1ce052ea0402c08.txt\n",
            "BloodImage_00190_jpg.rf.03484116dcad7715c77d30654056fc54.jpg\n",
            "BloodImage_00190_jpg.rf.03484116dcad7715c77d30654056fc54.txt\n",
            "BloodImage_00191_jpg.rf.d4b5ad6525c6c0bc4eaea1f24901f396.jpg\n",
            "BloodImage_00191_jpg.rf.d4b5ad6525c6c0bc4eaea1f24901f396.txt\n",
            "BloodImage_00204_jpg.rf.6c3c9e37ab9122b026444cc4e685aef1.jpg\n",
            "BloodImage_00204_jpg.rf.6c3c9e37ab9122b026444cc4e685aef1.txt\n",
            "BloodImage_00227_jpg.rf.1572183909350ffe748751e967b7c8e5.jpg\n",
            "BloodImage_00227_jpg.rf.1572183909350ffe748751e967b7c8e5.txt\n",
            "BloodImage_00235_jpg.rf.b01cbde1f504d448759188feadad4838.jpg\n",
            "BloodImage_00235_jpg.rf.b01cbde1f504d448759188feadad4838.txt\n",
            "BloodImage_00241_jpg.rf.d0edd8c528bec298a9552ed8ad5714c7.jpg\n",
            "BloodImage_00241_jpg.rf.d0edd8c528bec298a9552ed8ad5714c7.txt\n",
            "BloodImage_00254_jpg.rf.6e046ca48ec2e57c2e178aa3f08ec8ee.jpg\n",
            "BloodImage_00254_jpg.rf.6e046ca48ec2e57c2e178aa3f08ec8ee.txt\n",
            "BloodImage_00265_jpg.rf.4b7cc25caca963b5e0325c6998917cd1.jpg\n",
            "BloodImage_00265_jpg.rf.4b7cc25caca963b5e0325c6998917cd1.txt\n",
            "BloodImage_00266_jpg.rf.6d62684a33e2f5bc048803aba3177f58.jpg\n",
            "BloodImage_00266_jpg.rf.6d62684a33e2f5bc048803aba3177f58.txt\n",
            "BloodImage_00275_jpg.rf.9108b9a016fadd9c367b05dfb0c40c2c.jpg\n",
            "BloodImage_00275_jpg.rf.9108b9a016fadd9c367b05dfb0c40c2c.txt\n",
            "BloodImage_00278_jpg.rf.9ce9e9760ff20b56b115c86879e02a67.jpg\n",
            "BloodImage_00278_jpg.rf.9ce9e9760ff20b56b115c86879e02a67.txt\n",
            "BloodImage_00284_jpg.rf.d33fcb37af7c55a50f275711763ddf7a.jpg\n",
            "BloodImage_00284_jpg.rf.d33fcb37af7c55a50f275711763ddf7a.txt\n",
            "BloodImage_00289_jpg.rf.58c541d9273174738d3d74e599428169.jpg\n",
            "BloodImage_00289_jpg.rf.58c541d9273174738d3d74e599428169.txt\n",
            "BloodImage_00301_jpg.rf.9c427e66bcc1b088df9a5e71c0abefba.jpg\n",
            "BloodImage_00301_jpg.rf.9c427e66bcc1b088df9a5e71c0abefba.txt\n",
            "BloodImage_00302_jpg.rf.ae0f61c17483b2e0e7f9b1396fc5108c.jpg\n",
            "BloodImage_00302_jpg.rf.ae0f61c17483b2e0e7f9b1396fc5108c.txt\n",
            "BloodImage_00325_jpg.rf.55e62842be833601c86a1bd449ee8fe6.jpg\n",
            "BloodImage_00325_jpg.rf.55e62842be833601c86a1bd449ee8fe6.txt\n",
            "BloodImage_00334_jpg.rf.3b8a84d57940aeb45e5c2046c8411996.jpg\n",
            "BloodImage_00334_jpg.rf.3b8a84d57940aeb45e5c2046c8411996.txt\n",
            "BloodImage_00336_jpg.rf.5ae87ede3994ca14504136035e256e38.jpg\n",
            "BloodImage_00336_jpg.rf.5ae87ede3994ca14504136035e256e38.txt\n",
            "BloodImage_00337_jpg.rf.7959cb18929c970939cda4a9544547c8.jpg\n",
            "BloodImage_00337_jpg.rf.7959cb18929c970939cda4a9544547c8.txt\n",
            "BloodImage_00350_jpg.rf.1a19e9f9f197fbeab278718f7c6cea9b.jpg\n",
            "BloodImage_00350_jpg.rf.1a19e9f9f197fbeab278718f7c6cea9b.txt\n",
            "BloodImage_00359_jpg.rf.e4b6af6691f2d8cc8345f42bcc1678fa.jpg\n",
            "BloodImage_00359_jpg.rf.e4b6af6691f2d8cc8345f42bcc1678fa.txt\n",
            "BloodImage_00369_jpg.rf.99ae139e5530a25980b7acdd56a4317c.jpg\n",
            "BloodImage_00369_jpg.rf.99ae139e5530a25980b7acdd56a4317c.txt\n",
            "BloodImage_00385_jpg.rf.cf0e48c08597f372423a60918074f574.jpg\n",
            "BloodImage_00385_jpg.rf.cf0e48c08597f372423a60918074f574.txt\n",
            "BloodImage_00386_jpg.rf.1de8e2e0e94f942d7a1523852d7fb146.jpg\n",
            "BloodImage_00386_jpg.rf.1de8e2e0e94f942d7a1523852d7fb146.txt\n",
            "_darknet.labels\n"
          ],
          "name": "stdout"
        }
      ]
    },
    {
      "cell_type": "code",
      "metadata": {
        "id": "qvaxbpmgIzTg",
        "outputId": "3408475f-8c0c-4aa3-e519-f7c5be855db5",
        "colab": {
          "base_uri": "https://localhost:8080/",
          "height": 34
        }
      },
      "source": [
        "#44 ms \n",
        "img_path = \"ed_data/test/BloodImage_00369_jpg.rf.99ae139e5530a25980b7acdd56a4317c.jpg\";\n",
        "duration, scores, labels, boxes = gtf.Predict(img_path, class_list, vis_threshold=0.2);"
      ],
      "execution_count": null,
      "outputs": [
        {
          "output_type": "stream",
          "text": [
            "Done. (0.069s)\n"
          ],
          "name": "stdout"
        }
      ]
    },
    {
      "cell_type": "code",
      "metadata": {
        "id": "mcG6fCiBI10x",
        "outputId": "9eb82475-8266-42d3-f228-e291407b5fa9",
        "colab": {
          "base_uri": "https://localhost:8080/",
          "height": 433
        }
      },
      "source": [
        "#looks pretty good! \n",
        "from IPython.display import Image\n",
        "Image(filename='output.jpg') "
      ],
      "execution_count": null,
      "outputs": [
        {
          "output_type": "execute_result",
          "data": {
            "image/jpeg": "[encoded data removed]",
            "text/plain": [
              "<IPython.core.display.Image object>"
            ]
          },
          "metadata": {
            "tags": []
          },
          "execution_count": 22
        }
      ]
    },
    {
      "cell_type": "code",
      "metadata": {
        "id": "EJ8-tXT5KMJF",
        "outputId": "0d8602bd-64ee-4869-c082-ac4909d72912",
        "colab": {
          "base_uri": "https://localhost:8080/",
          "height": 34
        }
      },
      "source": [
        "%cd yolov3/"
      ],
      "execution_count": null,
      "outputs": [
        {
          "output_type": "stream",
          "text": [
            "/content/yolov3\n"
          ],
          "name": "stdout"
        }
      ]
    },
    {
      "cell_type": "code",
      "metadata": {
        "id": "-Yo7aAkhJwMm",
        "outputId": "f9eb3936-57be-4790-d157-971cc4197d35",
        "colab": {
          "base_uri": "https://localhost:8080/",
          "height": 156
        }
      },
      "source": [
        "#now inference with YoloV3\n",
        "#inference time is defined within detect.py \n",
        "#49 ms \n",
        "!python3 detect.py --weights weights/last.pt --source=../test/BloodImage_00369_jpg.rf.99ae139e5530a25980b7acdd56a4317c.jpg --names=../train/roboflow_data.names"
      ],
      "execution_count": null,
      "outputs": [
        {
          "output_type": "stream",
          "text": [
            "Namespace(agnostic_nms=False, cfg='cfg/yolov3-spp.cfg', classes=None, conf_thres=0.3, device='', fourcc='mp4v', half=False, img_size=416, iou_thres=0.6, names='../train/roboflow_data.names', output='output', save_txt=False, source='../test/BloodImage_00369_jpg.rf.99ae139e5530a25980b7acdd56a4317c.jpg', view_img=False, weights='weights/last.pt')\n",
            "Using CUDA device0 _CudaDeviceProperties(name='Tesla P100-PCIE-16GB', total_memory=16280MB)\n",
            "\n",
            "Model Summary: 225 layers, 6.29987e+07 parameters, 6.29987e+07 gradients\n",
            "image 1/1 ../test/BloodImage_00369_jpg.rf.99ae139e5530a25980b7acdd56a4317c.jpg: 416x416 3 Plateletss, 23 RBCs, 1 WBCs, Done. (0.033s)\n",
            "Results saved to /content/yolov3/output\n",
            "Done. (0.068s)\n"
          ],
          "name": "stdout"
        }
      ]
    },
    {
      "cell_type": "code",
      "metadata": {
        "id": "1UorI0XEZHaj",
        "outputId": "b5ed52b9-ae26-467f-b1e6-62c674f17692",
        "colab": {
          "base_uri": "https://localhost:8080/",
          "height": 432
        }
      },
      "source": [
        "# import libraries for display\n",
        "%matplotlib inline\n",
        "import matplotlib.pyplot as plt\n",
        "import numpy as np\n",
        "from IPython.display import display, Image\n",
        "from glob import glob\n",
        "import random\n",
        "import PIL\n",
        "# plot just one random image prediction\n",
        "filename = random.choice(os.listdir('./output'))\n",
        "print(filename)\n",
        "Image('./output/' + filename)\n",
        "\n",
        "# grab all images from our output directory\n",
        "images = [ PIL.Image.open(f) for f in glob('./output/*') ]\n",
        "# convert images to numPy\n",
        "def img2array(im):\n",
        "    if im.mode != 'RGB':\n",
        "        im = im.convert(mode='RGB')\n",
        "    return np.fromstring(im.tobytes(), dtype='uint8').reshape((im.size[1], im.size[0], 3))\n",
        "\n",
        "# create array of numPy images\n",
        "np_images = [ img2array(im) for im in images ]\n",
        "\n",
        "# plot ALL results in test directory (NOTE: adjust figsize as you please)\n",
        "for img in np_images:\n",
        "    plt.figure(figsize=(8, 6))\n",
        "    plt.imshow(img)\n",
        "\n"
      ],
      "execution_count": null,
      "outputs": [
        {
          "output_type": "stream",
          "text": [
            "BloodImage_00369_jpg.rf.99ae139e5530a25980b7acdd56a4317c.jpg\n"
          ],
          "name": "stdout"
        },
        {
          "output_type": "stream",
          "text": [
            "/usr/local/lib/python3.6/dist-packages/ipykernel_launcher.py:19: DeprecationWarning: The binary mode of fromstring is deprecated, as it behaves surprisingly on unicode inputs. Use frombuffer instead\n"
          ],
          "name": "stderr"
        },
        {
          "output_type": "display_data",
          "data": {
            "image/png": "[encoded data removed]",
            "text/plain": [
              "<Figure size 576x432 with 1 Axes>"
            ]
          },
          "metadata": {
            "tags": [],
            "needs_background": "light"
          }
        }
      ]
    },
    {
      "cell_type": "code",
      "metadata": {
        "id": "mW8Rwcqdb5nt",
        "outputId": "6d9c5230-57a5-444f-9731-dd0f22ed81ae",
        "colab": {
          "base_uri": "https://localhost:8080/",
          "height": 1000
        }
      },
      "source": [
        "#measuring inference accross test set\n",
        "\n",
        "for f in os.listdir('../test'):\n",
        "  if f.endswith('.jpg'):\n",
        "    !python3 detect.py --weights weights/last.pt --source=../test/{f} --names=../train/roboflow_data.names\n"
      ],
      "execution_count": null,
      "outputs": [
        {
          "output_type": "stream",
          "text": [
            "Namespace(agnostic_nms=False, cfg='cfg/yolov3-spp.cfg', classes=None, conf_thres=0.3, device='', fourcc='mp4v', half=False, img_size=416, iou_thres=0.6, names='../train/roboflow_data.names', output='output', save_txt=False, source='../test/BloodImage_00266_jpg.rf.6d62684a33e2f5bc048803aba3177f58.jpg', view_img=False, weights='weights/last.pt')\n",
            "Using CUDA device0 _CudaDeviceProperties(name='Tesla P100-PCIE-16GB', total_memory=16280MB)\n",
            "\n",
            "Model Summary: 225 layers, 6.29987e+07 parameters, 6.29987e+07 gradients\n",
            "image 1/1 ../test/BloodImage_00266_jpg.rf.6d62684a33e2f5bc048803aba3177f58.jpg: 416x416 1 Plateletss, 17 RBCs, 1 WBCs, Done. (0.028s)\n",
            "Results saved to /content/yolov3/output\n",
            "Done. (0.048s)\n",
            "Namespace(agnostic_nms=False, cfg='cfg/yolov3-spp.cfg', classes=None, conf_thres=0.3, device='', fourcc='mp4v', half=False, img_size=416, iou_thres=0.6, names='../train/roboflow_data.names', output='output', save_txt=False, source='../test/BloodImage_00120_jpg.rf.6742a4da047e1226a181d2de2978ce6d.jpg', view_img=False, weights='weights/last.pt')\n",
            "Using CUDA device0 _CudaDeviceProperties(name='Tesla P100-PCIE-16GB', total_memory=16280MB)\n",
            "\n",
            "Model Summary: 225 layers, 6.29987e+07 parameters, 6.29987e+07 gradients\n",
            "image 1/1 ../test/BloodImage_00120_jpg.rf.6742a4da047e1226a181d2de2978ce6d.jpg: 416x416 11 RBCs, 1 WBCs, Done. (0.027s)\n",
            "Results saved to /content/yolov3/output\n",
            "Done. (0.045s)\n",
            "Namespace(agnostic_nms=False, cfg='cfg/yolov3-spp.cfg', classes=None, conf_thres=0.3, device='', fourcc='mp4v', half=False, img_size=416, iou_thres=0.6, names='../train/roboflow_data.names', output='output', save_txt=False, source='../test/BloodImage_00204_jpg.rf.6c3c9e37ab9122b026444cc4e685aef1.jpg', view_img=False, weights='weights/last.pt')\n",
            "Using CUDA device0 _CudaDeviceProperties(name='Tesla P100-PCIE-16GB', total_memory=16280MB)\n",
            "\n",
            "Model Summary: 225 layers, 6.29987e+07 parameters, 6.29987e+07 gradients\n",
            "image 1/1 ../test/BloodImage_00204_jpg.rf.6c3c9e37ab9122b026444cc4e685aef1.jpg: 416x416 2 Plateletss, 17 RBCs, 1 WBCs, Done. (0.026s)\n",
            "Results saved to /content/yolov3/output\n",
            "Done. (0.045s)\n",
            "Namespace(agnostic_nms=False, cfg='cfg/yolov3-spp.cfg', classes=None, conf_thres=0.3, device='', fourcc='mp4v', half=False, img_size=416, iou_thres=0.6, names='../train/roboflow_data.names', output='output', save_txt=False, source='../test/BloodImage_00359_jpg.rf.e4b6af6691f2d8cc8345f42bcc1678fa.jpg', view_img=False, weights='weights/last.pt')\n",
            "Using CUDA device0 _CudaDeviceProperties(name='Tesla P100-PCIE-16GB', total_memory=16280MB)\n",
            "\n",
            "Model Summary: 225 layers, 6.29987e+07 parameters, 6.29987e+07 gradients\n",
            "image 1/1 ../test/BloodImage_00359_jpg.rf.e4b6af6691f2d8cc8345f42bcc1678fa.jpg: 416x416 1 Plateletss, 20 RBCs, 1 WBCs, Done. (0.031s)\n",
            "Results saved to /content/yolov3/output\n",
            "Done. (0.068s)\n",
            "Namespace(agnostic_nms=False, cfg='cfg/yolov3-spp.cfg', classes=None, conf_thres=0.3, device='', fourcc='mp4v', half=False, img_size=416, iou_thres=0.6, names='../train/roboflow_data.names', output='output', save_txt=False, source='../test/BloodImage_00241_jpg.rf.d0edd8c528bec298a9552ed8ad5714c7.jpg', view_img=False, weights='weights/last.pt')\n",
            "Using CUDA device0 _CudaDeviceProperties(name='Tesla P100-PCIE-16GB', total_memory=16280MB)\n",
            "\n",
            "Model Summary: 225 layers, 6.29987e+07 parameters, 6.29987e+07 gradients\n",
            "image 1/1 ../test/BloodImage_00241_jpg.rf.d0edd8c528bec298a9552ed8ad5714c7.jpg: 416x416 17 RBCs, 1 WBCs, Done. (0.026s)\n",
            "Results saved to /content/yolov3/output\n",
            "Done. (0.044s)\n",
            "Namespace(agnostic_nms=False, cfg='cfg/yolov3-spp.cfg', classes=None, conf_thres=0.3, device='', fourcc='mp4v', half=False, img_size=416, iou_thres=0.6, names='../train/roboflow_data.names', output='output', save_txt=False, source='../test/BloodImage_00386_jpg.rf.1de8e2e0e94f942d7a1523852d7fb146.jpg', view_img=False, weights='weights/last.pt')\n",
            "Using CUDA device0 _CudaDeviceProperties(name='Tesla P100-PCIE-16GB', total_memory=16280MB)\n",
            "\n",
            "Model Summary: 225 layers, 6.29987e+07 parameters, 6.29987e+07 gradients\n",
            "image 1/1 ../test/BloodImage_00386_jpg.rf.1de8e2e0e94f942d7a1523852d7fb146.jpg: 416x416 1 Plateletss, 17 RBCs, 1 WBCs, Done. (0.027s)\n",
            "Results saved to /content/yolov3/output\n",
            "Done. (0.046s)\n",
            "Namespace(agnostic_nms=False, cfg='cfg/yolov3-spp.cfg', classes=None, conf_thres=0.3, device='', fourcc='mp4v', half=False, img_size=416, iou_thres=0.6, names='../train/roboflow_data.names', output='output', save_txt=False, source='../test/BloodImage_00350_jpg.rf.1a19e9f9f197fbeab278718f7c6cea9b.jpg', view_img=False, weights='weights/last.pt')\n",
            "Using CUDA device0 _CudaDeviceProperties(name='Tesla P100-PCIE-16GB', total_memory=16280MB)\n",
            "\n",
            "Model Summary: 225 layers, 6.29987e+07 parameters, 6.29987e+07 gradients\n",
            "image 1/1 ../test/BloodImage_00350_jpg.rf.1a19e9f9f197fbeab278718f7c6cea9b.jpg: 416x416 9 RBCs, 1 WBCs, Done. (0.028s)\n",
            "Results saved to /content/yolov3/output\n",
            "Done. (0.046s)\n",
            "Namespace(agnostic_nms=False, cfg='cfg/yolov3-spp.cfg', classes=None, conf_thres=0.3, device='', fourcc='mp4v', half=False, img_size=416, iou_thres=0.6, names='../train/roboflow_data.names', output='output', save_txt=False, source='../test/BloodImage_00154_jpg.rf.7c682b32a64ca0520b6fc725f0d667c7.jpg', view_img=False, weights='weights/last.pt')\n",
            "Using CUDA device0 _CudaDeviceProperties(name='Tesla P100-PCIE-16GB', total_memory=16280MB)\n",
            "\n",
            "Model Summary: 225 layers, 6.29987e+07 parameters, 6.29987e+07 gradients\n",
            "image 1/1 ../test/BloodImage_00154_jpg.rf.7c682b32a64ca0520b6fc725f0d667c7.jpg: 416x416 1 Plateletss, 16 RBCs, 1 WBCs, Done. (0.027s)\n",
            "Results saved to /content/yolov3/output\n",
            "Done. (0.045s)\n",
            "Namespace(agnostic_nms=False, cfg='cfg/yolov3-spp.cfg', classes=None, conf_thres=0.3, device='', fourcc='mp4v', half=False, img_size=416, iou_thres=0.6, names='../train/roboflow_data.names', output='output', save_txt=False, source='../test/BloodImage_00160_jpg.rf.500f16e32681898ca1ce052ea0402c08.jpg', view_img=False, weights='weights/last.pt')\n",
            "Using CUDA device0 _CudaDeviceProperties(name='Tesla P100-PCIE-16GB', total_memory=16280MB)\n",
            "\n",
            "Model Summary: 225 layers, 6.29987e+07 parameters, 6.29987e+07 gradients\n",
            "image 1/1 ../test/BloodImage_00160_jpg.rf.500f16e32681898ca1ce052ea0402c08.jpg: 416x416 1 Plateletss, 15 RBCs, 1 WBCs, Done. (0.031s)\n",
            "Results saved to /content/yolov3/output\n",
            "Done. (0.049s)\n",
            "Namespace(agnostic_nms=False, cfg='cfg/yolov3-spp.cfg', classes=None, conf_thres=0.3, device='', fourcc='mp4v', half=False, img_size=416, iou_thres=0.6, names='../train/roboflow_data.names', output='output', save_txt=False, source='../test/BloodImage_00038_jpg.rf.63da20f3f5538d0d2be8c4633c7034a1.jpg', view_img=False, weights='weights/last.pt')\n",
            "Using CUDA device0 _CudaDeviceProperties(name='Tesla P100-PCIE-16GB', total_memory=16280MB)\n",
            "\n",
            "Model Summary: 225 layers, 6.29987e+07 parameters, 6.29987e+07 gradients\n",
            "image 1/1 ../test/BloodImage_00038_jpg.rf.63da20f3f5538d0d2be8c4633c7034a1.jpg: 416x416 1 Plateletss, 21 RBCs, 1 WBCs, Done. (0.026s)\n",
            "Results saved to /content/yolov3/output\n",
            "Done. (0.045s)\n",
            "Namespace(agnostic_nms=False, cfg='cfg/yolov3-spp.cfg', classes=None, conf_thres=0.3, device='', fourcc='mp4v', half=False, img_size=416, iou_thres=0.6, names='../train/roboflow_data.names', output='output', save_txt=False, source='../test/BloodImage_00227_jpg.rf.1572183909350ffe748751e967b7c8e5.jpg', view_img=False, weights='weights/last.pt')\n",
            "Using CUDA device0 _CudaDeviceProperties(name='Tesla P100-PCIE-16GB', total_memory=16280MB)\n",
            "\n",
            "Model Summary: 225 layers, 6.29987e+07 parameters, 6.29987e+07 gradients\n",
            "image 1/1 ../test/BloodImage_00227_jpg.rf.1572183909350ffe748751e967b7c8e5.jpg: 416x416 16 RBCs, 1 WBCs, Done. (0.027s)\n",
            "Results saved to /content/yolov3/output\n",
            "Done. (0.045s)\n",
            "Namespace(agnostic_nms=False, cfg='cfg/yolov3-spp.cfg', classes=None, conf_thres=0.3, device='', fourcc='mp4v', half=False, img_size=416, iou_thres=0.6, names='../train/roboflow_data.names', output='output', save_txt=False, source='../test/BloodImage_00278_jpg.rf.9ce9e9760ff20b56b115c86879e02a67.jpg', view_img=False, weights='weights/last.pt')\n",
            "Using CUDA device0 _CudaDeviceProperties(name='Tesla P100-PCIE-16GB', total_memory=16280MB)\n",
            "\n",
            "Model Summary: 225 layers, 6.29987e+07 parameters, 6.29987e+07 gradients\n",
            "image 1/1 ../test/BloodImage_00278_jpg.rf.9ce9e9760ff20b56b115c86879e02a67.jpg: 416x416 2 Plateletss, 18 RBCs, 1 WBCs, Done. (0.027s)\n",
            "Results saved to /content/yolov3/output\n",
            "Done. (0.046s)\n",
            "Namespace(agnostic_nms=False, cfg='cfg/yolov3-spp.cfg', classes=None, conf_thres=0.3, device='', fourcc='mp4v', half=False, img_size=416, iou_thres=0.6, names='../train/roboflow_data.names', output='output', save_txt=False, source='../test/BloodImage_00284_jpg.rf.d33fcb37af7c55a50f275711763ddf7a.jpg', view_img=False, weights='weights/last.pt')\n",
            "Using CUDA device0 _CudaDeviceProperties(name='Tesla P100-PCIE-16GB', total_memory=16280MB)\n",
            "\n",
            "Model Summary: 225 layers, 6.29987e+07 parameters, 6.29987e+07 gradients\n",
            "image 1/1 ../test/BloodImage_00284_jpg.rf.d33fcb37af7c55a50f275711763ddf7a.jpg: 416x416 16 RBCs, 1 WBCs, Done. (0.028s)\n",
            "Results saved to /content/yolov3/output\n",
            "Done. (0.044s)\n",
            "Namespace(agnostic_nms=False, cfg='cfg/yolov3-spp.cfg', classes=None, conf_thres=0.3, device='', fourcc='mp4v', half=False, img_size=416, iou_thres=0.6, names='../train/roboflow_data.names', output='output', save_txt=False, source='../test/BloodImage_00369_jpg.rf.99ae139e5530a25980b7acdd56a4317c.jpg', view_img=False, weights='weights/last.pt')\n",
            "Using CUDA device0 _CudaDeviceProperties(name='Tesla P100-PCIE-16GB', total_memory=16280MB)\n",
            "\n",
            "Model Summary: 225 layers, 6.29987e+07 parameters, 6.29987e+07 gradients\n",
            "image 1/1 ../test/BloodImage_00369_jpg.rf.99ae139e5530a25980b7acdd56a4317c.jpg: 416x416 3 Plateletss, 23 RBCs, 1 WBCs, Done. (0.026s)\n",
            "Results saved to /content/yolov3/output\n",
            "Done. (0.043s)\n",
            "Namespace(agnostic_nms=False, cfg='cfg/yolov3-spp.cfg', classes=None, conf_thres=0.3, device='', fourcc='mp4v', half=False, img_size=416, iou_thres=0.6, names='../train/roboflow_data.names', output='output', save_txt=False, source='../test/BloodImage_00289_jpg.rf.58c541d9273174738d3d74e599428169.jpg', view_img=False, weights='weights/last.pt')\n",
            "Using CUDA device0 _CudaDeviceProperties(name='Tesla P100-PCIE-16GB', total_memory=16280MB)\n",
            "\n",
            "Model Summary: 225 layers, 6.29987e+07 parameters, 6.29987e+07 gradients\n",
            "image 1/1 ../test/BloodImage_00289_jpg.rf.58c541d9273174738d3d74e599428169.jpg: 416x416 1 Plateletss, 15 RBCs, 1 WBCs, Done. (0.032s)\n",
            "Results saved to /content/yolov3/output\n",
            "Done. (0.051s)\n",
            "Namespace(agnostic_nms=False, cfg='cfg/yolov3-spp.cfg', classes=None, conf_thres=0.3, device='', fourcc='mp4v', half=False, img_size=416, iou_thres=0.6, names='../train/roboflow_data.names', output='output', save_txt=False, source='../test/BloodImage_00113_jpg.rf.a6d6a75c0ebfc703ecff95e2938be34d.jpg', view_img=False, weights='weights/last.pt')\n",
            "Using CUDA device0 _CudaDeviceProperties(name='Tesla P100-PCIE-16GB', total_memory=16280MB)\n",
            "\n",
            "Model Summary: 225 layers, 6.29987e+07 parameters, 6.29987e+07 gradients\n",
            "image 1/1 ../test/BloodImage_00113_jpg.rf.a6d6a75c0ebfc703ecff95e2938be34d.jpg: 416x416 1 Plateletss, 17 RBCs, 1 WBCs, Done. (0.033s)\n",
            "Results saved to /content/yolov3/output\n",
            "Done. (0.056s)\n",
            "Namespace(agnostic_nms=False, cfg='cfg/yolov3-spp.cfg', classes=None, conf_thres=0.3, device='', fourcc='mp4v', half=False, img_size=416, iou_thres=0.6, names='../train/roboflow_data.names', output='output', save_txt=False, source='../test/BloodImage_00062_jpg.rf.e965ee152eea462d82706a2709abfe00.jpg', view_img=False, weights='weights/last.pt')\n",
            "Using CUDA device0 _CudaDeviceProperties(name='Tesla P100-PCIE-16GB', total_memory=16280MB)\n",
            "\n",
            "Model Summary: 225 layers, 6.29987e+07 parameters, 6.29987e+07 gradients\n",
            "image 1/1 ../test/BloodImage_00062_jpg.rf.e965ee152eea462d82706a2709abfe00.jpg: 416x416 3 Plateletss, 18 RBCs, 1 WBCs, Done. (0.026s)\n",
            "Results saved to /content/yolov3/output\n",
            "Done. (0.043s)\n",
            "Namespace(agnostic_nms=False, cfg='cfg/yolov3-spp.cfg', classes=None, conf_thres=0.3, device='', fourcc='mp4v', half=False, img_size=416, iou_thres=0.6, names='../train/roboflow_data.names', output='output', save_txt=False, source='../test/BloodImage_00275_jpg.rf.9108b9a016fadd9c367b05dfb0c40c2c.jpg', view_img=False, weights='weights/last.pt')\n",
            "Using CUDA device0 _CudaDeviceProperties(name='Tesla P100-PCIE-16GB', total_memory=16280MB)\n",
            "\n",
            "Model Summary: 225 layers, 6.29987e+07 parameters, 6.29987e+07 gradients\n",
            "image 1/1 ../test/BloodImage_00275_jpg.rf.9108b9a016fadd9c367b05dfb0c40c2c.jpg: 416x416 22 RBCs, 1 WBCs, Done. (0.027s)\n",
            "Results saved to /content/yolov3/output\n",
            "Done. (0.056s)\n",
            "Namespace(agnostic_nms=False, cfg='cfg/yolov3-spp.cfg', classes=None, conf_thres=0.3, device='', fourcc='mp4v', half=False, img_size=416, iou_thres=0.6, names='../train/roboflow_data.names', output='output', save_txt=False, source='../test/BloodImage_00044_jpg.rf.b0e2369642c5a7fa434ed8defa79e2ba.jpg', view_img=False, weights='weights/last.pt')\n",
            "Using CUDA device0 _CudaDeviceProperties(name='Tesla P100-PCIE-16GB', total_memory=16280MB)\n",
            "\n",
            "Model Summary: 225 layers, 6.29987e+07 parameters, 6.29987e+07 gradients\n",
            "image 1/1 ../test/BloodImage_00044_jpg.rf.b0e2369642c5a7fa434ed8defa79e2ba.jpg: 416x416 3 Plateletss, 17 RBCs, 2 WBCs, Done. (0.034s)\n",
            "Results saved to /content/yolov3/output\n",
            "Done. (0.058s)\n",
            "Namespace(agnostic_nms=False, cfg='cfg/yolov3-spp.cfg', classes=None, conf_thres=0.3, device='', fourcc='mp4v', half=False, img_size=416, iou_thres=0.6, names='../train/roboflow_data.names', output='output', save_txt=False, source='../test/BloodImage_00099_jpg.rf.5b178d758af2a97d3df8e5f87b1f344a.jpg', view_img=False, weights='weights/last.pt')\n",
            "Using CUDA device0 _CudaDeviceProperties(name='Tesla P100-PCIE-16GB', total_memory=16280MB)\n",
            "\n",
            "Model Summary: 225 layers, 6.29987e+07 parameters, 6.29987e+07 gradients\n",
            "image 1/1 ../test/BloodImage_00099_jpg.rf.5b178d758af2a97d3df8e5f87b1f344a.jpg: 416x416 2 Plateletss, 20 RBCs, 1 WBCs, Done. (0.026s)\n",
            "Results saved to /content/yolov3/output\n",
            "Done. (0.044s)\n",
            "Namespace(agnostic_nms=False, cfg='cfg/yolov3-spp.cfg', classes=None, conf_thres=0.3, device='', fourcc='mp4v', half=False, img_size=416, iou_thres=0.6, names='../train/roboflow_data.names', output='output', save_txt=False, source='../test/BloodImage_00254_jpg.rf.6e046ca48ec2e57c2e178aa3f08ec8ee.jpg', view_img=False, weights='weights/last.pt')\n",
            "Using CUDA device0 _CudaDeviceProperties(name='Tesla P100-PCIE-16GB', total_memory=16280MB)\n",
            "\n",
            "Model Summary: 225 layers, 6.29987e+07 parameters, 6.29987e+07 gradients\n",
            "image 1/1 ../test/BloodImage_00254_jpg.rf.6e046ca48ec2e57c2e178aa3f08ec8ee.jpg: 416x416 2 Plateletss, 17 RBCs, 1 WBCs, Done. (0.027s)\n",
            "Results saved to /content/yolov3/output\n",
            "Done. (0.048s)\n",
            "Namespace(agnostic_nms=False, cfg='cfg/yolov3-spp.cfg', classes=None, conf_thres=0.3, device='', fourcc='mp4v', half=False, img_size=416, iou_thres=0.6, names='../train/roboflow_data.names', output='output', save_txt=False, source='../test/BloodImage_00235_jpg.rf.b01cbde1f504d448759188feadad4838.jpg', view_img=False, weights='weights/last.pt')\n",
            "Using CUDA device0 _CudaDeviceProperties(name='Tesla P100-PCIE-16GB', total_memory=16280MB)\n",
            "\n",
            "Model Summary: 225 layers, 6.29987e+07 parameters, 6.29987e+07 gradients\n",
            "image 1/1 ../test/BloodImage_00235_jpg.rf.b01cbde1f504d448759188feadad4838.jpg: 416x416 16 RBCs, 1 WBCs, Done. (0.027s)\n",
            "Results saved to /content/yolov3/output\n",
            "Done. (0.044s)\n",
            "Namespace(agnostic_nms=False, cfg='cfg/yolov3-spp.cfg', classes=None, conf_thres=0.3, device='', fourcc='mp4v', half=False, img_size=416, iou_thres=0.6, names='../train/roboflow_data.names', output='output', save_txt=False, source='../test/BloodImage_00090_jpg.rf.4fd1da847d2857b6092003c41255ea4c.jpg', view_img=False, weights='weights/last.pt')\n",
            "Using CUDA device0 _CudaDeviceProperties(name='Tesla P100-PCIE-16GB', total_memory=16280MB)\n",
            "\n",
            "Model Summary: 225 layers, 6.29987e+07 parameters, 6.29987e+07 gradients\n",
            "image 1/1 ../test/BloodImage_00090_jpg.rf.4fd1da847d2857b6092003c41255ea4c.jpg: 416x416 3 Plateletss, 17 RBCs, 1 WBCs, Done. (0.027s)\n",
            "Results saved to /content/yolov3/output\n",
            "Done. (0.045s)\n",
            "Namespace(agnostic_nms=False, cfg='cfg/yolov3-spp.cfg', classes=None, conf_thres=0.3, device='', fourcc='mp4v', half=False, img_size=416, iou_thres=0.6, names='../train/roboflow_data.names', output='output', save_txt=False, source='../test/BloodImage_00334_jpg.rf.3b8a84d57940aeb45e5c2046c8411996.jpg', view_img=False, weights='weights/last.pt')\n",
            "Using CUDA device0 _CudaDeviceProperties(name='Tesla P100-PCIE-16GB', total_memory=16280MB)\n",
            "\n",
            "Model Summary: 225 layers, 6.29987e+07 parameters, 6.29987e+07 gradients\n",
            "image 1/1 ../test/BloodImage_00334_jpg.rf.3b8a84d57940aeb45e5c2046c8411996.jpg: 416x416 21 RBCs, 1 WBCs, Done. (0.031s)\n",
            "Results saved to /content/yolov3/output\n",
            "Done. (0.052s)\n",
            "Namespace(agnostic_nms=False, cfg='cfg/yolov3-spp.cfg', classes=None, conf_thres=0.3, device='', fourcc='mp4v', half=False, img_size=416, iou_thres=0.6, names='../train/roboflow_data.names', output='output', save_txt=False, source='../test/BloodImage_00325_jpg.rf.55e62842be833601c86a1bd449ee8fe6.jpg', view_img=False, weights='weights/last.pt')\n",
            "Using CUDA device0 _CudaDeviceProperties(name='Tesla P100-PCIE-16GB', total_memory=16280MB)\n",
            "\n",
            "Model Summary: 225 layers, 6.29987e+07 parameters, 6.29987e+07 gradients\n",
            "image 1/1 ../test/BloodImage_00325_jpg.rf.55e62842be833601c86a1bd449ee8fe6.jpg: 416x416 2 Plateletss, 16 RBCs, 1 WBCs, Done. (0.029s)\n",
            "Results saved to /content/yolov3/output\n",
            "Done. (0.048s)\n",
            "Namespace(agnostic_nms=False, cfg='cfg/yolov3-spp.cfg', classes=None, conf_thres=0.3, device='', fourcc='mp4v', half=False, img_size=416, iou_thres=0.6, names='../train/roboflow_data.names', output='output', save_txt=False, source='../test/BloodImage_00133_jpg.rf.06c3705fcfe2fcaee19e1a076e511508.jpg', view_img=False, weights='weights/last.pt')\n",
            "Using CUDA device0 _CudaDeviceProperties(name='Tesla P100-PCIE-16GB', total_memory=16280MB)\n",
            "\n",
            "Model Summary: 225 layers, 6.29987e+07 parameters, 6.29987e+07 gradients\n",
            "image 1/1 ../test/BloodImage_00133_jpg.rf.06c3705fcfe2fcaee19e1a076e511508.jpg: 416x416 1 Plateletss, 15 RBCs, 1 WBCs, Done. (0.028s)\n",
            "Results saved to /content/yolov3/output\n",
            "Done. (0.048s)\n",
            "Namespace(agnostic_nms=False, cfg='cfg/yolov3-spp.cfg', classes=None, conf_thres=0.3, device='', fourcc='mp4v', half=False, img_size=416, iou_thres=0.6, names='../train/roboflow_data.names', output='output', save_txt=False, source='../test/BloodImage_00190_jpg.rf.03484116dcad7715c77d30654056fc54.jpg', view_img=False, weights='weights/last.pt')\n",
            "Using CUDA device0 _CudaDeviceProperties(name='Tesla P100-PCIE-16GB', total_memory=16280MB)\n",
            "\n",
            "Model Summary: 225 layers, 6.29987e+07 parameters, 6.29987e+07 gradients\n",
            "image 1/1 ../test/BloodImage_00190_jpg.rf.03484116dcad7715c77d30654056fc54.jpg: 416x416 2 Plateletss, 21 RBCs, 1 WBCs, Done. (0.028s)\n",
            "Results saved to /content/yolov3/output\n",
            "Done. (0.048s)\n",
            "Namespace(agnostic_nms=False, cfg='cfg/yolov3-spp.cfg', classes=None, conf_thres=0.3, device='', fourcc='mp4v', half=False, img_size=416, iou_thres=0.6, names='../train/roboflow_data.names', output='output', save_txt=False, source='../test/BloodImage_00336_jpg.rf.5ae87ede3994ca14504136035e256e38.jpg', view_img=False, weights='weights/last.pt')\n",
            "Using CUDA device0 _CudaDeviceProperties(name='Tesla P100-PCIE-16GB', total_memory=16280MB)\n",
            "\n",
            "Model Summary: 225 layers, 6.29987e+07 parameters, 6.29987e+07 gradients\n",
            "image 1/1 ../test/BloodImage_00336_jpg.rf.5ae87ede3994ca14504136035e256e38.jpg: 416x416 24 RBCs, 1 WBCs, Done. (0.027s)\n",
            "Results saved to /content/yolov3/output\n",
            "Done. (0.044s)\n",
            "Namespace(agnostic_nms=False, cfg='cfg/yolov3-spp.cfg', classes=None, conf_thres=0.3, device='', fourcc='mp4v', half=False, img_size=416, iou_thres=0.6, names='../train/roboflow_data.names', output='output', save_txt=False, source='../test/BloodImage_00337_jpg.rf.7959cb18929c970939cda4a9544547c8.jpg', view_img=False, weights='weights/last.pt')\n",
            "Using CUDA device0 _CudaDeviceProperties(name='Tesla P100-PCIE-16GB', total_memory=16280MB)\n",
            "\n",
            "Model Summary: 225 layers, 6.29987e+07 parameters, 6.29987e+07 gradients\n",
            "image 1/1 ../test/BloodImage_00337_jpg.rf.7959cb18929c970939cda4a9544547c8.jpg: 416x416 25 RBCs, 1 WBCs, Done. (0.031s)\n",
            "Results saved to /content/yolov3/output\n",
            "Done. (0.053s)\n",
            "Namespace(agnostic_nms=False, cfg='cfg/yolov3-spp.cfg', classes=None, conf_thres=0.3, device='', fourcc='mp4v', half=False, img_size=416, iou_thres=0.6, names='../train/roboflow_data.names', output='output', save_txt=False, source='../test/BloodImage_00301_jpg.rf.9c427e66bcc1b088df9a5e71c0abefba.jpg', view_img=False, weights='weights/last.pt')\n",
            "Using CUDA device0 _CudaDeviceProperties(name='Tesla P100-PCIE-16GB', total_memory=16280MB)\n",
            "\n",
            "Model Summary: 225 layers, 6.29987e+07 parameters, 6.29987e+07 gradients\n",
            "image 1/1 ../test/BloodImage_00301_jpg.rf.9c427e66bcc1b088df9a5e71c0abefba.jpg: 416x416 1 Plateletss, 22 RBCs, 1 WBCs, Done. (0.025s)\n",
            "Results saved to /content/yolov3/output\n",
            "Done. (0.044s)\n",
            "Namespace(agnostic_nms=False, cfg='cfg/yolov3-spp.cfg', classes=None, conf_thres=0.3, device='', fourcc='mp4v', half=False, img_size=416, iou_thres=0.6, names='../train/roboflow_data.names', output='output', save_txt=False, source='../test/BloodImage_00385_jpg.rf.cf0e48c08597f372423a60918074f574.jpg', view_img=False, weights='weights/last.pt')\n",
            "Using CUDA device0 _CudaDeviceProperties(name='Tesla P100-PCIE-16GB', total_memory=16280MB)\n",
            "\n",
            "Model Summary: 225 layers, 6.29987e+07 parameters, 6.29987e+07 gradients\n",
            "image 1/1 ../test/BloodImage_00385_jpg.rf.cf0e48c08597f372423a60918074f574.jpg: 416x416 3 Plateletss, 18 RBCs, 1 WBCs, Done. (0.027s)\n",
            "Results saved to /content/yolov3/output\n",
            "Done. (0.046s)\n",
            "Namespace(agnostic_nms=False, cfg='cfg/yolov3-spp.cfg', classes=None, conf_thres=0.3, device='', fourcc='mp4v', half=False, img_size=416, iou_thres=0.6, names='../train/roboflow_data.names', output='output', save_txt=False, source='../test/BloodImage_00191_jpg.rf.d4b5ad6525c6c0bc4eaea1f24901f396.jpg', view_img=False, weights='weights/last.pt')\n",
            "Using CUDA device0 _CudaDeviceProperties(name='Tesla P100-PCIE-16GB', total_memory=16280MB)\n",
            "\n",
            "Model Summary: 225 layers, 6.29987e+07 parameters, 6.29987e+07 gradients\n",
            "image 1/1 ../test/BloodImage_00191_jpg.rf.d4b5ad6525c6c0bc4eaea1f24901f396.jpg: 416x416 1 Plateletss, 22 RBCs, 1 WBCs, Done. (0.031s)\n",
            "Results saved to /content/yolov3/output\n",
            "Done. (0.051s)\n",
            "Namespace(agnostic_nms=False, cfg='cfg/yolov3-spp.cfg', classes=None, conf_thres=0.3, device='', fourcc='mp4v', half=False, img_size=416, iou_thres=0.6, names='../train/roboflow_data.names', output='output', save_txt=False, source='../test/BloodImage_00302_jpg.rf.ae0f61c17483b2e0e7f9b1396fc5108c.jpg', view_img=False, weights='weights/last.pt')\n",
            "Using CUDA device0 _CudaDeviceProperties(name='Tesla P100-PCIE-16GB', total_memory=16280MB)\n",
            "\n",
            "Model Summary: 225 layers, 6.29987e+07 parameters, 6.29987e+07 gradients\n",
            "image 1/1 ../test/BloodImage_00302_jpg.rf.ae0f61c17483b2e0e7f9b1396fc5108c.jpg: 416x416 1 Plateletss, 18 RBCs, 1 WBCs, Done. (0.027s)\n",
            "Results saved to /content/yolov3/output\n",
            "Done. (0.052s)\n",
            "Namespace(agnostic_nms=False, cfg='cfg/yolov3-spp.cfg', classes=None, conf_thres=0.3, device='', fourcc='mp4v', half=False, img_size=416, iou_thres=0.6, names='../train/roboflow_data.names', output='output', save_txt=False, source='../test/BloodImage_00112_jpg.rf.f8d86689750221da637a054843c72822.jpg', view_img=False, weights='weights/last.pt')\n",
            "Using CUDA device0 _CudaDeviceProperties(name='Tesla P100-PCIE-16GB', total_memory=16280MB)\n",
            "\n",
            "Model Summary: 225 layers, 6.29987e+07 parameters, 6.29987e+07 gradients\n",
            "image 1/1 ../test/BloodImage_00112_jpg.rf.f8d86689750221da637a054843c72822.jpg: 416x416 1 Plateletss, 21 RBCs, 1 WBCs, Done. (0.031s)\n",
            "Results saved to /content/yolov3/output\n",
            "Done. (0.051s)\n",
            "Namespace(agnostic_nms=False, cfg='cfg/yolov3-spp.cfg', classes=None, conf_thres=0.3, device='', fourcc='mp4v', half=False, img_size=416, iou_thres=0.6, names='../train/roboflow_data.names', output='output', save_txt=False, source='../test/BloodImage_00134_jpg.rf.ee0308b1f3e1ffbb048cb3b1f80e8e36.jpg', view_img=False, weights='weights/last.pt')\n",
            "Using CUDA device0 _CudaDeviceProperties(name='Tesla P100-PCIE-16GB', total_memory=16280MB)\n",
            "\n",
            "Model Summary: 225 layers, 6.29987e+07 parameters, 6.29987e+07 gradients\n",
            "image 1/1 ../test/BloodImage_00134_jpg.rf.ee0308b1f3e1ffbb048cb3b1f80e8e36.jpg: 416x416 2 Plateletss, 9 RBCs, 1 WBCs, Done. (0.027s)\n",
            "Results saved to /content/yolov3/output\n",
            "Done. (0.043s)\n",
            "Namespace(agnostic_nms=False, cfg='cfg/yolov3-spp.cfg', classes=None, conf_thres=0.3, device='', fourcc='mp4v', half=False, img_size=416, iou_thres=0.6, names='../train/roboflow_data.names', output='output', save_txt=False, source='../test/BloodImage_00265_jpg.rf.4b7cc25caca963b5e0325c6998917cd1.jpg', view_img=False, weights='weights/last.pt')\n",
            "Using CUDA device0 _CudaDeviceProperties(name='Tesla P100-PCIE-16GB', total_memory=16280MB)\n",
            "\n",
            "Model Summary: 225 layers, 6.29987e+07 parameters, 6.29987e+07 gradients\n",
            "image 1/1 ../test/BloodImage_00265_jpg.rf.4b7cc25caca963b5e0325c6998917cd1.jpg: 416x416 1 Plateletss, 17 RBCs, 1 WBCs, Done. (0.026s)\n",
            "Results saved to /content/yolov3/output\n",
            "Done. (0.043s)\n"
          ],
          "name": "stdout"
        }
      ]
    },
    {
      "cell_type": "code",
      "metadata": {
        "id": "cEmWENcqcXPm",
        "outputId": "38492b55-184d-4736-fcf5-31f88c3120d5",
        "colab": {
          "base_uri": "https://localhost:8080/",
          "height": 646
        }
      },
      "source": [
        "%cd .. \n",
        "for f in os.listdir('test'):\n",
        "  if f.endswith('.jpg'):\n",
        "    duration, scores, labels, boxes = gtf.Predict('test/'+f, class_list, vis_threshold=0.2);"
      ],
      "execution_count": null,
      "outputs": [
        {
          "output_type": "stream",
          "text": [
            "/content\n",
            "Done. (0.070s)\n",
            "Done. (0.051s)\n",
            "Done. (0.054s)\n",
            "Done. (0.056s)\n",
            "Done. (0.054s)\n",
            "Done. (0.061s)\n",
            "Done. (0.047s)\n",
            "Done. (0.049s)\n",
            "Done. (0.049s)\n",
            "Done. (0.046s)\n",
            "Done. (0.048s)\n",
            "Done. (0.062s)\n",
            "Done. (0.049s)\n",
            "Done. (0.047s)\n",
            "Done. (0.049s)\n",
            "Done. (0.049s)\n",
            "Done. (0.056s)\n",
            "Done. (0.048s)\n",
            "Done. (0.052s)\n",
            "Done. (0.059s)\n",
            "Done. (0.060s)\n",
            "Done. (0.059s)\n",
            "Done. (0.069s)\n",
            "Done. (0.061s)\n",
            "Done. (0.063s)\n",
            "Done. (0.059s)\n",
            "Done. (0.076s)\n",
            "Done. (0.048s)\n",
            "Done. (0.061s)\n",
            "Done. (0.051s)\n",
            "Done. (0.050s)\n",
            "Done. (0.050s)\n",
            "Done. (0.059s)\n",
            "Done. (0.051s)\n",
            "Done. (0.049s)\n",
            "Done. (0.051s)\n"
          ],
          "name": "stdout"
        }
      ]
    },
    {
      "cell_type": "code",
      "metadata": {
        "id": "IYRRjMdJd9AJ"
      },
      "source": [
        "#average inference time YOLOv3 39 ms\n",
        "#average inference time efficientDet 37 ms"
      ],
      "execution_count": null,
      "outputs": []
    },
    {
      "cell_type": "markdown",
      "metadata": {
        "id": "Sikj0gEvYTy2"
      },
      "source": [
        "# Measuring Performance"
      ]
    },
    {
      "cell_type": "code",
      "metadata": {
        "id": "Mu7AFMqrkVuo",
        "outputId": "67b2e6b6-02e7-4996-a34d-6271733d0db5",
        "colab": {
          "base_uri": "https://localhost:8080/",
          "height": 153
        }
      },
      "source": [
        "%cd /content/\n",
        "!git clone https://github.com/Cartucho/mAP"
      ],
      "execution_count": null,
      "outputs": [
        {
          "output_type": "stream",
          "text": [
            "/content\n",
            "Cloning into 'mAP'...\n",
            "remote: Enumerating objects: 22, done.\u001b[K\n",
            "remote: Counting objects: 100% (22/22), done.\u001b[K\n",
            "remote: Compressing objects: 100% (17/17), done.\u001b[K\n",
            "remote: Total 902 (delta 9), reused 15 (delta 4), pack-reused 880\u001b[K\n",
            "Receiving objects: 100% (902/902), 14.72 MiB | 27.76 MiB/s, done.\n",
            "Resolving deltas: 100% (313/313), done.\n"
          ],
          "name": "stdout"
        }
      ]
    },
    {
      "cell_type": "code",
      "metadata": {
        "id": "0x0OmJxkqmlN"
      },
      "source": [
        "%cp test/_darknet.labels mAP/scripts/extra/class_list.txt\n",
        "%cp test/_darknet.labels mAP/input/\n"
      ],
      "execution_count": null,
      "outputs": []
    },
    {
      "cell_type": "code",
      "metadata": {
        "id": "RkHOd2uFroXK"
      },
      "source": [
        "%rm -rf mAP/input/ground-truth/\n",
        "%mkdir mAP/input/ground-truth/"
      ],
      "execution_count": null,
      "outputs": []
    },
    {
      "cell_type": "code",
      "metadata": {
        "id": "NM7A-pXvr8Rh"
      },
      "source": [
        "%mkdir mAP/input/images"
      ],
      "execution_count": null,
      "outputs": []
    },
    {
      "cell_type": "code",
      "metadata": {
        "id": "XGMk-taLoq5J",
        "outputId": "2108e9c0-cede-4ed0-ac9f-9b3d5a26eefc",
        "colab": {
          "base_uri": "https://localhost:8080/",
          "height": 34
        }
      },
      "source": [
        "%mkdir mAP/input/images-optional/"
      ],
      "execution_count": null,
      "outputs": [
        {
          "output_type": "stream",
          "text": [
            "mkdir: cannot create directory ‘mAP/input/images-optional/’: File exists\n"
          ],
          "name": "stdout"
        }
      ]
    },
    {
      "cell_type": "code",
      "metadata": {
        "id": "nXZKuRAGsEqy"
      },
      "source": [
        "%cp test/*txt mAP/input/ground-truth/"
      ],
      "execution_count": null,
      "outputs": []
    },
    {
      "cell_type": "code",
      "metadata": {
        "id": "jcQmcalVojd7"
      },
      "source": [
        "%cp test/*jpg mAP/input/images-optional/"
      ],
      "execution_count": null,
      "outputs": []
    },
    {
      "cell_type": "code",
      "metadata": {
        "id": "9Orm2p7ho95p"
      },
      "source": [
        "%cp test/*jpg mAP/input/images/"
      ],
      "execution_count": null,
      "outputs": []
    },
    {
      "cell_type": "markdown",
      "metadata": {
        "id": "JZ-n6038u-cS"
      },
      "source": []
    },
    {
      "cell_type": "code",
      "metadata": {
        "id": "U_dAjwMSsLV6"
      },
      "source": [
        "#%ls test\n",
        "%cp test/*jpg mAP/input/images-optional/"
      ],
      "execution_count": null,
      "outputs": []
    },
    {
      "cell_type": "code",
      "metadata": {
        "id": "6-ubY4uksWtK",
        "outputId": "e46a8f48-5d5b-40af-e3de-e833ddbcc3ff",
        "colab": {
          "base_uri": "https://localhost:8080/",
          "height": 34
        }
      },
      "source": [
        "%cd mAP/scripts/extra/"
      ],
      "execution_count": null,
      "outputs": [
        {
          "output_type": "stream",
          "text": [
            "/content/mAP/scripts/extra\n"
          ],
          "name": "stdout"
        }
      ]
    },
    {
      "cell_type": "code",
      "metadata": {
        "id": "b2x5P4Q1sgbi",
        "outputId": "3c1d6db1-cfd2-4b51-c755-1015a998f395",
        "colab": {
          "base_uri": "https://localhost:8080/",
          "height": 34
        }
      },
      "source": [
        "!python convert_gt_yolo.py"
      ],
      "execution_count": null,
      "outputs": [
        {
          "output_type": "stream",
          "text": [
            "Conversion completed!\n"
          ],
          "name": "stdout"
        }
      ]
    },
    {
      "cell_type": "code",
      "metadata": {
        "id": "q_kAOfmmsnEK",
        "outputId": "0e20c6a3-1cbf-414e-9256-29f8264b800a",
        "colab": {
          "base_uri": "https://localhost:8080/",
          "height": 34
        }
      },
      "source": [
        "%cd /content/mAP"
      ],
      "execution_count": null,
      "outputs": [
        {
          "output_type": "stream",
          "text": [
            "/content/mAP\n"
          ],
          "name": "stdout"
        }
      ]
    },
    {
      "cell_type": "code",
      "metadata": {
        "id": "GOFfV1K4uJSZ",
        "outputId": "85277178-1a35-457e-890a-840ca24e55cc",
        "colab": {
          "base_uri": "https://localhost:8080/",
          "height": 34
        }
      },
      "source": [
        "%cat input/ground-truth/1c0060ef868bdc326ce5e6389cb6732f_jpg.rf.a07af6147d4a79376c182d2d95c639ec.txt\n"
      ],
      "execution_count": null,
      "outputs": [
        {
          "output_type": "stream",
          "text": [
            "cat: input/ground-truth/1c0060ef868bdc326ce5e6389cb6732f_jpg.rf.a07af6147d4a79376c182d2d95c639ec.txt: No such file or directory\n"
          ],
          "name": "stdout"
        }
      ]
    },
    {
      "cell_type": "code",
      "metadata": {
        "id": "eL27BxmTuaF0",
        "outputId": "3b2434fc-d48d-447a-db4c-9fcaf102d9fb",
        "colab": {
          "base_uri": "https://localhost:8080/",
          "height": 34
        }
      },
      "source": [
        "%cd /content"
      ],
      "execution_count": null,
      "outputs": [
        {
          "output_type": "stream",
          "text": [
            "/content\n"
          ],
          "name": "stdout"
        }
      ]
    },
    {
      "cell_type": "code",
      "metadata": {
        "id": "JGJOjXoDv66Q"
      },
      "source": [
        "%rm -rf mAP/input/detection-results/\n",
        "%mkdir mAP/input/detection-results/"
      ],
      "execution_count": null,
      "outputs": []
    },
    {
      "cell_type": "code",
      "metadata": {
        "id": "NXvKv4OtvXbn",
        "outputId": "da5edb2d-483b-4663-9d9a-dde9374f8b83",
        "colab": {
          "base_uri": "https://localhost:8080/",
          "height": 629
        }
      },
      "source": [
        "for f in os.listdir('test'):\n",
        "  if f.endswith('.jpg'):\n",
        "    duration, scores, labels, boxes = gtf.Predict('test/'+f, class_list, vis_threshold=0.2);\n",
        "    scores = scores.tolist()\n",
        "    boxes = boxes.tolist()\n",
        "    labels = labels.tolist()\n",
        "    with open('mAP/input/detection-results/' + f[:-4] + '.txt', 'w') as out_file:\n",
        "      #write detection result\n",
        "      for i in range(len(scores)):\n",
        "        #print(scores)\n",
        "        line = class_list[labels[i]] + ' ' + str(scores[i]) + ' ' + str(' '.join([str(j) for j in boxes[i]]))\n",
        "        out_file.write(line)\n",
        "        if i < len(scores) - 1:\n",
        "          out_file.write('\\n')\n",
        "\n"
      ],
      "execution_count": null,
      "outputs": [
        {
          "output_type": "stream",
          "text": [
            "Done. (0.064s)\n",
            "Done. (0.049s)\n",
            "Done. (0.051s)\n",
            "Done. (0.059s)\n",
            "Done. (0.048s)\n",
            "Done. (0.048s)\n",
            "Done. (0.050s)\n",
            "Done. (0.048s)\n",
            "Done. (0.047s)\n",
            "Done. (0.048s)\n",
            "Done. (0.046s)\n",
            "Done. (0.047s)\n",
            "Done. (0.055s)\n",
            "Done. (0.049s)\n",
            "Done. (0.051s)\n",
            "Done. (0.060s)\n",
            "Done. (0.049s)\n",
            "Done. (0.050s)\n",
            "Done. (0.052s)\n",
            "Done. (0.048s)\n",
            "Done. (0.049s)\n",
            "Done. (0.048s)\n",
            "Done. (0.065s)\n",
            "Done. (0.065s)\n",
            "Done. (0.047s)\n",
            "Done. (0.049s)\n",
            "Done. (0.050s)\n",
            "Done. (0.048s)\n",
            "Done. (0.050s)\n",
            "Done. (0.062s)\n",
            "Done. (0.051s)\n",
            "Done. (0.051s)\n",
            "Done. (0.059s)\n",
            "Done. (0.057s)\n",
            "Done. (0.050s)\n",
            "Done. (0.065s)\n"
          ],
          "name": "stdout"
        }
      ]
    },
    {
      "cell_type": "code",
      "metadata": {
        "id": "5eLsafjz1RXA",
        "outputId": "4ed84f4d-a209-4318-c274-72acb34255c5",
        "colab": {
          "base_uri": "https://localhost:8080/",
          "height": 34
        }
      },
      "source": [
        "%cd mAP/"
      ],
      "execution_count": null,
      "outputs": [
        {
          "output_type": "stream",
          "text": [
            "/content/mAP\n"
          ],
          "name": "stdout"
        }
      ]
    },
    {
      "cell_type": "code",
      "metadata": {
        "id": "-78frQ4211c8",
        "outputId": "4f8af06c-8b4f-4b6b-9686-caabc846cc5d",
        "colab": {
          "base_uri": "https://localhost:8080/",
          "height": 102
        }
      },
      "source": [
        "#evaluation results for EfficientDet\n",
        "!python main.py -na"
      ],
      "execution_count": null,
      "outputs": [
        {
          "output_type": "stream",
          "text": [
            "78.59% = Platelets AP \n",
            "77.87% = RBC AP \n",
            "96.47% = WBC AP \n",
            "mAP = 84.31%\n",
            "<Figure size 640x480 with 1 Axes>\n"
          ],
          "name": "stdout"
        }
      ]
    },
    {
      "cell_type": "code",
      "metadata": {
        "id": "kqFxs2o_3six",
        "outputId": "f70d0624-fadd-4b9c-93de-77eae5a2f38c",
        "colab": {
          "base_uri": "https://localhost:8080/",
          "height": 34
        }
      },
      "source": [
        "\n",
        "%cd .."
      ],
      "execution_count": null,
      "outputs": [
        {
          "output_type": "stream",
          "text": [
            "/content\n"
          ],
          "name": "stdout"
        }
      ]
    },
    {
      "cell_type": "code",
      "metadata": {
        "id": "dVhK1-hF5FNO",
        "outputId": "fda82e7b-018e-4120-b279-145b08d59c22",
        "colab": {
          "base_uri": "https://localhost:8080/",
          "height": 34
        }
      },
      "source": [
        "%cd yolov3/"
      ],
      "execution_count": null,
      "outputs": [
        {
          "output_type": "stream",
          "text": [
            "/content/yolov3\n"
          ],
          "name": "stdout"
        }
      ]
    },
    {
      "cell_type": "code",
      "metadata": {
        "id": "BDXOC8X95Jm0",
        "outputId": "60ff7d16-0e36-4569-af5a-e2320700f125",
        "colab": {
          "base_uri": "https://localhost:8080/",
          "height": 751
        }
      },
      "source": [
        "!python3 detect.py --weights weights/last.pt --source=../test/ --names=../train/roboflow_data.names --save-txt"
      ],
      "execution_count": null,
      "outputs": [
        {
          "output_type": "stream",
          "text": [
            "Namespace(agnostic_nms=False, cfg='cfg/yolov3-spp.cfg', classes=None, conf_thres=0.3, device='', fourcc='mp4v', half=False, img_size=416, iou_thres=0.6, names='../train/roboflow_data.names', output='output', save_txt=True, source='../test/', view_img=False, weights='weights/last.pt')\n",
            "Using CUDA device0 _CudaDeviceProperties(name='Tesla P100-PCIE-16GB', total_memory=16280MB)\n",
            "\n",
            "Model Summary: 225 layers, 6.29987e+07 parameters, 6.29987e+07 gradients\n",
            "image 1/36 ../test/BloodImage_00038_jpg.rf.63da20f3f5538d0d2be8c4633c7034a1.jpg: 416x416 1 Plateletss, 21 RBCs, 1 WBCs, Done. (0.027s)\n",
            "image 2/36 ../test/BloodImage_00044_jpg.rf.b0e2369642c5a7fa434ed8defa79e2ba.jpg: 416x416 3 Plateletss, 17 RBCs, 2 WBCs, Done. (0.018s)\n",
            "image 3/36 ../test/BloodImage_00062_jpg.rf.e965ee152eea462d82706a2709abfe00.jpg: 416x416 3 Plateletss, 18 RBCs, 1 WBCs, Done. (0.021s)\n",
            "image 4/36 ../test/BloodImage_00090_jpg.rf.4fd1da847d2857b6092003c41255ea4c.jpg: 416x416 3 Plateletss, 17 RBCs, 1 WBCs, Done. (0.020s)\n",
            "image 5/36 ../test/BloodImage_00099_jpg.rf.5b178d758af2a97d3df8e5f87b1f344a.jpg: 416x416 2 Plateletss, 20 RBCs, 1 WBCs, Done. (0.021s)\n",
            "image 6/36 ../test/BloodImage_00112_jpg.rf.f8d86689750221da637a054843c72822.jpg: 416x416 1 Plateletss, 21 RBCs, 1 WBCs, Done. (0.022s)\n",
            "image 7/36 ../test/BloodImage_00113_jpg.rf.a6d6a75c0ebfc703ecff95e2938be34d.jpg: 416x416 1 Plateletss, 17 RBCs, 1 WBCs, Done. (0.018s)\n",
            "image 8/36 ../test/BloodImage_00120_jpg.rf.6742a4da047e1226a181d2de2978ce6d.jpg: 416x416 11 RBCs, 1 WBCs, Done. (0.018s)\n",
            "image 9/36 ../test/BloodImage_00133_jpg.rf.06c3705fcfe2fcaee19e1a076e511508.jpg: 416x416 1 Plateletss, 15 RBCs, 1 WBCs, Done. (0.017s)\n",
            "image 10/36 ../test/BloodImage_00134_jpg.rf.ee0308b1f3e1ffbb048cb3b1f80e8e36.jpg: 416x416 2 Plateletss, 9 RBCs, 1 WBCs, Done. (0.017s)\n",
            "image 11/36 ../test/BloodImage_00154_jpg.rf.7c682b32a64ca0520b6fc725f0d667c7.jpg: 416x416 1 Plateletss, 16 RBCs, 1 WBCs, Done. (0.017s)\n",
            "image 12/36 ../test/BloodImage_00160_jpg.rf.500f16e32681898ca1ce052ea0402c08.jpg: 416x416 1 Plateletss, 15 RBCs, 1 WBCs, Done. (0.017s)\n",
            "image 13/36 ../test/BloodImage_00190_jpg.rf.03484116dcad7715c77d30654056fc54.jpg: 416x416 2 Plateletss, 21 RBCs, 1 WBCs, Done. (0.017s)\n",
            "image 14/36 ../test/BloodImage_00191_jpg.rf.d4b5ad6525c6c0bc4eaea1f24901f396.jpg: 416x416 1 Plateletss, 22 RBCs, 1 WBCs, Done. (0.017s)\n",
            "image 15/36 ../test/BloodImage_00204_jpg.rf.6c3c9e37ab9122b026444cc4e685aef1.jpg: 416x416 2 Plateletss, 17 RBCs, 1 WBCs, Done. (0.018s)\n",
            "image 16/36 ../test/BloodImage_00227_jpg.rf.1572183909350ffe748751e967b7c8e5.jpg: 416x416 16 RBCs, 1 WBCs, Done. (0.018s)\n",
            "image 17/36 ../test/BloodImage_00235_jpg.rf.b01cbde1f504d448759188feadad4838.jpg: 416x416 16 RBCs, 1 WBCs, Done. (0.017s)\n",
            "image 18/36 ../test/BloodImage_00241_jpg.rf.d0edd8c528bec298a9552ed8ad5714c7.jpg: 416x416 17 RBCs, 1 WBCs, Done. (0.017s)\n",
            "image 19/36 ../test/BloodImage_00254_jpg.rf.6e046ca48ec2e57c2e178aa3f08ec8ee.jpg: 416x416 2 Plateletss, 17 RBCs, 1 WBCs, Done. (0.017s)\n",
            "image 20/36 ../test/BloodImage_00265_jpg.rf.4b7cc25caca963b5e0325c6998917cd1.jpg: 416x416 1 Plateletss, 17 RBCs, 1 WBCs, Done. (0.018s)\n",
            "image 21/36 ../test/BloodImage_00266_jpg.rf.6d62684a33e2f5bc048803aba3177f58.jpg: 416x416 1 Plateletss, 17 RBCs, 1 WBCs, Done. (0.020s)\n",
            "image 22/36 ../test/BloodImage_00275_jpg.rf.9108b9a016fadd9c367b05dfb0c40c2c.jpg: 416x416 22 RBCs, 1 WBCs, Done. (0.021s)\n",
            "image 23/36 ../test/BloodImage_00278_jpg.rf.9ce9e9760ff20b56b115c86879e02a67.jpg: 416x416 2 Plateletss, 18 RBCs, 1 WBCs, Done. (0.017s)\n",
            "image 24/36 ../test/BloodImage_00284_jpg.rf.d33fcb37af7c55a50f275711763ddf7a.jpg: 416x416 16 RBCs, 1 WBCs, Done. (0.017s)\n",
            "image 25/36 ../test/BloodImage_00289_jpg.rf.58c541d9273174738d3d74e599428169.jpg: 416x416 1 Plateletss, 15 RBCs, 1 WBCs, Done. (0.017s)\n",
            "image 26/36 ../test/BloodImage_00301_jpg.rf.9c427e66bcc1b088df9a5e71c0abefba.jpg: 416x416 1 Plateletss, 22 RBCs, 1 WBCs, Done. (0.020s)\n",
            "image 27/36 ../test/BloodImage_00302_jpg.rf.ae0f61c17483b2e0e7f9b1396fc5108c.jpg: 416x416 1 Plateletss, 18 RBCs, 1 WBCs, Done. (0.017s)\n",
            "image 28/36 ../test/BloodImage_00325_jpg.rf.55e62842be833601c86a1bd449ee8fe6.jpg: 416x416 2 Plateletss, 16 RBCs, 1 WBCs, Done. (0.017s)\n",
            "image 29/36 ../test/BloodImage_00334_jpg.rf.3b8a84d57940aeb45e5c2046c8411996.jpg: 416x416 21 RBCs, 1 WBCs, Done. (0.022s)\n",
            "image 30/36 ../test/BloodImage_00336_jpg.rf.5ae87ede3994ca14504136035e256e38.jpg: 416x416 24 RBCs, 1 WBCs, Done. (0.019s)\n",
            "image 31/36 ../test/BloodImage_00337_jpg.rf.7959cb18929c970939cda4a9544547c8.jpg: 416x416 25 RBCs, 1 WBCs, Done. (0.022s)\n",
            "image 32/36 ../test/BloodImage_00350_jpg.rf.1a19e9f9f197fbeab278718f7c6cea9b.jpg: 416x416 9 RBCs, 1 WBCs, Done. (0.018s)\n",
            "image 33/36 ../test/BloodImage_00359_jpg.rf.e4b6af6691f2d8cc8345f42bcc1678fa.jpg: 416x416 1 Plateletss, 20 RBCs, 1 WBCs, Done. (0.018s)\n",
            "image 34/36 ../test/BloodImage_00369_jpg.rf.99ae139e5530a25980b7acdd56a4317c.jpg: 416x416 3 Plateletss, 23 RBCs, 1 WBCs, Done. (0.017s)\n",
            "image 35/36 ../test/BloodImage_00385_jpg.rf.cf0e48c08597f372423a60918074f574.jpg: 416x416 3 Plateletss, 18 RBCs, 1 WBCs, Done. (0.018s)\n",
            "image 36/36 ../test/BloodImage_00386_jpg.rf.1de8e2e0e94f942d7a1523852d7fb146.jpg: 416x416 1 Plateletss, 17 RBCs, 1 WBCs, Done. (0.018s)\n",
            "Results saved to /content/yolov3/output\n",
            "Done. (1.365s)\n"
          ],
          "name": "stdout"
        }
      ]
    },
    {
      "cell_type": "code",
      "metadata": {
        "id": "PrdqxyOY68ns",
        "outputId": "f25cddd7-fd2f-4912-e142-989fd91058a7",
        "colab": {
          "base_uri": "https://localhost:8080/",
          "height": 34
        }
      },
      "source": [
        "#reorder and write to mAP calc\n",
        "%cd ..\n",
        "%rm -rf mAP/input/detection-results/\n",
        "%mkdir mAP/input/detection-results/\n",
        "\n",
        "for f in os.listdir('yolov3/output/'):\n",
        "  if f.endswith('txt'):\n",
        "    with open('mAP/input/detection-results/' + f[:-8] + '.txt', 'w') as out_file:\n",
        "      with open('yolov3/output/' + f) as read_file:\n",
        "        lines = read_file.readlines()\n",
        "        for line in lines:\n",
        "          line = line.split()\n",
        "          out_file.write(class_list[int(line[4]) + 1] + ' ' + line[5] + ' ' + ' '.join(line[0:4]))\n",
        "          out_file.write('\\n')\n",
        "\n"
      ],
      "execution_count": null,
      "outputs": [
        {
          "output_type": "stream",
          "text": [
            "/content\n"
          ],
          "name": "stdout"
        }
      ]
    },
    {
      "cell_type": "code",
      "metadata": {
        "id": "-olH1Fue9yzO",
        "outputId": "f78ac47c-9975-4ca6-f4af-1acc1886e06d",
        "colab": {
          "base_uri": "https://localhost:8080/",
          "height": 119
        }
      },
      "source": [
        "%cd mAP\n",
        "#!python scripts/extra/intersect-gt-and-dr.py\n",
        "!python main.py -na"
      ],
      "execution_count": null,
      "outputs": [
        {
          "output_type": "stream",
          "text": [
            "/content/mAP\n",
            "72.15% = Platelets AP \n",
            "74.41% = RBC AP \n",
            "95.54% = WBC AP \n",
            "mAP = 80.70%\n",
            "<Figure size 640x480 with 1 Axes>\n"
          ],
          "name": "stdout"
        }
      ]
    }
  ]
}